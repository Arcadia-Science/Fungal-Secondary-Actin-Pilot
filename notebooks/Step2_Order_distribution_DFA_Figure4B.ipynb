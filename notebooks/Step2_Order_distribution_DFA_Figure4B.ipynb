{
 "cells": [
  {
   "cell_type": "markdown",
   "id": "a71965e9",
   "metadata": {},
   "source": [
    "## Distribution of Divergent Fungal Actin (DFA) in fungal orders\n",
    "\n",
    "**Notebook summary**\n",
    "This Jupyter Notebook:\n",
    "- analyses and visualizes the distribution of DFA in Fungi at the order level\n",
    "- is associated with Step 2 of the Pub approach: Defining the ‘working set of species’\n",
    "- provides the codes for the Pub Figures 4B\n",
    "\n",
    "**Context/Goal reminder**\n",
    "We have been able to determine our working set of 853 fungal species. For each of these fungal species we are able to detremine their DFA presence/absence status. To have a better understanding of the distribution of DFA in the Fungi kingdom, we study the distribution of DFA at the fungi order level by analysing and visualizing what fraction of each order possess DFA (ie the number of species that possess DFA in an order divided by the total number of species in this order)\n",
    "\n",
    "**Notebook purpose**\n",
    "In this notebook, we determine the DFA status of all the species in the working set and then study distribution of DFA at the fungi order level. We eventually visualize this information onto a order level phylogenetic tree."
   ]
  },
  {
   "cell_type": "markdown",
   "id": "e781c3f2",
   "metadata": {},
   "source": [
    "---"
   ]
  },
  {
   "cell_type": "markdown",
   "id": "4b785fde",
   "metadata": {},
   "source": [
    "### Setup path and environment"
   ]
  },
  {
   "cell_type": "code",
   "execution_count": 2,
   "id": "681e5d5e",
   "metadata": {
    "vscode": {
     "languageId": "r"
    }
   },
   "outputs": [
    {
     "name": "stderr",
     "output_type": "stream",
     "text": [
      "Warning message:\n",
      "“package ‘dplyr’ was built under R version 4.2.3”\n",
      "\n",
      "Attaching package: ‘dplyr’\n",
      "\n",
      "\n",
      "The following objects are masked from ‘package:stats’:\n",
      "\n",
      "    filter, lag\n",
      "\n",
      "\n",
      "The following objects are masked from ‘package:base’:\n",
      "\n",
      "    intersect, setdiff, setequal, union\n",
      "\n",
      "\n",
      "Registered S3 methods overwritten by 'treeio':\n",
      "  method              from    \n",
      "  MRCA.phylo          tidytree\n",
      "  MRCA.treedata       tidytree\n",
      "  Nnode.treedata      tidytree\n",
      "  Ntip.treedata       tidytree\n",
      "  ancestor.phylo      tidytree\n",
      "  ancestor.treedata   tidytree\n",
      "  child.phylo         tidytree\n",
      "  child.treedata      tidytree\n",
      "  full_join.phylo     tidytree\n",
      "  full_join.treedata  tidytree\n",
      "  groupClade.phylo    tidytree\n",
      "  groupClade.treedata tidytree\n",
      "  groupOTU.phylo      tidytree\n",
      "  groupOTU.treedata   tidytree\n",
      "  is.rooted.treedata  tidytree\n",
      "  nodeid.phylo        tidytree\n",
      "  nodeid.treedata     tidytree\n",
      "  nodelab.phylo       tidytree\n",
      "  nodelab.treedata    tidytree\n",
      "  offspring.phylo     tidytree\n",
      "  offspring.treedata  tidytree\n",
      "  parent.phylo        tidytree\n",
      "  parent.treedata     tidytree\n",
      "  root.treedata       tidytree\n",
      "  rootnode.phylo      tidytree\n",
      "  sibling.phylo       tidytree\n",
      "\n",
      "\u001b[90mggtree v3.6.0 For help: https://yulab-smu.top/treedata-book/\n",
      "\n",
      "If you use the ggtree package suite in published research, please cite\n",
      "the appropriate paper(s):\n",
      "\n",
      "Guangchuang Yu, David Smith, Huachen Zhu, Yi Guan, Tommy Tsan-Yuk Lam.\n",
      "ggtree: an R package for visualization and annotation of phylogenetic\n",
      "trees with their covariates and other associated data. Methods in\n",
      "Ecology and Evolution. 2017, 8(1):28-36. doi:10.1111/2041-210X.12628\n",
      "\n",
      "LG Wang, TTY Lam, S Xu, Z Dai, L Zhou, T Feng, P Guo, CW Dunn, BR\n",
      "Jones, T Bradley, H Zhu, Y Guan, Y Jiang, G Yu. treeio: an R package\n",
      "for phylogenetic tree input and output with richly annotated and\n",
      "associated data. Molecular Biology and Evolution. 2020, 37(2):599-603.\n",
      "doi: 10.1093/molbev/msz240\n",
      "\n",
      "Guangchuang Yu. Using ggtree to visualize data on tree-like structures.\n",
      "Current Protocols in Bioinformatics. 2020, 69:e96. doi:10.1002/cpbi.96\n",
      "\u001b[39m\n",
      "\n",
      "Warning message:\n",
      "“package ‘ape’ was built under R version 4.2.3”\n",
      "\n",
      "Attaching package: ‘ape’\n",
      "\n",
      "\n",
      "The following object is masked from ‘package:ggtree’:\n",
      "\n",
      "    rotate\n",
      "\n",
      "\n",
      "The following object is masked from ‘package:dplyr’:\n",
      "\n",
      "    where\n",
      "\n",
      "\n",
      "\u001b[90mggtreeExtra v1.8.0 For help: https://yulab-smu.top/treedata-book/\n",
      "\n",
      "If you use the ggtree package suite in published research, please cite\n",
      "the appropriate paper(s):\n",
      "\n",
      "S Xu, Z Dai, P Guo, X Fu, S Liu, L Zhou, W Tang, T Feng, M Chen, L\n",
      "Zhan, T Wu, E Hu, Y Jiang, X Bo, G Yu. ggtreeExtra: Compact\n",
      "visualization of richly annotated phylogenetic data. Molecular Biology\n",
      "and Evolution. 2021, 38(9):4039-4042. doi: 10.1093/molbev/msab166 \u001b[39m\n",
      "\n",
      "Warning message:\n",
      "“package ‘ggnewscale’ was built under R version 4.2.3”\n"
     ]
    }
   ],
   "source": [
    "setwd('..')\n",
    "\n",
    "library(ggplot2)\n",
    "library(dplyr)\n",
    "library(ggtree)\n",
    "library(ape)\n",
    "library(ggtreeExtra)\n",
    "library(ggnewscale)\n",
    "\n"
   ]
  },
  {
   "cell_type": "markdown",
   "id": "fcc9dcbc",
   "metadata": {},
   "source": [
    "### Analysis"
   ]
  },
  {
   "cell_type": "code",
   "execution_count": 3,
   "id": "edfcb67a",
   "metadata": {
    "vscode": {
     "languageId": "r"
    }
   },
   "outputs": [],
   "source": [
    "## Import data\n",
    "    # We import data for the working set and data for the extended cluster\n",
    "\n",
    "all_set=read.csv('results/step2/uniprot_all_wset_taxo.csv')[,-1]  # working set\n",
    "\n",
    "DFA_set=read.csv('data/step1/DFA_clust_taxo_manually_corrected.csv')[,-1] # DFA extented set\n",
    "DFA_set_f=subset(DFA_set,DFA_set$Kingdom=='Fungi')\n"
   ]
  },
  {
   "cell_type": "code",
   "execution_count": 4,
   "id": "485cfe00-6b4c-4a56-a60f-59fea714dedb",
   "metadata": {
    "vscode": {
     "languageId": "r"
    }
   },
   "outputs": [],
   "source": [
    "## Adding DFA information status to the working set\n",
    "    # Any species in the extended set possess DFA, while species in the working set but not in the extented set don't possess DFA\n",
    "\n",
    "DFA_fungi_species=data.frame('Organism_uniprot'=c(unique(as.character(DFA_set_f$Organism))),\n",
    "                             'DFA'='Yes') \n",
    "\n"
   ]
  },
  {
   "cell_type": "code",
   "execution_count": 5,
   "id": "7aae3989-f5df-408e-891b-c66c7b72d266",
   "metadata": {
    "vscode": {
     "languageId": "r"
    }
   },
   "outputs": [
    {
     "data": {
      "text/html": [
       "<table class=\"dataframe\">\n",
       "<caption>A data.frame: 15 × 10</caption>\n",
       "<thead>\n",
       "\t<tr><th></th><th scope=col>Organism_uniprot</th><th scope=col>n_prot</th><th scope=col>species_name</th><th scope=col>kingdom</th><th scope=col>phylum</th><th scope=col>class</th><th scope=col>order</th><th scope=col>family</th><th scope=col>genus</th><th scope=col>FDA</th></tr>\n",
       "\t<tr><th></th><th scope=col>&lt;chr&gt;</th><th scope=col>&lt;chr&gt;</th><th scope=col>&lt;chr&gt;</th><th scope=col>&lt;chr&gt;</th><th scope=col>&lt;chr&gt;</th><th scope=col>&lt;chr&gt;</th><th scope=col>&lt;chr&gt;</th><th scope=col>&lt;chr&gt;</th><th scope=col>&lt;chr&gt;</th><th scope=col>&lt;chr&gt;</th></tr>\n",
       "</thead>\n",
       "<tbody>\n",
       "\t<tr><th scope=row>1</th><td>[Candida] intermedia                                                                                                         </td><td>10617</td><td>[Candida] intermedia             </td><td>Fungi</td><td>Ascomycota   </td><td>Saccharomycetes  </td><td>Saccharomycetales</td><td>Metschnikowiaceae </td><td>Candida     </td><td>No </td></tr>\n",
       "\t<tr><th scope=row>2</th><td>[Torrubiella] hemipterigena                                                                                                  </td><td>11065</td><td>[Torrubiella] hemipterigena      </td><td>Fungi</td><td>Ascomycota   </td><td>Sordariomycetes  </td><td>Hypocreales      </td><td>Clavicipitaceae   </td><td>Torrubiella </td><td>Yes</td></tr>\n",
       "\t<tr><th scope=row>3</th><td>Aaosphaeria arxii CBS 175.79                                                                                                 </td><td>13815</td><td>Aaosphaeria arxii CBS 175.79     </td><td>Fungi</td><td>Ascomycota   </td><td>Dothideomycetes  </td><td>Pleosporales     </td><td>NA                </td><td>Aaosphaeria </td><td>No </td></tr>\n",
       "\t<tr><th scope=row>4</th><td>Absidia glauca (Pin mould)                                                                                                   </td><td>14217</td><td>Absidia glauca                   </td><td>Fungi</td><td>Mucoromycota </td><td>Mucoromycetes    </td><td>Mucorales        </td><td>Cunninghamellaceae</td><td>Absidia     </td><td>Yes</td></tr>\n",
       "\t<tr><th scope=row>5</th><td>Absidia repens                                                                                                               </td><td>14353</td><td>Absidia repens                   </td><td>Fungi</td><td>Mucoromycota </td><td>Mucoromycetes    </td><td>Mucorales        </td><td>Cunninghamellaceae</td><td>Absidia     </td><td>Yes</td></tr>\n",
       "\t<tr><th scope=row>6</th><td>Acaromyces ingoldii                                                                                                          </td><td>7585 </td><td>Acaromyces ingoldii              </td><td>Fungi</td><td>Basidiomycota</td><td>Exobasidiomycetes</td><td>Exobasidiales    </td><td>Cryptobasidiaceae </td><td>Acaromyces  </td><td>No </td></tr>\n",
       "\t<tr><th scope=row>7</th><td>Acidomyces richmondensis BFW                                                                                                 </td><td>10856</td><td>Acidomyces richmondensis BFW     </td><td>Fungi</td><td>Ascomycota   </td><td>Dothideomycetes  </td><td>Mycosphaerellales</td><td>Teratosphaeriaceae</td><td>Acidomyces  </td><td>No </td></tr>\n",
       "\t<tr><th scope=row>8</th><td>Agaricus bisporus var. burnettii (strain JB137-S8 / ATCC MYA-4627 / FGSC 10392) (White button mushroom)                      </td><td>10948</td><td>Agaricus bisporus var. burnettii </td><td>Fungi</td><td>Basidiomycota</td><td>Agaricomycetes   </td><td>Agaricales       </td><td>Agaricaceae       </td><td>Agaricus    </td><td>No </td></tr>\n",
       "\t<tr><th scope=row>9</th><td>Ajellomyces capsulatus (strain G186AR / H82 / ATCC MYA-2454 / RMSCC 2432) (Darling's disease fungus) (Histoplasma capsulatum)</td><td>9199 </td><td>Ajellomyces capsulatus           </td><td>Fungi</td><td>Ascomycota   </td><td>Eurotiomycetes   </td><td>Onygenales       </td><td>Ajellomycetaceae  </td><td>Ajellomyces </td><td>Yes</td></tr>\n",
       "\t<tr><th scope=row>10</th><td>Ajellomyces capsulatus (strain H143) (Darling's disease fungus) (Histoplasma capsulatum)                                     </td><td>9314 </td><td>Ajellomyces capsulatus           </td><td>Fungi</td><td>Ascomycota   </td><td>Eurotiomycetes   </td><td>Onygenales       </td><td>Ajellomycetaceae  </td><td>Ajellomyces </td><td>Yes</td></tr>\n",
       "\t<tr><th scope=row>11</th><td>Ajellomyces capsulatus (strain H88) (Darling's disease fungus) (Histoplasma capsulatum)                                      </td><td>9125 </td><td>Ajellomyces capsulatus           </td><td>Fungi</td><td>Ascomycota   </td><td>Eurotiomycetes   </td><td>Onygenales       </td><td>Ajellomycetaceae  </td><td>Ajellomyces </td><td>No </td></tr>\n",
       "\t<tr><th scope=row>12</th><td>Ajellomyces capsulatus (strain NAm1 / WU24) (Darling's disease fungus) (Histoplasma capsulatum)                              </td><td>8963 </td><td>Ajellomyces capsulatus           </td><td>Fungi</td><td>Ascomycota   </td><td>Eurotiomycetes   </td><td>Onygenales       </td><td>Ajellomycetaceae  </td><td>Ajellomyces </td><td>No </td></tr>\n",
       "\t<tr><th scope=row>13</th><td>Ajellomyces dermatitidis (strain ATCC 18188 / CBS 674.68) (Blastomyces dermatitidis)                                         </td><td>10368</td><td>Ajellomyces dermatitidis         </td><td>Fungi</td><td>Ascomycota   </td><td>Eurotiomycetes   </td><td>Onygenales       </td><td>Ajellomycetaceae  </td><td>Blastomyces </td><td>No </td></tr>\n",
       "\t<tr><th scope=row>14</th><td>Ajellomyces dermatitidis (strain ER-3 / ATCC MYA-2586) (Blastomyces dermatitidis)                                            </td><td>10074</td><td>Ajellomyces dermatitidis         </td><td>Fungi</td><td>Ascomycota   </td><td>Eurotiomycetes   </td><td>Onygenales       </td><td>Ajellomycetaceae  </td><td>Blastomyces </td><td>No </td></tr>\n",
       "\t<tr><th scope=row>15</th><td>Akanthomyces lecanii RCEF 1005                                                                                               </td><td>10646</td><td>Akanthomyces lecanii RCEF 1005   </td><td>Fungi</td><td>Ascomycota   </td><td>Sordariomycetes  </td><td>Hypocreales      </td><td>Cordycipitaceae   </td><td>Akanthomyces</td><td>No </td></tr>\n",
       "</tbody>\n",
       "</table>\n"
      ],
      "text/latex": [
       "A data.frame: 15 × 10\n",
       "\\begin{tabular}{r|llllllllll}\n",
       "  & Organism\\_uniprot & n\\_prot & species\\_name & kingdom & phylum & class & order & family & genus & FDA\\\\\n",
       "  & <chr> & <chr> & <chr> & <chr> & <chr> & <chr> & <chr> & <chr> & <chr> & <chr>\\\\\n",
       "\\hline\n",
       "\t1 & {[}Candida{]} intermedia                                                                                                          & 10617 & {[}Candida{]} intermedia              & Fungi & Ascomycota    & Saccharomycetes   & Saccharomycetales & Metschnikowiaceae  & Candida      & No \\\\\n",
       "\t2 & {[}Torrubiella{]} hemipterigena                                                                                                   & 11065 & {[}Torrubiella{]} hemipterigena       & Fungi & Ascomycota    & Sordariomycetes   & Hypocreales       & Clavicipitaceae    & Torrubiella  & Yes\\\\\n",
       "\t3 & Aaosphaeria arxii CBS 175.79                                                                                                  & 13815 & Aaosphaeria arxii CBS 175.79      & Fungi & Ascomycota    & Dothideomycetes   & Pleosporales      & NA                 & Aaosphaeria  & No \\\\\n",
       "\t4 & Absidia glauca (Pin mould)                                                                                                    & 14217 & Absidia glauca                    & Fungi & Mucoromycota  & Mucoromycetes     & Mucorales         & Cunninghamellaceae & Absidia      & Yes\\\\\n",
       "\t5 & Absidia repens                                                                                                                & 14353 & Absidia repens                    & Fungi & Mucoromycota  & Mucoromycetes     & Mucorales         & Cunninghamellaceae & Absidia      & Yes\\\\\n",
       "\t6 & Acaromyces ingoldii                                                                                                           & 7585  & Acaromyces ingoldii               & Fungi & Basidiomycota & Exobasidiomycetes & Exobasidiales     & Cryptobasidiaceae  & Acaromyces   & No \\\\\n",
       "\t7 & Acidomyces richmondensis BFW                                                                                                  & 10856 & Acidomyces richmondensis BFW      & Fungi & Ascomycota    & Dothideomycetes   & Mycosphaerellales & Teratosphaeriaceae & Acidomyces   & No \\\\\n",
       "\t8 & Agaricus bisporus var. burnettii (strain JB137-S8 / ATCC MYA-4627 / FGSC 10392) (White button mushroom)                       & 10948 & Agaricus bisporus var. burnettii  & Fungi & Basidiomycota & Agaricomycetes    & Agaricales        & Agaricaceae        & Agaricus     & No \\\\\n",
       "\t9 & Ajellomyces capsulatus (strain G186AR / H82 / ATCC MYA-2454 / RMSCC 2432) (Darling's disease fungus) (Histoplasma capsulatum) & 9199  & Ajellomyces capsulatus            & Fungi & Ascomycota    & Eurotiomycetes    & Onygenales        & Ajellomycetaceae   & Ajellomyces  & Yes\\\\\n",
       "\t10 & Ajellomyces capsulatus (strain H143) (Darling's disease fungus) (Histoplasma capsulatum)                                      & 9314  & Ajellomyces capsulatus            & Fungi & Ascomycota    & Eurotiomycetes    & Onygenales        & Ajellomycetaceae   & Ajellomyces  & Yes\\\\\n",
       "\t11 & Ajellomyces capsulatus (strain H88) (Darling's disease fungus) (Histoplasma capsulatum)                                       & 9125  & Ajellomyces capsulatus            & Fungi & Ascomycota    & Eurotiomycetes    & Onygenales        & Ajellomycetaceae   & Ajellomyces  & No \\\\\n",
       "\t12 & Ajellomyces capsulatus (strain NAm1 / WU24) (Darling's disease fungus) (Histoplasma capsulatum)                               & 8963  & Ajellomyces capsulatus            & Fungi & Ascomycota    & Eurotiomycetes    & Onygenales        & Ajellomycetaceae   & Ajellomyces  & No \\\\\n",
       "\t13 & Ajellomyces dermatitidis (strain ATCC 18188 / CBS 674.68) (Blastomyces dermatitidis)                                          & 10368 & Ajellomyces dermatitidis          & Fungi & Ascomycota    & Eurotiomycetes    & Onygenales        & Ajellomycetaceae   & Blastomyces  & No \\\\\n",
       "\t14 & Ajellomyces dermatitidis (strain ER-3 / ATCC MYA-2586) (Blastomyces dermatitidis)                                             & 10074 & Ajellomyces dermatitidis          & Fungi & Ascomycota    & Eurotiomycetes    & Onygenales        & Ajellomycetaceae   & Blastomyces  & No \\\\\n",
       "\t15 & Akanthomyces lecanii RCEF 1005                                                                                                & 10646 & Akanthomyces lecanii RCEF 1005    & Fungi & Ascomycota    & Sordariomycetes   & Hypocreales       & Cordycipitaceae    & Akanthomyces & No \\\\\n",
       "\\end{tabular}\n"
      ],
      "text/markdown": [
       "\n",
       "A data.frame: 15 × 10\n",
       "\n",
       "| <!--/--> | Organism_uniprot &lt;chr&gt; | n_prot &lt;chr&gt; | species_name &lt;chr&gt; | kingdom &lt;chr&gt; | phylum &lt;chr&gt; | class &lt;chr&gt; | order &lt;chr&gt; | family &lt;chr&gt; | genus &lt;chr&gt; | FDA &lt;chr&gt; |\n",
       "|---|---|---|---|---|---|---|---|---|---|---|\n",
       "| 1 | [Candida] intermedia                                                                                                          | 10617 | [Candida] intermedia              | Fungi | Ascomycota    | Saccharomycetes   | Saccharomycetales | Metschnikowiaceae  | Candida      | No  |\n",
       "| 2 | [Torrubiella] hemipterigena                                                                                                   | 11065 | [Torrubiella] hemipterigena       | Fungi | Ascomycota    | Sordariomycetes   | Hypocreales       | Clavicipitaceae    | Torrubiella  | Yes |\n",
       "| 3 | Aaosphaeria arxii CBS 175.79                                                                                                  | 13815 | Aaosphaeria arxii CBS 175.79      | Fungi | Ascomycota    | Dothideomycetes   | Pleosporales      | NA                 | Aaosphaeria  | No  |\n",
       "| 4 | Absidia glauca (Pin mould)                                                                                                    | 14217 | Absidia glauca                    | Fungi | Mucoromycota  | Mucoromycetes     | Mucorales         | Cunninghamellaceae | Absidia      | Yes |\n",
       "| 5 | Absidia repens                                                                                                                | 14353 | Absidia repens                    | Fungi | Mucoromycota  | Mucoromycetes     | Mucorales         | Cunninghamellaceae | Absidia      | Yes |\n",
       "| 6 | Acaromyces ingoldii                                                                                                           | 7585  | Acaromyces ingoldii               | Fungi | Basidiomycota | Exobasidiomycetes | Exobasidiales     | Cryptobasidiaceae  | Acaromyces   | No  |\n",
       "| 7 | Acidomyces richmondensis BFW                                                                                                  | 10856 | Acidomyces richmondensis BFW      | Fungi | Ascomycota    | Dothideomycetes   | Mycosphaerellales | Teratosphaeriaceae | Acidomyces   | No  |\n",
       "| 8 | Agaricus bisporus var. burnettii (strain JB137-S8 / ATCC MYA-4627 / FGSC 10392) (White button mushroom)                       | 10948 | Agaricus bisporus var. burnettii  | Fungi | Basidiomycota | Agaricomycetes    | Agaricales        | Agaricaceae        | Agaricus     | No  |\n",
       "| 9 | Ajellomyces capsulatus (strain G186AR / H82 / ATCC MYA-2454 / RMSCC 2432) (Darling's disease fungus) (Histoplasma capsulatum) | 9199  | Ajellomyces capsulatus            | Fungi | Ascomycota    | Eurotiomycetes    | Onygenales        | Ajellomycetaceae   | Ajellomyces  | Yes |\n",
       "| 10 | Ajellomyces capsulatus (strain H143) (Darling's disease fungus) (Histoplasma capsulatum)                                      | 9314  | Ajellomyces capsulatus            | Fungi | Ascomycota    | Eurotiomycetes    | Onygenales        | Ajellomycetaceae   | Ajellomyces  | Yes |\n",
       "| 11 | Ajellomyces capsulatus (strain H88) (Darling's disease fungus) (Histoplasma capsulatum)                                       | 9125  | Ajellomyces capsulatus            | Fungi | Ascomycota    | Eurotiomycetes    | Onygenales        | Ajellomycetaceae   | Ajellomyces  | No  |\n",
       "| 12 | Ajellomyces capsulatus (strain NAm1 / WU24) (Darling's disease fungus) (Histoplasma capsulatum)                               | 8963  | Ajellomyces capsulatus            | Fungi | Ascomycota    | Eurotiomycetes    | Onygenales        | Ajellomycetaceae   | Ajellomyces  | No  |\n",
       "| 13 | Ajellomyces dermatitidis (strain ATCC 18188 / CBS 674.68) (Blastomyces dermatitidis)                                          | 10368 | Ajellomyces dermatitidis          | Fungi | Ascomycota    | Eurotiomycetes    | Onygenales        | Ajellomycetaceae   | Blastomyces  | No  |\n",
       "| 14 | Ajellomyces dermatitidis (strain ER-3 / ATCC MYA-2586) (Blastomyces dermatitidis)                                             | 10074 | Ajellomyces dermatitidis          | Fungi | Ascomycota    | Eurotiomycetes    | Onygenales        | Ajellomycetaceae   | Blastomyces  | No  |\n",
       "| 15 | Akanthomyces lecanii RCEF 1005                                                                                                | 10646 | Akanthomyces lecanii RCEF 1005    | Fungi | Ascomycota    | Sordariomycetes   | Hypocreales       | Cordycipitaceae    | Akanthomyces | No  |\n",
       "\n"
      ],
      "text/plain": [
       "   Organism_uniprot                                                                                                             \n",
       "1  [Candida] intermedia                                                                                                         \n",
       "2  [Torrubiella] hemipterigena                                                                                                  \n",
       "3  Aaosphaeria arxii CBS 175.79                                                                                                 \n",
       "4  Absidia glauca (Pin mould)                                                                                                   \n",
       "5  Absidia repens                                                                                                               \n",
       "6  Acaromyces ingoldii                                                                                                          \n",
       "7  Acidomyces richmondensis BFW                                                                                                 \n",
       "8  Agaricus bisporus var. burnettii (strain JB137-S8 / ATCC MYA-4627 / FGSC 10392) (White button mushroom)                      \n",
       "9  Ajellomyces capsulatus (strain G186AR / H82 / ATCC MYA-2454 / RMSCC 2432) (Darling's disease fungus) (Histoplasma capsulatum)\n",
       "10 Ajellomyces capsulatus (strain H143) (Darling's disease fungus) (Histoplasma capsulatum)                                     \n",
       "11 Ajellomyces capsulatus (strain H88) (Darling's disease fungus) (Histoplasma capsulatum)                                      \n",
       "12 Ajellomyces capsulatus (strain NAm1 / WU24) (Darling's disease fungus) (Histoplasma capsulatum)                              \n",
       "13 Ajellomyces dermatitidis (strain ATCC 18188 / CBS 674.68) (Blastomyces dermatitidis)                                         \n",
       "14 Ajellomyces dermatitidis (strain ER-3 / ATCC MYA-2586) (Blastomyces dermatitidis)                                            \n",
       "15 Akanthomyces lecanii RCEF 1005                                                                                               \n",
       "   n_prot species_name                      kingdom phylum       \n",
       "1  10617  [Candida] intermedia              Fungi   Ascomycota   \n",
       "2  11065  [Torrubiella] hemipterigena       Fungi   Ascomycota   \n",
       "3  13815  Aaosphaeria arxii CBS 175.79      Fungi   Ascomycota   \n",
       "4  14217  Absidia glauca                    Fungi   Mucoromycota \n",
       "5  14353  Absidia repens                    Fungi   Mucoromycota \n",
       "6  7585   Acaromyces ingoldii               Fungi   Basidiomycota\n",
       "7  10856  Acidomyces richmondensis BFW      Fungi   Ascomycota   \n",
       "8  10948  Agaricus bisporus var. burnettii  Fungi   Basidiomycota\n",
       "9  9199   Ajellomyces capsulatus            Fungi   Ascomycota   \n",
       "10 9314   Ajellomyces capsulatus            Fungi   Ascomycota   \n",
       "11 9125   Ajellomyces capsulatus            Fungi   Ascomycota   \n",
       "12 8963   Ajellomyces capsulatus            Fungi   Ascomycota   \n",
       "13 10368  Ajellomyces dermatitidis          Fungi   Ascomycota   \n",
       "14 10074  Ajellomyces dermatitidis          Fungi   Ascomycota   \n",
       "15 10646  Akanthomyces lecanii RCEF 1005    Fungi   Ascomycota   \n",
       "   class             order             family             genus        FDA\n",
       "1  Saccharomycetes   Saccharomycetales Metschnikowiaceae  Candida      No \n",
       "2  Sordariomycetes   Hypocreales       Clavicipitaceae    Torrubiella  Yes\n",
       "3  Dothideomycetes   Pleosporales      NA                 Aaosphaeria  No \n",
       "4  Mucoromycetes     Mucorales         Cunninghamellaceae Absidia      Yes\n",
       "5  Mucoromycetes     Mucorales         Cunninghamellaceae Absidia      Yes\n",
       "6  Exobasidiomycetes Exobasidiales     Cryptobasidiaceae  Acaromyces   No \n",
       "7  Dothideomycetes   Mycosphaerellales Teratosphaeriaceae Acidomyces   No \n",
       "8  Agaricomycetes    Agaricales        Agaricaceae        Agaricus     No \n",
       "9  Eurotiomycetes    Onygenales        Ajellomycetaceae   Ajellomyces  Yes\n",
       "10 Eurotiomycetes    Onygenales        Ajellomycetaceae   Ajellomyces  Yes\n",
       "11 Eurotiomycetes    Onygenales        Ajellomycetaceae   Ajellomyces  No \n",
       "12 Eurotiomycetes    Onygenales        Ajellomycetaceae   Ajellomyces  No \n",
       "13 Eurotiomycetes    Onygenales        Ajellomycetaceae   Blastomyces  No \n",
       "14 Eurotiomycetes    Onygenales        Ajellomycetaceae   Blastomyces  No \n",
       "15 Sordariomycetes   Hypocreales       Cordycipitaceae    Akanthomyces No "
      ]
     },
     "metadata": {},
     "output_type": "display_data"
    }
   ],
   "source": [
    "all_set_ch<- all_set %>%\n",
    "  mutate_all(~as.character(.))\n",
    "\n",
    "DFA_fungi_species_ch<- DFA_fungi_species %>%\n",
    "  mutate_all(~as.character(.))\n",
    "\n",
    "all_set_w_DFA=left_join(all_set_ch,DFA_fungi_species_ch,by='Organism_uniprot') \n",
    "\n",
    "all_set_w_DFA$DFA[is.na(all_set_w_DFA$DFA)]<-'No'\n",
    "\n",
    "head(all_set_w_DFA,15)"
   ]
  },
  {
   "cell_type": "code",
   "execution_count": 6,
   "id": "2769cab7-4ca5-4881-9237-f78511354e96",
   "metadata": {
    "vscode": {
     "languageId": "r"
    }
   },
   "outputs": [
    {
     "data": {
      "text/html": [
       "<table class=\"dataframe\">\n",
       "<caption>A data.frame: 10 × 6</caption>\n",
       "<thead>\n",
       "\t<tr><th></th><th scope=col>Order</th><th scope=col>Order_size</th><th scope=col>Phylum</th><th scope=col>FDA_yes</th><th scope=col>FDA_no</th><th scope=col>FDA_frac</th></tr>\n",
       "\t<tr><th></th><th scope=col>&lt;chr&gt;</th><th scope=col>&lt;int&gt;</th><th scope=col>&lt;chr&gt;</th><th scope=col>&lt;int&gt;</th><th scope=col>&lt;int&gt;</th><th scope=col>&lt;dbl&gt;</th></tr>\n",
       "</thead>\n",
       "<tbody>\n",
       "\t<tr><th scope=row>1</th><td>Saccharomycetales</td><td> 18</td><td>Ascomycota        </td><td> 8</td><td> 10</td><td>0.44444444</td></tr>\n",
       "\t<tr><th scope=row>2</th><td>Hypocreales      </td><td>105</td><td>Ascomycota        </td><td> 1</td><td>104</td><td>0.00952381</td></tr>\n",
       "\t<tr><th scope=row>3</th><td>Pleosporales     </td><td> 46</td><td>Ascomycota        </td><td>29</td><td> 17</td><td>0.63043478</td></tr>\n",
       "\t<tr><th scope=row>4</th><td>Mucorales        </td><td> 18</td><td>Mucoromycota      </td><td>11</td><td>  7</td><td>0.61111111</td></tr>\n",
       "\t<tr><th scope=row>5</th><td>Exobasidiales    </td><td>  2</td><td>Basidiomycota     </td><td> 0</td><td>  2</td><td>0.00000000</td></tr>\n",
       "\t<tr><th scope=row>6</th><td>Mycosphaerellales</td><td> 19</td><td>Ascomycota        </td><td>14</td><td>  5</td><td>0.73684211</td></tr>\n",
       "\t<tr><th scope=row>7</th><td>Agaricales       </td><td> 35</td><td>Basidiomycota     </td><td>26</td><td>  9</td><td>0.74285714</td></tr>\n",
       "\t<tr><th scope=row>8</th><td>Onygenales       </td><td> 41</td><td>Ascomycota        </td><td>19</td><td> 22</td><td>0.46341463</td></tr>\n",
       "\t<tr><th scope=row>9</th><td>Blastocladiales  </td><td>  2</td><td>Blastocladiomycota</td><td> 2</td><td>  0</td><td>1.00000000</td></tr>\n",
       "\t<tr><th scope=row>10</th><td>Helotiales       </td><td> 40</td><td>Ascomycota        </td><td>20</td><td> 20</td><td>0.50000000</td></tr>\n",
       "</tbody>\n",
       "</table>\n"
      ],
      "text/latex": [
       "A data.frame: 10 × 6\n",
       "\\begin{tabular}{r|llllll}\n",
       "  & Order & Order\\_size & Phylum & FDA\\_yes & FDA\\_no & FDA\\_frac\\\\\n",
       "  & <chr> & <int> & <chr> & <int> & <int> & <dbl>\\\\\n",
       "\\hline\n",
       "\t1 & Saccharomycetales &  18 & Ascomycota         &  8 &  10 & 0.44444444\\\\\n",
       "\t2 & Hypocreales       & 105 & Ascomycota         &  1 & 104 & 0.00952381\\\\\n",
       "\t3 & Pleosporales      &  46 & Ascomycota         & 29 &  17 & 0.63043478\\\\\n",
       "\t4 & Mucorales         &  18 & Mucoromycota       & 11 &   7 & 0.61111111\\\\\n",
       "\t5 & Exobasidiales     &   2 & Basidiomycota      &  0 &   2 & 0.00000000\\\\\n",
       "\t6 & Mycosphaerellales &  19 & Ascomycota         & 14 &   5 & 0.73684211\\\\\n",
       "\t7 & Agaricales        &  35 & Basidiomycota      & 26 &   9 & 0.74285714\\\\\n",
       "\t8 & Onygenales        &  41 & Ascomycota         & 19 &  22 & 0.46341463\\\\\n",
       "\t9 & Blastocladiales   &   2 & Blastocladiomycota &  2 &   0 & 1.00000000\\\\\n",
       "\t10 & Helotiales        &  40 & Ascomycota         & 20 &  20 & 0.50000000\\\\\n",
       "\\end{tabular}\n"
      ],
      "text/markdown": [
       "\n",
       "A data.frame: 10 × 6\n",
       "\n",
       "| <!--/--> | Order &lt;chr&gt; | Order_size &lt;int&gt; | Phylum &lt;chr&gt; | FDA_yes &lt;int&gt; | FDA_no &lt;int&gt; | FDA_frac &lt;dbl&gt; |\n",
       "|---|---|---|---|---|---|---|\n",
       "| 1 | Saccharomycetales |  18 | Ascomycota         |  8 |  10 | 0.44444444 |\n",
       "| 2 | Hypocreales       | 105 | Ascomycota         |  1 | 104 | 0.00952381 |\n",
       "| 3 | Pleosporales      |  46 | Ascomycota         | 29 |  17 | 0.63043478 |\n",
       "| 4 | Mucorales         |  18 | Mucoromycota       | 11 |   7 | 0.61111111 |\n",
       "| 5 | Exobasidiales     |   2 | Basidiomycota      |  0 |   2 | 0.00000000 |\n",
       "| 6 | Mycosphaerellales |  19 | Ascomycota         | 14 |   5 | 0.73684211 |\n",
       "| 7 | Agaricales        |  35 | Basidiomycota      | 26 |   9 | 0.74285714 |\n",
       "| 8 | Onygenales        |  41 | Ascomycota         | 19 |  22 | 0.46341463 |\n",
       "| 9 | Blastocladiales   |   2 | Blastocladiomycota |  2 |   0 | 1.00000000 |\n",
       "| 10 | Helotiales        |  40 | Ascomycota         | 20 |  20 | 0.50000000 |\n",
       "\n"
      ],
      "text/plain": [
       "   Order             Order_size Phylum             FDA_yes FDA_no FDA_frac  \n",
       "1  Saccharomycetales  18        Ascomycota          8       10    0.44444444\n",
       "2  Hypocreales       105        Ascomycota          1      104    0.00952381\n",
       "3  Pleosporales       46        Ascomycota         29       17    0.63043478\n",
       "4  Mucorales          18        Mucoromycota       11        7    0.61111111\n",
       "5  Exobasidiales       2        Basidiomycota       0        2    0.00000000\n",
       "6  Mycosphaerellales  19        Ascomycota         14        5    0.73684211\n",
       "7  Agaricales         35        Basidiomycota      26        9    0.74285714\n",
       "8  Onygenales         41        Ascomycota         19       22    0.46341463\n",
       "9  Blastocladiales     2        Blastocladiomycota  2        0    1.00000000\n",
       "10 Helotiales         40        Ascomycota         20       20    0.50000000"
      ]
     },
     "metadata": {},
     "output_type": "display_data"
    }
   ],
   "source": [
    "## Calculate fraction of DFA at the order level\n",
    "    # for each fungal order we calulate the order DFA fraction as the number of species with DFA in the order divided by the number of species in the order\n",
    "\n",
    "Levels=na.omit(c(unique(all_set_w_DFA$order)))\n",
    "\n",
    "df_order=data.frame()\n",
    "for (i in 1:length(Levels)){\n",
    "  dat_temp=subset(all_set_w_DFA, all_set_w_DFA$order==Levels[i])\n",
    "  n=dim(dat_temp)[1]\n",
    "  phy=unique(dat_temp[,'phylum'])\n",
    "  DFA=sum(dat_temp$DFA==\"Yes\")\n",
    "  \n",
    "  df_temp=data.frame('Order'=Levels[i],\n",
    "                     'Order_size'=n,\n",
    "                     'Phylum'=phy,\n",
    "                     'DFA_yes'=DFA,\n",
    "                     'DFA_no'=(n-DFA),\n",
    "                     'DFA_frac'=DFA/n)\n",
    "  \n",
    "  df_order=rbind(df_order, df_temp)\n",
    "  \n",
    "}\n",
    "\n",
    "head(df_order,10)\n"
   ]
  },
  {
   "cell_type": "code",
   "execution_count": null,
   "id": "6892b227-e60c-4104-b6da-c5f6480955bc",
   "metadata": {
    "vscode": {
     "languageId": "r"
    }
   },
   "outputs": [],
   "source": [
    "## Save order information table\n",
    "write.csv(all_set_w_DFA, 'results/step2/working_set_w_DFA.csv')\n",
    "write.csv(df_order, 'results/step2/order_information_DFA_fraction.csv')"
   ]
  },
  {
   "cell_type": "markdown",
   "id": "67199fe8-72d1-4fce-9eab-b8bf442350fc",
   "metadata": {},
   "source": [
    "### Visualization - Figure 4B"
   ]
  },
  {
   "cell_type": "code",
   "execution_count": 7,
   "id": "306c87d6-0b7b-48d2-9230-2ed0f76e912a",
   "metadata": {
    "vscode": {
     "languageId": "r"
    }
   },
   "outputs": [],
   "source": [
    "## Import newick file of fungal order tree (from Timetree)\n",
    "\n",
    "tree_order=read.tree('data/step2/Fungi_order_timetree.nwk')"
   ]
  },
  {
   "cell_type": "code",
   "execution_count": 8,
   "id": "5c1a3f8c-d410-41c0-9a92-859a220c9e45",
   "metadata": {
    "vscode": {
     "languageId": "r"
    }
   },
   "outputs": [],
   "source": [
    "## Define the set of orders present in our dataset and trim the tree\n",
    "\n",
    "order_uni=c(unique(all_set_w_DFA$order))  # orders present in our working set\n",
    "\n",
    "inter_order=intersect(tree_order$tip.label,order_uni) #look at intersection with tree tips\n",
    "\n",
    "tree_order_trimmed=keep.tip(tree_order,inter_order) # keep only the orders of interest from the tree"
   ]
  },
  {
   "cell_type": "code",
   "execution_count": 9,
   "id": "5eb8677a-cb70-45ce-a812-39829be68819",
   "metadata": {
    "vscode": {
     "languageId": "r"
    }
   },
   "outputs": [],
   "source": [
    "## Reformat data to map onto the tree\n",
    "\n",
    "tree_data=subset(df_order, df_order$Order%in%inter_order)\n",
    "\n",
    "tree_data$Phylum=factor(tree_data$Phylum,levels=c('Ascomycota','Basidiomycota','Mucoromycota','Zoopagomycota',\n",
    "                                                  'Blastocladiomycota','Chytridiomycota'))\n",
    "\n",
    "colnames(tree_data)=c('tip.label',colnames(tree_data[,2:6]))"
   ]
  },
  {
   "cell_type": "code",
   "execution_count": 10,
   "id": "ef7c7d30-d16f-43a7-a970-751d237e34b4",
   "metadata": {
    "vscode": {
     "languageId": "r"
    }
   },
   "outputs": [
    {
     "data": {
      "image/png": "[encoded data removed]",
      "text/plain": [
       "plot without title"
      ]
     },
     "metadata": {
      "image/png": {
       "height": 420,
       "width": 420
      }
     },
     "output_type": "display_data"
    }
   ],
   "source": [
    "## Tree - Figure 4B\n",
    "\n",
    "    # Defining color palette\n",
    "\n",
    "accent_ordered <- c('#5088C5', '#F28360', '#F7B846', '#97CD78',\n",
    "                    '#7A77AB', '#F898AE', '#3B9886', '#C85152',\n",
    "                    '#73B5E3', '#BAB0A8', '#8A99AD', '#FFB984')\n",
    "\n",
    "    # Base tree\n",
    "\n",
    "pt=ggtree(tree_order_trimmed, branch.length=\"none\")  %<+% tree_data  \n",
    "\n",
    "    # Adding phylum information as colored tip\n",
    "pt1=pt + geom_tippoint(aes(color=Phylum)) +\n",
    "  scale_color_manual(values=c((accent_ordered))) \n",
    "\n",
    "    # Adding the heatmap for the DFA fraction\n",
    "\n",
    "pt2 = pt1 + new_scale_fill() +\n",
    "  geom_fruit(geom=geom_tile,\n",
    "             mapping=aes(y=tip.label, fill=DFA_frac, width=2),\n",
    "             color = \"grey50\", offset = 0.08) +\n",
    "  scale_fill_viridis_c(direction=1, option='D')\n",
    "\n",
    "    # Adding order size information colored by Phylum\n",
    "\n",
    "pt3=pt2 + new_scale_fill()+ \n",
    "  geom_fruit(geom=geom_bar,\n",
    "             mapping=aes(y=tip.label,x=Order_size, fill=Phylum),\n",
    "             pwidth=0.38, \n",
    "             orientation=\"y\", \n",
    "             stat=\"identity\",\n",
    "             offset=0.09)+\n",
    "  scale_fill_manual(values=c((accent_ordered)))\n",
    "\n",
    "pt3\n"
   ]
  },
  {
   "cell_type": "code",
   "execution_count": 11,
   "id": "308477fe-7182-4910-b1ef-eca7d91ca913",
   "metadata": {
    "vscode": {
     "languageId": "r"
    }
   },
   "outputs": [
    {
     "data": {
      "text/plain": [
       "R version 4.2.1 (2022-06-23)\n",
       "Platform: x86_64-apple-darwin13.4.0 (64-bit)\n",
       "Running under: macOS Big Sur ... 10.16\n",
       "\n",
       "Matrix products: default\n",
       "BLAS/LAPACK: /Users/manonmorin/miniconda3/envs/R_good_env/lib/libopenblasp-r0.3.24.dylib\n",
       "\n",
       "locale:\n",
       "[1] en_US.UTF-8/en_US.UTF-8/en_US.UTF-8/C/en_US.UTF-8/en_US.UTF-8\n",
       "\n",
       "attached base packages:\n",
       "[1] stats     graphics  grDevices utils     datasets  methods   base     \n",
       "\n",
       "other attached packages:\n",
       "[1] ggnewscale_0.4.9  ggtreeExtra_1.8.0 ape_5.7-1         ggtree_3.6.0     \n",
       "[5] dplyr_1.1.4       ggplot2_3.4.4    \n",
       "\n",
       "loaded via a namespace (and not attached):\n",
       " [1] pbdZMQ_0.3-10      treeio_1.22.0      tidyselect_1.2.0   repr_1.1.6        \n",
       " [5] purrr_1.0.2        lattice_0.22-5     ggfun_0.1.3        colorspace_2.1-0  \n",
       " [9] vctrs_0.6.4        generics_0.1.3     viridisLite_0.4.2  htmltools_0.5.7   \n",
       "[13] base64enc_0.1-3    utf8_1.2.4         gridGraphics_0.5-1 rlang_1.1.2       \n",
       "[17] pillar_1.9.0       glue_1.6.2         withr_2.5.2        uuid_1.1-1        \n",
       "[21] lifecycle_1.0.4    munsell_0.5.0      gtable_0.3.4       evaluate_0.23     \n",
       "[25] memoise_2.0.1      labeling_0.4.3     fastmap_1.1.1      parallel_4.2.1    \n",
       "[29] fansi_1.0.5        IRdisplay_1.1      Rcpp_1.0.11        scales_1.2.1      \n",
       "[33] cachem_1.0.8       IRkernel_1.3.2     jsonlite_1.8.7     farver_2.1.1      \n",
       "[37] fs_1.6.3           digest_0.6.33      aplot_0.2.2        grid_4.2.1        \n",
       "[41] cli_3.6.1          tools_4.2.1        yulab.utils_0.1.0  magrittr_2.0.3    \n",
       "[45] lazyeval_0.2.2     patchwork_1.1.3    tibble_3.2.1       crayon_1.5.2      \n",
       "[49] tidyr_1.3.0        pkgconfig_2.0.3    tidytree_0.4.5     ggplotify_0.1.2   \n",
       "[53] R6_2.5.1           nlme_3.1-163       compiler_4.2.1    "
      ]
     },
     "metadata": {},
     "output_type": "display_data"
    }
   ],
   "source": [
    "sessionInfo()"
   ]
  }
 ],
 "metadata": {
  "kernelspec": {
   "display_name": "R",
   "language": "R",
   "name": "ir"
  },
  "language_info": {
   "codemirror_mode": "r",
   "file_extension": ".r",
   "mimetype": "text/x-r-source",
   "name": "R",
   "pygments_lexer": "r",
   "version": "3.6.3"
  }
 },
 "nbformat": 4,
 "nbformat_minor": 5
}
