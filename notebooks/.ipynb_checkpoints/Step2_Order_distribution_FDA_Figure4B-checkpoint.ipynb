{
 "cells": [
  {
   "cell_type": "markdown",
   "id": "a71965e9",
   "metadata": {},
   "source": [
    "## Distribution of FDA in fungal orders\n",
    "\n",
    "**Notebook summary**\n",
    "This Jupyter Notebook:\n",
    "- analyses and visualizes the distribution of FDA in Fungi at the order level\n",
    "- is associated with Step 2 of the Pub approach: Defining the ‘working set of species’\n",
    "- provides the codes for the Pub Figures 4B\n",
    "\n",
    "**Context/Goal reminder**\n",
    "We have been able to determine our working set of 853 fungal species. For each of these fungal species we are able to detremine their FDA presence/absence status. To have a better understanding of the distribution of FDA in the Fungi kingdom, we study the distribution of FDA at the fungi order level by analysing and visualizing what fraction of each order possess FDA (ie the number of species taht possess FDA in an order divided by the total number of species in this order)\n",
    "\n",
    "**Notebook purpose**\n",
    "In this notebook, we determine the FDA status of all the species in the working set and then study distribution of FDA at the fungi order level. We eventually visualize this information onto a order level phylogenetic tree."
   ]
  },
  {
   "cell_type": "markdown",
   "id": "e781c3f2",
   "metadata": {},
   "source": [
    "---"
   ]
  },
  {
   "cell_type": "markdown",
   "id": "4b785fde",
   "metadata": {},
   "source": [
    "### Setup path and environment"
   ]
  },
  {
   "cell_type": "code",
   "execution_count": 1,
   "id": "681e5d5e",
   "metadata": {},
   "outputs": [],
   "source": [
    "setwd('..')\n",
    "\n",
    "#library(dplyr)\n",
    "#library(tidyverse)\n"
   ]
  },
  {
   "cell_type": "code",
   "execution_count": 46,
   "id": "772a9d61-67dd-4da2-b4b6-2a391185dad1",
   "metadata": {},
   "outputs": [
    {
     "name": "stderr",
     "output_type": "stream",
     "text": [
      "\n",
      "Attaching package: ‘ape’\n",
      "\n",
      "The following object is masked from ‘package:ggtree’:\n",
      "\n",
      "    rotate\n",
      "\n"
     ]
    }
   ],
   "source": [
    "library(dplyr)\n",
    "library(ggtree)\n",
    "library(ape)\n",
    "library(ggtreeExtra)"
   ]
  },
  {
   "cell_type": "markdown",
   "id": "fcc9dcbc",
   "metadata": {},
   "source": [
    "### Analysis"
   ]
  },
  {
   "cell_type": "code",
   "execution_count": 30,
   "id": "edfcb67a",
   "metadata": {},
   "outputs": [],
   "source": [
    "## Import data\n",
    "    # We import data for the working set and data for the extended cluster\n",
    "\n",
    "all_set=read.csv('results/step2/uniprot_all_wset_taxo.csv')[,-1]  # working set\n",
    "\n",
    "FDA_set=read.csv('data/step1/FDA_clust_taxo_manually_corrected.csv')[,-1] # FDA extented set\n",
    "FDA_set_f=subset(FDA_set,FDA_set$Kingdom=='Fungi')\n"
   ]
  },
  {
   "cell_type": "code",
   "execution_count": 35,
   "id": "485cfe00-6b4c-4a56-a60f-59fea714dedb",
   "metadata": {},
   "outputs": [],
   "source": [
    "## Adding FDA information status to the working set\n",
    "    # Any species in the extended set possess FDA, while species in the working set but not in the extented set don't possess FDA\n",
    "\n",
    "FDA_fungi_species=data.frame('Organism_uniprot'=c(unique(as.character(FDA_set_f$Organism))),\n",
    "                             'FDA'='Yes') \n",
    "\n"
   ]
  },
  {
   "cell_type": "code",
   "execution_count": 45,
   "id": "7aae3989-f5df-408e-891b-c66c7b72d266",
   "metadata": {},
   "outputs": [
    {
     "data": {
      "text/html": [
       "<table>\n",
       "<thead><tr><th scope=col>Organism_uniprot</th><th scope=col>n_prot</th><th scope=col>species_name</th><th scope=col>kingdom</th><th scope=col>phylum</th><th scope=col>class</th><th scope=col>order</th><th scope=col>family</th><th scope=col>genus</th><th scope=col>FDA</th></tr></thead>\n",
       "<tbody>\n",
       "\t<tr><td>[Candida] intermedia                                                                                                         </td><td>10617                                                                                                                        </td><td>[Candida] intermedia                                                                                                         </td><td>Fungi                                                                                                                        </td><td>Ascomycota                                                                                                                   </td><td>Saccharomycetes                                                                                                              </td><td>Saccharomycetales                                                                                                            </td><td>Metschnikowiaceae                                                                                                            </td><td>Candida                                                                                                                      </td><td>No                                                                                                                           </td></tr>\n",
       "\t<tr><td>[Torrubiella] hemipterigena                                                                                                  </td><td>11065                                                                                                                        </td><td>[Torrubiella] hemipterigena                                                                                                  </td><td>Fungi                                                                                                                        </td><td>Ascomycota                                                                                                                   </td><td>Sordariomycetes                                                                                                              </td><td>Hypocreales                                                                                                                  </td><td>Clavicipitaceae                                                                                                              </td><td>Torrubiella                                                                                                                  </td><td>Yes                                                                                                                          </td></tr>\n",
       "\t<tr><td>Aaosphaeria arxii CBS 175.79                                                                                                 </td><td>13815                                                                                                                        </td><td>Aaosphaeria arxii CBS 175.79                                                                                                 </td><td>Fungi                                                                                                                        </td><td>Ascomycota                                                                                                                   </td><td>Dothideomycetes                                                                                                              </td><td>Pleosporales                                                                                                                 </td><td>NA                                                                                                                           </td><td>Aaosphaeria                                                                                                                  </td><td>No                                                                                                                           </td></tr>\n",
       "\t<tr><td>Absidia glauca (Pin mould)                                                                                                   </td><td>14217                                                                                                                        </td><td>Absidia glauca                                                                                                               </td><td>Fungi                                                                                                                        </td><td>Mucoromycota                                                                                                                 </td><td>Mucoromycetes                                                                                                                </td><td>Mucorales                                                                                                                    </td><td>Cunninghamellaceae                                                                                                           </td><td>Absidia                                                                                                                      </td><td>Yes                                                                                                                          </td></tr>\n",
       "\t<tr><td>Absidia repens                                                                                                               </td><td>14353                                                                                                                        </td><td>Absidia repens                                                                                                               </td><td>Fungi                                                                                                                        </td><td>Mucoromycota                                                                                                                 </td><td>Mucoromycetes                                                                                                                </td><td>Mucorales                                                                                                                    </td><td>Cunninghamellaceae                                                                                                           </td><td>Absidia                                                                                                                      </td><td>Yes                                                                                                                          </td></tr>\n",
       "\t<tr><td>Acaromyces ingoldii                                                                                                          </td><td>7585                                                                                                                         </td><td>Acaromyces ingoldii                                                                                                          </td><td>Fungi                                                                                                                        </td><td>Basidiomycota                                                                                                                </td><td>Exobasidiomycetes                                                                                                            </td><td>Exobasidiales                                                                                                                </td><td>Cryptobasidiaceae                                                                                                            </td><td>Acaromyces                                                                                                                   </td><td>No                                                                                                                           </td></tr>\n",
       "\t<tr><td>Acidomyces richmondensis BFW                                                                                                 </td><td>10856                                                                                                                        </td><td>Acidomyces richmondensis BFW                                                                                                 </td><td>Fungi                                                                                                                        </td><td>Ascomycota                                                                                                                   </td><td>Dothideomycetes                                                                                                              </td><td>Mycosphaerellales                                                                                                            </td><td>Teratosphaeriaceae                                                                                                           </td><td>Acidomyces                                                                                                                   </td><td>No                                                                                                                           </td></tr>\n",
       "\t<tr><td>Agaricus bisporus var. burnettii (strain JB137-S8 / ATCC MYA-4627 / FGSC 10392) (White button mushroom)                      </td><td>10948                                                                                                                        </td><td>Agaricus bisporus var. burnettii                                                                                             </td><td>Fungi                                                                                                                        </td><td>Basidiomycota                                                                                                                </td><td>Agaricomycetes                                                                                                               </td><td>Agaricales                                                                                                                   </td><td>Agaricaceae                                                                                                                  </td><td>Agaricus                                                                                                                     </td><td>No                                                                                                                           </td></tr>\n",
       "\t<tr><td>Ajellomyces capsulatus (strain G186AR / H82 / ATCC MYA-2454 / RMSCC 2432) (Darling's disease fungus) (Histoplasma capsulatum)</td><td>9199                                                                                                                         </td><td>Ajellomyces capsulatus                                                                                                       </td><td>Fungi                                                                                                                        </td><td>Ascomycota                                                                                                                   </td><td>Eurotiomycetes                                                                                                               </td><td>Onygenales                                                                                                                   </td><td>Ajellomycetaceae                                                                                                             </td><td>Ajellomyces                                                                                                                  </td><td>Yes                                                                                                                          </td></tr>\n",
       "\t<tr><td>Ajellomyces capsulatus (strain H143) (Darling's disease fungus) (Histoplasma capsulatum)                                     </td><td>9314                                                                                                                         </td><td>Ajellomyces capsulatus                                                                                                       </td><td>Fungi                                                                                                                        </td><td>Ascomycota                                                                                                                   </td><td>Eurotiomycetes                                                                                                               </td><td>Onygenales                                                                                                                   </td><td>Ajellomycetaceae                                                                                                             </td><td>Ajellomyces                                                                                                                  </td><td>Yes                                                                                                                          </td></tr>\n",
       "\t<tr><td>Ajellomyces capsulatus (strain H88) (Darling's disease fungus) (Histoplasma capsulatum)                                      </td><td>9125                                                                                                                         </td><td>Ajellomyces capsulatus                                                                                                       </td><td>Fungi                                                                                                                        </td><td>Ascomycota                                                                                                                   </td><td>Eurotiomycetes                                                                                                               </td><td>Onygenales                                                                                                                   </td><td>Ajellomycetaceae                                                                                                             </td><td>Ajellomyces                                                                                                                  </td><td>No                                                                                                                           </td></tr>\n",
       "\t<tr><td>Ajellomyces capsulatus (strain NAm1 / WU24) (Darling's disease fungus) (Histoplasma capsulatum)                              </td><td>8963                                                                                                                         </td><td>Ajellomyces capsulatus                                                                                                       </td><td>Fungi                                                                                                                        </td><td>Ascomycota                                                                                                                   </td><td>Eurotiomycetes                                                                                                               </td><td>Onygenales                                                                                                                   </td><td>Ajellomycetaceae                                                                                                             </td><td>Ajellomyces                                                                                                                  </td><td>No                                                                                                                           </td></tr>\n",
       "\t<tr><td>Ajellomyces dermatitidis (strain ATCC 18188 / CBS 674.68) (Blastomyces dermatitidis)                                         </td><td>10368                                                                                                                        </td><td>Ajellomyces dermatitidis                                                                                                     </td><td>Fungi                                                                                                                        </td><td>Ascomycota                                                                                                                   </td><td>Eurotiomycetes                                                                                                               </td><td>Onygenales                                                                                                                   </td><td>Ajellomycetaceae                                                                                                             </td><td>Blastomyces                                                                                                                  </td><td>No                                                                                                                           </td></tr>\n",
       "\t<tr><td>Ajellomyces dermatitidis (strain ER-3 / ATCC MYA-2586) (Blastomyces dermatitidis)                                            </td><td>10074                                                                                                                        </td><td>Ajellomyces dermatitidis                                                                                                     </td><td>Fungi                                                                                                                        </td><td>Ascomycota                                                                                                                   </td><td>Eurotiomycetes                                                                                                               </td><td>Onygenales                                                                                                                   </td><td>Ajellomycetaceae                                                                                                             </td><td>Blastomyces                                                                                                                  </td><td>No                                                                                                                           </td></tr>\n",
       "\t<tr><td>Akanthomyces lecanii RCEF 1005                                                                                               </td><td>10646                                                                                                                        </td><td>Akanthomyces lecanii RCEF 1005                                                                                               </td><td>Fungi                                                                                                                        </td><td>Ascomycota                                                                                                                   </td><td>Sordariomycetes                                                                                                              </td><td>Hypocreales                                                                                                                  </td><td>Cordycipitaceae                                                                                                              </td><td>Akanthomyces                                                                                                                 </td><td>No                                                                                                                           </td></tr>\n",
       "</tbody>\n",
       "</table>\n"
      ],
      "text/latex": [
       "\\begin{tabular}{r|llllllllll}\n",
       " Organism\\_uniprot & n\\_prot & species\\_name & kingdom & phylum & class & order & family & genus & FDA\\\\\n",
       "\\hline\n",
       "\t {[}Candida{]} intermedia                                                                                                          & 10617                                                                                                                             & {[}Candida{]} intermedia                                                                                                          & Fungi                                                                                                                             & Ascomycota                                                                                                                        & Saccharomycetes                                                                                                                   & Saccharomycetales                                                                                                                 & Metschnikowiaceae                                                                                                                 & Candida                                                                                                                           & No                                                                                                                               \\\\\n",
       "\t {[}Torrubiella{]} hemipterigena                                                                                                   & 11065                                                                                                                             & {[}Torrubiella{]} hemipterigena                                                                                                   & Fungi                                                                                                                             & Ascomycota                                                                                                                        & Sordariomycetes                                                                                                                   & Hypocreales                                                                                                                       & Clavicipitaceae                                                                                                                   & Torrubiella                                                                                                                       & Yes                                                                                                                              \\\\\n",
       "\t Aaosphaeria arxii CBS 175.79                                                                                                  & 13815                                                                                                                         & Aaosphaeria arxii CBS 175.79                                                                                                  & Fungi                                                                                                                         & Ascomycota                                                                                                                    & Dothideomycetes                                                                                                               & Pleosporales                                                                                                                  & NA                                                                                                                            & Aaosphaeria                                                                                                                   & No                                                                                                                           \\\\\n",
       "\t Absidia glauca (Pin mould)                                                                                                    & 14217                                                                                                                         & Absidia glauca                                                                                                                & Fungi                                                                                                                         & Mucoromycota                                                                                                                  & Mucoromycetes                                                                                                                 & Mucorales                                                                                                                     & Cunninghamellaceae                                                                                                            & Absidia                                                                                                                       & Yes                                                                                                                          \\\\\n",
       "\t Absidia repens                                                                                                                & 14353                                                                                                                         & Absidia repens                                                                                                                & Fungi                                                                                                                         & Mucoromycota                                                                                                                  & Mucoromycetes                                                                                                                 & Mucorales                                                                                                                     & Cunninghamellaceae                                                                                                            & Absidia                                                                                                                       & Yes                                                                                                                          \\\\\n",
       "\t Acaromyces ingoldii                                                                                                           & 7585                                                                                                                          & Acaromyces ingoldii                                                                                                           & Fungi                                                                                                                         & Basidiomycota                                                                                                                 & Exobasidiomycetes                                                                                                             & Exobasidiales                                                                                                                 & Cryptobasidiaceae                                                                                                             & Acaromyces                                                                                                                    & No                                                                                                                           \\\\\n",
       "\t Acidomyces richmondensis BFW                                                                                                  & 10856                                                                                                                         & Acidomyces richmondensis BFW                                                                                                  & Fungi                                                                                                                         & Ascomycota                                                                                                                    & Dothideomycetes                                                                                                               & Mycosphaerellales                                                                                                             & Teratosphaeriaceae                                                                                                            & Acidomyces                                                                                                                    & No                                                                                                                           \\\\\n",
       "\t Agaricus bisporus var. burnettii (strain JB137-S8 / ATCC MYA-4627 / FGSC 10392) (White button mushroom)                       & 10948                                                                                                                         & Agaricus bisporus var. burnettii                                                                                              & Fungi                                                                                                                         & Basidiomycota                                                                                                                 & Agaricomycetes                                                                                                                & Agaricales                                                                                                                    & Agaricaceae                                                                                                                   & Agaricus                                                                                                                      & No                                                                                                                           \\\\\n",
       "\t Ajellomyces capsulatus (strain G186AR / H82 / ATCC MYA-2454 / RMSCC 2432) (Darling's disease fungus) (Histoplasma capsulatum) & 9199                                                                                                                          & Ajellomyces capsulatus                                                                                                        & Fungi                                                                                                                         & Ascomycota                                                                                                                    & Eurotiomycetes                                                                                                                & Onygenales                                                                                                                    & Ajellomycetaceae                                                                                                              & Ajellomyces                                                                                                                   & Yes                                                                                                                          \\\\\n",
       "\t Ajellomyces capsulatus (strain H143) (Darling's disease fungus) (Histoplasma capsulatum)                                      & 9314                                                                                                                          & Ajellomyces capsulatus                                                                                                        & Fungi                                                                                                                         & Ascomycota                                                                                                                    & Eurotiomycetes                                                                                                                & Onygenales                                                                                                                    & Ajellomycetaceae                                                                                                              & Ajellomyces                                                                                                                   & Yes                                                                                                                          \\\\\n",
       "\t Ajellomyces capsulatus (strain H88) (Darling's disease fungus) (Histoplasma capsulatum)                                       & 9125                                                                                                                          & Ajellomyces capsulatus                                                                                                        & Fungi                                                                                                                         & Ascomycota                                                                                                                    & Eurotiomycetes                                                                                                                & Onygenales                                                                                                                    & Ajellomycetaceae                                                                                                              & Ajellomyces                                                                                                                   & No                                                                                                                           \\\\\n",
       "\t Ajellomyces capsulatus (strain NAm1 / WU24) (Darling's disease fungus) (Histoplasma capsulatum)                               & 8963                                                                                                                          & Ajellomyces capsulatus                                                                                                        & Fungi                                                                                                                         & Ascomycota                                                                                                                    & Eurotiomycetes                                                                                                                & Onygenales                                                                                                                    & Ajellomycetaceae                                                                                                              & Ajellomyces                                                                                                                   & No                                                                                                                           \\\\\n",
       "\t Ajellomyces dermatitidis (strain ATCC 18188 / CBS 674.68) (Blastomyces dermatitidis)                                          & 10368                                                                                                                         & Ajellomyces dermatitidis                                                                                                      & Fungi                                                                                                                         & Ascomycota                                                                                                                    & Eurotiomycetes                                                                                                                & Onygenales                                                                                                                    & Ajellomycetaceae                                                                                                              & Blastomyces                                                                                                                   & No                                                                                                                           \\\\\n",
       "\t Ajellomyces dermatitidis (strain ER-3 / ATCC MYA-2586) (Blastomyces dermatitidis)                                             & 10074                                                                                                                         & Ajellomyces dermatitidis                                                                                                      & Fungi                                                                                                                         & Ascomycota                                                                                                                    & Eurotiomycetes                                                                                                                & Onygenales                                                                                                                    & Ajellomycetaceae                                                                                                              & Blastomyces                                                                                                                   & No                                                                                                                           \\\\\n",
       "\t Akanthomyces lecanii RCEF 1005                                                                                                & 10646                                                                                                                         & Akanthomyces lecanii RCEF 1005                                                                                                & Fungi                                                                                                                         & Ascomycota                                                                                                                    & Sordariomycetes                                                                                                               & Hypocreales                                                                                                                   & Cordycipitaceae                                                                                                               & Akanthomyces                                                                                                                  & No                                                                                                                           \\\\\n",
       "\\end{tabular}\n"
      ],
      "text/markdown": [
       "\n",
       "| Organism_uniprot | n_prot | species_name | kingdom | phylum | class | order | family | genus | FDA |\n",
       "|---|---|---|---|---|---|---|---|---|---|\n",
       "| [Candida] intermedia                                                                                                          | 10617                                                                                                                         | [Candida] intermedia                                                                                                          | Fungi                                                                                                                         | Ascomycota                                                                                                                    | Saccharomycetes                                                                                                               | Saccharomycetales                                                                                                             | Metschnikowiaceae                                                                                                             | Candida                                                                                                                       | No                                                                                                                            |\n",
       "| [Torrubiella] hemipterigena                                                                                                   | 11065                                                                                                                         | [Torrubiella] hemipterigena                                                                                                   | Fungi                                                                                                                         | Ascomycota                                                                                                                    | Sordariomycetes                                                                                                               | Hypocreales                                                                                                                   | Clavicipitaceae                                                                                                               | Torrubiella                                                                                                                   | Yes                                                                                                                           |\n",
       "| Aaosphaeria arxii CBS 175.79                                                                                                  | 13815                                                                                                                         | Aaosphaeria arxii CBS 175.79                                                                                                  | Fungi                                                                                                                         | Ascomycota                                                                                                                    | Dothideomycetes                                                                                                               | Pleosporales                                                                                                                  | NA                                                                                                                            | Aaosphaeria                                                                                                                   | No                                                                                                                            |\n",
       "| Absidia glauca (Pin mould)                                                                                                    | 14217                                                                                                                         | Absidia glauca                                                                                                                | Fungi                                                                                                                         | Mucoromycota                                                                                                                  | Mucoromycetes                                                                                                                 | Mucorales                                                                                                                     | Cunninghamellaceae                                                                                                            | Absidia                                                                                                                       | Yes                                                                                                                           |\n",
       "| Absidia repens                                                                                                                | 14353                                                                                                                         | Absidia repens                                                                                                                | Fungi                                                                                                                         | Mucoromycota                                                                                                                  | Mucoromycetes                                                                                                                 | Mucorales                                                                                                                     | Cunninghamellaceae                                                                                                            | Absidia                                                                                                                       | Yes                                                                                                                           |\n",
       "| Acaromyces ingoldii                                                                                                           | 7585                                                                                                                          | Acaromyces ingoldii                                                                                                           | Fungi                                                                                                                         | Basidiomycota                                                                                                                 | Exobasidiomycetes                                                                                                             | Exobasidiales                                                                                                                 | Cryptobasidiaceae                                                                                                             | Acaromyces                                                                                                                    | No                                                                                                                            |\n",
       "| Acidomyces richmondensis BFW                                                                                                  | 10856                                                                                                                         | Acidomyces richmondensis BFW                                                                                                  | Fungi                                                                                                                         | Ascomycota                                                                                                                    | Dothideomycetes                                                                                                               | Mycosphaerellales                                                                                                             | Teratosphaeriaceae                                                                                                            | Acidomyces                                                                                                                    | No                                                                                                                            |\n",
       "| Agaricus bisporus var. burnettii (strain JB137-S8 / ATCC MYA-4627 / FGSC 10392) (White button mushroom)                       | 10948                                                                                                                         | Agaricus bisporus var. burnettii                                                                                              | Fungi                                                                                                                         | Basidiomycota                                                                                                                 | Agaricomycetes                                                                                                                | Agaricales                                                                                                                    | Agaricaceae                                                                                                                   | Agaricus                                                                                                                      | No                                                                                                                            |\n",
       "| Ajellomyces capsulatus (strain G186AR / H82 / ATCC MYA-2454 / RMSCC 2432) (Darling's disease fungus) (Histoplasma capsulatum) | 9199                                                                                                                          | Ajellomyces capsulatus                                                                                                        | Fungi                                                                                                                         | Ascomycota                                                                                                                    | Eurotiomycetes                                                                                                                | Onygenales                                                                                                                    | Ajellomycetaceae                                                                                                              | Ajellomyces                                                                                                                   | Yes                                                                                                                           |\n",
       "| Ajellomyces capsulatus (strain H143) (Darling's disease fungus) (Histoplasma capsulatum)                                      | 9314                                                                                                                          | Ajellomyces capsulatus                                                                                                        | Fungi                                                                                                                         | Ascomycota                                                                                                                    | Eurotiomycetes                                                                                                                | Onygenales                                                                                                                    | Ajellomycetaceae                                                                                                              | Ajellomyces                                                                                                                   | Yes                                                                                                                           |\n",
       "| Ajellomyces capsulatus (strain H88) (Darling's disease fungus) (Histoplasma capsulatum)                                       | 9125                                                                                                                          | Ajellomyces capsulatus                                                                                                        | Fungi                                                                                                                         | Ascomycota                                                                                                                    | Eurotiomycetes                                                                                                                | Onygenales                                                                                                                    | Ajellomycetaceae                                                                                                              | Ajellomyces                                                                                                                   | No                                                                                                                            |\n",
       "| Ajellomyces capsulatus (strain NAm1 / WU24) (Darling's disease fungus) (Histoplasma capsulatum)                               | 8963                                                                                                                          | Ajellomyces capsulatus                                                                                                        | Fungi                                                                                                                         | Ascomycota                                                                                                                    | Eurotiomycetes                                                                                                                | Onygenales                                                                                                                    | Ajellomycetaceae                                                                                                              | Ajellomyces                                                                                                                   | No                                                                                                                            |\n",
       "| Ajellomyces dermatitidis (strain ATCC 18188 / CBS 674.68) (Blastomyces dermatitidis)                                          | 10368                                                                                                                         | Ajellomyces dermatitidis                                                                                                      | Fungi                                                                                                                         | Ascomycota                                                                                                                    | Eurotiomycetes                                                                                                                | Onygenales                                                                                                                    | Ajellomycetaceae                                                                                                              | Blastomyces                                                                                                                   | No                                                                                                                            |\n",
       "| Ajellomyces dermatitidis (strain ER-3 / ATCC MYA-2586) (Blastomyces dermatitidis)                                             | 10074                                                                                                                         | Ajellomyces dermatitidis                                                                                                      | Fungi                                                                                                                         | Ascomycota                                                                                                                    | Eurotiomycetes                                                                                                                | Onygenales                                                                                                                    | Ajellomycetaceae                                                                                                              | Blastomyces                                                                                                                   | No                                                                                                                            |\n",
       "| Akanthomyces lecanii RCEF 1005                                                                                                | 10646                                                                                                                         | Akanthomyces lecanii RCEF 1005                                                                                                | Fungi                                                                                                                         | Ascomycota                                                                                                                    | Sordariomycetes                                                                                                               | Hypocreales                                                                                                                   | Cordycipitaceae                                                                                                               | Akanthomyces                                                                                                                  | No                                                                                                                            |\n",
       "\n"
      ],
      "text/plain": [
       "   Organism_uniprot                                                                                                             \n",
       "1  [Candida] intermedia                                                                                                         \n",
       "2  [Torrubiella] hemipterigena                                                                                                  \n",
       "3  Aaosphaeria arxii CBS 175.79                                                                                                 \n",
       "4  Absidia glauca (Pin mould)                                                                                                   \n",
       "5  Absidia repens                                                                                                               \n",
       "6  Acaromyces ingoldii                                                                                                          \n",
       "7  Acidomyces richmondensis BFW                                                                                                 \n",
       "8  Agaricus bisporus var. burnettii (strain JB137-S8 / ATCC MYA-4627 / FGSC 10392) (White button mushroom)                      \n",
       "9  Ajellomyces capsulatus (strain G186AR / H82 / ATCC MYA-2454 / RMSCC 2432) (Darling's disease fungus) (Histoplasma capsulatum)\n",
       "10 Ajellomyces capsulatus (strain H143) (Darling's disease fungus) (Histoplasma capsulatum)                                     \n",
       "11 Ajellomyces capsulatus (strain H88) (Darling's disease fungus) (Histoplasma capsulatum)                                      \n",
       "12 Ajellomyces capsulatus (strain NAm1 / WU24) (Darling's disease fungus) (Histoplasma capsulatum)                              \n",
       "13 Ajellomyces dermatitidis (strain ATCC 18188 / CBS 674.68) (Blastomyces dermatitidis)                                         \n",
       "14 Ajellomyces dermatitidis (strain ER-3 / ATCC MYA-2586) (Blastomyces dermatitidis)                                            \n",
       "15 Akanthomyces lecanii RCEF 1005                                                                                               \n",
       "   n_prot species_name                      kingdom phylum       \n",
       "1  10617  [Candida] intermedia              Fungi   Ascomycota   \n",
       "2  11065  [Torrubiella] hemipterigena       Fungi   Ascomycota   \n",
       "3  13815  Aaosphaeria arxii CBS 175.79      Fungi   Ascomycota   \n",
       "4  14217  Absidia glauca                    Fungi   Mucoromycota \n",
       "5  14353  Absidia repens                    Fungi   Mucoromycota \n",
       "6  7585   Acaromyces ingoldii               Fungi   Basidiomycota\n",
       "7  10856  Acidomyces richmondensis BFW      Fungi   Ascomycota   \n",
       "8  10948  Agaricus bisporus var. burnettii  Fungi   Basidiomycota\n",
       "9  9199   Ajellomyces capsulatus            Fungi   Ascomycota   \n",
       "10 9314   Ajellomyces capsulatus            Fungi   Ascomycota   \n",
       "11 9125   Ajellomyces capsulatus            Fungi   Ascomycota   \n",
       "12 8963   Ajellomyces capsulatus            Fungi   Ascomycota   \n",
       "13 10368  Ajellomyces dermatitidis          Fungi   Ascomycota   \n",
       "14 10074  Ajellomyces dermatitidis          Fungi   Ascomycota   \n",
       "15 10646  Akanthomyces lecanii RCEF 1005    Fungi   Ascomycota   \n",
       "   class             order             family             genus        FDA\n",
       "1  Saccharomycetes   Saccharomycetales Metschnikowiaceae  Candida      No \n",
       "2  Sordariomycetes   Hypocreales       Clavicipitaceae    Torrubiella  Yes\n",
       "3  Dothideomycetes   Pleosporales      NA                 Aaosphaeria  No \n",
       "4  Mucoromycetes     Mucorales         Cunninghamellaceae Absidia      Yes\n",
       "5  Mucoromycetes     Mucorales         Cunninghamellaceae Absidia      Yes\n",
       "6  Exobasidiomycetes Exobasidiales     Cryptobasidiaceae  Acaromyces   No \n",
       "7  Dothideomycetes   Mycosphaerellales Teratosphaeriaceae Acidomyces   No \n",
       "8  Agaricomycetes    Agaricales        Agaricaceae        Agaricus     No \n",
       "9  Eurotiomycetes    Onygenales        Ajellomycetaceae   Ajellomyces  Yes\n",
       "10 Eurotiomycetes    Onygenales        Ajellomycetaceae   Ajellomyces  Yes\n",
       "11 Eurotiomycetes    Onygenales        Ajellomycetaceae   Ajellomyces  No \n",
       "12 Eurotiomycetes    Onygenales        Ajellomycetaceae   Ajellomyces  No \n",
       "13 Eurotiomycetes    Onygenales        Ajellomycetaceae   Blastomyces  No \n",
       "14 Eurotiomycetes    Onygenales        Ajellomycetaceae   Blastomyces  No \n",
       "15 Sordariomycetes   Hypocreales       Cordycipitaceae    Akanthomyces No "
      ]
     },
     "metadata": {},
     "output_type": "display_data"
    }
   ],
   "source": [
    "all_set_ch<- all_set %>%\n",
    "  mutate_all(~as.character(.))\n",
    "\n",
    "FDA_fungi_species_ch<- FDA_fungi_species %>%\n",
    "  mutate_all(~as.character(.))\n",
    "\n",
    "all_set_w_FDA=left_join(all_set_ch,FDA_fungi_species_ch,by='Organism_uniprot') \n",
    "\n",
    "all_set_w_FDA$FDA[is.na(all_set_w_FDA$FDA)]<-'No'\n",
    "\n",
    "head(all_set_w_FDA,15)"
   ]
  },
  {
   "cell_type": "code",
   "execution_count": 47,
   "id": "2769cab7-4ca5-4881-9237-f78511354e96",
   "metadata": {},
   "outputs": [
    {
     "data": {
      "text/html": [
       "<table>\n",
       "<thead><tr><th scope=col>Order</th><th scope=col>Order_size</th><th scope=col>Phylum</th><th scope=col>FDA_yes</th><th scope=col>FDA_no</th><th scope=col>FDA_frac</th></tr></thead>\n",
       "<tbody>\n",
       "\t<tr><td>Saccharomycetales </td><td> 18               </td><td>Ascomycota        </td><td> 8                </td><td> 10               </td><td>0.44444444        </td></tr>\n",
       "\t<tr><td>Hypocreales       </td><td>105               </td><td>Ascomycota        </td><td> 1                </td><td>104               </td><td>0.00952381        </td></tr>\n",
       "\t<tr><td>Pleosporales      </td><td> 46               </td><td>Ascomycota        </td><td>29                </td><td> 17               </td><td>0.63043478        </td></tr>\n",
       "\t<tr><td>Mucorales         </td><td> 18               </td><td>Mucoromycota      </td><td>11                </td><td>  7               </td><td>0.61111111        </td></tr>\n",
       "\t<tr><td>Exobasidiales     </td><td>  2               </td><td>Basidiomycota     </td><td> 0                </td><td>  2               </td><td>0.00000000        </td></tr>\n",
       "\t<tr><td>Mycosphaerellales </td><td> 19               </td><td>Ascomycota        </td><td>14                </td><td>  5               </td><td>0.73684211        </td></tr>\n",
       "\t<tr><td>Agaricales        </td><td> 35               </td><td>Basidiomycota     </td><td>26                </td><td>  9               </td><td>0.74285714        </td></tr>\n",
       "\t<tr><td>Onygenales        </td><td> 41               </td><td>Ascomycota        </td><td>19                </td><td> 22               </td><td>0.46341463        </td></tr>\n",
       "\t<tr><td>Blastocladiales   </td><td>  2               </td><td>Blastocladiomycota</td><td> 2                </td><td>  0               </td><td>1.00000000        </td></tr>\n",
       "\t<tr><td>Helotiales        </td><td> 40               </td><td>Ascomycota        </td><td>20                </td><td> 20               </td><td>0.50000000        </td></tr>\n",
       "</tbody>\n",
       "</table>\n"
      ],
      "text/latex": [
       "\\begin{tabular}{r|llllll}\n",
       " Order & Order\\_size & Phylum & FDA\\_yes & FDA\\_no & FDA\\_frac\\\\\n",
       "\\hline\n",
       "\t Saccharomycetales  &  18                & Ascomycota         &  8                 &  10                & 0.44444444        \\\\\n",
       "\t Hypocreales        & 105                & Ascomycota         &  1                 & 104                & 0.00952381        \\\\\n",
       "\t Pleosporales       &  46                & Ascomycota         & 29                 &  17                & 0.63043478        \\\\\n",
       "\t Mucorales          &  18                & Mucoromycota       & 11                 &   7                & 0.61111111        \\\\\n",
       "\t Exobasidiales      &   2                & Basidiomycota      &  0                 &   2                & 0.00000000        \\\\\n",
       "\t Mycosphaerellales  &  19                & Ascomycota         & 14                 &   5                & 0.73684211        \\\\\n",
       "\t Agaricales         &  35                & Basidiomycota      & 26                 &   9                & 0.74285714        \\\\\n",
       "\t Onygenales         &  41                & Ascomycota         & 19                 &  22                & 0.46341463        \\\\\n",
       "\t Blastocladiales    &   2                & Blastocladiomycota &  2                 &   0                & 1.00000000        \\\\\n",
       "\t Helotiales         &  40                & Ascomycota         & 20                 &  20                & 0.50000000        \\\\\n",
       "\\end{tabular}\n"
      ],
      "text/markdown": [
       "\n",
       "| Order | Order_size | Phylum | FDA_yes | FDA_no | FDA_frac |\n",
       "|---|---|---|---|---|---|\n",
       "| Saccharomycetales  |  18                | Ascomycota         |  8                 |  10                | 0.44444444         |\n",
       "| Hypocreales        | 105                | Ascomycota         |  1                 | 104                | 0.00952381         |\n",
       "| Pleosporales       |  46                | Ascomycota         | 29                 |  17                | 0.63043478         |\n",
       "| Mucorales          |  18                | Mucoromycota       | 11                 |   7                | 0.61111111         |\n",
       "| Exobasidiales      |   2                | Basidiomycota      |  0                 |   2                | 0.00000000         |\n",
       "| Mycosphaerellales  |  19                | Ascomycota         | 14                 |   5                | 0.73684211         |\n",
       "| Agaricales         |  35                | Basidiomycota      | 26                 |   9                | 0.74285714         |\n",
       "| Onygenales         |  41                | Ascomycota         | 19                 |  22                | 0.46341463         |\n",
       "| Blastocladiales    |   2                | Blastocladiomycota |  2                 |   0                | 1.00000000         |\n",
       "| Helotiales         |  40                | Ascomycota         | 20                 |  20                | 0.50000000         |\n",
       "\n"
      ],
      "text/plain": [
       "   Order             Order_size Phylum             FDA_yes FDA_no FDA_frac  \n",
       "1  Saccharomycetales  18        Ascomycota          8       10    0.44444444\n",
       "2  Hypocreales       105        Ascomycota          1      104    0.00952381\n",
       "3  Pleosporales       46        Ascomycota         29       17    0.63043478\n",
       "4  Mucorales          18        Mucoromycota       11        7    0.61111111\n",
       "5  Exobasidiales       2        Basidiomycota       0        2    0.00000000\n",
       "6  Mycosphaerellales  19        Ascomycota         14        5    0.73684211\n",
       "7  Agaricales         35        Basidiomycota      26        9    0.74285714\n",
       "8  Onygenales         41        Ascomycota         19       22    0.46341463\n",
       "9  Blastocladiales     2        Blastocladiomycota  2        0    1.00000000\n",
       "10 Helotiales         40        Ascomycota         20       20    0.50000000"
      ]
     },
     "metadata": {},
     "output_type": "display_data"
    }
   ],
   "source": [
    "## Calculate fraction of FDA at the order level\n",
    "    # for each fungal order we calulate the order FDA fraction as the number of species with FDA in the order divided by the number of species in the order\n",
    "\n",
    "Levels=na.omit(c(unique(all_set_w_FDA$order)))\n",
    "\n",
    "df_order=data.frame()\n",
    "for (i in 1:length(Levels)){\n",
    "  dat_temp=subset(all_set_w_FDA, all_set_w_FDA$order==Levels[i])\n",
    "  n=dim(dat_temp)[1]\n",
    "  phy=unique(dat_temp[,'phylum'])\n",
    "  FDA=sum(dat_temp$FDA==\"Yes\")\n",
    "  \n",
    "  df_temp=data.frame('Order'=Levels[i],\n",
    "                     'Order_size'=n,\n",
    "                     'Phylum'=phy,\n",
    "                     'FDA_yes'=FDA,\n",
    "                     'FDA_no'=(n-FDA),\n",
    "                     'FDA_frac'=FDA/n)\n",
    "  \n",
    "  df_order=rbind(df_order, df_temp)\n",
    "  \n",
    "}\n",
    "\n",
    "head(df_order,10)\n"
   ]
  },
  {
   "cell_type": "code",
   "execution_count": 54,
   "id": "6892b227-e60c-4104-b6da-c5f6480955bc",
   "metadata": {},
   "outputs": [],
   "source": [
    "## Save order information table\n",
    "write.csv(all_set_w_FDA, 'results/step2/working_set_w_FDA.csv')\n",
    "write.csv(df_order, 'results/step2/order_information_FDA_fraction.csv')"
   ]
  },
  {
   "cell_type": "markdown",
   "id": "67199fe8-72d1-4fce-9eab-b8bf442350fc",
   "metadata": {},
   "source": [
    "### Visualization - Figure 4B"
   ]
  },
  {
   "cell_type": "code",
   "execution_count": 50,
   "id": "306c87d6-0b7b-48d2-9230-2ed0f76e912a",
   "metadata": {},
   "outputs": [],
   "source": [
    "## Import newick file of fungal order tree (from Timetree)\n",
    "\n",
    "tree_order=read.tree('data/step2/Fungi_order_timetree.nwk')"
   ]
  },
  {
   "cell_type": "code",
   "execution_count": 52,
   "id": "5c1a3f8c-d410-41c0-9a92-859a220c9e45",
   "metadata": {},
   "outputs": [],
   "source": [
    "## Define the set of orders present in our dataset and trim the tree\n",
    "\n",
    "order_uni=c(unique(all_set_w_FDA$order))  # orders present in our working set\n",
    "\n",
    "inter_order=intersect(tree_order$tip.label,order_uni) #look at intersection with tree tips\n",
    "\n",
    "tree_order_trimmed=keep.tip(tree_order,inter_order) # keep only the orders of interest from the tree"
   ]
  },
  {
   "cell_type": "code",
   "execution_count": 53,
   "id": "5eb8677a-cb70-45ce-a812-39829be68819",
   "metadata": {},
   "outputs": [],
   "source": [
    "## Reformat data to map onto the tree\n",
    "\n",
    "tree_data=subset(df_order, df_order$Order%in%inter_order)\n",
    "\n",
    "tree_data$Phylum=factor(tree_data$Phylum,levels=c('Ascomycota','Basidiomycota','Mucoromycota','Zoopagomycota',\n",
    "                                                  'Blastocladiomycota','Chytridiomycota'))\n",
    "\n",
    "colnames(tree_data)=c('tip.label',colnames(tree_data[,2:6]))"
   ]
  },
  {
   "cell_type": "code",
   "execution_count": null,
   "id": "ef7c7d30-d16f-43a7-a970-751d237e34b4",
   "metadata": {},
   "outputs": [],
   "source": [
    "## Tree - Figure 4B\n",
    "\n",
    "    # Defining color palette\n",
    "\n",
    "accent_ordered <- c('#5088C5', '#F28360', '#F7B846', '#97CD78',\n",
    "                    '#7A77AB', '#F898AE', '#3B9886', '#C85152',\n",
    "                    '#73B5E3', '#BAB0A8', '#8A99AD', '#FFB984')\n",
    "\n",
    "    # Base tree\n",
    "\n",
    "pt=ggtree(tree_order_trimmed, branch.length=\"none\")  %<+% tree_data  \n",
    "\n",
    "    # Adding phylum information as colored tip\n",
    "pt1=pt + geom_tippoint(aes(color=Phylum)) +\n",
    "  scale_color_manual(values=c((accent_ordered))) \n",
    "\n",
    "    # Adding the heatmap for the FDA fraction\n",
    "\n",
    "pt2 = pt1 + new_scale_fill() +\n",
    "  geom_fruit(geom=geom_tile,\n",
    "             mapping=aes(y=tip.label, fill=FDA_frac, width=2),\n",
    "             color = \"grey50\", offset = 0.08) +\n",
    "  scale_fill_viridis_c(direction=1, option='D')\n",
    "\n",
    "    # Adding order size information colored by Phylum\n",
    "\n",
    "pt3=pt2 + new_scale_fill()+ \n",
    "  geom_fruit(geom=geom_bar,\n",
    "             mapping=aes(y=tip.label,x=Order_size, fill=Phylum),\n",
    "             pwidth=0.38, \n",
    "             orientation=\"y\", \n",
    "             stat=\"identity\",\n",
    "             offset=0.09)+\n",
    "  scale_fill_manual(values=c((accent_ordered)))\n",
    "\n",
    "pt3\n"
   ]
  }
 ],
 "metadata": {
  "kernelspec": {
   "display_name": "R",
   "language": "R",
   "name": "ir"
  },
  "language_info": {
   "codemirror_mode": "r",
   "file_extension": ".r",
   "mimetype": "text/x-r-source",
   "name": "R",
   "pygments_lexer": "r",
   "version": "3.6.3"
  }
 },
 "nbformat": 4,
 "nbformat_minor": 5
}
