{
 "cells": [
  {
   "cell_type": "markdown",
   "id": "076667ef-560d-44a9-8d93-f71caf46e5e4",
   "metadata": {},
   "source": [
    "## Trait data curation\n",
    "\n",
    "**Notebook summary**\n",
    "\n",
    "This Jupyter Notebook:\n",
    "- Exports a .csv version on FunFun\n",
    "- Extracts trait information for species that overlap with our working set and have a consistent Divergent Fungal Actin (DFA) status at the strain level\n",
    "- Provides the code for the Pub Figure 5\n",
    "\n",
    "\n",
    "**Context/Goal reminder**\n",
    "We used the database FunFun as the source of fungal trait information (https://doi.org/10.1111/brv.12570). This database contains a large set of information from different studies and other databases and provides them at the species level. We decided to focus on 6 traits: presence/absence of auxin responsive promoter, spore length, spore width, ascus dehiscence, growth form and trophic mode. \n",
    "\n",
    "**Notebook purpose**\n",
    "In this notebook, we extract trait information from the FunFun database for the 6 traits we want to investigate and for the species of our working that are also present in the FunFun database and that have consistent DFA status at the strain level. Eventually we visualize available trait information and species DFA status onto a species-level phylogenetic tree."
   ]
  },
  {
   "cell_type": "markdown",
   "id": "2f636fcc-18aa-462f-9b5e-66ea4df36b70",
   "metadata": {},
   "source": [
    "---"
   ]
  },
  {
   "cell_type": "markdown",
   "id": "1c7b4f57-83c5-4f89-abc4-49d8ab1d1ed3",
   "metadata": {},
   "source": [
    "### Setup path and environment"
   ]
  },
  {
   "cell_type": "code",
   "execution_count": 1,
   "id": "1e819bac-54d8-4ef1-8d16-091b0e8a4228",
   "metadata": {
    "vscode": {
     "languageId": "r"
    }
   },
   "outputs": [
    {
     "name": "stderr",
     "output_type": "stream",
     "text": [
      "Warning message:\n",
      "“package ‘dplyr’ was built under R version 4.2.3”\n",
      "\n",
      "Attaching package: ‘dplyr’\n",
      "\n",
      "\n",
      "The following objects are masked from ‘package:stats’:\n",
      "\n",
      "    filter, lag\n",
      "\n",
      "\n",
      "The following objects are masked from ‘package:base’:\n",
      "\n",
      "    intersect, setdiff, setequal, union\n",
      "\n",
      "\n",
      "── \u001b[1mAttaching packages\u001b[22m ─────────────────────────────────────────────────────────────────────────────────────────────────────────── tidyverse 1.3.1 ──\n",
      "\n",
      "\u001b[32m✔\u001b[39m \u001b[34mggplot2\u001b[39m 3.4.4     \u001b[32m✔\u001b[39m \u001b[34mpurrr  \u001b[39m 1.0.2\n",
      "\u001b[32m✔\u001b[39m \u001b[34mtibble \u001b[39m 3.2.1     \u001b[32m✔\u001b[39m \u001b[34mstringr\u001b[39m 1.5.1\n",
      "\u001b[32m✔\u001b[39m \u001b[34mtidyr  \u001b[39m 1.3.0     \u001b[32m✔\u001b[39m \u001b[34mforcats\u001b[39m 1.0.0\n",
      "\u001b[32m✔\u001b[39m \u001b[34mreadr  \u001b[39m 2.1.4     \n",
      "\n",
      "Warning message:\n",
      "“package ‘ggplot2’ was built under R version 4.2.3”\n",
      "Warning message:\n",
      "“package ‘tibble’ was built under R version 4.2.3”\n",
      "Warning message:\n",
      "“package ‘tidyr’ was built under R version 4.2.3”\n",
      "Warning message:\n",
      "“package ‘readr’ was built under R version 4.2.3”\n",
      "Warning message:\n",
      "“package ‘purrr’ was built under R version 4.2.3”\n",
      "Warning message:\n",
      "“package ‘stringr’ was built under R version 4.2.3”\n",
      "Warning message:\n",
      "“package ‘forcats’ was built under R version 4.2.3”\n",
      "── \u001b[1mConflicts\u001b[22m ────────────────────────────────────────────────────────────────────────────────────────────────────────────── tidyverse_conflicts() ──\n",
      "\u001b[31m✖\u001b[39m \u001b[34mdplyr\u001b[39m::\u001b[32mfilter()\u001b[39m masks \u001b[34mstats\u001b[39m::filter()\n",
      "\u001b[31m✖\u001b[39m \u001b[34mdplyr\u001b[39m::\u001b[32mlag()\u001b[39m    masks \u001b[34mstats\u001b[39m::lag()\n",
      "\n",
      "Registered S3 methods overwritten by 'treeio':\n",
      "  method              from    \n",
      "  MRCA.phylo          tidytree\n",
      "  MRCA.treedata       tidytree\n",
      "  Nnode.treedata      tidytree\n",
      "  Ntip.treedata       tidytree\n",
      "  ancestor.phylo      tidytree\n",
      "  ancestor.treedata   tidytree\n",
      "  child.phylo         tidytree\n",
      "  child.treedata      tidytree\n",
      "  full_join.phylo     tidytree\n",
      "  full_join.treedata  tidytree\n",
      "  groupClade.phylo    tidytree\n",
      "  groupClade.treedata tidytree\n",
      "  groupOTU.phylo      tidytree\n",
      "  groupOTU.treedata   tidytree\n",
      "  is.rooted.treedata  tidytree\n",
      "  nodeid.phylo        tidytree\n",
      "  nodeid.treedata     tidytree\n",
      "  nodelab.phylo       tidytree\n",
      "  nodelab.treedata    tidytree\n",
      "  offspring.phylo     tidytree\n",
      "  offspring.treedata  tidytree\n",
      "  parent.phylo        tidytree\n",
      "  parent.treedata     tidytree\n",
      "  root.treedata       tidytree\n",
      "  rootnode.phylo      tidytree\n",
      "  sibling.phylo       tidytree\n",
      "\n",
      "\u001b[90mggtree v3.6.0 For help: https://yulab-smu.top/treedata-book/\n",
      "\n",
      "If you use the ggtree package suite in published research, please cite\n",
      "the appropriate paper(s):\n",
      "\n",
      "Guangchuang Yu, David Smith, Huachen Zhu, Yi Guan, Tommy Tsan-Yuk Lam.\n",
      "ggtree: an R package for visualization and annotation of phylogenetic\n",
      "trees with their covariates and other associated data. Methods in\n",
      "Ecology and Evolution. 2017, 8(1):28-36. doi:10.1111/2041-210X.12628\n",
      "\n",
      "S Xu, Z Dai, P Guo, X Fu, S Liu, L Zhou, W Tang, T Feng, M Chen, L\n",
      "Zhan, T Wu, E Hu, Y Jiang, X Bo, G Yu. ggtreeExtra: Compact\n",
      "visualization of richly annotated phylogenetic data. Molecular Biology\n",
      "and Evolution. 2021, 38(9):4039-4042. doi: 10.1093/molbev/msab166\n",
      "\n",
      "Guangchuang Yu. Using ggtree to visualize data on tree-like structures.\n",
      "Current Protocols in Bioinformatics. 2020, 69:e96. doi:10.1002/cpbi.96\n",
      "\u001b[39m\n",
      "\n",
      "\n",
      "Attaching package: ‘ggtree’\n",
      "\n",
      "\n",
      "The following object is masked from ‘package:tidyr’:\n",
      "\n",
      "    expand\n",
      "\n",
      "\n",
      "\u001b[90mggtreeExtra v1.8.0 For help: https://yulab-smu.top/treedata-book/\n",
      "\n",
      "If you use the ggtree package suite in published research, please cite\n",
      "the appropriate paper(s):\n",
      "\n",
      "S Xu, Z Dai, P Guo, X Fu, S Liu, L Zhou, W Tang, T Feng, M Chen, L\n",
      "Zhan, T Wu, E Hu, Y Jiang, X Bo, G Yu. ggtreeExtra: Compact\n",
      "visualization of richly annotated phylogenetic data. Molecular Biology\n",
      "and Evolution. 2021, 38(9):4039-4042. doi: 10.1093/molbev/msab166 \u001b[39m\n",
      "\n",
      "Warning message:\n",
      "“package ‘ggnewscale’ was built under R version 4.2.3”\n",
      "Warning message:\n",
      "“package ‘ape’ was built under R version 4.2.3”\n",
      "\n",
      "Attaching package: ‘ape’\n",
      "\n",
      "\n",
      "The following object is masked from ‘package:ggtree’:\n",
      "\n",
      "    rotate\n",
      "\n",
      "\n",
      "The following object is masked from ‘package:dplyr’:\n",
      "\n",
      "    where\n",
      "\n",
      "\n"
     ]
    }
   ],
   "source": [
    "setwd('..')\n",
    "\n",
    "\n",
    "library(dplyr)\n",
    "library(tidyverse)\n",
    "library(ggplot2)\n",
    "library(ggtree)\n",
    "library(ggtreeExtra)\n",
    "library(ggnewscale)\n",
    "library(dplyr)\n",
    "library(ape)\n"
   ]
  },
  {
   "cell_type": "markdown",
   "id": "39cdcdfd-ff5a-445d-9a1a-11323382cbe2",
   "metadata": {},
   "source": [
    "### Analysis\n",
    "\n",
    "#### Trait data curation"
   ]
  },
  {
   "cell_type": "code",
   "execution_count": 2,
   "id": "7969f250-cbfc-4e59-9367-015670bf552f",
   "metadata": {
    "vscode": {
     "languageId": "r"
    }
   },
   "outputs": [
    {
     "data": {
      "text/html": [
       "<style>\n",
       ".list-inline {list-style: none; margin:0; padding: 0}\n",
       ".list-inline>li {display: inline-block}\n",
       ".list-inline>li:not(:last-child)::after {content: \"\\00b7\"; padding: 0 .5ex}\n",
       "</style>\n",
       "<ol class=list-inline><li>5866</li><li>102</li></ol>\n"
      ],
      "text/latex": [
       "\\begin{enumerate*}\n",
       "\\item 5866\n",
       "\\item 102\n",
       "\\end{enumerate*}\n"
      ],
      "text/markdown": [
       "1. 5866\n",
       "2. 102\n",
       "\n",
       "\n"
      ],
      "text/plain": [
       "[1] 5866  102"
      ]
     },
     "metadata": {},
     "output_type": "display_data"
    }
   ],
   "source": [
    "## Import funfun database\n",
    "    # we obtained the .csv file of the database by following intrsuction on the github page:https://doi.org/10.1111/brv.12570.\n",
    "\n",
    "data_base=read.csv('data/step3/FunFun_database_all.csv')\n",
    "dim(data_base)"
   ]
  },
  {
   "cell_type": "code",
   "execution_count": 3,
   "id": "2baa7121-7af1-40d3-a514-1470cf0a5fda",
   "metadata": {
    "vscode": {
     "languageId": "r"
    }
   },
   "outputs": [
    {
     "data": {
      "text/html": [
       "<table class=\"dataframe\">\n",
       "<caption>A data.frame: 5 × 7</caption>\n",
       "<thead>\n",
       "\t<tr><th></th><th scope=col>speciesMatched</th><th scope=col>ascus_dehiscence</th><th scope=col>auxinResponsivePromoter_count</th><th scope=col>growth_form_fg</th><th scope=col>spore_length</th><th scope=col>spore_width</th><th scope=col>trophic_mode_fg</th></tr>\n",
       "\t<tr><th></th><th scope=col>&lt;chr&gt;</th><th scope=col>&lt;chr&gt;</th><th scope=col>&lt;dbl&gt;</th><th scope=col>&lt;chr&gt;</th><th scope=col>&lt;dbl&gt;</th><th scope=col>&lt;dbl&gt;</th><th scope=col>&lt;chr&gt;</th></tr>\n",
       "</thead>\n",
       "<tbody>\n",
       "\t<tr><th scope=row>1</th><td>Armillaria gallica</td><td>NA</td><td>NA</td><td>Agaricoid</td><td>NA</td><td>NA</td><td>Pathotroph-Saprotroph</td></tr>\n",
       "\t<tr><th scope=row>2</th><td>Armillaria gallica</td><td>NA</td><td>NA</td><td>Agaricoid</td><td>NA</td><td>NA</td><td>Pathotroph-Saprotroph</td></tr>\n",
       "\t<tr><th scope=row>3</th><td>Armillaria gallica</td><td>NA</td><td>NA</td><td>Agaricoid</td><td>NA</td><td>NA</td><td>Pathotroph-Saprotroph</td></tr>\n",
       "\t<tr><th scope=row>4</th><td>Armillaria gallica</td><td>NA</td><td>NA</td><td>Agaricoid</td><td>NA</td><td>NA</td><td>Pathotroph-Saprotroph</td></tr>\n",
       "\t<tr><th scope=row>5</th><td>Armillaria gallica</td><td>NA</td><td>NA</td><td>Agaricoid</td><td>NA</td><td>NA</td><td>Pathotroph-Saprotroph</td></tr>\n",
       "</tbody>\n",
       "</table>\n"
      ],
      "text/latex": [
       "A data.frame: 5 × 7\n",
       "\\begin{tabular}{r|lllllll}\n",
       "  & speciesMatched & ascus\\_dehiscence & auxinResponsivePromoter\\_count & growth\\_form\\_fg & spore\\_length & spore\\_width & trophic\\_mode\\_fg\\\\\n",
       "  & <chr> & <chr> & <dbl> & <chr> & <dbl> & <dbl> & <chr>\\\\\n",
       "\\hline\n",
       "\t1 & Armillaria gallica & NA & NA & Agaricoid & NA & NA & Pathotroph-Saprotroph\\\\\n",
       "\t2 & Armillaria gallica & NA & NA & Agaricoid & NA & NA & Pathotroph-Saprotroph\\\\\n",
       "\t3 & Armillaria gallica & NA & NA & Agaricoid & NA & NA & Pathotroph-Saprotroph\\\\\n",
       "\t4 & Armillaria gallica & NA & NA & Agaricoid & NA & NA & Pathotroph-Saprotroph\\\\\n",
       "\t5 & Armillaria gallica & NA & NA & Agaricoid & NA & NA & Pathotroph-Saprotroph\\\\\n",
       "\\end{tabular}\n"
      ],
      "text/markdown": [
       "\n",
       "A data.frame: 5 × 7\n",
       "\n",
       "| <!--/--> | speciesMatched &lt;chr&gt; | ascus_dehiscence &lt;chr&gt; | auxinResponsivePromoter_count &lt;dbl&gt; | growth_form_fg &lt;chr&gt; | spore_length &lt;dbl&gt; | spore_width &lt;dbl&gt; | trophic_mode_fg &lt;chr&gt; |\n",
       "|---|---|---|---|---|---|---|---|\n",
       "| 1 | Armillaria gallica | NA | NA | Agaricoid | NA | NA | Pathotroph-Saprotroph |\n",
       "| 2 | Armillaria gallica | NA | NA | Agaricoid | NA | NA | Pathotroph-Saprotroph |\n",
       "| 3 | Armillaria gallica | NA | NA | Agaricoid | NA | NA | Pathotroph-Saprotroph |\n",
       "| 4 | Armillaria gallica | NA | NA | Agaricoid | NA | NA | Pathotroph-Saprotroph |\n",
       "| 5 | Armillaria gallica | NA | NA | Agaricoid | NA | NA | Pathotroph-Saprotroph |\n",
       "\n"
      ],
      "text/plain": [
       "  speciesMatched     ascus_dehiscence auxinResponsivePromoter_count\n",
       "1 Armillaria gallica NA               NA                           \n",
       "2 Armillaria gallica NA               NA                           \n",
       "3 Armillaria gallica NA               NA                           \n",
       "4 Armillaria gallica NA               NA                           \n",
       "5 Armillaria gallica NA               NA                           \n",
       "  growth_form_fg spore_length spore_width trophic_mode_fg      \n",
       "1 Agaricoid      NA           NA          Pathotroph-Saprotroph\n",
       "2 Agaricoid      NA           NA          Pathotroph-Saprotroph\n",
       "3 Agaricoid      NA           NA          Pathotroph-Saprotroph\n",
       "4 Agaricoid      NA           NA          Pathotroph-Saprotroph\n",
       "5 Agaricoid      NA           NA          Pathotroph-Saprotroph"
      ]
     },
     "metadata": {},
     "output_type": "display_data"
    }
   ],
   "source": [
    "    # Select only the trait we are interested in\n",
    "data_trait=data_base[,c('speciesMatched','ascus_dehiscence','auxinResponsivePromoter_count','growth_form_fg',\n",
    "                        'spore_length','spore_width','trophic_mode_fg')]\n",
    "\n",
    "head(data_trait, 5)"
   ]
  },
  {
   "cell_type": "code",
   "execution_count": 4,
   "id": "ecf39a68-7e6d-4765-b798-f2a5fdd4a867",
   "metadata": {
    "vscode": {
     "languageId": "r"
    }
   },
   "outputs": [
    {
     "data": {
      "text/html": [
       "<style>\n",
       ".list-inline {list-style: none; margin:0; padding: 0}\n",
       ".list-inline>li {display: inline-block}\n",
       ".list-inline>li:not(:last-child)::after {content: \"\\00b7\"; padding: 0 .5ex}\n",
       "</style>\n",
       "<ol class=list-inline><li>1658</li><li>7</li></ol>\n"
      ],
      "text/latex": [
       "\\begin{enumerate*}\n",
       "\\item 1658\n",
       "\\item 7\n",
       "\\end{enumerate*}\n"
      ],
      "text/markdown": [
       "1. 1658\n",
       "2. 7\n",
       "\n",
       "\n"
      ],
      "text/plain": [
       "[1] 1658    7"
      ]
     },
     "metadata": {},
     "output_type": "display_data"
    }
   ],
   "source": [
    "    # Remove any species that doesn't have trait information for at least one trait\n",
    "data_trait_s=data_trait %>% filter(!if_all(colnames(data_trait[,2:7]), is.na))%>%distinct()\n",
    "dim(data_trait_s)"
   ]
  },
  {
   "cell_type": "code",
   "execution_count": 5,
   "id": "c09a53b1-c67b-41c5-a977-b25fcceddfab",
   "metadata": {
    "vscode": {
     "languageId": "r"
    }
   },
   "outputs": [
    {
     "data": {
      "text/html": [
       "<table class=\"dataframe\">\n",
       "<caption>A data.frame: 3 × 12</caption>\n",
       "<thead>\n",
       "\t<tr><th></th><th scope=col>X</th><th scope=col>Organism_uniprot</th><th scope=col>n_prot</th><th scope=col>species_name</th><th scope=col>species_short</th><th scope=col>kingdom</th><th scope=col>phylum</th><th scope=col>class</th><th scope=col>order</th><th scope=col>family</th><th scope=col>genus</th><th scope=col>DFA</th></tr>\n",
       "\t<tr><th></th><th scope=col>&lt;int&gt;</th><th scope=col>&lt;chr&gt;</th><th scope=col>&lt;int&gt;</th><th scope=col>&lt;chr&gt;</th><th scope=col>&lt;chr&gt;</th><th scope=col>&lt;chr&gt;</th><th scope=col>&lt;chr&gt;</th><th scope=col>&lt;chr&gt;</th><th scope=col>&lt;chr&gt;</th><th scope=col>&lt;chr&gt;</th><th scope=col>&lt;chr&gt;</th><th scope=col>&lt;chr&gt;</th></tr>\n",
       "</thead>\n",
       "<tbody>\n",
       "\t<tr><th scope=row>1</th><td>1</td><td>[Candida] intermedia        </td><td>10617</td><td>[Candida] intermedia        </td><td>Candida intermedia       </td><td>Fungi</td><td>Ascomycota</td><td>Saccharomycetes</td><td>Saccharomycetales</td><td>Metschnikowiaceae</td><td>Candida    </td><td>No </td></tr>\n",
       "\t<tr><th scope=row>2</th><td>2</td><td>[Torrubiella] hemipterigena </td><td>11065</td><td>[Torrubiella] hemipterigena </td><td>Torrubiella hemipterigena</td><td>Fungi</td><td>Ascomycota</td><td>Sordariomycetes</td><td>Hypocreales      </td><td>Clavicipitaceae  </td><td>Torrubiella</td><td>Yes</td></tr>\n",
       "\t<tr><th scope=row>3</th><td>3</td><td>Aaosphaeria arxii CBS 175.79</td><td>13815</td><td>Aaosphaeria arxii CBS 175.79</td><td>Aaosphaeria arxii        </td><td>Fungi</td><td>Ascomycota</td><td>Dothideomycetes</td><td>Pleosporales     </td><td>NA               </td><td>Aaosphaeria</td><td>No </td></tr>\n",
       "</tbody>\n",
       "</table>\n"
      ],
      "text/latex": [
       "A data.frame: 3 × 12\n",
       "\\begin{tabular}{r|llllllllllll}\n",
       "  & X & Organism\\_uniprot & n\\_prot & species\\_name & species\\_short & kingdom & phylum & class & order & family & genus & DFA\\\\\n",
       "  & <int> & <chr> & <int> & <chr> & <chr> & <chr> & <chr> & <chr> & <chr> & <chr> & <chr> & <chr>\\\\\n",
       "\\hline\n",
       "\t1 & 1 & {[}Candida{]} intermedia         & 10617 & {[}Candida{]} intermedia         & Candida intermedia        & Fungi & Ascomycota & Saccharomycetes & Saccharomycetales & Metschnikowiaceae & Candida     & No \\\\\n",
       "\t2 & 2 & {[}Torrubiella{]} hemipterigena  & 11065 & {[}Torrubiella{]} hemipterigena  & Torrubiella hemipterigena & Fungi & Ascomycota & Sordariomycetes & Hypocreales       & Clavicipitaceae   & Torrubiella & Yes\\\\\n",
       "\t3 & 3 & Aaosphaeria arxii CBS 175.79 & 13815 & Aaosphaeria arxii CBS 175.79 & Aaosphaeria arxii         & Fungi & Ascomycota & Dothideomycetes & Pleosporales      & NA                & Aaosphaeria & No \\\\\n",
       "\\end{tabular}\n"
      ],
      "text/markdown": [
       "\n",
       "A data.frame: 3 × 12\n",
       "\n",
       "| <!--/--> | X &lt;int&gt; | Organism_uniprot &lt;chr&gt; | n_prot &lt;int&gt; | species_name &lt;chr&gt; | species_short &lt;chr&gt; | kingdom &lt;chr&gt; | phylum &lt;chr&gt; | class &lt;chr&gt; | order &lt;chr&gt; | family &lt;chr&gt; | genus &lt;chr&gt; | DFA &lt;chr&gt; |\n",
       "|---|---|---|---|---|---|---|---|---|---|---|---|---|\n",
       "| 1 | 1 | [Candida] intermedia         | 10617 | [Candida] intermedia         | Candida intermedia        | Fungi | Ascomycota | Saccharomycetes | Saccharomycetales | Metschnikowiaceae | Candida     | No  |\n",
       "| 2 | 2 | [Torrubiella] hemipterigena  | 11065 | [Torrubiella] hemipterigena  | Torrubiella hemipterigena | Fungi | Ascomycota | Sordariomycetes | Hypocreales       | Clavicipitaceae   | Torrubiella | Yes |\n",
       "| 3 | 3 | Aaosphaeria arxii CBS 175.79 | 13815 | Aaosphaeria arxii CBS 175.79 | Aaosphaeria arxii         | Fungi | Ascomycota | Dothideomycetes | Pleosporales      | NA                | Aaosphaeria | No  |\n",
       "\n"
      ],
      "text/plain": [
       "  X Organism_uniprot             n_prot species_name                \n",
       "1 1 [Candida] intermedia         10617  [Candida] intermedia        \n",
       "2 2 [Torrubiella] hemipterigena  11065  [Torrubiella] hemipterigena \n",
       "3 3 Aaosphaeria arxii CBS 175.79 13815  Aaosphaeria arxii CBS 175.79\n",
       "  species_short             kingdom phylum     class          \n",
       "1 Candida intermedia        Fungi   Ascomycota Saccharomycetes\n",
       "2 Torrubiella hemipterigena Fungi   Ascomycota Sordariomycetes\n",
       "3 Aaosphaeria arxii         Fungi   Ascomycota Dothideomycetes\n",
       "  order             family            genus       DFA\n",
       "1 Saccharomycetales Metschnikowiaceae Candida     No \n",
       "2 Hypocreales       Clavicipitaceae   Torrubiella Yes\n",
       "3 Pleosporales      NA                Aaosphaeria No "
      ]
     },
     "metadata": {},
     "output_type": "display_data"
    }
   ],
   "source": [
    "## Import working set with DFA information to look for overlap with FunFun\n",
    " # We added an extra column to the working_set_w_DFA to add the species in the same format than the one in the FunFun database\n",
    "\n",
    "data_set=read.csv('data/step3/working_set_w_DFA_sname.csv')\n",
    "head(data_set,3) # the column $species_short is the species name that matches the format of the FunFun database"
   ]
  },
  {
   "cell_type": "code",
   "execution_count": 6,
   "id": "60cb7f95-08bf-402f-ad77-2c851a099b70",
   "metadata": {
    "vscode": {
     "languageId": "r"
    }
   },
   "outputs": [
    {
     "data": {
      "text/html": [
       "143"
      ],
      "text/latex": [
       "143"
      ],
      "text/markdown": [
       "143"
      ],
      "text/plain": [
       "[1] 143"
      ]
     },
     "metadata": {},
     "output_type": "display_data"
    }
   ],
   "source": [
    "## Obtain species list in working set with at least one trait available\n",
    "spe_inter=intersect(data_trait_s$speciesMatched, data_set$species_short)\n",
    "length(spe_inter)"
   ]
  },
  {
   "cell_type": "code",
   "execution_count": 7,
   "id": "54185368-0333-4db3-8989-d722508499a2",
   "metadata": {
    "vscode": {
     "languageId": "r"
    }
   },
   "outputs": [
    {
     "data": {
      "text/html": [
       "<style>\n",
       ".list-inline {list-style: none; margin:0; padding: 0}\n",
       ".list-inline>li {display: inline-block}\n",
       ".list-inline>li:not(:last-child)::after {content: \"\\00b7\"; padding: 0 .5ex}\n",
       "</style>\n",
       "<ol class=list-inline><li>181</li><li>7</li></ol>\n"
      ],
      "text/latex": [
       "\\begin{enumerate*}\n",
       "\\item 181\n",
       "\\item 7\n",
       "\\end{enumerate*}\n"
      ],
      "text/markdown": [
       "1. 181\n",
       "2. 7\n",
       "\n",
       "\n"
      ],
      "text/plain": [
       "[1] 181   7"
      ]
     },
     "metadata": {},
     "output_type": "display_data"
    },
    {
     "data": {
      "text/html": [
       "<style>\n",
       ".list-inline {list-style: none; margin:0; padding: 0}\n",
       ".list-inline>li {display: inline-block}\n",
       ".list-inline>li:not(:last-child)::after {content: \"\\00b7\"; padding: 0 .5ex}\n",
       "</style>\n",
       "<ol class=list-inline><li>209</li><li>12</li></ol>\n"
      ],
      "text/latex": [
       "\\begin{enumerate*}\n",
       "\\item 209\n",
       "\\item 12\n",
       "\\end{enumerate*}\n"
      ],
      "text/markdown": [
       "1. 209\n",
       "2. 12\n",
       "\n",
       "\n"
      ],
      "text/plain": [
       "[1] 209  12"
      ]
     },
     "metadata": {},
     "output_type": "display_data"
    }
   ],
   "source": [
    "    # subset trait information and DFA information fo species that have both information\n",
    "data_trait_sub=subset(data_trait_s,data_trait_s$speciesMatched%in%spe_inter)\n",
    "\n",
    "data_DFA_sub=subset(data_set, data_set$species_short%in%spe_inter)\n",
    "\n",
    "dim(data_trait_sub)\n",
    "dim(data_DFA_sub)"
   ]
  },
  {
   "cell_type": "code",
   "execution_count": 8,
   "id": "9426e57a-942f-41bf-a773-f767cfb67eb1",
   "metadata": {
    "vscode": {
     "languageId": "r"
    }
   },
   "outputs": [
    {
     "data": {
      "text/html": [
       "<table class=\"dataframe\">\n",
       "<caption>A data.frame: 10 × 2</caption>\n",
       "<thead>\n",
       "\t<tr><th></th><th scope=col>species_short</th><th scope=col>count_str</th></tr>\n",
       "\t<tr><th></th><th scope=col>&lt;chr&gt;</th><th scope=col>&lt;int&gt;</th></tr>\n",
       "</thead>\n",
       "<tbody>\n",
       "\t<tr><th scope=row>1</th><td>Agaricus bisporus      </td><td>1</td></tr>\n",
       "\t<tr><th scope=row>2</th><td>Amanita muscaria       </td><td>1</td></tr>\n",
       "\t<tr><th scope=row>3</th><td>Amanita thiersii       </td><td>1</td></tr>\n",
       "\t<tr><th scope=row>4</th><td>Armillaria gallica     </td><td>1</td></tr>\n",
       "\t<tr><th scope=row>5</th><td>Armillaria ostoyae     </td><td>1</td></tr>\n",
       "\t<tr><th scope=row>6</th><td>Arthrobotrys oligospora</td><td>1</td></tr>\n",
       "\t<tr><th scope=row>7</th><td>Arthroderma benhamiae  </td><td>1</td></tr>\n",
       "\t<tr><th scope=row>8</th><td>Aspergillus clavatus   </td><td>1</td></tr>\n",
       "\t<tr><th scope=row>9</th><td>Aspergillus flavus     </td><td>3</td></tr>\n",
       "\t<tr><th scope=row>10</th><td>Aspergillus fumigatus  </td><td>3</td></tr>\n",
       "</tbody>\n",
       "</table>\n"
      ],
      "text/latex": [
       "A data.frame: 10 × 2\n",
       "\\begin{tabular}{r|ll}\n",
       "  & species\\_short & count\\_str\\\\\n",
       "  & <chr> & <int>\\\\\n",
       "\\hline\n",
       "\t1 & Agaricus bisporus       & 1\\\\\n",
       "\t2 & Amanita muscaria        & 1\\\\\n",
       "\t3 & Amanita thiersii        & 1\\\\\n",
       "\t4 & Armillaria gallica      & 1\\\\\n",
       "\t5 & Armillaria ostoyae      & 1\\\\\n",
       "\t6 & Arthrobotrys oligospora & 1\\\\\n",
       "\t7 & Arthroderma benhamiae   & 1\\\\\n",
       "\t8 & Aspergillus clavatus    & 1\\\\\n",
       "\t9 & Aspergillus flavus      & 3\\\\\n",
       "\t10 & Aspergillus fumigatus   & 3\\\\\n",
       "\\end{tabular}\n"
      ],
      "text/markdown": [
       "\n",
       "A data.frame: 10 × 2\n",
       "\n",
       "| <!--/--> | species_short &lt;chr&gt; | count_str &lt;int&gt; |\n",
       "|---|---|---|\n",
       "| 1 | Agaricus bisporus       | 1 |\n",
       "| 2 | Amanita muscaria        | 1 |\n",
       "| 3 | Amanita thiersii        | 1 |\n",
       "| 4 | Armillaria gallica      | 1 |\n",
       "| 5 | Armillaria ostoyae      | 1 |\n",
       "| 6 | Arthrobotrys oligospora | 1 |\n",
       "| 7 | Arthroderma benhamiae   | 1 |\n",
       "| 8 | Aspergillus clavatus    | 1 |\n",
       "| 9 | Aspergillus flavus      | 3 |\n",
       "| 10 | Aspergillus fumigatus   | 3 |\n",
       "\n"
      ],
      "text/plain": [
       "   species_short           count_str\n",
       "1  Agaricus bisporus       1        \n",
       "2  Amanita muscaria        1        \n",
       "3  Amanita thiersii        1        \n",
       "4  Armillaria gallica      1        \n",
       "5  Armillaria ostoyae      1        \n",
       "6  Arthrobotrys oligospora 1        \n",
       "7  Arthroderma benhamiae   1        \n",
       "8  Aspergillus clavatus    1        \n",
       "9  Aspergillus flavus      3        \n",
       "10 Aspergillus fumigatus   3        "
      ]
     },
     "metadata": {},
     "output_type": "display_data"
    }
   ],
   "source": [
    "## Counting number of strain per species\n",
    "    # Some species in the working set might be associated with multiple strains. We want to identify whcih species are associated with multiple strains and verify if the strains have the same DFA status. If not these species will be removed from the study.\n",
    "\n",
    "nb_strain=data_DFA_sub %>% count(species_short,name='count_str')\n",
    "\n",
    "head(nb_strain,10)\n"
   ]
  },
  {
   "cell_type": "code",
   "execution_count": 9,
   "id": "62f390dc-083c-458c-b7c0-b29c7021e181",
   "metadata": {
    "vscode": {
     "languageId": "r"
    }
   },
   "outputs": [
    {
     "data": {
      "text/html": [
       "<style>\n",
       ".list-inline {list-style: none; margin:0; padding: 0}\n",
       ".list-inline>li {display: inline-block}\n",
       ".list-inline>li:not(:last-child)::after {content: \"\\00b7\"; padding: 0 .5ex}\n",
       "</style>\n",
       "<ol class=list-inline><li>107</li><li>2</li></ol>\n"
      ],
      "text/latex": [
       "\\begin{enumerate*}\n",
       "\\item 107\n",
       "\\item 2\n",
       "\\end{enumerate*}\n"
      ],
      "text/markdown": [
       "1. 107\n",
       "2. 2\n",
       "\n",
       "\n"
      ],
      "text/plain": [
       "[1] 107   2"
      ]
     },
     "metadata": {},
     "output_type": "display_data"
    },
    {
     "data": {
      "text/html": [
       "<style>\n",
       ".list-inline {list-style: none; margin:0; padding: 0}\n",
       ".list-inline>li {display: inline-block}\n",
       ".list-inline>li:not(:last-child)::after {content: \"\\00b7\"; padding: 0 .5ex}\n",
       "</style>\n",
       "<ol class=list-inline><li>36</li><li>2</li></ol>\n"
      ],
      "text/latex": [
       "\\begin{enumerate*}\n",
       "\\item 36\n",
       "\\item 2\n",
       "\\end{enumerate*}\n"
      ],
      "text/markdown": [
       "1. 36\n",
       "2. 2\n",
       "\n",
       "\n"
      ],
      "text/plain": [
       "[1] 36  2"
      ]
     },
     "metadata": {},
     "output_type": "display_data"
    }
   ],
   "source": [
    " # Identify species with 1 or more strains\n",
    "\n",
    "spe_1_str=subset(nb_strain, nb_strain$count_str ==1)\n",
    "spe_mult_str=subset(nb_strain, nb_strain$count_str >1)\n",
    "\n",
    "dim(spe_1_str)\n",
    "dim(spe_mult_str)"
   ]
  },
  {
   "cell_type": "code",
   "execution_count": 10,
   "id": "93fdda75-3bba-4a03-be56-0e694bae75d4",
   "metadata": {
    "vscode": {
     "languageId": "r"
    }
   },
   "outputs": [
    {
     "data": {
      "text/html": [
       "<table class=\"dataframe\">\n",
       "<caption>A data.frame: 36 × 2</caption>\n",
       "<thead>\n",
       "\t<tr><th scope=col>species</th><th scope=col>DFA_stat</th></tr>\n",
       "\t<tr><th scope=col>&lt;chr&gt;</th><th scope=col>&lt;chr&gt;</th></tr>\n",
       "</thead>\n",
       "<tbody>\n",
       "\t<tr><td>Aspergillus flavus           </td><td>No                  </td></tr>\n",
       "\t<tr><td>Aspergillus fumigatus        </td><td>different DFA status</td></tr>\n",
       "\t<tr><td>Aspergillus kawachii         </td><td>No                  </td></tr>\n",
       "\t<tr><td>Aspergillus niger            </td><td>different DFA status</td></tr>\n",
       "\t<tr><td>Aureobasidium pullulans      </td><td>different DFA status</td></tr>\n",
       "\t<tr><td>Beauveria bassiana           </td><td>No                  </td></tr>\n",
       "\t<tr><td>Blumeria graminis            </td><td>different DFA status</td></tr>\n",
       "\t<tr><td>Botryotinia fuckeliana       </td><td>different DFA status</td></tr>\n",
       "\t<tr><td>Coccidioides immitis         </td><td>different DFA status</td></tr>\n",
       "\t<tr><td>Colletotrichum higginsianum  </td><td>No                  </td></tr>\n",
       "\t<tr><td>Cordyceps militaris          </td><td>No                  </td></tr>\n",
       "\t<tr><td>Cryptococcus neoformans      </td><td>different DFA status</td></tr>\n",
       "\t<tr><td>Dichomitus squalens          </td><td>No                  </td></tr>\n",
       "\t<tr><td>Fusarium oxysporum           </td><td>No                  </td></tr>\n",
       "\t<tr><td>Gibberella fujikuroi         </td><td>No                  </td></tr>\n",
       "\t<tr><td>Glarea lozoyensis            </td><td>different DFA status</td></tr>\n",
       "\t<tr><td>Metarhizium robertsii        </td><td>No                  </td></tr>\n",
       "\t<tr><td>Neurospora crassa            </td><td>No                  </td></tr>\n",
       "\t<tr><td>Neurospora tetrasperma       </td><td>No                  </td></tr>\n",
       "\t<tr><td>Paracoccidioides brasiliensis</td><td>different DFA status</td></tr>\n",
       "\t<tr><td>Penicillium digitatum        </td><td>different DFA status</td></tr>\n",
       "\t<tr><td>Puccinia graminis            </td><td>Yes                 </td></tr>\n",
       "\t<tr><td>Puccinia striiformis         </td><td>No                  </td></tr>\n",
       "\t<tr><td>Pyrenophora teres            </td><td>No                  </td></tr>\n",
       "\t<tr><td>Pyrenophora tritici-repentis </td><td>different DFA status</td></tr>\n",
       "\t<tr><td>Rhizophagus irregularis      </td><td>different DFA status</td></tr>\n",
       "\t<tr><td>Rhizopus microsporus         </td><td>No                  </td></tr>\n",
       "\t<tr><td>Rhodotorula toruloides       </td><td>No                  </td></tr>\n",
       "\t<tr><td>Saccharomyces cerevisiae     </td><td>No                  </td></tr>\n",
       "\t<tr><td>Serpula lacrymans            </td><td>different DFA status</td></tr>\n",
       "\t<tr><td>Thanatephorus cucumeris      </td><td>Yes                 </td></tr>\n",
       "\t<tr><td>Trichoderma asperellum       </td><td>No                  </td></tr>\n",
       "\t<tr><td>Trichoderma harzianum        </td><td>No                  </td></tr>\n",
       "\t<tr><td>Trichophyton rubrum          </td><td>No                  </td></tr>\n",
       "\t<tr><td>Verticillium dahliae         </td><td>No                  </td></tr>\n",
       "\t<tr><td>Yarrowia lipolytica          </td><td>No                  </td></tr>\n",
       "</tbody>\n",
       "</table>\n"
      ],
      "text/latex": [
       "A data.frame: 36 × 2\n",
       "\\begin{tabular}{ll}\n",
       " species & DFA\\_stat\\\\\n",
       " <chr> & <chr>\\\\\n",
       "\\hline\n",
       "\t Aspergillus flavus            & No                  \\\\\n",
       "\t Aspergillus fumigatus         & different DFA status\\\\\n",
       "\t Aspergillus kawachii          & No                  \\\\\n",
       "\t Aspergillus niger             & different DFA status\\\\\n",
       "\t Aureobasidium pullulans       & different DFA status\\\\\n",
       "\t Beauveria bassiana            & No                  \\\\\n",
       "\t Blumeria graminis             & different DFA status\\\\\n",
       "\t Botryotinia fuckeliana        & different DFA status\\\\\n",
       "\t Coccidioides immitis          & different DFA status\\\\\n",
       "\t Colletotrichum higginsianum   & No                  \\\\\n",
       "\t Cordyceps militaris           & No                  \\\\\n",
       "\t Cryptococcus neoformans       & different DFA status\\\\\n",
       "\t Dichomitus squalens           & No                  \\\\\n",
       "\t Fusarium oxysporum            & No                  \\\\\n",
       "\t Gibberella fujikuroi          & No                  \\\\\n",
       "\t Glarea lozoyensis             & different DFA status\\\\\n",
       "\t Metarhizium robertsii         & No                  \\\\\n",
       "\t Neurospora crassa             & No                  \\\\\n",
       "\t Neurospora tetrasperma        & No                  \\\\\n",
       "\t Paracoccidioides brasiliensis & different DFA status\\\\\n",
       "\t Penicillium digitatum         & different DFA status\\\\\n",
       "\t Puccinia graminis             & Yes                 \\\\\n",
       "\t Puccinia striiformis          & No                  \\\\\n",
       "\t Pyrenophora teres             & No                  \\\\\n",
       "\t Pyrenophora tritici-repentis  & different DFA status\\\\\n",
       "\t Rhizophagus irregularis       & different DFA status\\\\\n",
       "\t Rhizopus microsporus          & No                  \\\\\n",
       "\t Rhodotorula toruloides        & No                  \\\\\n",
       "\t Saccharomyces cerevisiae      & No                  \\\\\n",
       "\t Serpula lacrymans             & different DFA status\\\\\n",
       "\t Thanatephorus cucumeris       & Yes                 \\\\\n",
       "\t Trichoderma asperellum        & No                  \\\\\n",
       "\t Trichoderma harzianum         & No                  \\\\\n",
       "\t Trichophyton rubrum           & No                  \\\\\n",
       "\t Verticillium dahliae          & No                  \\\\\n",
       "\t Yarrowia lipolytica           & No                  \\\\\n",
       "\\end{tabular}\n"
      ],
      "text/markdown": [
       "\n",
       "A data.frame: 36 × 2\n",
       "\n",
       "| species &lt;chr&gt; | DFA_stat &lt;chr&gt; |\n",
       "|---|---|\n",
       "| Aspergillus flavus            | No                   |\n",
       "| Aspergillus fumigatus         | different DFA status |\n",
       "| Aspergillus kawachii          | No                   |\n",
       "| Aspergillus niger             | different DFA status |\n",
       "| Aureobasidium pullulans       | different DFA status |\n",
       "| Beauveria bassiana            | No                   |\n",
       "| Blumeria graminis             | different DFA status |\n",
       "| Botryotinia fuckeliana        | different DFA status |\n",
       "| Coccidioides immitis          | different DFA status |\n",
       "| Colletotrichum higginsianum   | No                   |\n",
       "| Cordyceps militaris           | No                   |\n",
       "| Cryptococcus neoformans       | different DFA status |\n",
       "| Dichomitus squalens           | No                   |\n",
       "| Fusarium oxysporum            | No                   |\n",
       "| Gibberella fujikuroi          | No                   |\n",
       "| Glarea lozoyensis             | different DFA status |\n",
       "| Metarhizium robertsii         | No                   |\n",
       "| Neurospora crassa             | No                   |\n",
       "| Neurospora tetrasperma        | No                   |\n",
       "| Paracoccidioides brasiliensis | different DFA status |\n",
       "| Penicillium digitatum         | different DFA status |\n",
       "| Puccinia graminis             | Yes                  |\n",
       "| Puccinia striiformis          | No                   |\n",
       "| Pyrenophora teres             | No                   |\n",
       "| Pyrenophora tritici-repentis  | different DFA status |\n",
       "| Rhizophagus irregularis       | different DFA status |\n",
       "| Rhizopus microsporus          | No                   |\n",
       "| Rhodotorula toruloides        | No                   |\n",
       "| Saccharomyces cerevisiae      | No                   |\n",
       "| Serpula lacrymans             | different DFA status |\n",
       "| Thanatephorus cucumeris       | Yes                  |\n",
       "| Trichoderma asperellum        | No                   |\n",
       "| Trichoderma harzianum         | No                   |\n",
       "| Trichophyton rubrum           | No                   |\n",
       "| Verticillium dahliae          | No                   |\n",
       "| Yarrowia lipolytica           | No                   |\n",
       "\n"
      ],
      "text/plain": [
       "   species                       DFA_stat            \n",
       "1  Aspergillus flavus            No                  \n",
       "2  Aspergillus fumigatus         different DFA status\n",
       "3  Aspergillus kawachii          No                  \n",
       "4  Aspergillus niger             different DFA status\n",
       "5  Aureobasidium pullulans       different DFA status\n",
       "6  Beauveria bassiana            No                  \n",
       "7  Blumeria graminis             different DFA status\n",
       "8  Botryotinia fuckeliana        different DFA status\n",
       "9  Coccidioides immitis          different DFA status\n",
       "10 Colletotrichum higginsianum   No                  \n",
       "11 Cordyceps militaris           No                  \n",
       "12 Cryptococcus neoformans       different DFA status\n",
       "13 Dichomitus squalens           No                  \n",
       "14 Fusarium oxysporum            No                  \n",
       "15 Gibberella fujikuroi          No                  \n",
       "16 Glarea lozoyensis             different DFA status\n",
       "17 Metarhizium robertsii         No                  \n",
       "18 Neurospora crassa             No                  \n",
       "19 Neurospora tetrasperma        No                  \n",
       "20 Paracoccidioides brasiliensis different DFA status\n",
       "21 Penicillium digitatum         different DFA status\n",
       "22 Puccinia graminis             Yes                 \n",
       "23 Puccinia striiformis          No                  \n",
       "24 Pyrenophora teres             No                  \n",
       "25 Pyrenophora tritici-repentis  different DFA status\n",
       "26 Rhizophagus irregularis       different DFA status\n",
       "27 Rhizopus microsporus          No                  \n",
       "28 Rhodotorula toruloides        No                  \n",
       "29 Saccharomyces cerevisiae      No                  \n",
       "30 Serpula lacrymans             different DFA status\n",
       "31 Thanatephorus cucumeris       Yes                 \n",
       "32 Trichoderma asperellum        No                  \n",
       "33 Trichoderma harzianum         No                  \n",
       "34 Trichophyton rubrum           No                  \n",
       "35 Verticillium dahliae          No                  \n",
       "36 Yarrowia lipolytica           No                  "
      ]
     },
     "metadata": {},
     "output_type": "display_data"
    }
   ],
   "source": [
    " # Checking DFA status for the strains of the same species\n",
    " # We create a dataframne that indicates for each species with multiple strain if the DFA status of all the strain is the same or not - if the status is the same it returns 'Yes' or 'No' to describe if the species possess or don't possess DFA\n",
    "\n",
    "DFA_mult_strain=subset(data_DFA_sub, data_DFA_sub$species_short%in%spe_mult_str$species_short)\n",
    "\n",
    "spe_mult=c(unique(DFA_mult_strain$species_short)) # get the lst of species name with multiple strains\n",
    "\n",
    "data_DFA_status=data.frame() # initiate empty dataframe \n",
    "\n",
    "for (i in 1:length(spe_mult)){\n",
    "  spe=spe_mult[i]\n",
    "  dat=subset(DFA_mult_strain, DFA_mult_strain$species_short==spe)\n",
    "  vec=c(dat$DFA)\n",
    "  if(length(unique(vec))==1){\n",
    "    stat=unique(vec)\n",
    "  } else {\n",
    "    stat='different DFA status'\n",
    "  }\n",
    "  \n",
    "  df_temp=data.frame('species'=spe,\n",
    "                     'DFA_stat'=stat)\n",
    "  data_DFA_status=rbind(data_DFA_status,df_temp)\n",
    "  \n",
    "}\n",
    "\n",
    "data_DFA_status"
   ]
  },
  {
   "cell_type": "code",
   "execution_count": 11,
   "id": "fe7221cf-f73e-45fe-8660-70274ef50709",
   "metadata": {
    "vscode": {
     "languageId": "r"
    }
   },
   "outputs": [
    {
     "data": {
      "text/html": [
       "<style>\n",
       ".list-inline {list-style: none; margin:0; padding: 0}\n",
       ".list-inline>li {display: inline-block}\n",
       ".list-inline>li:not(:last-child)::after {content: \"\\00b7\"; padding: 0 .5ex}\n",
       "</style>\n",
       "<ol class=list-inline><li>'Aspergillus flavus'</li><li>'Aspergillus kawachii'</li><li>'Beauveria bassiana'</li><li>'Colletotrichum higginsianum'</li><li>'Cordyceps militaris'</li><li>'Dichomitus squalens'</li><li>'Fusarium oxysporum'</li><li>'Gibberella fujikuroi'</li><li>'Metarhizium robertsii'</li><li>'Neurospora crassa'</li><li>'Neurospora tetrasperma'</li><li>'Puccinia graminis'</li><li>'Puccinia striiformis'</li><li>'Pyrenophora teres'</li><li>'Rhizopus microsporus'</li><li>'Rhodotorula toruloides'</li><li>'Saccharomyces cerevisiae'</li><li>'Thanatephorus cucumeris'</li><li>'Trichoderma asperellum'</li><li>'Trichoderma harzianum'</li><li>'Trichophyton rubrum'</li><li>'Verticillium dahliae'</li><li>'Yarrowia lipolytica'</li><li>'Agaricus bisporus'</li><li>'Amanita muscaria'</li><li>'Amanita thiersii'</li><li>'Armillaria gallica'</li><li>'Armillaria ostoyae'</li><li>'Arthrobotrys oligospora'</li><li>'Arthroderma benhamiae'</li><li>'Aspergillus clavatus'</li><li>'Aspergillus ruber'</li><li>'Aspergillus terreus'</li><li>'Bimuria novae-zelandiae'</li><li>'Bionectria ochroleuca'</li><li>'Bipolaris oryzae'</li><li>'Bipolaris victoriae'</li><li>'Blastomyces dermatitidis'</li><li>'Byssothecium circinans'</li><li>'Cadophora sp.'</li><li>'Ceratocystis fimbriata'</li><li>'Ceriporiopsis subvermispora'</li><li>'Chaetomium globosum'</li><li>'Choanephora cucurbitarum'</li><li>'Claviceps purpurea'</li><li>'Coemansia reversa'</li><li>'Colletotrichum gloeosporioides'</li><li>'Colletotrichum graminicola'</li><li>'Conidiobolus coronatus'</li><li>'Coniophora puteana'</li><li>'Coprinellus micaceus'</li><li>'Coprinopsis cinerea'</li><li>'Cyberlindnera jadinii'</li><li>'Cylindrobasidium torrendii'</li><li>'Dactylellina haptotyla'</li><li>'Debaryomyces hansenii'</li><li>'Diversispora epigaea'</li><li>'Dothistroma septosporum'</li><li>'Endogone sp.'</li><li>'Epicoccum nigrum'</li><li>'Eutypa lata'</li><li>'Exophiala spinifera'</li><li>'Exophiala xenobiotica'</li><li>'Exserohilum turcicum'</li><li>'Fibroporia radiculosa'</li><li>'Fistulina hepatica'</li><li>'Fusarium culmorum'</li><li>'Galerina marginata'</li><li>'Gibberella zeae'</li><li>'Gigaspora rosea'</li><li>'Gloeophyllum trabeum'</li><li>'Grifola frondosa'</li><li>'Grosmannia clavigera'</li><li>'Gymnopus androsaceus'</li><li>'Hebeloma cylindrosporum'</li><li>'Hydnomerulius pinastri'</li><li>'Jaapia argillacea'</li><li>'Laccaria amethystina'</li><li>'Laccaria bicolor'</li><li>'Lasallia pustulata'</li><li>'Lichtheimia corymbifera'</li><li>'Macrophomina phaseolina'</li><li>'Malassezia sympodialis'</li><li>'Metarhizium acridum'</li><li>'Microdochium bolleyi'</li><li>'Mixia osmundae'</li><li>'Monilinia laxa'</li><li>'Moniliophthora perniciosa'</li><li>'Oidiodendron maius'</li><li>'Paxillus involutus'</li><li>'Paxillus rubicundulus'</li><li>'Penicillium chrysogenum'</li><li>'Penicillium oxalicum'</li><li>'Phaeoacremonium minimum'</li><li>'Phaeosphaeria nodorum'</li><li>'Phanerochaete carnosa'</li><li>'Phlebiopsis gigantea'</li><li>'Phycomyces blakesleeanus'</li><li>'Pisolithus microcarpus'</li><li>'Pleomassaria siparia'</li><li>'Pleurotus ostreatus'</li><li>'Pseudozyma hubeiensis'</li><li>'Pyronema omphalodes'</li><li>'Rhizophagus clarus'</li><li>'Rhizopus stolonifer'</li><li>'Rozella allomycis'</li><li>'Schizophyllum commune'</li><li>'Scleroderma citrinum'</li><li>'Sclerotinia sclerotiorum'</li><li>'Serendipita indica'</li><li>'Serendipita vermifera'</li><li>'Sphaerobolus stellatus'</li><li>'Sphaerulina musiva'</li><li>'Suillus luteus'</li><li>'Talaromyces pinophilus'</li><li>'Tilletiaria anomala'</li><li>'Tolypocladium capitatum'</li><li>'Tolypocladium ophioglossoides'</li><li>'Trematosphaeria pertusa'</li><li>'Tremella mesenterica'</li><li>'Trichophyton verrucosum'</li><li>'Tuber melanosporum'</li><li>'Tulasnella calospora'</li><li>'Uncinocarpus reesii'</li><li>'Ustilago maydis'</li><li>'Verticillium alfalfae'</li><li>'Wallemia ichthyophaga'</li><li>'Wolfiporia cocos'</li><li>'Xylaria hypoxylon'</li><li>'Zygosaccharomyces rouxii'</li></ol>\n"
      ],
      "text/latex": [
       "\\begin{enumerate*}\n",
       "\\item 'Aspergillus flavus'\n",
       "\\item 'Aspergillus kawachii'\n",
       "\\item 'Beauveria bassiana'\n",
       "\\item 'Colletotrichum higginsianum'\n",
       "\\item 'Cordyceps militaris'\n",
       "\\item 'Dichomitus squalens'\n",
       "\\item 'Fusarium oxysporum'\n",
       "\\item 'Gibberella fujikuroi'\n",
       "\\item 'Metarhizium robertsii'\n",
       "\\item 'Neurospora crassa'\n",
       "\\item 'Neurospora tetrasperma'\n",
       "\\item 'Puccinia graminis'\n",
       "\\item 'Puccinia striiformis'\n",
       "\\item 'Pyrenophora teres'\n",
       "\\item 'Rhizopus microsporus'\n",
       "\\item 'Rhodotorula toruloides'\n",
       "\\item 'Saccharomyces cerevisiae'\n",
       "\\item 'Thanatephorus cucumeris'\n",
       "\\item 'Trichoderma asperellum'\n",
       "\\item 'Trichoderma harzianum'\n",
       "\\item 'Trichophyton rubrum'\n",
       "\\item 'Verticillium dahliae'\n",
       "\\item 'Yarrowia lipolytica'\n",
       "\\item 'Agaricus bisporus'\n",
       "\\item 'Amanita muscaria'\n",
       "\\item 'Amanita thiersii'\n",
       "\\item 'Armillaria gallica'\n",
       "\\item 'Armillaria ostoyae'\n",
       "\\item 'Arthrobotrys oligospora'\n",
       "\\item 'Arthroderma benhamiae'\n",
       "\\item 'Aspergillus clavatus'\n",
       "\\item 'Aspergillus ruber'\n",
       "\\item 'Aspergillus terreus'\n",
       "\\item 'Bimuria novae-zelandiae'\n",
       "\\item 'Bionectria ochroleuca'\n",
       "\\item 'Bipolaris oryzae'\n",
       "\\item 'Bipolaris victoriae'\n",
       "\\item 'Blastomyces dermatitidis'\n",
       "\\item 'Byssothecium circinans'\n",
       "\\item 'Cadophora sp.'\n",
       "\\item 'Ceratocystis fimbriata'\n",
       "\\item 'Ceriporiopsis subvermispora'\n",
       "\\item 'Chaetomium globosum'\n",
       "\\item 'Choanephora cucurbitarum'\n",
       "\\item 'Claviceps purpurea'\n",
       "\\item 'Coemansia reversa'\n",
       "\\item 'Colletotrichum gloeosporioides'\n",
       "\\item 'Colletotrichum graminicola'\n",
       "\\item 'Conidiobolus coronatus'\n",
       "\\item 'Coniophora puteana'\n",
       "\\item 'Coprinellus micaceus'\n",
       "\\item 'Coprinopsis cinerea'\n",
       "\\item 'Cyberlindnera jadinii'\n",
       "\\item 'Cylindrobasidium torrendii'\n",
       "\\item 'Dactylellina haptotyla'\n",
       "\\item 'Debaryomyces hansenii'\n",
       "\\item 'Diversispora epigaea'\n",
       "\\item 'Dothistroma septosporum'\n",
       "\\item 'Endogone sp.'\n",
       "\\item 'Epicoccum nigrum'\n",
       "\\item 'Eutypa lata'\n",
       "\\item 'Exophiala spinifera'\n",
       "\\item 'Exophiala xenobiotica'\n",
       "\\item 'Exserohilum turcicum'\n",
       "\\item 'Fibroporia radiculosa'\n",
       "\\item 'Fistulina hepatica'\n",
       "\\item 'Fusarium culmorum'\n",
       "\\item 'Galerina marginata'\n",
       "\\item 'Gibberella zeae'\n",
       "\\item 'Gigaspora rosea'\n",
       "\\item 'Gloeophyllum trabeum'\n",
       "\\item 'Grifola frondosa'\n",
       "\\item 'Grosmannia clavigera'\n",
       "\\item 'Gymnopus androsaceus'\n",
       "\\item 'Hebeloma cylindrosporum'\n",
       "\\item 'Hydnomerulius pinastri'\n",
       "\\item 'Jaapia argillacea'\n",
       "\\item 'Laccaria amethystina'\n",
       "\\item 'Laccaria bicolor'\n",
       "\\item 'Lasallia pustulata'\n",
       "\\item 'Lichtheimia corymbifera'\n",
       "\\item 'Macrophomina phaseolina'\n",
       "\\item 'Malassezia sympodialis'\n",
       "\\item 'Metarhizium acridum'\n",
       "\\item 'Microdochium bolleyi'\n",
       "\\item 'Mixia osmundae'\n",
       "\\item 'Monilinia laxa'\n",
       "\\item 'Moniliophthora perniciosa'\n",
       "\\item 'Oidiodendron maius'\n",
       "\\item 'Paxillus involutus'\n",
       "\\item 'Paxillus rubicundulus'\n",
       "\\item 'Penicillium chrysogenum'\n",
       "\\item 'Penicillium oxalicum'\n",
       "\\item 'Phaeoacremonium minimum'\n",
       "\\item 'Phaeosphaeria nodorum'\n",
       "\\item 'Phanerochaete carnosa'\n",
       "\\item 'Phlebiopsis gigantea'\n",
       "\\item 'Phycomyces blakesleeanus'\n",
       "\\item 'Pisolithus microcarpus'\n",
       "\\item 'Pleomassaria siparia'\n",
       "\\item 'Pleurotus ostreatus'\n",
       "\\item 'Pseudozyma hubeiensis'\n",
       "\\item 'Pyronema omphalodes'\n",
       "\\item 'Rhizophagus clarus'\n",
       "\\item 'Rhizopus stolonifer'\n",
       "\\item 'Rozella allomycis'\n",
       "\\item 'Schizophyllum commune'\n",
       "\\item 'Scleroderma citrinum'\n",
       "\\item 'Sclerotinia sclerotiorum'\n",
       "\\item 'Serendipita indica'\n",
       "\\item 'Serendipita vermifera'\n",
       "\\item 'Sphaerobolus stellatus'\n",
       "\\item 'Sphaerulina musiva'\n",
       "\\item 'Suillus luteus'\n",
       "\\item 'Talaromyces pinophilus'\n",
       "\\item 'Tilletiaria anomala'\n",
       "\\item 'Tolypocladium capitatum'\n",
       "\\item 'Tolypocladium ophioglossoides'\n",
       "\\item 'Trematosphaeria pertusa'\n",
       "\\item 'Tremella mesenterica'\n",
       "\\item 'Trichophyton verrucosum'\n",
       "\\item 'Tuber melanosporum'\n",
       "\\item 'Tulasnella calospora'\n",
       "\\item 'Uncinocarpus reesii'\n",
       "\\item 'Ustilago maydis'\n",
       "\\item 'Verticillium alfalfae'\n",
       "\\item 'Wallemia ichthyophaga'\n",
       "\\item 'Wolfiporia cocos'\n",
       "\\item 'Xylaria hypoxylon'\n",
       "\\item 'Zygosaccharomyces rouxii'\n",
       "\\end{enumerate*}\n"
      ],
      "text/markdown": [
       "1. 'Aspergillus flavus'\n",
       "2. 'Aspergillus kawachii'\n",
       "3. 'Beauveria bassiana'\n",
       "4. 'Colletotrichum higginsianum'\n",
       "5. 'Cordyceps militaris'\n",
       "6. 'Dichomitus squalens'\n",
       "7. 'Fusarium oxysporum'\n",
       "8. 'Gibberella fujikuroi'\n",
       "9. 'Metarhizium robertsii'\n",
       "10. 'Neurospora crassa'\n",
       "11. 'Neurospora tetrasperma'\n",
       "12. 'Puccinia graminis'\n",
       "13. 'Puccinia striiformis'\n",
       "14. 'Pyrenophora teres'\n",
       "15. 'Rhizopus microsporus'\n",
       "16. 'Rhodotorula toruloides'\n",
       "17. 'Saccharomyces cerevisiae'\n",
       "18. 'Thanatephorus cucumeris'\n",
       "19. 'Trichoderma asperellum'\n",
       "20. 'Trichoderma harzianum'\n",
       "21. 'Trichophyton rubrum'\n",
       "22. 'Verticillium dahliae'\n",
       "23. 'Yarrowia lipolytica'\n",
       "24. 'Agaricus bisporus'\n",
       "25. 'Amanita muscaria'\n",
       "26. 'Amanita thiersii'\n",
       "27. 'Armillaria gallica'\n",
       "28. 'Armillaria ostoyae'\n",
       "29. 'Arthrobotrys oligospora'\n",
       "30. 'Arthroderma benhamiae'\n",
       "31. 'Aspergillus clavatus'\n",
       "32. 'Aspergillus ruber'\n",
       "33. 'Aspergillus terreus'\n",
       "34. 'Bimuria novae-zelandiae'\n",
       "35. 'Bionectria ochroleuca'\n",
       "36. 'Bipolaris oryzae'\n",
       "37. 'Bipolaris victoriae'\n",
       "38. 'Blastomyces dermatitidis'\n",
       "39. 'Byssothecium circinans'\n",
       "40. 'Cadophora sp.'\n",
       "41. 'Ceratocystis fimbriata'\n",
       "42. 'Ceriporiopsis subvermispora'\n",
       "43. 'Chaetomium globosum'\n",
       "44. 'Choanephora cucurbitarum'\n",
       "45. 'Claviceps purpurea'\n",
       "46. 'Coemansia reversa'\n",
       "47. 'Colletotrichum gloeosporioides'\n",
       "48. 'Colletotrichum graminicola'\n",
       "49. 'Conidiobolus coronatus'\n",
       "50. 'Coniophora puteana'\n",
       "51. 'Coprinellus micaceus'\n",
       "52. 'Coprinopsis cinerea'\n",
       "53. 'Cyberlindnera jadinii'\n",
       "54. 'Cylindrobasidium torrendii'\n",
       "55. 'Dactylellina haptotyla'\n",
       "56. 'Debaryomyces hansenii'\n",
       "57. 'Diversispora epigaea'\n",
       "58. 'Dothistroma septosporum'\n",
       "59. 'Endogone sp.'\n",
       "60. 'Epicoccum nigrum'\n",
       "61. 'Eutypa lata'\n",
       "62. 'Exophiala spinifera'\n",
       "63. 'Exophiala xenobiotica'\n",
       "64. 'Exserohilum turcicum'\n",
       "65. 'Fibroporia radiculosa'\n",
       "66. 'Fistulina hepatica'\n",
       "67. 'Fusarium culmorum'\n",
       "68. 'Galerina marginata'\n",
       "69. 'Gibberella zeae'\n",
       "70. 'Gigaspora rosea'\n",
       "71. 'Gloeophyllum trabeum'\n",
       "72. 'Grifola frondosa'\n",
       "73. 'Grosmannia clavigera'\n",
       "74. 'Gymnopus androsaceus'\n",
       "75. 'Hebeloma cylindrosporum'\n",
       "76. 'Hydnomerulius pinastri'\n",
       "77. 'Jaapia argillacea'\n",
       "78. 'Laccaria amethystina'\n",
       "79. 'Laccaria bicolor'\n",
       "80. 'Lasallia pustulata'\n",
       "81. 'Lichtheimia corymbifera'\n",
       "82. 'Macrophomina phaseolina'\n",
       "83. 'Malassezia sympodialis'\n",
       "84. 'Metarhizium acridum'\n",
       "85. 'Microdochium bolleyi'\n",
       "86. 'Mixia osmundae'\n",
       "87. 'Monilinia laxa'\n",
       "88. 'Moniliophthora perniciosa'\n",
       "89. 'Oidiodendron maius'\n",
       "90. 'Paxillus involutus'\n",
       "91. 'Paxillus rubicundulus'\n",
       "92. 'Penicillium chrysogenum'\n",
       "93. 'Penicillium oxalicum'\n",
       "94. 'Phaeoacremonium minimum'\n",
       "95. 'Phaeosphaeria nodorum'\n",
       "96. 'Phanerochaete carnosa'\n",
       "97. 'Phlebiopsis gigantea'\n",
       "98. 'Phycomyces blakesleeanus'\n",
       "99. 'Pisolithus microcarpus'\n",
       "100. 'Pleomassaria siparia'\n",
       "101. 'Pleurotus ostreatus'\n",
       "102. 'Pseudozyma hubeiensis'\n",
       "103. 'Pyronema omphalodes'\n",
       "104. 'Rhizophagus clarus'\n",
       "105. 'Rhizopus stolonifer'\n",
       "106. 'Rozella allomycis'\n",
       "107. 'Schizophyllum commune'\n",
       "108. 'Scleroderma citrinum'\n",
       "109. 'Sclerotinia sclerotiorum'\n",
       "110. 'Serendipita indica'\n",
       "111. 'Serendipita vermifera'\n",
       "112. 'Sphaerobolus stellatus'\n",
       "113. 'Sphaerulina musiva'\n",
       "114. 'Suillus luteus'\n",
       "115. 'Talaromyces pinophilus'\n",
       "116. 'Tilletiaria anomala'\n",
       "117. 'Tolypocladium capitatum'\n",
       "118. 'Tolypocladium ophioglossoides'\n",
       "119. 'Trematosphaeria pertusa'\n",
       "120. 'Tremella mesenterica'\n",
       "121. 'Trichophyton verrucosum'\n",
       "122. 'Tuber melanosporum'\n",
       "123. 'Tulasnella calospora'\n",
       "124. 'Uncinocarpus reesii'\n",
       "125. 'Ustilago maydis'\n",
       "126. 'Verticillium alfalfae'\n",
       "127. 'Wallemia ichthyophaga'\n",
       "128. 'Wolfiporia cocos'\n",
       "129. 'Xylaria hypoxylon'\n",
       "130. 'Zygosaccharomyces rouxii'\n",
       "\n",
       "\n"
      ],
      "text/plain": [
       "  [1] \"Aspergillus flavus\"             \"Aspergillus kawachii\"          \n",
       "  [3] \"Beauveria bassiana\"             \"Colletotrichum higginsianum\"   \n",
       "  [5] \"Cordyceps militaris\"            \"Dichomitus squalens\"           \n",
       "  [7] \"Fusarium oxysporum\"             \"Gibberella fujikuroi\"          \n",
       "  [9] \"Metarhizium robertsii\"          \"Neurospora crassa\"             \n",
       " [11] \"Neurospora tetrasperma\"         \"Puccinia graminis\"             \n",
       " [13] \"Puccinia striiformis\"           \"Pyrenophora teres\"             \n",
       " [15] \"Rhizopus microsporus\"           \"Rhodotorula toruloides\"        \n",
       " [17] \"Saccharomyces cerevisiae\"       \"Thanatephorus cucumeris\"       \n",
       " [19] \"Trichoderma asperellum\"         \"Trichoderma harzianum\"         \n",
       " [21] \"Trichophyton rubrum\"            \"Verticillium dahliae\"          \n",
       " [23] \"Yarrowia lipolytica\"            \"Agaricus bisporus\"             \n",
       " [25] \"Amanita muscaria\"               \"Amanita thiersii\"              \n",
       " [27] \"Armillaria gallica\"             \"Armillaria ostoyae\"            \n",
       " [29] \"Arthrobotrys oligospora\"        \"Arthroderma benhamiae\"         \n",
       " [31] \"Aspergillus clavatus\"           \"Aspergillus ruber\"             \n",
       " [33] \"Aspergillus terreus\"            \"Bimuria novae-zelandiae\"       \n",
       " [35] \"Bionectria ochroleuca\"          \"Bipolaris oryzae\"              \n",
       " [37] \"Bipolaris victoriae\"            \"Blastomyces dermatitidis\"      \n",
       " [39] \"Byssothecium circinans\"         \"Cadophora sp.\"                 \n",
       " [41] \"Ceratocystis fimbriata\"         \"Ceriporiopsis subvermispora\"   \n",
       " [43] \"Chaetomium globosum\"            \"Choanephora cucurbitarum\"      \n",
       " [45] \"Claviceps purpurea\"             \"Coemansia reversa\"             \n",
       " [47] \"Colletotrichum gloeosporioides\" \"Colletotrichum graminicola\"    \n",
       " [49] \"Conidiobolus coronatus\"         \"Coniophora puteana\"            \n",
       " [51] \"Coprinellus micaceus\"           \"Coprinopsis cinerea\"           \n",
       " [53] \"Cyberlindnera jadinii\"          \"Cylindrobasidium torrendii\"    \n",
       " [55] \"Dactylellina haptotyla\"         \"Debaryomyces hansenii\"         \n",
       " [57] \"Diversispora epigaea\"           \"Dothistroma septosporum\"       \n",
       " [59] \"Endogone sp.\"                   \"Epicoccum nigrum\"              \n",
       " [61] \"Eutypa lata\"                    \"Exophiala spinifera\"           \n",
       " [63] \"Exophiala xenobiotica\"          \"Exserohilum turcicum\"          \n",
       " [65] \"Fibroporia radiculosa\"          \"Fistulina hepatica\"            \n",
       " [67] \"Fusarium culmorum\"              \"Galerina marginata\"            \n",
       " [69] \"Gibberella zeae\"                \"Gigaspora rosea\"               \n",
       " [71] \"Gloeophyllum trabeum\"           \"Grifola frondosa\"              \n",
       " [73] \"Grosmannia clavigera\"           \"Gymnopus androsaceus\"          \n",
       " [75] \"Hebeloma cylindrosporum\"        \"Hydnomerulius pinastri\"        \n",
       " [77] \"Jaapia argillacea\"              \"Laccaria amethystina\"          \n",
       " [79] \"Laccaria bicolor\"               \"Lasallia pustulata\"            \n",
       " [81] \"Lichtheimia corymbifera\"        \"Macrophomina phaseolina\"       \n",
       " [83] \"Malassezia sympodialis\"         \"Metarhizium acridum\"           \n",
       " [85] \"Microdochium bolleyi\"           \"Mixia osmundae\"                \n",
       " [87] \"Monilinia laxa\"                 \"Moniliophthora perniciosa\"     \n",
       " [89] \"Oidiodendron maius\"             \"Paxillus involutus\"            \n",
       " [91] \"Paxillus rubicundulus\"          \"Penicillium chrysogenum\"       \n",
       " [93] \"Penicillium oxalicum\"           \"Phaeoacremonium minimum\"       \n",
       " [95] \"Phaeosphaeria nodorum\"          \"Phanerochaete carnosa\"         \n",
       " [97] \"Phlebiopsis gigantea\"           \"Phycomyces blakesleeanus\"      \n",
       " [99] \"Pisolithus microcarpus\"         \"Pleomassaria siparia\"          \n",
       "[101] \"Pleurotus ostreatus\"            \"Pseudozyma hubeiensis\"         \n",
       "[103] \"Pyronema omphalodes\"            \"Rhizophagus clarus\"            \n",
       "[105] \"Rhizopus stolonifer\"            \"Rozella allomycis\"             \n",
       "[107] \"Schizophyllum commune\"          \"Scleroderma citrinum\"          \n",
       "[109] \"Sclerotinia sclerotiorum\"       \"Serendipita indica\"            \n",
       "[111] \"Serendipita vermifera\"          \"Sphaerobolus stellatus\"        \n",
       "[113] \"Sphaerulina musiva\"             \"Suillus luteus\"                \n",
       "[115] \"Talaromyces pinophilus\"         \"Tilletiaria anomala\"           \n",
       "[117] \"Tolypocladium capitatum\"        \"Tolypocladium ophioglossoides\" \n",
       "[119] \"Trematosphaeria pertusa\"        \"Tremella mesenterica\"          \n",
       "[121] \"Trichophyton verrucosum\"        \"Tuber melanosporum\"            \n",
       "[123] \"Tulasnella calospora\"           \"Uncinocarpus reesii\"           \n",
       "[125] \"Ustilago maydis\"                \"Verticillium alfalfae\"         \n",
       "[127] \"Wallemia ichthyophaga\"          \"Wolfiporia cocos\"              \n",
       "[129] \"Xylaria hypoxylon\"              \"Zygosaccharomyces rouxii\"      "
      ]
     },
     "metadata": {},
     "output_type": "display_data"
    },
    {
     "data": {
      "text/html": [
       "130"
      ],
      "text/latex": [
       "130"
      ],
      "text/markdown": [
       "130"
      ],
      "text/plain": [
       "[1] 130"
      ]
     },
     "metadata": {},
     "output_type": "display_data"
    }
   ],
   "source": [
    " # Now we remove the species that have inconsistent strain DFA information\n",
    "\n",
    "species_good_DFA=subset(data_DFA_status, data_DFA_status$DFA_stat!='different DFA status')\n",
    "spe_good=c(species_good_DFA$species,spe_1_str$species_short)\n",
    "spe_good\n",
    "length(spe_good)"
   ]
  },
  {
   "cell_type": "code",
   "execution_count": 12,
   "id": "27df221f-00c4-4c2d-bba3-4cbd022fd897",
   "metadata": {
    "vscode": {
     "languageId": "r"
    }
   },
   "outputs": [
    {
     "data": {
      "text/html": [
       "<style>\n",
       ".list-inline {list-style: none; margin:0; padding: 0}\n",
       ".list-inline>li {display: inline-block}\n",
       ".list-inline>li:not(:last-child)::after {content: \"\\00b7\"; padding: 0 .5ex}\n",
       "</style>\n",
       "<ol class=list-inline><li>171</li><li>12</li></ol>\n"
      ],
      "text/latex": [
       "\\begin{enumerate*}\n",
       "\\item 171\n",
       "\\item 12\n",
       "\\end{enumerate*}\n"
      ],
      "text/markdown": [
       "1. 171\n",
       "2. 12\n",
       "\n",
       "\n"
      ],
      "text/plain": [
       "[1] 171  12"
      ]
     },
     "metadata": {},
     "output_type": "display_data"
    },
    {
     "data": {
      "text/html": [
       "<style>\n",
       ".list-inline {list-style: none; margin:0; padding: 0}\n",
       ".list-inline>li {display: inline-block}\n",
       ".list-inline>li:not(:last-child)::after {content: \"\\00b7\"; padding: 0 .5ex}\n",
       "</style>\n",
       "<ol class=list-inline><li>161</li><li>7</li></ol>\n"
      ],
      "text/latex": [
       "\\begin{enumerate*}\n",
       "\\item 161\n",
       "\\item 7\n",
       "\\end{enumerate*}\n"
      ],
      "text/markdown": [
       "1. 161\n",
       "2. 7\n",
       "\n",
       "\n"
      ],
      "text/plain": [
       "[1] 161   7"
      ]
     },
     "metadata": {},
     "output_type": "display_data"
    }
   ],
   "source": [
    " #In DFA information table\n",
    "data_DFA_sub_good=subset(data_DFA_sub, data_DFA_sub$species_short%in%spe_good)\n",
    "\n",
    " #In trait table\n",
    "\n",
    "data_trait_sub_good=subset(data_trait_sub, data_trait_sub$speciesMatched%in%spe_good)\n",
    "\n",
    "dim(data_DFA_sub_good)\n",
    "dim(data_trait_sub_good)"
   ]
  },
  {
   "cell_type": "code",
   "execution_count": 13,
   "id": "91a263c3-363c-4cd0-938d-f765e62f4997",
   "metadata": {
    "vscode": {
     "languageId": "r"
    }
   },
   "outputs": [
    {
     "data": {
      "text/html": [
       "<table class=\"dataframe\">\n",
       "<caption>A data.frame: 3 × 12</caption>\n",
       "<thead>\n",
       "\t<tr><th></th><th scope=col>X</th><th scope=col>Organism_uniprot</th><th scope=col>n_prot</th><th scope=col>species_name</th><th scope=col>species_short</th><th scope=col>kingdom</th><th scope=col>phylum</th><th scope=col>class</th><th scope=col>order</th><th scope=col>family</th><th scope=col>genus</th><th scope=col>DFA</th></tr>\n",
       "\t<tr><th></th><th scope=col>&lt;int&gt;</th><th scope=col>&lt;chr&gt;</th><th scope=col>&lt;int&gt;</th><th scope=col>&lt;chr&gt;</th><th scope=col>&lt;chr&gt;</th><th scope=col>&lt;chr&gt;</th><th scope=col>&lt;chr&gt;</th><th scope=col>&lt;chr&gt;</th><th scope=col>&lt;chr&gt;</th><th scope=col>&lt;chr&gt;</th><th scope=col>&lt;chr&gt;</th><th scope=col>&lt;chr&gt;</th></tr>\n",
       "</thead>\n",
       "<tbody>\n",
       "\t<tr><th scope=row>8</th><td> 8</td><td>Agaricus bisporus var. burnettii (strain JB137-S8 / ATCC MYA-4627 / FGSC 10392) (White button mushroom)</td><td>10948</td><td>Agaricus bisporus var. burnettii </td><td>Agaricus bisporus</td><td>Fungi</td><td>Basidiomycota</td><td>Agaricomycetes</td><td>Agaricales</td><td>Agaricaceae</td><td>Agaricus</td><td>No </td></tr>\n",
       "\t<tr><th scope=row>20</th><td>20</td><td>Amanita muscaria (strain Koide BX008)                                                                  </td><td>17633</td><td>Amanita muscaria                 </td><td>Amanita muscaria </td><td>Fungi</td><td>Basidiomycota</td><td>Agaricomycetes</td><td>Agaricales</td><td>Amanitaceae</td><td>Amanita </td><td>Yes</td></tr>\n",
       "\t<tr><th scope=row>21</th><td>21</td><td>Amanita thiersii Skay4041                                                                              </td><td>10068</td><td>Amanita thiersii Skay4041        </td><td>Amanita thiersii </td><td>Fungi</td><td>Basidiomycota</td><td>Agaricomycetes</td><td>Agaricales</td><td>Amanitaceae</td><td>Amanita </td><td>Yes</td></tr>\n",
       "</tbody>\n",
       "</table>\n"
      ],
      "text/latex": [
       "A data.frame: 3 × 12\n",
       "\\begin{tabular}{r|llllllllllll}\n",
       "  & X & Organism\\_uniprot & n\\_prot & species\\_name & species\\_short & kingdom & phylum & class & order & family & genus & DFA\\\\\n",
       "  & <int> & <chr> & <int> & <chr> & <chr> & <chr> & <chr> & <chr> & <chr> & <chr> & <chr> & <chr>\\\\\n",
       "\\hline\n",
       "\t8 &  8 & Agaricus bisporus var. burnettii (strain JB137-S8 / ATCC MYA-4627 / FGSC 10392) (White button mushroom) & 10948 & Agaricus bisporus var. burnettii  & Agaricus bisporus & Fungi & Basidiomycota & Agaricomycetes & Agaricales & Agaricaceae & Agaricus & No \\\\\n",
       "\t20 & 20 & Amanita muscaria (strain Koide BX008)                                                                   & 17633 & Amanita muscaria                  & Amanita muscaria  & Fungi & Basidiomycota & Agaricomycetes & Agaricales & Amanitaceae & Amanita  & Yes\\\\\n",
       "\t21 & 21 & Amanita thiersii Skay4041                                                                               & 10068 & Amanita thiersii Skay4041         & Amanita thiersii  & Fungi & Basidiomycota & Agaricomycetes & Agaricales & Amanitaceae & Amanita  & Yes\\\\\n",
       "\\end{tabular}\n"
      ],
      "text/markdown": [
       "\n",
       "A data.frame: 3 × 12\n",
       "\n",
       "| <!--/--> | X &lt;int&gt; | Organism_uniprot &lt;chr&gt; | n_prot &lt;int&gt; | species_name &lt;chr&gt; | species_short &lt;chr&gt; | kingdom &lt;chr&gt; | phylum &lt;chr&gt; | class &lt;chr&gt; | order &lt;chr&gt; | family &lt;chr&gt; | genus &lt;chr&gt; | DFA &lt;chr&gt; |\n",
       "|---|---|---|---|---|---|---|---|---|---|---|---|---|\n",
       "| 8 |  8 | Agaricus bisporus var. burnettii (strain JB137-S8 / ATCC MYA-4627 / FGSC 10392) (White button mushroom) | 10948 | Agaricus bisporus var. burnettii  | Agaricus bisporus | Fungi | Basidiomycota | Agaricomycetes | Agaricales | Agaricaceae | Agaricus | No  |\n",
       "| 20 | 20 | Amanita muscaria (strain Koide BX008)                                                                   | 17633 | Amanita muscaria                  | Amanita muscaria  | Fungi | Basidiomycota | Agaricomycetes | Agaricales | Amanitaceae | Amanita  | Yes |\n",
       "| 21 | 21 | Amanita thiersii Skay4041                                                                               | 10068 | Amanita thiersii Skay4041         | Amanita thiersii  | Fungi | Basidiomycota | Agaricomycetes | Agaricales | Amanitaceae | Amanita  | Yes |\n",
       "\n"
      ],
      "text/plain": [
       "   X \n",
       "8   8\n",
       "20 20\n",
       "21 21\n",
       "   Organism_uniprot                                                                                       \n",
       "8  Agaricus bisporus var. burnettii (strain JB137-S8 / ATCC MYA-4627 / FGSC 10392) (White button mushroom)\n",
       "20 Amanita muscaria (strain Koide BX008)                                                                  \n",
       "21 Amanita thiersii Skay4041                                                                              \n",
       "   n_prot species_name                      species_short     kingdom\n",
       "8  10948  Agaricus bisporus var. burnettii  Agaricus bisporus Fungi  \n",
       "20 17633  Amanita muscaria                  Amanita muscaria  Fungi  \n",
       "21 10068  Amanita thiersii Skay4041         Amanita thiersii  Fungi  \n",
       "   phylum        class          order      family      genus    DFA\n",
       "8  Basidiomycota Agaricomycetes Agaricales Agaricaceae Agaricus No \n",
       "20 Basidiomycota Agaricomycetes Agaricales Amanitaceae Amanita  Yes\n",
       "21 Basidiomycota Agaricomycetes Agaricales Amanitaceae Amanita  Yes"
      ]
     },
     "metadata": {},
     "output_type": "display_data"
    }
   ],
   "source": [
    "head(data_DFA_sub_good,3)"
   ]
  },
  {
   "cell_type": "code",
   "execution_count": 14,
   "id": "f858f12a-6fba-42f8-b789-396e070589b6",
   "metadata": {
    "vscode": {
     "languageId": "r"
    }
   },
   "outputs": [
    {
     "data": {
      "text/html": [
       "<table class=\"dataframe\">\n",
       "<caption>A data.frame: 3 × 7</caption>\n",
       "<thead>\n",
       "\t<tr><th></th><th scope=col>speciesMatched</th><th scope=col>ascus_dehiscence</th><th scope=col>auxinResponsivePromoter_count</th><th scope=col>growth_form_fg</th><th scope=col>spore_length</th><th scope=col>spore_width</th><th scope=col>trophic_mode_fg</th></tr>\n",
       "\t<tr><th></th><th scope=col>&lt;chr&gt;</th><th scope=col>&lt;chr&gt;</th><th scope=col>&lt;dbl&gt;</th><th scope=col>&lt;chr&gt;</th><th scope=col>&lt;dbl&gt;</th><th scope=col>&lt;dbl&gt;</th><th scope=col>&lt;chr&gt;</th></tr>\n",
       "</thead>\n",
       "<tbody>\n",
       "\t<tr><th scope=row>1</th><td>Armillaria gallica   </td><td>NA</td><td>NA</td><td>Agaricoid</td><td>NA</td><td>NA</td><td>Pathotroph-Saprotroph</td></tr>\n",
       "\t<tr><th scope=row>3</th><td>Schizophyllum commune</td><td>NA</td><td>NA</td><td>Agaricoid</td><td>NA</td><td>NA</td><td>Pathotroph-Saprotroph</td></tr>\n",
       "\t<tr><th scope=row>4</th><td>Amanita muscaria     </td><td>NA</td><td>NA</td><td>Agaricoid</td><td>NA</td><td>NA</td><td>Symbiotroph          </td></tr>\n",
       "</tbody>\n",
       "</table>\n"
      ],
      "text/latex": [
       "A data.frame: 3 × 7\n",
       "\\begin{tabular}{r|lllllll}\n",
       "  & speciesMatched & ascus\\_dehiscence & auxinResponsivePromoter\\_count & growth\\_form\\_fg & spore\\_length & spore\\_width & trophic\\_mode\\_fg\\\\\n",
       "  & <chr> & <chr> & <dbl> & <chr> & <dbl> & <dbl> & <chr>\\\\\n",
       "\\hline\n",
       "\t1 & Armillaria gallica    & NA & NA & Agaricoid & NA & NA & Pathotroph-Saprotroph\\\\\n",
       "\t3 & Schizophyllum commune & NA & NA & Agaricoid & NA & NA & Pathotroph-Saprotroph\\\\\n",
       "\t4 & Amanita muscaria      & NA & NA & Agaricoid & NA & NA & Symbiotroph          \\\\\n",
       "\\end{tabular}\n"
      ],
      "text/markdown": [
       "\n",
       "A data.frame: 3 × 7\n",
       "\n",
       "| <!--/--> | speciesMatched &lt;chr&gt; | ascus_dehiscence &lt;chr&gt; | auxinResponsivePromoter_count &lt;dbl&gt; | growth_form_fg &lt;chr&gt; | spore_length &lt;dbl&gt; | spore_width &lt;dbl&gt; | trophic_mode_fg &lt;chr&gt; |\n",
       "|---|---|---|---|---|---|---|---|\n",
       "| 1 | Armillaria gallica    | NA | NA | Agaricoid | NA | NA | Pathotroph-Saprotroph |\n",
       "| 3 | Schizophyllum commune | NA | NA | Agaricoid | NA | NA | Pathotroph-Saprotroph |\n",
       "| 4 | Amanita muscaria      | NA | NA | Agaricoid | NA | NA | Symbiotroph           |\n",
       "\n"
      ],
      "text/plain": [
       "  speciesMatched        ascus_dehiscence auxinResponsivePromoter_count\n",
       "1 Armillaria gallica    NA               NA                           \n",
       "3 Schizophyllum commune NA               NA                           \n",
       "4 Amanita muscaria      NA               NA                           \n",
       "  growth_form_fg spore_length spore_width trophic_mode_fg      \n",
       "1 Agaricoid      NA           NA          Pathotroph-Saprotroph\n",
       "3 Agaricoid      NA           NA          Pathotroph-Saprotroph\n",
       "4 Agaricoid      NA           NA          Symbiotroph          "
      ]
     },
     "metadata": {},
     "output_type": "display_data"
    }
   ],
   "source": [
    "head(data_trait_sub_good,3)"
   ]
  },
  {
   "cell_type": "code",
   "execution_count": 15,
   "id": "50e31260-ce79-4ab9-b3e0-e0705365e65b",
   "metadata": {
    "vscode": {
     "languageId": "r"
    }
   },
   "outputs": [
    {
     "name": "stderr",
     "output_type": "stream",
     "text": [
      "Warning message in left_join(species_DFA, data_trait_sub_good, by = \"speciesMatched\"):\n",
      "“\u001b[1m\u001b[22mDetected an unexpected many-to-many relationship between `x` and `y`.\n",
      "\u001b[36mℹ\u001b[39m Row 1 of `x` matches multiple rows in `y`.\n",
      "\u001b[36mℹ\u001b[39m Row 38 of `y` matches multiple rows in `x`.\n",
      "\u001b[36mℹ\u001b[39m If a many-to-many relationship is expected, set `relationship = \"many-to-many\"` to silence this warning.”\n"
     ]
    },
    {
     "data": {
      "text/html": [
       "<table class=\"dataframe\">\n",
       "<caption>A data.frame: 5 × 9</caption>\n",
       "<thead>\n",
       "\t<tr><th></th><th scope=col>speciesMatched</th><th scope=col>Phylum</th><th scope=col>DFA</th><th scope=col>ascus_dehiscence</th><th scope=col>auxinResponsivePromoter_count</th><th scope=col>growth_form_fg</th><th scope=col>spore_length</th><th scope=col>spore_width</th><th scope=col>trophic_mode_fg</th></tr>\n",
       "\t<tr><th></th><th scope=col>&lt;chr&gt;</th><th scope=col>&lt;chr&gt;</th><th scope=col>&lt;chr&gt;</th><th scope=col>&lt;chr&gt;</th><th scope=col>&lt;dbl&gt;</th><th scope=col>&lt;chr&gt;</th><th scope=col>&lt;dbl&gt;</th><th scope=col>&lt;dbl&gt;</th><th scope=col>&lt;chr&gt;</th></tr>\n",
       "</thead>\n",
       "<tbody>\n",
       "\t<tr><th scope=row>1</th><td>Agaricus bisporus</td><td>Basidiomycota</td><td>No </td><td>NA</td><td>NA</td><td>NA       </td><td>9.5</td><td>7.8</td><td>NA         </td></tr>\n",
       "\t<tr><th scope=row>2</th><td>Agaricus bisporus</td><td>Basidiomycota</td><td>No </td><td>NA</td><td>NA</td><td>NA       </td><td>8.5</td><td>5.3</td><td>NA         </td></tr>\n",
       "\t<tr><th scope=row>3</th><td>Amanita muscaria </td><td>Basidiomycota</td><td>Yes</td><td>NA</td><td>NA</td><td>Agaricoid</td><td> NA</td><td> NA</td><td>Symbiotroph</td></tr>\n",
       "\t<tr><th scope=row>4</th><td>Amanita muscaria </td><td>Basidiomycota</td><td>Yes</td><td>NA</td><td>NA</td><td>Agaricoid</td><td>9.0</td><td>6.5</td><td>Symbiotroph</td></tr>\n",
       "\t<tr><th scope=row>5</th><td>Amanita muscaria </td><td>Basidiomycota</td><td>Yes</td><td>NA</td><td> 0</td><td>Agaricoid</td><td> NA</td><td> NA</td><td>Symbiotroph</td></tr>\n",
       "</tbody>\n",
       "</table>\n"
      ],
      "text/latex": [
       "A data.frame: 5 × 9\n",
       "\\begin{tabular}{r|lllllllll}\n",
       "  & speciesMatched & Phylum & DFA & ascus\\_dehiscence & auxinResponsivePromoter\\_count & growth\\_form\\_fg & spore\\_length & spore\\_width & trophic\\_mode\\_fg\\\\\n",
       "  & <chr> & <chr> & <chr> & <chr> & <dbl> & <chr> & <dbl> & <dbl> & <chr>\\\\\n",
       "\\hline\n",
       "\t1 & Agaricus bisporus & Basidiomycota & No  & NA & NA & NA        & 9.5 & 7.8 & NA         \\\\\n",
       "\t2 & Agaricus bisporus & Basidiomycota & No  & NA & NA & NA        & 8.5 & 5.3 & NA         \\\\\n",
       "\t3 & Amanita muscaria  & Basidiomycota & Yes & NA & NA & Agaricoid &  NA &  NA & Symbiotroph\\\\\n",
       "\t4 & Amanita muscaria  & Basidiomycota & Yes & NA & NA & Agaricoid & 9.0 & 6.5 & Symbiotroph\\\\\n",
       "\t5 & Amanita muscaria  & Basidiomycota & Yes & NA &  0 & Agaricoid &  NA &  NA & Symbiotroph\\\\\n",
       "\\end{tabular}\n"
      ],
      "text/markdown": [
       "\n",
       "A data.frame: 5 × 9\n",
       "\n",
       "| <!--/--> | speciesMatched &lt;chr&gt; | Phylum &lt;chr&gt; | DFA &lt;chr&gt; | ascus_dehiscence &lt;chr&gt; | auxinResponsivePromoter_count &lt;dbl&gt; | growth_form_fg &lt;chr&gt; | spore_length &lt;dbl&gt; | spore_width &lt;dbl&gt; | trophic_mode_fg &lt;chr&gt; |\n",
       "|---|---|---|---|---|---|---|---|---|---|\n",
       "| 1 | Agaricus bisporus | Basidiomycota | No  | NA | NA | NA        | 9.5 | 7.8 | NA          |\n",
       "| 2 | Agaricus bisporus | Basidiomycota | No  | NA | NA | NA        | 8.5 | 5.3 | NA          |\n",
       "| 3 | Amanita muscaria  | Basidiomycota | Yes | NA | NA | Agaricoid |  NA |  NA | Symbiotroph |\n",
       "| 4 | Amanita muscaria  | Basidiomycota | Yes | NA | NA | Agaricoid | 9.0 | 6.5 | Symbiotroph |\n",
       "| 5 | Amanita muscaria  | Basidiomycota | Yes | NA |  0 | Agaricoid |  NA |  NA | Symbiotroph |\n",
       "\n"
      ],
      "text/plain": [
       "  speciesMatched    Phylum        DFA ascus_dehiscence\n",
       "1 Agaricus bisporus Basidiomycota No  NA              \n",
       "2 Agaricus bisporus Basidiomycota No  NA              \n",
       "3 Amanita muscaria  Basidiomycota Yes NA              \n",
       "4 Amanita muscaria  Basidiomycota Yes NA              \n",
       "5 Amanita muscaria  Basidiomycota Yes NA              \n",
       "  auxinResponsivePromoter_count growth_form_fg spore_length spore_width\n",
       "1 NA                            NA             9.5          7.8        \n",
       "2 NA                            NA             8.5          5.3        \n",
       "3 NA                            Agaricoid       NA           NA        \n",
       "4 NA                            Agaricoid      9.0          6.5        \n",
       "5  0                            Agaricoid       NA           NA        \n",
       "  trophic_mode_fg\n",
       "1 NA             \n",
       "2 NA             \n",
       "3 Symbiotroph    \n",
       "4 Symbiotroph    \n",
       "5 Symbiotroph    "
      ]
     },
     "metadata": {},
     "output_type": "display_data"
    }
   ],
   "source": [
    "# Saving trait information\n",
    "\n",
    "species_DFA=data.frame(data_DFA_sub_good$species_short,data_DFA_sub_good$phylum,data_DFA_sub_good$DFA) # first we creat a table only with species, phylum and DFA information\n",
    "colnames(species_DFA)=c('speciesMatched','Phylum','DFA')\n",
    "species_DFA_s=species_DFA%>%distinct()\n",
    "\n",
    "trait_info_species_and_DFA=left_join(species_DFA, data_trait_sub_good, by='speciesMatched')%>%distinct()\n",
    "head(trait_info_species_and_DFA,5)\n",
    "\n",
    "write.csv(trait_info_species_and_DFA,'results/step3/traits_DFA_info.csv')"
   ]
  },
  {
   "cell_type": "markdown",
   "id": "7dfde7ce-59f0-4306-a27e-7e56e6603aeb",
   "metadata": {},
   "source": [
    "#### Tree representation of species with DFA status and trait information (Figure 5)\n",
    "\n",
    "On this species-level tree, we aim to represent for each species, its DFA status (presence/absence) as well as whether or not a trait information is available for a species for a given trait.\n",
    "Before being able to build the tree, there are a couple of necessary steps to transform and reformat the data:\n",
    "    - transform the trait as information as a binary information yes or no to indicate whether or not a trait information is available\n",
    "    - get all the species name format homogeneized across the trait table, the DFA table and the tree\n",
    "    - combine the trait and DFA table and collapse species information into one row per species (as the same species may be associated with multiple rows in the FunFun database, with individual rows being associated with individual trait information)\n",
    "    - reformat/gather trait information to fit the ggplot2 data format to be able to map the heatmap data onto the tree "
   ]
  },
  {
   "cell_type": "code",
   "execution_count": 16,
   "id": "f69b87fa-5e96-4f50-86f6-17da2de9ec73",
   "metadata": {
    "vscode": {
     "languageId": "r"
    }
   },
   "outputs": [],
   "source": [
    " ## Import the tree from TimeTree generated using the species input of the species_short list of data_DFA_sub_good\n",
    "\n",
    "tree=read.tree('data/step3/species_trait_tree_final.nwk')\n",
    "tree_tip=tree$tip.label"
   ]
  },
  {
   "cell_type": "code",
   "execution_count": 17,
   "id": "1d68f966-7c7e-40cb-9f7c-ff18ca6602e7",
   "metadata": {
    "vscode": {
     "languageId": "r"
    }
   },
   "outputs": [
    {
     "data": {
      "text/html": [
       "<table class=\"dataframe\">\n",
       "<caption>A data.frame: 10 × 7</caption>\n",
       "<thead>\n",
       "\t<tr><th></th><th scope=col>tip.label</th><th scope=col>ascus_dehiscence</th><th scope=col>auxinResponsivePromoter_count</th><th scope=col>growth_form_fg</th><th scope=col>spore_length</th><th scope=col>spore_width</th><th scope=col>trophic_mode_fg</th></tr>\n",
       "\t<tr><th></th><th scope=col>&lt;chr&gt;</th><th scope=col>&lt;chr&gt;</th><th scope=col>&lt;chr&gt;</th><th scope=col>&lt;chr&gt;</th><th scope=col>&lt;chr&gt;</th><th scope=col>&lt;chr&gt;</th><th scope=col>&lt;chr&gt;</th></tr>\n",
       "</thead>\n",
       "<tbody>\n",
       "\t<tr><th scope=row>1</th><td>Armillaria_gallica      </td><td>No</td><td>No</td><td>Yes</td><td>No</td><td>No</td><td>Yes</td></tr>\n",
       "\t<tr><th scope=row>3</th><td>Schizophyllum_commune   </td><td>No</td><td>No</td><td>Yes</td><td>No</td><td>No</td><td>Yes</td></tr>\n",
       "\t<tr><th scope=row>4</th><td>Amanita_muscaria        </td><td>No</td><td>No</td><td>Yes</td><td>No</td><td>No</td><td>Yes</td></tr>\n",
       "\t<tr><th scope=row>31</th><td>Paxillus_involutus      </td><td>No</td><td>No</td><td>Yes</td><td>No</td><td>No</td><td>Yes</td></tr>\n",
       "\t<tr><th scope=row>39</th><td>Chaetomium_globosum     </td><td>No</td><td>No</td><td>Yes</td><td>No</td><td>No</td><td>Yes</td></tr>\n",
       "\t<tr><th scope=row>40</th><td>Cyberlindnera_jadinii   </td><td>No</td><td>No</td><td>Yes</td><td>No</td><td>No</td><td>Yes</td></tr>\n",
       "\t<tr><th scope=row>42</th><td>Fusarium_culmorum       </td><td>No</td><td>No</td><td>Yes</td><td>No</td><td>No</td><td>Yes</td></tr>\n",
       "\t<tr><th scope=row>43</th><td>Fusarium_oxysporum      </td><td>No</td><td>No</td><td>Yes</td><td>No</td><td>No</td><td>Yes</td></tr>\n",
       "\t<tr><th scope=row>50</th><td>Neurospora_crassa       </td><td>No</td><td>No</td><td>Yes</td><td>No</td><td>No</td><td>Yes</td></tr>\n",
       "\t<tr><th scope=row>51</th><td>Saccharomyces_cerevisiae</td><td>No</td><td>No</td><td>Yes</td><td>No</td><td>No</td><td>Yes</td></tr>\n",
       "</tbody>\n",
       "</table>\n"
      ],
      "text/latex": [
       "A data.frame: 10 × 7\n",
       "\\begin{tabular}{r|lllllll}\n",
       "  & tip.label & ascus\\_dehiscence & auxinResponsivePromoter\\_count & growth\\_form\\_fg & spore\\_length & spore\\_width & trophic\\_mode\\_fg\\\\\n",
       "  & <chr> & <chr> & <chr> & <chr> & <chr> & <chr> & <chr>\\\\\n",
       "\\hline\n",
       "\t1 & Armillaria\\_gallica       & No & No & Yes & No & No & Yes\\\\\n",
       "\t3 & Schizophyllum\\_commune    & No & No & Yes & No & No & Yes\\\\\n",
       "\t4 & Amanita\\_muscaria         & No & No & Yes & No & No & Yes\\\\\n",
       "\t31 & Paxillus\\_involutus       & No & No & Yes & No & No & Yes\\\\\n",
       "\t39 & Chaetomium\\_globosum      & No & No & Yes & No & No & Yes\\\\\n",
       "\t40 & Cyberlindnera\\_jadinii    & No & No & Yes & No & No & Yes\\\\\n",
       "\t42 & Fusarium\\_culmorum        & No & No & Yes & No & No & Yes\\\\\n",
       "\t43 & Fusarium\\_oxysporum       & No & No & Yes & No & No & Yes\\\\\n",
       "\t50 & Neurospora\\_crassa        & No & No & Yes & No & No & Yes\\\\\n",
       "\t51 & Saccharomyces\\_cerevisiae & No & No & Yes & No & No & Yes\\\\\n",
       "\\end{tabular}\n"
      ],
      "text/markdown": [
       "\n",
       "A data.frame: 10 × 7\n",
       "\n",
       "| <!--/--> | tip.label &lt;chr&gt; | ascus_dehiscence &lt;chr&gt; | auxinResponsivePromoter_count &lt;chr&gt; | growth_form_fg &lt;chr&gt; | spore_length &lt;chr&gt; | spore_width &lt;chr&gt; | trophic_mode_fg &lt;chr&gt; |\n",
       "|---|---|---|---|---|---|---|---|\n",
       "| 1 | Armillaria_gallica       | No | No | Yes | No | No | Yes |\n",
       "| 3 | Schizophyllum_commune    | No | No | Yes | No | No | Yes |\n",
       "| 4 | Amanita_muscaria         | No | No | Yes | No | No | Yes |\n",
       "| 31 | Paxillus_involutus       | No | No | Yes | No | No | Yes |\n",
       "| 39 | Chaetomium_globosum      | No | No | Yes | No | No | Yes |\n",
       "| 40 | Cyberlindnera_jadinii    | No | No | Yes | No | No | Yes |\n",
       "| 42 | Fusarium_culmorum        | No | No | Yes | No | No | Yes |\n",
       "| 43 | Fusarium_oxysporum       | No | No | Yes | No | No | Yes |\n",
       "| 50 | Neurospora_crassa        | No | No | Yes | No | No | Yes |\n",
       "| 51 | Saccharomyces_cerevisiae | No | No | Yes | No | No | Yes |\n",
       "\n"
      ],
      "text/plain": [
       "   tip.label                ascus_dehiscence auxinResponsivePromoter_count\n",
       "1  Armillaria_gallica       No               No                           \n",
       "3  Schizophyllum_commune    No               No                           \n",
       "4  Amanita_muscaria         No               No                           \n",
       "31 Paxillus_involutus       No               No                           \n",
       "39 Chaetomium_globosum      No               No                           \n",
       "40 Cyberlindnera_jadinii    No               No                           \n",
       "42 Fusarium_culmorum        No               No                           \n",
       "43 Fusarium_oxysporum       No               No                           \n",
       "50 Neurospora_crassa        No               No                           \n",
       "51 Saccharomyces_cerevisiae No               No                           \n",
       "   growth_form_fg spore_length spore_width trophic_mode_fg\n",
       "1  Yes            No           No          Yes            \n",
       "3  Yes            No           No          Yes            \n",
       "4  Yes            No           No          Yes            \n",
       "31 Yes            No           No          Yes            \n",
       "39 Yes            No           No          Yes            \n",
       "40 Yes            No           No          Yes            \n",
       "42 Yes            No           No          Yes            \n",
       "43 Yes            No           No          Yes            \n",
       "50 Yes            No           No          Yes            \n",
       "51 Yes            No           No          Yes            "
      ]
     },
     "metadata": {},
     "output_type": "display_data"
    }
   ],
   "source": [
    " ## Trait data reformating (to create the data.frame that will be used to map information onto the tree)\n",
    "    # We need to reformat the trait data to indicate only if trait information is present (yes) or absent (no) for each species\n",
    "    # also we need to reformat the name of species to match the tree_tip format\n",
    "\n",
    "species_n=data_trait_sub_good[,1]\n",
    "species_nf=sub(\" \",\"_\",species_n)\n",
    "\n",
    "trait_to_mod=data_trait_sub_good[,2:7]\n",
    "\n",
    "trait_to_mod[!is.na(trait_to_mod)]<-'Yes'\n",
    "trait_good_formated=cbind(species_nf,trait_to_mod)\n",
    "trait_good_formated[is.na(trait_good_formated)]<-'No'\n",
    "\n",
    "colnames(trait_good_formated)=c('tip.label',colnames(trait_good_formated[,2:7]))\n",
    "\n",
    "head(trait_good_formated,10)"
   ]
  },
  {
   "cell_type": "code",
   "execution_count": 18,
   "id": "921ea188-57f2-482a-93fa-248b53767f65",
   "metadata": {
    "vscode": {
     "languageId": "r"
    }
   },
   "outputs": [
    {
     "data": {
      "text/html": [
       "<table class=\"dataframe\">\n",
       "<caption>A data.frame: 10 × 3</caption>\n",
       "<thead>\n",
       "\t<tr><th></th><th scope=col>tip.label</th><th scope=col>Phylum</th><th scope=col>DFA</th></tr>\n",
       "\t<tr><th></th><th scope=col>&lt;chr&gt;</th><th scope=col>&lt;chr&gt;</th><th scope=col>&lt;chr&gt;</th></tr>\n",
       "</thead>\n",
       "<tbody>\n",
       "\t<tr><th scope=row>1</th><td>Agaricus_bisporus      </td><td>Basidiomycota</td><td>No </td></tr>\n",
       "\t<tr><th scope=row>2</th><td>Amanita_muscaria       </td><td>Basidiomycota</td><td>Yes</td></tr>\n",
       "\t<tr><th scope=row>3</th><td>Amanita_thiersii       </td><td>Basidiomycota</td><td>Yes</td></tr>\n",
       "\t<tr><th scope=row>4</th><td>Armillaria_gallica     </td><td>Basidiomycota</td><td>Yes</td></tr>\n",
       "\t<tr><th scope=row>5</th><td>Armillaria_ostoyae     </td><td>Basidiomycota</td><td>Yes</td></tr>\n",
       "\t<tr><th scope=row>6</th><td>Arthrobotrys_oligospora</td><td>Ascomycota   </td><td>Yes</td></tr>\n",
       "\t<tr><th scope=row>7</th><td>Arthroderma_benhamiae  </td><td>Ascomycota   </td><td>Yes</td></tr>\n",
       "\t<tr><th scope=row>8</th><td>Aspergillus_clavatus   </td><td>Ascomycota   </td><td>Yes</td></tr>\n",
       "\t<tr><th scope=row>9</th><td>Aspergillus_flavus     </td><td>Ascomycota   </td><td>No </td></tr>\n",
       "\t<tr><th scope=row>10</th><td>Aspergillus_kawachii   </td><td>Ascomycota   </td><td>No </td></tr>\n",
       "</tbody>\n",
       "</table>\n"
      ],
      "text/latex": [
       "A data.frame: 10 × 3\n",
       "\\begin{tabular}{r|lll}\n",
       "  & tip.label & Phylum & DFA\\\\\n",
       "  & <chr> & <chr> & <chr>\\\\\n",
       "\\hline\n",
       "\t1 & Agaricus\\_bisporus       & Basidiomycota & No \\\\\n",
       "\t2 & Amanita\\_muscaria        & Basidiomycota & Yes\\\\\n",
       "\t3 & Amanita\\_thiersii        & Basidiomycota & Yes\\\\\n",
       "\t4 & Armillaria\\_gallica      & Basidiomycota & Yes\\\\\n",
       "\t5 & Armillaria\\_ostoyae      & Basidiomycota & Yes\\\\\n",
       "\t6 & Arthrobotrys\\_oligospora & Ascomycota    & Yes\\\\\n",
       "\t7 & Arthroderma\\_benhamiae   & Ascomycota    & Yes\\\\\n",
       "\t8 & Aspergillus\\_clavatus    & Ascomycota    & Yes\\\\\n",
       "\t9 & Aspergillus\\_flavus      & Ascomycota    & No \\\\\n",
       "\t10 & Aspergillus\\_kawachii    & Ascomycota    & No \\\\\n",
       "\\end{tabular}\n"
      ],
      "text/markdown": [
       "\n",
       "A data.frame: 10 × 3\n",
       "\n",
       "| <!--/--> | tip.label &lt;chr&gt; | Phylum &lt;chr&gt; | DFA &lt;chr&gt; |\n",
       "|---|---|---|---|\n",
       "| 1 | Agaricus_bisporus       | Basidiomycota | No  |\n",
       "| 2 | Amanita_muscaria        | Basidiomycota | Yes |\n",
       "| 3 | Amanita_thiersii        | Basidiomycota | Yes |\n",
       "| 4 | Armillaria_gallica      | Basidiomycota | Yes |\n",
       "| 5 | Armillaria_ostoyae      | Basidiomycota | Yes |\n",
       "| 6 | Arthrobotrys_oligospora | Ascomycota    | Yes |\n",
       "| 7 | Arthroderma_benhamiae   | Ascomycota    | Yes |\n",
       "| 8 | Aspergillus_clavatus    | Ascomycota    | Yes |\n",
       "| 9 | Aspergillus_flavus      | Ascomycota    | No  |\n",
       "| 10 | Aspergillus_kawachii    | Ascomycota    | No  |\n",
       "\n"
      ],
      "text/plain": [
       "   tip.label               Phylum        DFA\n",
       "1  Agaricus_bisporus       Basidiomycota No \n",
       "2  Amanita_muscaria        Basidiomycota Yes\n",
       "3  Amanita_thiersii        Basidiomycota Yes\n",
       "4  Armillaria_gallica      Basidiomycota Yes\n",
       "5  Armillaria_ostoyae      Basidiomycota Yes\n",
       "6  Arthrobotrys_oligospora Ascomycota    Yes\n",
       "7  Arthroderma_benhamiae   Ascomycota    Yes\n",
       "8  Aspergillus_clavatus    Ascomycota    Yes\n",
       "9  Aspergillus_flavus      Ascomycota    No \n",
       "10 Aspergillus_kawachii    Ascomycota    No "
      ]
     },
     "metadata": {},
     "output_type": "display_data"
    }
   ],
   "source": [
    "## DFA data formating\n",
    " # We reformat the species names with the DFA information\n",
    "\n",
    "colnames(species_DFA_s)=c('tip.label','Phylum','DFA')\n",
    "species_DFA_s$tip.label=sub(' ','_',species_DFA_s$tip.label)\n",
    "\n",
    "head(species_DFA_s,10)\n"
   ]
  },
  {
   "cell_type": "code",
   "execution_count": 19,
   "id": "f4590101-9e55-463e-84e9-68a974b11db0",
   "metadata": {
    "vscode": {
     "languageId": "r"
    }
   },
   "outputs": [
    {
     "data": {
      "text/html": [
       "<table class=\"dataframe\">\n",
       "<caption>A data.frame: 10 × 9</caption>\n",
       "<thead>\n",
       "\t<tr><th></th><th scope=col>tip.label</th><th scope=col>Phylum</th><th scope=col>DFA</th><th scope=col>ascus_dehiscence</th><th scope=col>auxinResponsivePromoter_count</th><th scope=col>growth_form_fg</th><th scope=col>spore_length</th><th scope=col>spore_width</th><th scope=col>trophic_mode_fg</th></tr>\n",
       "\t<tr><th></th><th scope=col>&lt;chr&gt;</th><th scope=col>&lt;chr&gt;</th><th scope=col>&lt;chr&gt;</th><th scope=col>&lt;chr&gt;</th><th scope=col>&lt;chr&gt;</th><th scope=col>&lt;chr&gt;</th><th scope=col>&lt;chr&gt;</th><th scope=col>&lt;chr&gt;</th><th scope=col>&lt;chr&gt;</th></tr>\n",
       "</thead>\n",
       "<tbody>\n",
       "\t<tr><th scope=row>1</th><td>Agaricus_bisporus      </td><td>Basidiomycota</td><td>No </td><td>No</td><td>No </td><td>No </td><td>Yes</td><td>Yes</td><td>No </td></tr>\n",
       "\t<tr><th scope=row>2</th><td>Amanita_muscaria       </td><td>Basidiomycota</td><td>Yes</td><td>No</td><td>No </td><td>Yes</td><td>No </td><td>No </td><td>Yes</td></tr>\n",
       "\t<tr><th scope=row>3</th><td>Amanita_muscaria       </td><td>Basidiomycota</td><td>Yes</td><td>No</td><td>No </td><td>Yes</td><td>Yes</td><td>Yes</td><td>Yes</td></tr>\n",
       "\t<tr><th scope=row>4</th><td>Amanita_muscaria       </td><td>Basidiomycota</td><td>Yes</td><td>No</td><td>Yes</td><td>Yes</td><td>No </td><td>No </td><td>Yes</td></tr>\n",
       "\t<tr><th scope=row>5</th><td>Amanita_thiersii       </td><td>Basidiomycota</td><td>Yes</td><td>No</td><td>No </td><td>Yes</td><td>No </td><td>No </td><td>Yes</td></tr>\n",
       "\t<tr><th scope=row>6</th><td>Armillaria_gallica     </td><td>Basidiomycota</td><td>Yes</td><td>No</td><td>No </td><td>Yes</td><td>No </td><td>No </td><td>Yes</td></tr>\n",
       "\t<tr><th scope=row>7</th><td>Armillaria_ostoyae     </td><td>Basidiomycota</td><td>Yes</td><td>No</td><td>No </td><td>Yes</td><td>Yes</td><td>Yes</td><td>Yes</td></tr>\n",
       "\t<tr><th scope=row>8</th><td>Arthrobotrys_oligospora</td><td>Ascomycota   </td><td>Yes</td><td>No</td><td>Yes</td><td>No </td><td>No </td><td>No </td><td>No </td></tr>\n",
       "\t<tr><th scope=row>9</th><td>Arthroderma_benhamiae  </td><td>Ascomycota   </td><td>Yes</td><td>No</td><td>Yes</td><td>Yes</td><td>No </td><td>No </td><td>Yes</td></tr>\n",
       "\t<tr><th scope=row>10</th><td>Aspergillus_clavatus   </td><td>Ascomycota   </td><td>Yes</td><td>No</td><td>Yes</td><td>Yes</td><td>No </td><td>No </td><td>Yes</td></tr>\n",
       "</tbody>\n",
       "</table>\n"
      ],
      "text/latex": [
       "A data.frame: 10 × 9\n",
       "\\begin{tabular}{r|lllllllll}\n",
       "  & tip.label & Phylum & DFA & ascus\\_dehiscence & auxinResponsivePromoter\\_count & growth\\_form\\_fg & spore\\_length & spore\\_width & trophic\\_mode\\_fg\\\\\n",
       "  & <chr> & <chr> & <chr> & <chr> & <chr> & <chr> & <chr> & <chr> & <chr>\\\\\n",
       "\\hline\n",
       "\t1 & Agaricus\\_bisporus       & Basidiomycota & No  & No & No  & No  & Yes & Yes & No \\\\\n",
       "\t2 & Amanita\\_muscaria        & Basidiomycota & Yes & No & No  & Yes & No  & No  & Yes\\\\\n",
       "\t3 & Amanita\\_muscaria        & Basidiomycota & Yes & No & No  & Yes & Yes & Yes & Yes\\\\\n",
       "\t4 & Amanita\\_muscaria        & Basidiomycota & Yes & No & Yes & Yes & No  & No  & Yes\\\\\n",
       "\t5 & Amanita\\_thiersii        & Basidiomycota & Yes & No & No  & Yes & No  & No  & Yes\\\\\n",
       "\t6 & Armillaria\\_gallica      & Basidiomycota & Yes & No & No  & Yes & No  & No  & Yes\\\\\n",
       "\t7 & Armillaria\\_ostoyae      & Basidiomycota & Yes & No & No  & Yes & Yes & Yes & Yes\\\\\n",
       "\t8 & Arthrobotrys\\_oligospora & Ascomycota    & Yes & No & Yes & No  & No  & No  & No \\\\\n",
       "\t9 & Arthroderma\\_benhamiae   & Ascomycota    & Yes & No & Yes & Yes & No  & No  & Yes\\\\\n",
       "\t10 & Aspergillus\\_clavatus    & Ascomycota    & Yes & No & Yes & Yes & No  & No  & Yes\\\\\n",
       "\\end{tabular}\n"
      ],
      "text/markdown": [
       "\n",
       "A data.frame: 10 × 9\n",
       "\n",
       "| <!--/--> | tip.label &lt;chr&gt; | Phylum &lt;chr&gt; | DFA &lt;chr&gt; | ascus_dehiscence &lt;chr&gt; | auxinResponsivePromoter_count &lt;chr&gt; | growth_form_fg &lt;chr&gt; | spore_length &lt;chr&gt; | spore_width &lt;chr&gt; | trophic_mode_fg &lt;chr&gt; |\n",
       "|---|---|---|---|---|---|---|---|---|---|\n",
       "| 1 | Agaricus_bisporus       | Basidiomycota | No  | No | No  | No  | Yes | Yes | No  |\n",
       "| 2 | Amanita_muscaria        | Basidiomycota | Yes | No | No  | Yes | No  | No  | Yes |\n",
       "| 3 | Amanita_muscaria        | Basidiomycota | Yes | No | No  | Yes | Yes | Yes | Yes |\n",
       "| 4 | Amanita_muscaria        | Basidiomycota | Yes | No | Yes | Yes | No  | No  | Yes |\n",
       "| 5 | Amanita_thiersii        | Basidiomycota | Yes | No | No  | Yes | No  | No  | Yes |\n",
       "| 6 | Armillaria_gallica      | Basidiomycota | Yes | No | No  | Yes | No  | No  | Yes |\n",
       "| 7 | Armillaria_ostoyae      | Basidiomycota | Yes | No | No  | Yes | Yes | Yes | Yes |\n",
       "| 8 | Arthrobotrys_oligospora | Ascomycota    | Yes | No | Yes | No  | No  | No  | No  |\n",
       "| 9 | Arthroderma_benhamiae   | Ascomycota    | Yes | No | Yes | Yes | No  | No  | Yes |\n",
       "| 10 | Aspergillus_clavatus    | Ascomycota    | Yes | No | Yes | Yes | No  | No  | Yes |\n",
       "\n"
      ],
      "text/plain": [
       "   tip.label               Phylum        DFA ascus_dehiscence\n",
       "1  Agaricus_bisporus       Basidiomycota No  No              \n",
       "2  Amanita_muscaria        Basidiomycota Yes No              \n",
       "3  Amanita_muscaria        Basidiomycota Yes No              \n",
       "4  Amanita_muscaria        Basidiomycota Yes No              \n",
       "5  Amanita_thiersii        Basidiomycota Yes No              \n",
       "6  Armillaria_gallica      Basidiomycota Yes No              \n",
       "7  Armillaria_ostoyae      Basidiomycota Yes No              \n",
       "8  Arthrobotrys_oligospora Ascomycota    Yes No              \n",
       "9  Arthroderma_benhamiae   Ascomycota    Yes No              \n",
       "10 Aspergillus_clavatus    Ascomycota    Yes No              \n",
       "   auxinResponsivePromoter_count growth_form_fg spore_length spore_width\n",
       "1  No                            No             Yes          Yes        \n",
       "2  No                            Yes            No           No         \n",
       "3  No                            Yes            Yes          Yes        \n",
       "4  Yes                           Yes            No           No         \n",
       "5  No                            Yes            No           No         \n",
       "6  No                            Yes            No           No         \n",
       "7  No                            Yes            Yes          Yes        \n",
       "8  Yes                           No             No           No         \n",
       "9  Yes                           Yes            No           No         \n",
       "10 Yes                           Yes            No           No         \n",
       "   trophic_mode_fg\n",
       "1  No             \n",
       "2  Yes            \n",
       "3  Yes            \n",
       "4  Yes            \n",
       "5  Yes            \n",
       "6  Yes            \n",
       "7  Yes            \n",
       "8  No             \n",
       "9  Yes            \n",
       "10 Yes            "
      ]
     },
     "metadata": {},
     "output_type": "display_data"
    }
   ],
   "source": [
    "## We combine trait and DFA data into a single dataframe\n",
    "\n",
    "data_for_tree=left_join(species_DFA_s,trait_good_formated,by='tip.label')%>%distinct()\n",
    "\n",
    "head(data_for_tree,10)"
   ]
  },
  {
   "cell_type": "code",
   "execution_count": 20,
   "id": "ca2306f6-dc39-4a47-a7d4-1e3d38d92dc8",
   "metadata": {
    "vscode": {
     "languageId": "r"
    }
   },
   "outputs": [
    {
     "data": {
      "text/html": [
       "102"
      ],
      "text/latex": [
       "102"
      ],
      "text/markdown": [
       "102"
      ],
      "text/plain": [
       "[1] 102"
      ]
     },
     "metadata": {},
     "output_type": "display_data"
    }
   ],
   "source": [
    "## Obtain the list of species that are present in the tree and in the data_for_tree \n",
    "\n",
    "species_all=intersect(tree_tip, data_for_tree$tip.label)\n",
    "length(species_all)"
   ]
  },
  {
   "cell_type": "code",
   "execution_count": 21,
   "id": "e37f2302-e033-4087-afe0-54e2ba5f4249",
   "metadata": {
    "vscode": {
     "languageId": "r"
    }
   },
   "outputs": [],
   "source": [
    "## Trim tree \n",
    "tree_pruned=keep.tip(tree,species_all)\n"
   ]
  },
  {
   "cell_type": "code",
   "execution_count": 22,
   "id": "8fcc513f-767b-4155-adcd-ae1558afd3ad",
   "metadata": {
    "vscode": {
     "languageId": "r"
    }
   },
   "outputs": [
    {
     "data": {
      "text/html": [
       "<table class=\"dataframe\">\n",
       "<caption>A data.frame: 15 × 9</caption>\n",
       "<thead>\n",
       "\t<tr><th></th><th scope=col>tip.label</th><th scope=col>Phylum</th><th scope=col>DFA</th><th scope=col>ascus_dehiscence</th><th scope=col>auxinResponsivePromoter_count</th><th scope=col>growth_form_fg</th><th scope=col>spore_length</th><th scope=col>spore_width</th><th scope=col>trophic_mode_fg</th></tr>\n",
       "\t<tr><th></th><th scope=col>&lt;chr&gt;</th><th scope=col>&lt;chr&gt;</th><th scope=col>&lt;chr&gt;</th><th scope=col>&lt;chr&gt;</th><th scope=col>&lt;chr&gt;</th><th scope=col>&lt;chr&gt;</th><th scope=col>&lt;chr&gt;</th><th scope=col>&lt;chr&gt;</th><th scope=col>&lt;chr&gt;</th></tr>\n",
       "</thead>\n",
       "<tbody>\n",
       "\t<tr><th scope=row>117</th><td>Rhizophagus_clarus        </td><td>Mucoromycota </td><td>Yes</td><td>No</td><td>No </td><td>No </td><td>Yes</td><td>Yes</td><td>No </td></tr>\n",
       "\t<tr><th scope=row>45</th><td>Diversispora_epigaea      </td><td>Mucoromycota </td><td>Yes</td><td>No</td><td>No </td><td>No </td><td>Yes</td><td>Yes</td><td>No </td></tr>\n",
       "\t<tr><th scope=row>66</th><td>Gigaspora_rosea           </td><td>Mucoromycota </td><td>No </td><td>No</td><td>No </td><td>No </td><td>Yes</td><td>Yes</td><td>No </td></tr>\n",
       "\t<tr><th scope=row>142</th><td>Tremella_mesenterica      </td><td>Basidiomycota</td><td>No </td><td>No</td><td>Yes</td><td>Yes</td><td>No </td><td>No </td><td>Yes</td></tr>\n",
       "\t<tr><th scope=row>132</th><td>Sphaerobolus_stellatus    </td><td>Basidiomycota</td><td>Yes</td><td>No</td><td>Yes</td><td>No </td><td>No </td><td>No </td><td>No </td></tr>\n",
       "\t<tr><th scope=row>87</th><td>Moniliophthora_perniciosa </td><td>Basidiomycota</td><td>No </td><td>No</td><td>Yes</td><td>Yes</td><td>No </td><td>No </td><td>Yes</td></tr>\n",
       "\t<tr><th scope=row>37</th><td>Coprinopsis_cinerea       </td><td>Basidiomycota</td><td>No </td><td>No</td><td>Yes</td><td>Yes</td><td>No </td><td>No </td><td>Yes</td></tr>\n",
       "\t<tr><th scope=row>1</th><td>Laccaria_bicolor          </td><td>Basidiomycota</td><td>Yes</td><td>No</td><td>Yes</td><td>No </td><td>Yes</td><td>Yes</td><td>No </td></tr>\n",
       "\t<tr><th scope=row>11</th><td>Agaricus_bisporus         </td><td>Basidiomycota</td><td>No </td><td>No</td><td>No </td><td>No </td><td>Yes</td><td>Yes</td><td>No </td></tr>\n",
       "\t<tr><th scope=row>12</th><td>Amanita_muscaria          </td><td>Basidiomycota</td><td>Yes</td><td>No</td><td>Yes</td><td>Yes</td><td>Yes</td><td>Yes</td><td>Yes</td></tr>\n",
       "\t<tr><th scope=row>70</th><td>Gymnopus_androsaceus      </td><td>Basidiomycota</td><td>Yes</td><td>No</td><td>No </td><td>No </td><td>Yes</td><td>Yes</td><td>No </td></tr>\n",
       "\t<tr><th scope=row>40</th><td>Cylindrobasidium_torrendii</td><td>Basidiomycota</td><td>Yes</td><td>No</td><td>Yes</td><td>No </td><td>No </td><td>No </td><td>No </td></tr>\n",
       "\t<tr><th scope=row>6</th><td>Armillaria_gallica        </td><td>Basidiomycota</td><td>Yes</td><td>No</td><td>No </td><td>Yes</td><td>No </td><td>No </td><td>Yes</td></tr>\n",
       "\t<tr><th scope=row>7</th><td>Armillaria_ostoyae        </td><td>Basidiomycota</td><td>Yes</td><td>No</td><td>No </td><td>Yes</td><td>Yes</td><td>Yes</td><td>Yes</td></tr>\n",
       "\t<tr><th scope=row>13</th><td>Pleurotus_ostreatus       </td><td>Basidiomycota</td><td>No </td><td>No</td><td>Yes</td><td>Yes</td><td>No </td><td>No </td><td>Yes</td></tr>\n",
       "</tbody>\n",
       "</table>\n"
      ],
      "text/latex": [
       "A data.frame: 15 × 9\n",
       "\\begin{tabular}{r|lllllllll}\n",
       "  & tip.label & Phylum & DFA & ascus\\_dehiscence & auxinResponsivePromoter\\_count & growth\\_form\\_fg & spore\\_length & spore\\_width & trophic\\_mode\\_fg\\\\\n",
       "  & <chr> & <chr> & <chr> & <chr> & <chr> & <chr> & <chr> & <chr> & <chr>\\\\\n",
       "\\hline\n",
       "\t117 & Rhizophagus\\_clarus         & Mucoromycota  & Yes & No & No  & No  & Yes & Yes & No \\\\\n",
       "\t45 & Diversispora\\_epigaea       & Mucoromycota  & Yes & No & No  & No  & Yes & Yes & No \\\\\n",
       "\t66 & Gigaspora\\_rosea            & Mucoromycota  & No  & No & No  & No  & Yes & Yes & No \\\\\n",
       "\t142 & Tremella\\_mesenterica       & Basidiomycota & No  & No & Yes & Yes & No  & No  & Yes\\\\\n",
       "\t132 & Sphaerobolus\\_stellatus     & Basidiomycota & Yes & No & Yes & No  & No  & No  & No \\\\\n",
       "\t87 & Moniliophthora\\_perniciosa  & Basidiomycota & No  & No & Yes & Yes & No  & No  & Yes\\\\\n",
       "\t37 & Coprinopsis\\_cinerea        & Basidiomycota & No  & No & Yes & Yes & No  & No  & Yes\\\\\n",
       "\t1 & Laccaria\\_bicolor           & Basidiomycota & Yes & No & Yes & No  & Yes & Yes & No \\\\\n",
       "\t11 & Agaricus\\_bisporus          & Basidiomycota & No  & No & No  & No  & Yes & Yes & No \\\\\n",
       "\t12 & Amanita\\_muscaria           & Basidiomycota & Yes & No & Yes & Yes & Yes & Yes & Yes\\\\\n",
       "\t70 & Gymnopus\\_androsaceus       & Basidiomycota & Yes & No & No  & No  & Yes & Yes & No \\\\\n",
       "\t40 & Cylindrobasidium\\_torrendii & Basidiomycota & Yes & No & Yes & No  & No  & No  & No \\\\\n",
       "\t6 & Armillaria\\_gallica         & Basidiomycota & Yes & No & No  & Yes & No  & No  & Yes\\\\\n",
       "\t7 & Armillaria\\_ostoyae         & Basidiomycota & Yes & No & No  & Yes & Yes & Yes & Yes\\\\\n",
       "\t13 & Pleurotus\\_ostreatus        & Basidiomycota & No  & No & Yes & Yes & No  & No  & Yes\\\\\n",
       "\\end{tabular}\n"
      ],
      "text/markdown": [
       "\n",
       "A data.frame: 15 × 9\n",
       "\n",
       "| <!--/--> | tip.label &lt;chr&gt; | Phylum &lt;chr&gt; | DFA &lt;chr&gt; | ascus_dehiscence &lt;chr&gt; | auxinResponsivePromoter_count &lt;chr&gt; | growth_form_fg &lt;chr&gt; | spore_length &lt;chr&gt; | spore_width &lt;chr&gt; | trophic_mode_fg &lt;chr&gt; |\n",
       "|---|---|---|---|---|---|---|---|---|---|\n",
       "| 117 | Rhizophagus_clarus         | Mucoromycota  | Yes | No | No  | No  | Yes | Yes | No  |\n",
       "| 45 | Diversispora_epigaea       | Mucoromycota  | Yes | No | No  | No  | Yes | Yes | No  |\n",
       "| 66 | Gigaspora_rosea            | Mucoromycota  | No  | No | No  | No  | Yes | Yes | No  |\n",
       "| 142 | Tremella_mesenterica       | Basidiomycota | No  | No | Yes | Yes | No  | No  | Yes |\n",
       "| 132 | Sphaerobolus_stellatus     | Basidiomycota | Yes | No | Yes | No  | No  | No  | No  |\n",
       "| 87 | Moniliophthora_perniciosa  | Basidiomycota | No  | No | Yes | Yes | No  | No  | Yes |\n",
       "| 37 | Coprinopsis_cinerea        | Basidiomycota | No  | No | Yes | Yes | No  | No  | Yes |\n",
       "| 1 | Laccaria_bicolor           | Basidiomycota | Yes | No | Yes | No  | Yes | Yes | No  |\n",
       "| 11 | Agaricus_bisporus          | Basidiomycota | No  | No | No  | No  | Yes | Yes | No  |\n",
       "| 12 | Amanita_muscaria           | Basidiomycota | Yes | No | Yes | Yes | Yes | Yes | Yes |\n",
       "| 70 | Gymnopus_androsaceus       | Basidiomycota | Yes | No | No  | No  | Yes | Yes | No  |\n",
       "| 40 | Cylindrobasidium_torrendii | Basidiomycota | Yes | No | Yes | No  | No  | No  | No  |\n",
       "| 6 | Armillaria_gallica         | Basidiomycota | Yes | No | No  | Yes | No  | No  | Yes |\n",
       "| 7 | Armillaria_ostoyae         | Basidiomycota | Yes | No | No  | Yes | Yes | Yes | Yes |\n",
       "| 13 | Pleurotus_ostreatus        | Basidiomycota | No  | No | Yes | Yes | No  | No  | Yes |\n",
       "\n"
      ],
      "text/plain": [
       "    tip.label                  Phylum        DFA ascus_dehiscence\n",
       "117 Rhizophagus_clarus         Mucoromycota  Yes No              \n",
       "45  Diversispora_epigaea       Mucoromycota  Yes No              \n",
       "66  Gigaspora_rosea            Mucoromycota  No  No              \n",
       "142 Tremella_mesenterica       Basidiomycota No  No              \n",
       "132 Sphaerobolus_stellatus     Basidiomycota Yes No              \n",
       "87  Moniliophthora_perniciosa  Basidiomycota No  No              \n",
       "37  Coprinopsis_cinerea        Basidiomycota No  No              \n",
       "1   Laccaria_bicolor           Basidiomycota Yes No              \n",
       "11  Agaricus_bisporus          Basidiomycota No  No              \n",
       "12  Amanita_muscaria           Basidiomycota Yes No              \n",
       "70  Gymnopus_androsaceus       Basidiomycota Yes No              \n",
       "40  Cylindrobasidium_torrendii Basidiomycota Yes No              \n",
       "6   Armillaria_gallica         Basidiomycota Yes No              \n",
       "7   Armillaria_ostoyae         Basidiomycota Yes No              \n",
       "13  Pleurotus_ostreatus        Basidiomycota No  No              \n",
       "    auxinResponsivePromoter_count growth_form_fg spore_length spore_width\n",
       "117 No                            No             Yes          Yes        \n",
       "45  No                            No             Yes          Yes        \n",
       "66  No                            No             Yes          Yes        \n",
       "142 Yes                           Yes            No           No         \n",
       "132 Yes                           No             No           No         \n",
       "87  Yes                           Yes            No           No         \n",
       "37  Yes                           Yes            No           No         \n",
       "1   Yes                           No             Yes          Yes        \n",
       "11  No                            No             Yes          Yes        \n",
       "12  Yes                           Yes            Yes          Yes        \n",
       "70  No                            No             Yes          Yes        \n",
       "40  Yes                           No             No           No         \n",
       "6   No                            Yes            No           No         \n",
       "7   No                            Yes            Yes          Yes        \n",
       "13  Yes                           Yes            No           No         \n",
       "    trophic_mode_fg\n",
       "117 No             \n",
       "45  No             \n",
       "66  No             \n",
       "142 Yes            \n",
       "132 No             \n",
       "87  Yes            \n",
       "37  Yes            \n",
       "1   No             \n",
       "11  No             \n",
       "12  Yes            \n",
       "70  No             \n",
       "40  No             \n",
       "6   Yes            \n",
       "7   Yes            \n",
       "13  Yes            "
      ]
     },
     "metadata": {},
     "output_type": "display_data"
    }
   ],
   "source": [
    "## Collapse species trait information in a single row/species - in some cases 1 species may have trait information distributed on multiple rows and we collapse them into a single row\n",
    "\n",
    "tax_trait_DFA=subset(data_for_tree, data_for_tree$tip.label%in%species_all)\n",
    "\n",
    "tax_trait_DFA_simp=data.frame()\n",
    "\n",
    "for(i in 1:length(species_all)){\n",
    "  dat=subset(tax_trait_DFA, tax_trait_DFA$tip.label==species_all[i])\n",
    "  if (dim(dat)[1]==1){\n",
    "    dat_temp=dat\n",
    "    tax_trait_DFA_simp=rbind(tax_trait_DFA_simp,dat_temp)\n",
    "    \n",
    "  } else {\n",
    "    dat_temp_2=matrix(nrow=1,ncol=9)\n",
    "    colnames(dat_temp_2)=colnames(tax_trait_DFA)\n",
    "    dat_temp_2[1,1]=species_all[i]\n",
    "    dat_temp_2[1,2]=c(unique(dat[,2]))\n",
    "    dat_temp_2[1,3]=c(unique(dat[,2]))\n",
    "    for (j in 3:dim(tax_trait_DFA)[2]){\n",
    "      trait=c(unique(dat[,j]))\n",
    "      if (length(trait)==1){\n",
    "        dat_temp_2[1,j]=trait \n",
    "      } else {\n",
    "        dat_temp_2[1,j]='Yes'\n",
    "      }\n",
    "    }\n",
    "    dat_temp_df=as.data.frame(dat_temp_2)\n",
    "    tax_trait_DFA_simp=rbind(tax_trait_DFA_simp, dat_temp_df)\n",
    "  }\n",
    "}\n",
    "\n",
    "head(tax_trait_DFA_simp,15)"
   ]
  },
  {
   "cell_type": "code",
   "execution_count": 23,
   "id": "c19dcda6-86b6-4256-b285-23e0eedea1ee",
   "metadata": {
    "vscode": {
     "languageId": "r"
    }
   },
   "outputs": [],
   "source": [
    "## Finalize data reformating/gathering for second layer of mapping for trait (heatmap)\n",
    "    # determine phylum levels\n",
    "    # gather traits\n",
    "    #determine traits levels\n",
    "\n",
    "tax_trait_DFA_simp$Phylum=factor(tax_trait_DFA_simp$Phylum,levels=c('Ascomycota','Basidiomycota','Mucoromycota','Zoopagomycota',\n",
    "                                                  'Cryptomycota'))\n",
    "\n",
    "tax_trait_g=gather(tax_trait_DFA_simp,Trait,Status,ascus_dehiscence:trophic_mode_fg)\n",
    "tax_trait_g$Trait=factor(tax_trait_g$Trait,levels=c(\"growth_form_fg\",\"trophic_mode_fg\",\n",
    "                                                    \"spore_length\" ,\"spore_width\",\n",
    "                                                    'ascus_dehiscence',\"auxinResponsivePromoter_count\"))"
   ]
  },
  {
   "cell_type": "code",
   "execution_count": 24,
   "id": "70e85716-aa09-4495-992a-e18b44a3a132",
   "metadata": {
    "vscode": {
     "languageId": "r"
    }
   },
   "outputs": [
    {
     "name": "stderr",
     "output_type": "stream",
     "text": [
      "Warning message:\n",
      "“The following column names/name: Phylum, DFA are/is the same to tree\n",
      "data, the tree data column names are : label, y, angle, Phylum, DFA,\n",
      "ascus_dehiscence, auxinResponsivePromoter_count, growth_form_fg,\n",
      "spore_length, spore_width, trophic_mode_fg, xmaxtmp.”\n",
      "\u001b[36mℹ\u001b[39m \u001b[90minvalid tbl_tree object. Missing column: parent,node.\u001b[39m\n",
      "\n",
      "\u001b[36mℹ\u001b[39m \u001b[90minvalid tbl_tree object. Missing column: parent,node.\u001b[39m\n",
      "\n"
     ]
    },
    {
     "data": {
      "image/png": "[encoded data removed]",
      "text/plain": [
       "plot without title"
      ]
     },
     "metadata": {
      "image/png": {
       "height": 420,
       "width": 420
      }
     },
     "output_type": "display_data"
    }
   ],
   "source": [
    "## Tree - Figure 5\n",
    "\n",
    " # Color palette\n",
    "accent_phylum <- c('#5088C5', '#F28360', '#F7B846', '#97CD78',\n",
    "                    '#3B9886')\n",
    "\n",
    " #base tree\n",
    "\n",
    "tree_base=ggtree(tree_pruned, branch.length=\"branch.length\")  %<+% tax_trait_DFA_simp\n",
    "\n",
    " # add branch color for phylum\n",
    "tree_base_col=tree_base+ aes(color=Phylum)+\n",
    "  scale_color_manual(values=c(accent_phylum))+\n",
    "  theme(legend.position = 'bottom')\n",
    "\n",
    " # add DFA information as a single heatmap to map presence/absence of DFA for each species\n",
    "tree_base_fsa= tree_base_col + geom_fruit(geom=geom_tile,\n",
    "                                          mapping=aes( y=tip.label, fill=DFA, width=7, height=1),\n",
    "                                          color = \"gray\", offset=0.01) +\n",
    "               scale_fill_manual(values=c('#EBEDE8','#BABEE0'))\n",
    "\n",
    " # add trait absence/presence information\n",
    "tree_trait=tree_base_fsa + new_scale_fill()+\n",
    "  geom_fruit(data=tax_trait_g,\n",
    "             geom=geom_tile,\n",
    "             mapping=aes( y=tip.label, x=Trait, fill=Status, width=7, height=1),\n",
    "             color = \"gray\", offset=0.01)+\n",
    "  scale_fill_manual(values=c('white','gray23'))\n",
    "\n",
    "tree_trait\n",
    "\n"
   ]
  },
  {
   "cell_type": "code",
   "execution_count": null,
   "id": "d5f3e033-9596-4279-9fe0-c3c3a4f298cb",
   "metadata": {
    "vscode": {
     "languageId": "r"
    }
   },
   "outputs": [],
   "source": []
  },
  {
   "cell_type": "code",
   "execution_count": 25,
   "id": "33221937-5fbd-4b01-85a3-fcfed875b9d0",
   "metadata": {
    "vscode": {
     "languageId": "r"
    }
   },
   "outputs": [
    {
     "data": {
      "text/plain": [
       "R version 4.2.1 (2022-06-23)\n",
       "Platform: x86_64-apple-darwin13.4.0 (64-bit)\n",
       "Running under: macOS Big Sur ... 10.16\n",
       "\n",
       "Matrix products: default\n",
       "BLAS/LAPACK: /Users/manonmorin/miniconda3/envs/R_good_env/lib/libopenblasp-r0.3.24.dylib\n",
       "\n",
       "locale:\n",
       "[1] en_US.UTF-8/en_US.UTF-8/en_US.UTF-8/C/en_US.UTF-8/en_US.UTF-8\n",
       "\n",
       "attached base packages:\n",
       "[1] stats     graphics  grDevices utils     datasets  methods   base     \n",
       "\n",
       "other attached packages:\n",
       " [1] ape_5.7-1         ggnewscale_0.4.9  ggtreeExtra_1.8.0 ggtree_3.6.0     \n",
       " [5] forcats_1.0.0     stringr_1.5.1     purrr_1.0.2       readr_2.1.4      \n",
       " [9] tidyr_1.3.0       tibble_3.2.1      ggplot2_3.4.4     tidyverse_1.3.1  \n",
       "[13] dplyr_1.1.4      \n",
       "\n",
       "loaded via a namespace (and not attached):\n",
       " [1] httr_1.4.7         jsonlite_1.8.7     modelr_0.1.11      yulab.utils_0.1.0 \n",
       " [5] cellranger_1.1.0   pillar_1.9.0       backports_1.4.1    lattice_0.22-5    \n",
       " [9] glue_1.6.2         uuid_1.1-1         digest_0.6.33      rvest_1.0.3       \n",
       "[13] colorspace_2.1-0   ggfun_0.1.3        htmltools_0.5.7    pkgconfig_2.0.3   \n",
       "[17] broom_1.0.5        haven_2.5.3        patchwork_1.1.3    tidytree_0.4.5    \n",
       "[21] scales_1.2.1       ggplotify_0.1.2    tzdb_0.4.0         timechange_0.2.0  \n",
       "[25] farver_2.1.1       generics_0.1.3     cachem_1.0.8       withr_2.5.2       \n",
       "[29] repr_1.1.6         lazyeval_0.2.2     cli_3.6.1          magrittr_2.0.3    \n",
       "[33] crayon_1.5.2       readxl_1.4.3       memoise_2.0.1      evaluate_0.23     \n",
       "[37] fs_1.6.3           fansi_1.0.5        nlme_3.1-163       xml2_1.3.3        \n",
       "[41] tools_4.2.1        hms_1.1.3          lifecycle_1.0.4    aplot_0.2.2       \n",
       "[45] munsell_0.5.0      reprex_2.0.2       compiler_4.2.1     gridGraphics_0.5-1\n",
       "[49] rlang_1.1.2        grid_4.2.1         pbdZMQ_0.3-10      IRkernel_1.3.2    \n",
       "[53] rstudioapi_0.15.0  base64enc_0.1-3    labeling_0.4.3     gtable_0.3.4      \n",
       "[57] DBI_1.1.3          R6_2.5.1           lubridate_1.9.3    fastmap_1.1.1     \n",
       "[61] utf8_1.2.4         treeio_1.22.0      stringi_1.8.1      parallel_4.2.1    \n",
       "[65] IRdisplay_1.1      Rcpp_1.0.11        vctrs_0.6.4        dbplyr_2.4.0      \n",
       "[69] tidyselect_1.2.0  "
      ]
     },
     "metadata": {},
     "output_type": "display_data"
    }
   ],
   "source": [
    "sessionInfo()"
   ]
  }
 ],
 "metadata": {
  "kernelspec": {
   "display_name": "R",
   "language": "R",
   "name": "ir"
  },
  "language_info": {
   "codemirror_mode": "r",
   "file_extension": ".r",
   "mimetype": "text/x-r-source",
   "name": "R",
   "pygments_lexer": "r",
   "version": "4.2.1"
  }
 },
 "nbformat": 4,
 "nbformat_minor": 5
}
