{
 "cells": [
  {
   "cell_type": "markdown",
   "id": "6338a08d",
   "metadata": {},
   "source": [
    "## Extented Divergent Fungal Actin (DFA) set - Taxonomic analysis - Kingdom level distribution\n",
    "\n",
    "**Notebook summary**\n",
    "\n",
    "This Jupyter Notebook:\n",
    "- Sorts taxonomic information of the species from the extented cluster into kingdom, phylum and order taxonomic ranks\n",
    "- Is associated with Step 1 of the Pub approach: Expanding the initial set of fungal species that possess DFA\n",
    "- Provides the code for the Pub Figures 4A\n",
    "\n",
    "\n",
    "**Context/Goal reminder**\n",
    "Divergent Fungal Actins (DFAs) have been identified in another Arcadia's project as potentially new actin isoform mainly found in Fungi. In this work, we have identified an extented set of 436 DFA sequences by combining the 2 new clusters identified in the DFA ProteinCartography run and the original DFA cluster. While the original cluster mainly contain fungal species, we want to characterize the kingdom-level distribution of the organisms that possess DFA in the extended cluster. \n",
    "\n",
    "**Notebook purpose**\n",
    "The purpose of this notebook is to investigate the extended set of DFA sequences and the taxonomy of the associated species. In this notebook, we:\n",
    "- characterize the different kingdom where DFA is found\n",
    "- visualize the distribution of DFA at the kingdom level"
   ]
  },
  {
   "cell_type": "markdown",
   "id": "41cb4f96",
   "metadata": {},
   "source": [
    "---"
   ]
  },
  {
   "cell_type": "markdown",
   "id": "f7917312",
   "metadata": {},
   "source": [
    "### Setup path and environment"
   ]
  },
  {
   "cell_type": "code",
   "execution_count": 17,
   "id": "8c792da8",
   "metadata": {
    "vscode": {
     "languageId": "r"
    }
   },
   "outputs": [
    {
     "name": "stderr",
     "output_type": "stream",
     "text": [
      "Warning message:\n",
      "“package ‘ape’ was built under R version 4.2.2”\n",
      "\n",
      "Attaching package: ‘ape’\n",
      "\n",
      "\n",
      "The following object is masked from ‘package:ggtree’:\n",
      "\n",
      "    rotate\n",
      "\n",
      "\n"
     ]
    }
   ],
   "source": [
    "setwd('..')\n",
    "\n",
    "library(tidyverse)\n",
    "library(ggplot2)\n",
    "library(ggtree)\n",
    "library(ape)"
   ]
  },
  {
   "cell_type": "markdown",
   "id": "d74b026b",
   "metadata": {},
   "source": [
    "### Function definition"
   ]
  },
  {
   "cell_type": "code",
   "execution_count": 1,
   "id": "21231778",
   "metadata": {
    "vscode": {
     "languageId": "r"
    }
   },
   "outputs": [],
   "source": [
    "# For each protein ID, the function extracts the associated organism information as well as its lineage information -\n",
    "# We further parse lineage information associated with 'Kingdom', 'phylum' ,'class' and 'order' when available\n",
    "\n",
    "\n",
    "lin_inf_str=function(data){\n",
    "  dat=data[,c('protid','Organism','Taxonomic.lineage')]\n",
    "  \n",
    "  data_taxo=data.frame()\n",
    "  \n",
    "  for (i in 1:dim(dat)[1]){\n",
    "    line=dat[i,'Taxonomic.lineage']\n",
    "    vec_lin=c(strsplit(line, \",\")[[1]])\n",
    "    \n",
    "    #extraction of kingdom info\n",
    "    loc_king=grep('(kingdom)',vec_lin,fixed=TRUE)\n",
    "    \n",
    "    king_inf=vec_lin[loc_king]\n",
    "    \n",
    "    if (length(loc_king)>=1){\n",
    "      vec_kin=c(strsplit(king_inf, \" \")[[1]])\n",
    "      \n",
    "      kingdom=vec_kin[2]\n",
    "      \n",
    "    }\n",
    "    \n",
    "    if (length(loc_king)==0){\n",
    "      kingdom='no_kingdom_rank'\n",
    "    }\n",
    "    \n",
    "    #extraction of phylum info\n",
    "    loc_phy=grep('(phylum)',vec_lin,fixed=TRUE)\n",
    "    \n",
    "    phy_inf=vec_lin[loc_phy]\n",
    "    \n",
    "    if (length(loc_phy)>=1){\n",
    "      vec_phy=c(strsplit(phy_inf, \" \")[[1]])\n",
    "      \n",
    "      phylum=vec_phy[2]\n",
    "      \n",
    "    }\n",
    "    \n",
    "    if (length(loc_phy)==0){\n",
    "      phylum='no_phylum_rank'\n",
    "    }\n",
    "    \n",
    "    #extraction of order info\n",
    "    loc_ord=grep('(order)',vec_lin,fixed=TRUE)\n",
    "    \n",
    "    ord_inf=vec_lin[loc_ord]\n",
    "    \n",
    "    if (length(loc_ord)>=1){\n",
    "      vec_ord=c(strsplit(ord_inf, \" \")[[1]])\n",
    "      \n",
    "      orderO=vec_ord[2]\n",
    "      \n",
    "    }\n",
    "    \n",
    "    if (length(loc_ord)==0){\n",
    "      orderO='no_order_rank'\n",
    "    }\n",
    "    \n",
    "    dat_temp=data.frame(dat[i,],\n",
    "                        'Kingdom'=kingdom,'Phylum'=phylum,'Order'=orderO)\n",
    "    \n",
    "    data_taxo=rbind(data_taxo,dat_temp)\n",
    "\n",
    "  }\n",
    "  \n",
    "  data_taxo\n",
    "  \n",
    "}"
   ]
  },
  {
   "cell_type": "markdown",
   "id": "7db4e869",
   "metadata": {},
   "source": [
    "### Analysis"
   ]
  },
  {
   "cell_type": "code",
   "execution_count": 7,
   "id": "b7635560",
   "metadata": {
    "vscode": {
     "languageId": "r"
    }
   },
   "outputs": [],
   "source": [
    "## Data import\n",
    "\n",
    "data_ext=read.csv('data/step1/Extended_cluster_hits_DFA.csv')  # file with extended cluster information (resulting from the combnation of the new ProteinCartography DFA clusters and original DFA cluster)"
   ]
  },
  {
   "cell_type": "code",
   "execution_count": 8,
   "id": "a7f30740",
   "metadata": {
    "vscode": {
     "languageId": "r"
    }
   },
   "outputs": [
    {
     "data": {
      "text/html": [
       "<table class=\"dataframe\">\n",
       "<caption>A data.frame: 10 × 6</caption>\n",
       "<thead>\n",
       "\t<tr><th></th><th scope=col>protid</th><th scope=col>Organism</th><th scope=col>Taxonomic.lineage</th><th scope=col>Kingdom</th><th scope=col>Phylum</th><th scope=col>Order</th></tr>\n",
       "\t<tr><th></th><th scope=col>&lt;chr&gt;</th><th scope=col>&lt;chr&gt;</th><th scope=col>&lt;chr&gt;</th><th scope=col>&lt;chr&gt;</th><th scope=col>&lt;chr&gt;</th><th scope=col>&lt;chr&gt;</th></tr>\n",
       "</thead>\n",
       "<tbody>\n",
       "\t<tr><th scope=row>1</th><td>A0A015ICG5</td><td>Rhizophagus irregularis (strain DAOM 197198w) (Glomus intraradices)                                      </td><td>cellular organisms (no rank), Eukaryota (superkingdom), Opisthokonta (no rank), Fungi (kingdom), Fungi incertae sedis (no rank), Mucoromycota (phylum), Glomeromycotina (subphylum), Glomeromycetes (class), Glomerales (order), Glomeraceae (family), Rhizophagus (genus), Rhizophagus irregularis (species)                                                                        </td><td>Fungi</td><td>Mucoromycota   </td><td>Glomerales     </td></tr>\n",
       "\t<tr><th scope=row>2</th><td>A0A0B7FRH7</td><td>Thanatephorus cucumeris (strain AG1-IB / isolate 7/3/14) (Lettuce bottom rot fungus) (Rhizoctonia solani)</td><td>cellular organisms (no rank), Eukaryota (superkingdom), Opisthokonta (no rank), Fungi (kingdom), Dikarya (subkingdom), Basidiomycota (phylum), Agaricomycotina (subphylum), Agaricomycetes (class), Agaricomycetes incertae sedis (no rank), Cantharellales (order), Ceratobasidiaceae (family), Rhizoctonia (genus), Rhizoctonia solani (species), Rhizoctonia solani AG-1 (no rank)</td><td>Fungi</td><td>Basidiomycota  </td><td>Cantharellales </td></tr>\n",
       "\t<tr><th scope=row>3</th><td>A0A1E3I214</td><td>Cryptococcus depauperatus CBS 7841                                                                       </td><td>cellular organisms (no rank), Eukaryota (superkingdom), Opisthokonta (no rank), Fungi (kingdom), Dikarya (subkingdom), Basidiomycota (phylum), Agaricomycotina (subphylum), Tremellomycetes (class), Tremellales (order), Cryptococcaceae (family), Cryptococcus (genus), Cryptococcus depauperatus (species)                                                                        </td><td>Fungi</td><td>Basidiomycota  </td><td>Tremellales    </td></tr>\n",
       "\t<tr><th scope=row>4</th><td>A0A4P9W5S9</td><td>Blyttiomyces helicus                                                                                     </td><td>cellular organisms (no rank), Eukaryota (superkingdom), Opisthokonta (no rank), Fungi (kingdom), Fungi incertae sedis (no rank), Chytridiomycota (phylum), Chytridiomycota incertae sedis (no rank), Chytridiomycetes (class), Chytridiomycetes incertae sedis (no rank), Blyttiomyces (genus)                                                                                       </td><td>Fungi</td><td>Chytridiomycota</td><td>no_order_rank  </td></tr>\n",
       "\t<tr><th scope=row>5</th><td>C6H2X6    </td><td>Ajellomyces capsulatus (strain H143) (Darling's disease fungus) (Histoplasma capsulatum)                 </td><td>cellular organisms (no rank), Eukaryota (superkingdom), Opisthokonta (no rank), Fungi (kingdom), Dikarya (subkingdom), Ascomycota (phylum), saccharomyceta (no rank), Pezizomycotina (subphylum), leotiomyceta (no rank), Eurotiomycetes (class), Eurotiomycetidae (subclass), Onygenales (order), Ajellomycetaceae (family), Histoplasma (genus), Ajellomyces capsulatus (species)  </td><td>Fungi</td><td>Ascomycota     </td><td>Onygenales     </td></tr>\n",
       "\t<tr><th scope=row>6</th><td>A0A507EZQ4</td><td>Chytriomyces confervae                                                                                   </td><td>cellular organisms (no rank), Eukaryota (superkingdom), Opisthokonta (no rank), Fungi (kingdom), Fungi incertae sedis (no rank), Chytridiomycota (phylum), Chytridiomycota incertae sedis (no rank), Chytridiomycetes (class), Chytridiales (order), Chytriomycetaceae (family), Chytriomyces (genus)                                                                                </td><td>Fungi</td><td>Chytridiomycota</td><td>Chytridiales   </td></tr>\n",
       "\t<tr><th scope=row>7</th><td>A0A1M8A8G9</td><td>Malassezia sympodialis (strain ATCC 42132) (Atopic eczema-associated yeast)                              </td><td>cellular organisms (no rank), Eukaryota (superkingdom), Opisthokonta (no rank), Fungi (kingdom), Dikarya (subkingdom), Basidiomycota (phylum), Ustilaginomycotina (subphylum), Malasseziomycetes (class), Malasseziales (order), Malasseziaceae (family), Malassezia (genus), Malassezia sympodialis (species)                                                                       </td><td>Fungi</td><td>Basidiomycota  </td><td>Malasseziales  </td></tr>\n",
       "\t<tr><th scope=row>8</th><td>U5HBM6    </td><td>Microbotryum lychnidis-dioicae (strain p1A1 Lamole / MvSl-1064) (Anther smut fungus)                     </td><td>cellular organisms (no rank), Eukaryota (superkingdom), Opisthokonta (no rank), Fungi (kingdom), Dikarya (subkingdom), Basidiomycota (phylum), Pucciniomycotina (subphylum), Microbotryomycetes (class), Microbotryales (order), Microbotryaceae (family), Microbotryum (genus), Microbotryum lychnidis-dioicae (species)                                                            </td><td>Fungi</td><td>Basidiomycota  </td><td>Microbotryales </td></tr>\n",
       "\t<tr><th scope=row>9</th><td>A0A8A3P372</td><td>Monilinia vaccinii-corymbosi                                                                             </td><td>cellular organisms (no rank), Eukaryota (superkingdom), Opisthokonta (no rank), Fungi (kingdom), Dikarya (subkingdom), Ascomycota (phylum), saccharomyceta (no rank), Pezizomycotina (subphylum), leotiomyceta (no rank), sordariomyceta (no rank), Leotiomycetes (class), Helotiales (order), Sclerotiniaceae (family), Monilinia (genus)                                           </td><td>Fungi</td><td>Ascomycota     </td><td>Helotiales     </td></tr>\n",
       "\t<tr><th scope=row>10</th><td>A0A2T0AG86</td><td>Rhodosporidium toruloides (Yeast) (Rhodotorula gracilis)                                                 </td><td>cellular organisms (no rank), Eukaryota (superkingdom), Opisthokonta (no rank), Fungi (kingdom), Dikarya (subkingdom), Basidiomycota (phylum), Pucciniomycotina (subphylum), Microbotryomycetes (class), Sporidiobolales (order), Sporidiobolaceae (family), Rhodotorula (genus)                                                                                                     </td><td>Fungi</td><td>Basidiomycota  </td><td>Sporidiobolales</td></tr>\n",
       "</tbody>\n",
       "</table>\n"
      ],
      "text/latex": [
       "A data.frame: 10 × 6\n",
       "\\begin{tabular}{r|llllll}\n",
       "  & protid & Organism & Taxonomic.lineage & Kingdom & Phylum & Order\\\\\n",
       "  & <chr> & <chr> & <chr> & <chr> & <chr> & <chr>\\\\\n",
       "\\hline\n",
       "\t1 & A0A015ICG5 & Rhizophagus irregularis (strain DAOM 197198w) (Glomus intraradices)                                       & cellular organisms (no rank), Eukaryota (superkingdom), Opisthokonta (no rank), Fungi (kingdom), Fungi incertae sedis (no rank), Mucoromycota (phylum), Glomeromycotina (subphylum), Glomeromycetes (class), Glomerales (order), Glomeraceae (family), Rhizophagus (genus), Rhizophagus irregularis (species)                                                                         & Fungi & Mucoromycota    & Glomerales     \\\\\n",
       "\t2 & A0A0B7FRH7 & Thanatephorus cucumeris (strain AG1-IB / isolate 7/3/14) (Lettuce bottom rot fungus) (Rhizoctonia solani) & cellular organisms (no rank), Eukaryota (superkingdom), Opisthokonta (no rank), Fungi (kingdom), Dikarya (subkingdom), Basidiomycota (phylum), Agaricomycotina (subphylum), Agaricomycetes (class), Agaricomycetes incertae sedis (no rank), Cantharellales (order), Ceratobasidiaceae (family), Rhizoctonia (genus), Rhizoctonia solani (species), Rhizoctonia solani AG-1 (no rank) & Fungi & Basidiomycota   & Cantharellales \\\\\n",
       "\t3 & A0A1E3I214 & Cryptococcus depauperatus CBS 7841                                                                        & cellular organisms (no rank), Eukaryota (superkingdom), Opisthokonta (no rank), Fungi (kingdom), Dikarya (subkingdom), Basidiomycota (phylum), Agaricomycotina (subphylum), Tremellomycetes (class), Tremellales (order), Cryptococcaceae (family), Cryptococcus (genus), Cryptococcus depauperatus (species)                                                                         & Fungi & Basidiomycota   & Tremellales    \\\\\n",
       "\t4 & A0A4P9W5S9 & Blyttiomyces helicus                                                                                      & cellular organisms (no rank), Eukaryota (superkingdom), Opisthokonta (no rank), Fungi (kingdom), Fungi incertae sedis (no rank), Chytridiomycota (phylum), Chytridiomycota incertae sedis (no rank), Chytridiomycetes (class), Chytridiomycetes incertae sedis (no rank), Blyttiomyces (genus)                                                                                        & Fungi & Chytridiomycota & no\\_order\\_rank  \\\\\n",
       "\t5 & C6H2X6     & Ajellomyces capsulatus (strain H143) (Darling's disease fungus) (Histoplasma capsulatum)                  & cellular organisms (no rank), Eukaryota (superkingdom), Opisthokonta (no rank), Fungi (kingdom), Dikarya (subkingdom), Ascomycota (phylum), saccharomyceta (no rank), Pezizomycotina (subphylum), leotiomyceta (no rank), Eurotiomycetes (class), Eurotiomycetidae (subclass), Onygenales (order), Ajellomycetaceae (family), Histoplasma (genus), Ajellomyces capsulatus (species)   & Fungi & Ascomycota      & Onygenales     \\\\\n",
       "\t6 & A0A507EZQ4 & Chytriomyces confervae                                                                                    & cellular organisms (no rank), Eukaryota (superkingdom), Opisthokonta (no rank), Fungi (kingdom), Fungi incertae sedis (no rank), Chytridiomycota (phylum), Chytridiomycota incertae sedis (no rank), Chytridiomycetes (class), Chytridiales (order), Chytriomycetaceae (family), Chytriomyces (genus)                                                                                 & Fungi & Chytridiomycota & Chytridiales   \\\\\n",
       "\t7 & A0A1M8A8G9 & Malassezia sympodialis (strain ATCC 42132) (Atopic eczema-associated yeast)                               & cellular organisms (no rank), Eukaryota (superkingdom), Opisthokonta (no rank), Fungi (kingdom), Dikarya (subkingdom), Basidiomycota (phylum), Ustilaginomycotina (subphylum), Malasseziomycetes (class), Malasseziales (order), Malasseziaceae (family), Malassezia (genus), Malassezia sympodialis (species)                                                                        & Fungi & Basidiomycota   & Malasseziales  \\\\\n",
       "\t8 & U5HBM6     & Microbotryum lychnidis-dioicae (strain p1A1 Lamole / MvSl-1064) (Anther smut fungus)                      & cellular organisms (no rank), Eukaryota (superkingdom), Opisthokonta (no rank), Fungi (kingdom), Dikarya (subkingdom), Basidiomycota (phylum), Pucciniomycotina (subphylum), Microbotryomycetes (class), Microbotryales (order), Microbotryaceae (family), Microbotryum (genus), Microbotryum lychnidis-dioicae (species)                                                             & Fungi & Basidiomycota   & Microbotryales \\\\\n",
       "\t9 & A0A8A3P372 & Monilinia vaccinii-corymbosi                                                                              & cellular organisms (no rank), Eukaryota (superkingdom), Opisthokonta (no rank), Fungi (kingdom), Dikarya (subkingdom), Ascomycota (phylum), saccharomyceta (no rank), Pezizomycotina (subphylum), leotiomyceta (no rank), sordariomyceta (no rank), Leotiomycetes (class), Helotiales (order), Sclerotiniaceae (family), Monilinia (genus)                                            & Fungi & Ascomycota      & Helotiales     \\\\\n",
       "\t10 & A0A2T0AG86 & Rhodosporidium toruloides (Yeast) (Rhodotorula gracilis)                                                  & cellular organisms (no rank), Eukaryota (superkingdom), Opisthokonta (no rank), Fungi (kingdom), Dikarya (subkingdom), Basidiomycota (phylum), Pucciniomycotina (subphylum), Microbotryomycetes (class), Sporidiobolales (order), Sporidiobolaceae (family), Rhodotorula (genus)                                                                                                      & Fungi & Basidiomycota   & Sporidiobolales\\\\\n",
       "\\end{tabular}\n"
      ],
      "text/markdown": [
       "\n",
       "A data.frame: 10 × 6\n",
       "\n",
       "| <!--/--> | protid &lt;chr&gt; | Organism &lt;chr&gt; | Taxonomic.lineage &lt;chr&gt; | Kingdom &lt;chr&gt; | Phylum &lt;chr&gt; | Order &lt;chr&gt; |\n",
       "|---|---|---|---|---|---|---|\n",
       "| 1 | A0A015ICG5 | Rhizophagus irregularis (strain DAOM 197198w) (Glomus intraradices)                                       | cellular organisms (no rank), Eukaryota (superkingdom), Opisthokonta (no rank), Fungi (kingdom), Fungi incertae sedis (no rank), Mucoromycota (phylum), Glomeromycotina (subphylum), Glomeromycetes (class), Glomerales (order), Glomeraceae (family), Rhizophagus (genus), Rhizophagus irregularis (species)                                                                         | Fungi | Mucoromycota    | Glomerales      |\n",
       "| 2 | A0A0B7FRH7 | Thanatephorus cucumeris (strain AG1-IB / isolate 7/3/14) (Lettuce bottom rot fungus) (Rhizoctonia solani) | cellular organisms (no rank), Eukaryota (superkingdom), Opisthokonta (no rank), Fungi (kingdom), Dikarya (subkingdom), Basidiomycota (phylum), Agaricomycotina (subphylum), Agaricomycetes (class), Agaricomycetes incertae sedis (no rank), Cantharellales (order), Ceratobasidiaceae (family), Rhizoctonia (genus), Rhizoctonia solani (species), Rhizoctonia solani AG-1 (no rank) | Fungi | Basidiomycota   | Cantharellales  |\n",
       "| 3 | A0A1E3I214 | Cryptococcus depauperatus CBS 7841                                                                        | cellular organisms (no rank), Eukaryota (superkingdom), Opisthokonta (no rank), Fungi (kingdom), Dikarya (subkingdom), Basidiomycota (phylum), Agaricomycotina (subphylum), Tremellomycetes (class), Tremellales (order), Cryptococcaceae (family), Cryptococcus (genus), Cryptococcus depauperatus (species)                                                                         | Fungi | Basidiomycota   | Tremellales     |\n",
       "| 4 | A0A4P9W5S9 | Blyttiomyces helicus                                                                                      | cellular organisms (no rank), Eukaryota (superkingdom), Opisthokonta (no rank), Fungi (kingdom), Fungi incertae sedis (no rank), Chytridiomycota (phylum), Chytridiomycota incertae sedis (no rank), Chytridiomycetes (class), Chytridiomycetes incertae sedis (no rank), Blyttiomyces (genus)                                                                                        | Fungi | Chytridiomycota | no_order_rank   |\n",
       "| 5 | C6H2X6     | Ajellomyces capsulatus (strain H143) (Darling's disease fungus) (Histoplasma capsulatum)                  | cellular organisms (no rank), Eukaryota (superkingdom), Opisthokonta (no rank), Fungi (kingdom), Dikarya (subkingdom), Ascomycota (phylum), saccharomyceta (no rank), Pezizomycotina (subphylum), leotiomyceta (no rank), Eurotiomycetes (class), Eurotiomycetidae (subclass), Onygenales (order), Ajellomycetaceae (family), Histoplasma (genus), Ajellomyces capsulatus (species)   | Fungi | Ascomycota      | Onygenales      |\n",
       "| 6 | A0A507EZQ4 | Chytriomyces confervae                                                                                    | cellular organisms (no rank), Eukaryota (superkingdom), Opisthokonta (no rank), Fungi (kingdom), Fungi incertae sedis (no rank), Chytridiomycota (phylum), Chytridiomycota incertae sedis (no rank), Chytridiomycetes (class), Chytridiales (order), Chytriomycetaceae (family), Chytriomyces (genus)                                                                                 | Fungi | Chytridiomycota | Chytridiales    |\n",
       "| 7 | A0A1M8A8G9 | Malassezia sympodialis (strain ATCC 42132) (Atopic eczema-associated yeast)                               | cellular organisms (no rank), Eukaryota (superkingdom), Opisthokonta (no rank), Fungi (kingdom), Dikarya (subkingdom), Basidiomycota (phylum), Ustilaginomycotina (subphylum), Malasseziomycetes (class), Malasseziales (order), Malasseziaceae (family), Malassezia (genus), Malassezia sympodialis (species)                                                                        | Fungi | Basidiomycota   | Malasseziales   |\n",
       "| 8 | U5HBM6     | Microbotryum lychnidis-dioicae (strain p1A1 Lamole / MvSl-1064) (Anther smut fungus)                      | cellular organisms (no rank), Eukaryota (superkingdom), Opisthokonta (no rank), Fungi (kingdom), Dikarya (subkingdom), Basidiomycota (phylum), Pucciniomycotina (subphylum), Microbotryomycetes (class), Microbotryales (order), Microbotryaceae (family), Microbotryum (genus), Microbotryum lychnidis-dioicae (species)                                                             | Fungi | Basidiomycota   | Microbotryales  |\n",
       "| 9 | A0A8A3P372 | Monilinia vaccinii-corymbosi                                                                              | cellular organisms (no rank), Eukaryota (superkingdom), Opisthokonta (no rank), Fungi (kingdom), Dikarya (subkingdom), Ascomycota (phylum), saccharomyceta (no rank), Pezizomycotina (subphylum), leotiomyceta (no rank), sordariomyceta (no rank), Leotiomycetes (class), Helotiales (order), Sclerotiniaceae (family), Monilinia (genus)                                            | Fungi | Ascomycota      | Helotiales      |\n",
       "| 10 | A0A2T0AG86 | Rhodosporidium toruloides (Yeast) (Rhodotorula gracilis)                                                  | cellular organisms (no rank), Eukaryota (superkingdom), Opisthokonta (no rank), Fungi (kingdom), Dikarya (subkingdom), Basidiomycota (phylum), Pucciniomycotina (subphylum), Microbotryomycetes (class), Sporidiobolales (order), Sporidiobolaceae (family), Rhodotorula (genus)                                                                                                      | Fungi | Basidiomycota   | Sporidiobolales |\n",
       "\n"
      ],
      "text/plain": [
       "   protid    \n",
       "1  A0A015ICG5\n",
       "2  A0A0B7FRH7\n",
       "3  A0A1E3I214\n",
       "4  A0A4P9W5S9\n",
       "5  C6H2X6    \n",
       "6  A0A507EZQ4\n",
       "7  A0A1M8A8G9\n",
       "8  U5HBM6    \n",
       "9  A0A8A3P372\n",
       "10 A0A2T0AG86\n",
       "   Organism                                                                                                 \n",
       "1  Rhizophagus irregularis (strain DAOM 197198w) (Glomus intraradices)                                      \n",
       "2  Thanatephorus cucumeris (strain AG1-IB / isolate 7/3/14) (Lettuce bottom rot fungus) (Rhizoctonia solani)\n",
       "3  Cryptococcus depauperatus CBS 7841                                                                       \n",
       "4  Blyttiomyces helicus                                                                                     \n",
       "5  Ajellomyces capsulatus (strain H143) (Darling's disease fungus) (Histoplasma capsulatum)                 \n",
       "6  Chytriomyces confervae                                                                                   \n",
       "7  Malassezia sympodialis (strain ATCC 42132) (Atopic eczema-associated yeast)                              \n",
       "8  Microbotryum lychnidis-dioicae (strain p1A1 Lamole / MvSl-1064) (Anther smut fungus)                     \n",
       "9  Monilinia vaccinii-corymbosi                                                                             \n",
       "10 Rhodosporidium toruloides (Yeast) (Rhodotorula gracilis)                                                 \n",
       "   Taxonomic.lineage                                                                                                                                                                                                                                                                                                                                                                    \n",
       "1  cellular organisms (no rank), Eukaryota (superkingdom), Opisthokonta (no rank), Fungi (kingdom), Fungi incertae sedis (no rank), Mucoromycota (phylum), Glomeromycotina (subphylum), Glomeromycetes (class), Glomerales (order), Glomeraceae (family), Rhizophagus (genus), Rhizophagus irregularis (species)                                                                        \n",
       "2  cellular organisms (no rank), Eukaryota (superkingdom), Opisthokonta (no rank), Fungi (kingdom), Dikarya (subkingdom), Basidiomycota (phylum), Agaricomycotina (subphylum), Agaricomycetes (class), Agaricomycetes incertae sedis (no rank), Cantharellales (order), Ceratobasidiaceae (family), Rhizoctonia (genus), Rhizoctonia solani (species), Rhizoctonia solani AG-1 (no rank)\n",
       "3  cellular organisms (no rank), Eukaryota (superkingdom), Opisthokonta (no rank), Fungi (kingdom), Dikarya (subkingdom), Basidiomycota (phylum), Agaricomycotina (subphylum), Tremellomycetes (class), Tremellales (order), Cryptococcaceae (family), Cryptococcus (genus), Cryptococcus depauperatus (species)                                                                        \n",
       "4  cellular organisms (no rank), Eukaryota (superkingdom), Opisthokonta (no rank), Fungi (kingdom), Fungi incertae sedis (no rank), Chytridiomycota (phylum), Chytridiomycota incertae sedis (no rank), Chytridiomycetes (class), Chytridiomycetes incertae sedis (no rank), Blyttiomyces (genus)                                                                                       \n",
       "5  cellular organisms (no rank), Eukaryota (superkingdom), Opisthokonta (no rank), Fungi (kingdom), Dikarya (subkingdom), Ascomycota (phylum), saccharomyceta (no rank), Pezizomycotina (subphylum), leotiomyceta (no rank), Eurotiomycetes (class), Eurotiomycetidae (subclass), Onygenales (order), Ajellomycetaceae (family), Histoplasma (genus), Ajellomyces capsulatus (species)  \n",
       "6  cellular organisms (no rank), Eukaryota (superkingdom), Opisthokonta (no rank), Fungi (kingdom), Fungi incertae sedis (no rank), Chytridiomycota (phylum), Chytridiomycota incertae sedis (no rank), Chytridiomycetes (class), Chytridiales (order), Chytriomycetaceae (family), Chytriomyces (genus)                                                                                \n",
       "7  cellular organisms (no rank), Eukaryota (superkingdom), Opisthokonta (no rank), Fungi (kingdom), Dikarya (subkingdom), Basidiomycota (phylum), Ustilaginomycotina (subphylum), Malasseziomycetes (class), Malasseziales (order), Malasseziaceae (family), Malassezia (genus), Malassezia sympodialis (species)                                                                       \n",
       "8  cellular organisms (no rank), Eukaryota (superkingdom), Opisthokonta (no rank), Fungi (kingdom), Dikarya (subkingdom), Basidiomycota (phylum), Pucciniomycotina (subphylum), Microbotryomycetes (class), Microbotryales (order), Microbotryaceae (family), Microbotryum (genus), Microbotryum lychnidis-dioicae (species)                                                            \n",
       "9  cellular organisms (no rank), Eukaryota (superkingdom), Opisthokonta (no rank), Fungi (kingdom), Dikarya (subkingdom), Ascomycota (phylum), saccharomyceta (no rank), Pezizomycotina (subphylum), leotiomyceta (no rank), sordariomyceta (no rank), Leotiomycetes (class), Helotiales (order), Sclerotiniaceae (family), Monilinia (genus)                                           \n",
       "10 cellular organisms (no rank), Eukaryota (superkingdom), Opisthokonta (no rank), Fungi (kingdom), Dikarya (subkingdom), Basidiomycota (phylum), Pucciniomycotina (subphylum), Microbotryomycetes (class), Sporidiobolales (order), Sporidiobolaceae (family), Rhodotorula (genus)                                                                                                     \n",
       "   Kingdom Phylum          Order          \n",
       "1  Fungi   Mucoromycota    Glomerales     \n",
       "2  Fungi   Basidiomycota   Cantharellales \n",
       "3  Fungi   Basidiomycota   Tremellales    \n",
       "4  Fungi   Chytridiomycota no_order_rank  \n",
       "5  Fungi   Ascomycota      Onygenales     \n",
       "6  Fungi   Chytridiomycota Chytridiales   \n",
       "7  Fungi   Basidiomycota   Malasseziales  \n",
       "8  Fungi   Basidiomycota   Microbotryales \n",
       "9  Fungi   Ascomycota      Helotiales     \n",
       "10 Fungi   Basidiomycota   Sporidiobolales"
      ]
     },
     "metadata": {},
     "output_type": "display_data"
    }
   ],
   "source": [
    "## Sorting taxonomic information into kingdom/phylum, and order\n",
    "DFA_clust_taxo=lin_inf_str(data_ext)\n",
    "head(DFA_clust_taxo,10)"
   ]
  },
  {
   "cell_type": "code",
   "execution_count": 12,
   "id": "81a103ee",
   "metadata": {
    "vscode": {
     "languageId": "r"
    }
   },
   "outputs": [
    {
     "data": {
      "text/html": [
       "<table class=\"dataframe\">\n",
       "<caption>A data.frame: 10 × 6</caption>\n",
       "<thead>\n",
       "\t<tr><th></th><th scope=col>protid</th><th scope=col>Organism</th><th scope=col>Taxonomic.lineage</th><th scope=col>Kingdom</th><th scope=col>Phylum</th><th scope=col>Order</th></tr>\n",
       "\t<tr><th></th><th scope=col>&lt;chr&gt;</th><th scope=col>&lt;chr&gt;</th><th scope=col>&lt;chr&gt;</th><th scope=col>&lt;chr&gt;</th><th scope=col>&lt;chr&gt;</th><th scope=col>&lt;chr&gt;</th></tr>\n",
       "</thead>\n",
       "<tbody>\n",
       "\t<tr><th scope=row>1</th><td>A0A015ICG5</td><td>Rhizophagus irregularis (strain DAOM 197198w) (Glomus intraradices)   </td><td>cellular organisms (no rank), Eukaryota (superkingdom), Opisthokonta (no rank), Fungi (kingdom), Fungi incertae sedis (no rank), Mucoromycota (phylum), Glomeromycotina (subphylum), Glomeromycetes (class), Glomerales (order), Glomeraceae (family), Rhizophagus (genus), Rhizophagus irregularis (species)                                                                               </td><td>Fungi</td><td>Mucoromycota </td><td>Glomerales        </td></tr>\n",
       "\t<tr><th scope=row>2</th><td>A0A060SBE2</td><td>Pycnoporus cinnabarinus (Cinnabar-red polypore) (Trametes cinnabarina)</td><td>cellular organisms (no rank), Eukaryota (superkingdom), Opisthokonta (no rank), Fungi (kingdom), Dikarya (subkingdom), Basidiomycota (phylum), Agaricomycotina (subphylum), Agaricomycetes (class), Agaricomycetes incertae sedis (no rank), Polyporales (order), Polyporaceae (family), Trametes (genus)                                                                                   </td><td>Fungi</td><td>Basidiomycota</td><td>Polyporales       </td></tr>\n",
       "\t<tr><th scope=row>3</th><td>A0A061AJ95</td><td>Cyberlindnera fabianii (Yeast) (Hansenula fabianii)                   </td><td>Cyberlindnera (genus), Phaffomycetaceae (family), Saccharomycetales (order), Saccharomycetes (class), Saccharomycotina (subphylum), saccharomyceta (no rank), Ascomycota (phylum), Dikarya (subkingdom), Fungi (kingdom), Opisthokonta (no rank), Eukaryota (superkingdom), cellular organisms (no rank)                                                                                    </td><td>Fungi</td><td>Ascomycota   </td><td>Saccharomycetales </td></tr>\n",
       "\t<tr><th scope=row>4</th><td>A0A061HA90</td><td>Pseudozyma flocculosa PF-1                                            </td><td>cellular organisms (no rank), Eukaryota (superkingdom), Opisthokonta (no rank), Fungi (kingdom), Dikarya (subkingdom), Basidiomycota (phylum), Ustilaginomycotina (subphylum), Ustilaginomycetes (class), Ustilaginales (order), Ustilaginaceae (family), Pseudozyma (genus), Pseudozyma flocculosa (species)                                                                               </td><td>Fungi</td><td>Basidiomycota</td><td>Ustilaginales     </td></tr>\n",
       "\t<tr><th scope=row>5</th><td>A0A066VBJ4</td><td>Tilletiaria anomala (strain ATCC 24038 / CBS 436.72 / UBC 951)        </td><td>cellular organisms (no rank), Eukaryota (superkingdom), Opisthokonta (no rank), Fungi (kingdom), Dikarya (subkingdom), Basidiomycota (phylum), Ustilaginomycotina (subphylum), Exobasidiomycetes (class), Georgefischeriales (order), Tilletiariaceae (family), Tilletiaria (genus), Tilletiaria anomala (species)                                                                          </td><td>Fungi</td><td>Basidiomycota</td><td>Georgefischeriales</td></tr>\n",
       "\t<tr><th scope=row>6</th><td>A0A067LYG7</td><td>Botryobasidium botryosum FD-172 SS1                                   </td><td>cellular organisms (no rank), Eukaryota (superkingdom), Opisthokonta (no rank), Fungi (kingdom), Dikarya (subkingdom), Basidiomycota (phylum), Agaricomycotina (subphylum), Agaricomycetes (class), Agaricomycetes incertae sedis (no rank), Cantharellales (order), Botryobasidiaceae (family), Botryobasidium (genus), Botryobasidium botryosum (species)                                 </td><td>Fungi</td><td>Basidiomycota</td><td>Cantharellales    </td></tr>\n",
       "\t<tr><th scope=row>7</th><td>A0A067QC48</td><td>Jaapia argillacea MUCL 33604                                          </td><td>cellular organisms (no rank), Eukaryota (superkingdom), Opisthokonta (no rank), Fungi (kingdom), Dikarya (subkingdom), Basidiomycota (phylum), Agaricomycotina (subphylum), Agaricomycetes (class), Agaricomycetidae (subclass), Jaapiales (order), Jaapiaceae (family), Jaapia (genus), Jaapia argillacea (species)                                                                        </td><td>Fungi</td><td>Basidiomycota</td><td>Jaapiales         </td></tr>\n",
       "\t<tr><th scope=row>8</th><td>A0A067TP80</td><td>Galerina marginata (strain CBS 339.88)                                </td><td>cellular organisms (no rank), Eukaryota (superkingdom), Opisthokonta (no rank), Fungi (kingdom), Dikarya (subkingdom), Basidiomycota (phylum), Agaricomycotina (subphylum), Agaricomycetes (class), Agaricomycetidae (subclass), Agaricales (order), Agaricineae (suborder), Strophariaceae (family), Galerina (genus), Galerina marginata (species)                                        </td><td>Fungi</td><td>Basidiomycota</td><td>Agaricales        </td></tr>\n",
       "\t<tr><th scope=row>9</th><td>A0A068RS63</td><td>Lichtheimia corymbifera JMRC:FSU:9682                                 </td><td>Lichtheimia corymbifera (species), Lichtheimia (genus), Lichtheimiaceae (family), Mucorales (order), Mucoromycetes (class), Mucoromycotina (subphylum), Mucoromycota (phylum), Fungi incertae sedis (no rank), Fungi (kingdom), Opisthokonta (no rank), Eukaryota (superkingdom), cellular organisms (no rank)                                                                              </td><td>Fungi</td><td>Mucoromycota </td><td>Mucorales         </td></tr>\n",
       "\t<tr><th scope=row>10</th><td>A0A072PQI0</td><td>Exophiala aquamarina CBS 119918                                       </td><td>cellular organisms (no rank), Eukaryota (superkingdom), Opisthokonta (no rank), Fungi (kingdom), Dikarya (subkingdom), Ascomycota (phylum), saccharomyceta (no rank), Pezizomycotina (subphylum), leotiomyceta (no rank), Eurotiomycetes (class), Chaetothyriomycetidae (subclass), Chaetothyriales (order), Herpotrichiellaceae (family), Exophiala (genus), Exophiala aquamarina (species)</td><td>Fungi</td><td>Ascomycota   </td><td>Chaetothyriales   </td></tr>\n",
       "</tbody>\n",
       "</table>\n"
      ],
      "text/latex": [
       "A data.frame: 10 × 6\n",
       "\\begin{tabular}{r|llllll}\n",
       "  & protid & Organism & Taxonomic.lineage & Kingdom & Phylum & Order\\\\\n",
       "  & <chr> & <chr> & <chr> & <chr> & <chr> & <chr>\\\\\n",
       "\\hline\n",
       "\t1 & A0A015ICG5 & Rhizophagus irregularis (strain DAOM 197198w) (Glomus intraradices)    & cellular organisms (no rank), Eukaryota (superkingdom), Opisthokonta (no rank), Fungi (kingdom), Fungi incertae sedis (no rank), Mucoromycota (phylum), Glomeromycotina (subphylum), Glomeromycetes (class), Glomerales (order), Glomeraceae (family), Rhizophagus (genus), Rhizophagus irregularis (species)                                                                                & Fungi & Mucoromycota  & Glomerales        \\\\\n",
       "\t2 & A0A060SBE2 & Pycnoporus cinnabarinus (Cinnabar-red polypore) (Trametes cinnabarina) & cellular organisms (no rank), Eukaryota (superkingdom), Opisthokonta (no rank), Fungi (kingdom), Dikarya (subkingdom), Basidiomycota (phylum), Agaricomycotina (subphylum), Agaricomycetes (class), Agaricomycetes incertae sedis (no rank), Polyporales (order), Polyporaceae (family), Trametes (genus)                                                                                    & Fungi & Basidiomycota & Polyporales       \\\\\n",
       "\t3 & A0A061AJ95 & Cyberlindnera fabianii (Yeast) (Hansenula fabianii)                    & Cyberlindnera (genus), Phaffomycetaceae (family), Saccharomycetales (order), Saccharomycetes (class), Saccharomycotina (subphylum), saccharomyceta (no rank), Ascomycota (phylum), Dikarya (subkingdom), Fungi (kingdom), Opisthokonta (no rank), Eukaryota (superkingdom), cellular organisms (no rank)                                                                                     & Fungi & Ascomycota    & Saccharomycetales \\\\\n",
       "\t4 & A0A061HA90 & Pseudozyma flocculosa PF-1                                             & cellular organisms (no rank), Eukaryota (superkingdom), Opisthokonta (no rank), Fungi (kingdom), Dikarya (subkingdom), Basidiomycota (phylum), Ustilaginomycotina (subphylum), Ustilaginomycetes (class), Ustilaginales (order), Ustilaginaceae (family), Pseudozyma (genus), Pseudozyma flocculosa (species)                                                                                & Fungi & Basidiomycota & Ustilaginales     \\\\\n",
       "\t5 & A0A066VBJ4 & Tilletiaria anomala (strain ATCC 24038 / CBS 436.72 / UBC 951)         & cellular organisms (no rank), Eukaryota (superkingdom), Opisthokonta (no rank), Fungi (kingdom), Dikarya (subkingdom), Basidiomycota (phylum), Ustilaginomycotina (subphylum), Exobasidiomycetes (class), Georgefischeriales (order), Tilletiariaceae (family), Tilletiaria (genus), Tilletiaria anomala (species)                                                                           & Fungi & Basidiomycota & Georgefischeriales\\\\\n",
       "\t6 & A0A067LYG7 & Botryobasidium botryosum FD-172 SS1                                    & cellular organisms (no rank), Eukaryota (superkingdom), Opisthokonta (no rank), Fungi (kingdom), Dikarya (subkingdom), Basidiomycota (phylum), Agaricomycotina (subphylum), Agaricomycetes (class), Agaricomycetes incertae sedis (no rank), Cantharellales (order), Botryobasidiaceae (family), Botryobasidium (genus), Botryobasidium botryosum (species)                                  & Fungi & Basidiomycota & Cantharellales    \\\\\n",
       "\t7 & A0A067QC48 & Jaapia argillacea MUCL 33604                                           & cellular organisms (no rank), Eukaryota (superkingdom), Opisthokonta (no rank), Fungi (kingdom), Dikarya (subkingdom), Basidiomycota (phylum), Agaricomycotina (subphylum), Agaricomycetes (class), Agaricomycetidae (subclass), Jaapiales (order), Jaapiaceae (family), Jaapia (genus), Jaapia argillacea (species)                                                                         & Fungi & Basidiomycota & Jaapiales         \\\\\n",
       "\t8 & A0A067TP80 & Galerina marginata (strain CBS 339.88)                                 & cellular organisms (no rank), Eukaryota (superkingdom), Opisthokonta (no rank), Fungi (kingdom), Dikarya (subkingdom), Basidiomycota (phylum), Agaricomycotina (subphylum), Agaricomycetes (class), Agaricomycetidae (subclass), Agaricales (order), Agaricineae (suborder), Strophariaceae (family), Galerina (genus), Galerina marginata (species)                                         & Fungi & Basidiomycota & Agaricales        \\\\\n",
       "\t9 & A0A068RS63 & Lichtheimia corymbifera JMRC:FSU:9682                                  & Lichtheimia corymbifera (species), Lichtheimia (genus), Lichtheimiaceae (family), Mucorales (order), Mucoromycetes (class), Mucoromycotina (subphylum), Mucoromycota (phylum), Fungi incertae sedis (no rank), Fungi (kingdom), Opisthokonta (no rank), Eukaryota (superkingdom), cellular organisms (no rank)                                                                               & Fungi & Mucoromycota  & Mucorales         \\\\\n",
       "\t10 & A0A072PQI0 & Exophiala aquamarina CBS 119918                                        & cellular organisms (no rank), Eukaryota (superkingdom), Opisthokonta (no rank), Fungi (kingdom), Dikarya (subkingdom), Ascomycota (phylum), saccharomyceta (no rank), Pezizomycotina (subphylum), leotiomyceta (no rank), Eurotiomycetes (class), Chaetothyriomycetidae (subclass), Chaetothyriales (order), Herpotrichiellaceae (family), Exophiala (genus), Exophiala aquamarina (species) & Fungi & Ascomycota    & Chaetothyriales   \\\\\n",
       "\\end{tabular}\n"
      ],
      "text/markdown": [
       "\n",
       "A data.frame: 10 × 6\n",
       "\n",
       "| <!--/--> | protid &lt;chr&gt; | Organism &lt;chr&gt; | Taxonomic.lineage &lt;chr&gt; | Kingdom &lt;chr&gt; | Phylum &lt;chr&gt; | Order &lt;chr&gt; |\n",
       "|---|---|---|---|---|---|---|\n",
       "| 1 | A0A015ICG5 | Rhizophagus irregularis (strain DAOM 197198w) (Glomus intraradices)    | cellular organisms (no rank), Eukaryota (superkingdom), Opisthokonta (no rank), Fungi (kingdom), Fungi incertae sedis (no rank), Mucoromycota (phylum), Glomeromycotina (subphylum), Glomeromycetes (class), Glomerales (order), Glomeraceae (family), Rhizophagus (genus), Rhizophagus irregularis (species)                                                                                | Fungi | Mucoromycota  | Glomerales         |\n",
       "| 2 | A0A060SBE2 | Pycnoporus cinnabarinus (Cinnabar-red polypore) (Trametes cinnabarina) | cellular organisms (no rank), Eukaryota (superkingdom), Opisthokonta (no rank), Fungi (kingdom), Dikarya (subkingdom), Basidiomycota (phylum), Agaricomycotina (subphylum), Agaricomycetes (class), Agaricomycetes incertae sedis (no rank), Polyporales (order), Polyporaceae (family), Trametes (genus)                                                                                    | Fungi | Basidiomycota | Polyporales        |\n",
       "| 3 | A0A061AJ95 | Cyberlindnera fabianii (Yeast) (Hansenula fabianii)                    | Cyberlindnera (genus), Phaffomycetaceae (family), Saccharomycetales (order), Saccharomycetes (class), Saccharomycotina (subphylum), saccharomyceta (no rank), Ascomycota (phylum), Dikarya (subkingdom), Fungi (kingdom), Opisthokonta (no rank), Eukaryota (superkingdom), cellular organisms (no rank)                                                                                     | Fungi | Ascomycota    | Saccharomycetales  |\n",
       "| 4 | A0A061HA90 | Pseudozyma flocculosa PF-1                                             | cellular organisms (no rank), Eukaryota (superkingdom), Opisthokonta (no rank), Fungi (kingdom), Dikarya (subkingdom), Basidiomycota (phylum), Ustilaginomycotina (subphylum), Ustilaginomycetes (class), Ustilaginales (order), Ustilaginaceae (family), Pseudozyma (genus), Pseudozyma flocculosa (species)                                                                                | Fungi | Basidiomycota | Ustilaginales      |\n",
       "| 5 | A0A066VBJ4 | Tilletiaria anomala (strain ATCC 24038 / CBS 436.72 / UBC 951)         | cellular organisms (no rank), Eukaryota (superkingdom), Opisthokonta (no rank), Fungi (kingdom), Dikarya (subkingdom), Basidiomycota (phylum), Ustilaginomycotina (subphylum), Exobasidiomycetes (class), Georgefischeriales (order), Tilletiariaceae (family), Tilletiaria (genus), Tilletiaria anomala (species)                                                                           | Fungi | Basidiomycota | Georgefischeriales |\n",
       "| 6 | A0A067LYG7 | Botryobasidium botryosum FD-172 SS1                                    | cellular organisms (no rank), Eukaryota (superkingdom), Opisthokonta (no rank), Fungi (kingdom), Dikarya (subkingdom), Basidiomycota (phylum), Agaricomycotina (subphylum), Agaricomycetes (class), Agaricomycetes incertae sedis (no rank), Cantharellales (order), Botryobasidiaceae (family), Botryobasidium (genus), Botryobasidium botryosum (species)                                  | Fungi | Basidiomycota | Cantharellales     |\n",
       "| 7 | A0A067QC48 | Jaapia argillacea MUCL 33604                                           | cellular organisms (no rank), Eukaryota (superkingdom), Opisthokonta (no rank), Fungi (kingdom), Dikarya (subkingdom), Basidiomycota (phylum), Agaricomycotina (subphylum), Agaricomycetes (class), Agaricomycetidae (subclass), Jaapiales (order), Jaapiaceae (family), Jaapia (genus), Jaapia argillacea (species)                                                                         | Fungi | Basidiomycota | Jaapiales          |\n",
       "| 8 | A0A067TP80 | Galerina marginata (strain CBS 339.88)                                 | cellular organisms (no rank), Eukaryota (superkingdom), Opisthokonta (no rank), Fungi (kingdom), Dikarya (subkingdom), Basidiomycota (phylum), Agaricomycotina (subphylum), Agaricomycetes (class), Agaricomycetidae (subclass), Agaricales (order), Agaricineae (suborder), Strophariaceae (family), Galerina (genus), Galerina marginata (species)                                         | Fungi | Basidiomycota | Agaricales         |\n",
       "| 9 | A0A068RS63 | Lichtheimia corymbifera JMRC:FSU:9682                                  | Lichtheimia corymbifera (species), Lichtheimia (genus), Lichtheimiaceae (family), Mucorales (order), Mucoromycetes (class), Mucoromycotina (subphylum), Mucoromycota (phylum), Fungi incertae sedis (no rank), Fungi (kingdom), Opisthokonta (no rank), Eukaryota (superkingdom), cellular organisms (no rank)                                                                               | Fungi | Mucoromycota  | Mucorales          |\n",
       "| 10 | A0A072PQI0 | Exophiala aquamarina CBS 119918                                        | cellular organisms (no rank), Eukaryota (superkingdom), Opisthokonta (no rank), Fungi (kingdom), Dikarya (subkingdom), Ascomycota (phylum), saccharomyceta (no rank), Pezizomycotina (subphylum), leotiomyceta (no rank), Eurotiomycetes (class), Chaetothyriomycetidae (subclass), Chaetothyriales (order), Herpotrichiellaceae (family), Exophiala (genus), Exophiala aquamarina (species) | Fungi | Ascomycota    | Chaetothyriales    |\n",
       "\n"
      ],
      "text/plain": [
       "   protid    \n",
       "1  A0A015ICG5\n",
       "2  A0A060SBE2\n",
       "3  A0A061AJ95\n",
       "4  A0A061HA90\n",
       "5  A0A066VBJ4\n",
       "6  A0A067LYG7\n",
       "7  A0A067QC48\n",
       "8  A0A067TP80\n",
       "9  A0A068RS63\n",
       "10 A0A072PQI0\n",
       "   Organism                                                              \n",
       "1  Rhizophagus irregularis (strain DAOM 197198w) (Glomus intraradices)   \n",
       "2  Pycnoporus cinnabarinus (Cinnabar-red polypore) (Trametes cinnabarina)\n",
       "3  Cyberlindnera fabianii (Yeast) (Hansenula fabianii)                   \n",
       "4  Pseudozyma flocculosa PF-1                                            \n",
       "5  Tilletiaria anomala (strain ATCC 24038 / CBS 436.72 / UBC 951)        \n",
       "6  Botryobasidium botryosum FD-172 SS1                                   \n",
       "7  Jaapia argillacea MUCL 33604                                          \n",
       "8  Galerina marginata (strain CBS 339.88)                                \n",
       "9  Lichtheimia corymbifera JMRC:FSU:9682                                 \n",
       "10 Exophiala aquamarina CBS 119918                                       \n",
       "   Taxonomic.lineage                                                                                                                                                                                                                                                                                                                                                                           \n",
       "1  cellular organisms (no rank), Eukaryota (superkingdom), Opisthokonta (no rank), Fungi (kingdom), Fungi incertae sedis (no rank), Mucoromycota (phylum), Glomeromycotina (subphylum), Glomeromycetes (class), Glomerales (order), Glomeraceae (family), Rhizophagus (genus), Rhizophagus irregularis (species)                                                                               \n",
       "2  cellular organisms (no rank), Eukaryota (superkingdom), Opisthokonta (no rank), Fungi (kingdom), Dikarya (subkingdom), Basidiomycota (phylum), Agaricomycotina (subphylum), Agaricomycetes (class), Agaricomycetes incertae sedis (no rank), Polyporales (order), Polyporaceae (family), Trametes (genus)                                                                                   \n",
       "3  Cyberlindnera (genus), Phaffomycetaceae (family), Saccharomycetales (order), Saccharomycetes (class), Saccharomycotina (subphylum), saccharomyceta (no rank), Ascomycota (phylum), Dikarya (subkingdom), Fungi (kingdom), Opisthokonta (no rank), Eukaryota (superkingdom), cellular organisms (no rank)                                                                                    \n",
       "4  cellular organisms (no rank), Eukaryota (superkingdom), Opisthokonta (no rank), Fungi (kingdom), Dikarya (subkingdom), Basidiomycota (phylum), Ustilaginomycotina (subphylum), Ustilaginomycetes (class), Ustilaginales (order), Ustilaginaceae (family), Pseudozyma (genus), Pseudozyma flocculosa (species)                                                                               \n",
       "5  cellular organisms (no rank), Eukaryota (superkingdom), Opisthokonta (no rank), Fungi (kingdom), Dikarya (subkingdom), Basidiomycota (phylum), Ustilaginomycotina (subphylum), Exobasidiomycetes (class), Georgefischeriales (order), Tilletiariaceae (family), Tilletiaria (genus), Tilletiaria anomala (species)                                                                          \n",
       "6  cellular organisms (no rank), Eukaryota (superkingdom), Opisthokonta (no rank), Fungi (kingdom), Dikarya (subkingdom), Basidiomycota (phylum), Agaricomycotina (subphylum), Agaricomycetes (class), Agaricomycetes incertae sedis (no rank), Cantharellales (order), Botryobasidiaceae (family), Botryobasidium (genus), Botryobasidium botryosum (species)                                 \n",
       "7  cellular organisms (no rank), Eukaryota (superkingdom), Opisthokonta (no rank), Fungi (kingdom), Dikarya (subkingdom), Basidiomycota (phylum), Agaricomycotina (subphylum), Agaricomycetes (class), Agaricomycetidae (subclass), Jaapiales (order), Jaapiaceae (family), Jaapia (genus), Jaapia argillacea (species)                                                                        \n",
       "8  cellular organisms (no rank), Eukaryota (superkingdom), Opisthokonta (no rank), Fungi (kingdom), Dikarya (subkingdom), Basidiomycota (phylum), Agaricomycotina (subphylum), Agaricomycetes (class), Agaricomycetidae (subclass), Agaricales (order), Agaricineae (suborder), Strophariaceae (family), Galerina (genus), Galerina marginata (species)                                        \n",
       "9  Lichtheimia corymbifera (species), Lichtheimia (genus), Lichtheimiaceae (family), Mucorales (order), Mucoromycetes (class), Mucoromycotina (subphylum), Mucoromycota (phylum), Fungi incertae sedis (no rank), Fungi (kingdom), Opisthokonta (no rank), Eukaryota (superkingdom), cellular organisms (no rank)                                                                              \n",
       "10 cellular organisms (no rank), Eukaryota (superkingdom), Opisthokonta (no rank), Fungi (kingdom), Dikarya (subkingdom), Ascomycota (phylum), saccharomyceta (no rank), Pezizomycotina (subphylum), leotiomyceta (no rank), Eurotiomycetes (class), Chaetothyriomycetidae (subclass), Chaetothyriales (order), Herpotrichiellaceae (family), Exophiala (genus), Exophiala aquamarina (species)\n",
       "   Kingdom Phylum        Order             \n",
       "1  Fungi   Mucoromycota  Glomerales        \n",
       "2  Fungi   Basidiomycota Polyporales       \n",
       "3  Fungi   Ascomycota    Saccharomycetales \n",
       "4  Fungi   Basidiomycota Ustilaginales     \n",
       "5  Fungi   Basidiomycota Georgefischeriales\n",
       "6  Fungi   Basidiomycota Cantharellales    \n",
       "7  Fungi   Basidiomycota Jaapiales         \n",
       "8  Fungi   Basidiomycota Agaricales        \n",
       "9  Fungi   Mucoromycota  Mucorales         \n",
       "10 Fungi   Ascomycota    Chaetothyriales   "
      ]
     },
     "metadata": {},
     "output_type": "display_data"
    }
   ],
   "source": [
    "## Data export for manually curation of no kingdom rank entries\n",
    "    # 16 entries have no kingdom rank\n",
    "    # we have to curate them manually and add clade information instead: This includes: Discoba, Sar, Amoebozoa and Opisthokonta\n",
    "\n",
    "write.csv(DFA_clust_taxo,\"results/step1/DFA_clust_taxo_final_intermed.csv\")\n",
    "\n",
    "## Manually corrected data import\n",
    "data_taxo_DFA=read.csv('data/step1/DFA_clust_taxo_manually_corrected.csv')[-1]\n",
    "head(data_taxo_DFA,10)\n"
   ]
  },
  {
   "cell_type": "code",
   "execution_count": 14,
   "id": "7db1c191",
   "metadata": {
    "vscode": {
     "languageId": "r"
    }
   },
   "outputs": [
    {
     "data": {
      "text/html": [
       "<table class=\"dataframe\">\n",
       "<caption>A data.frame: 7 × 3</caption>\n",
       "<thead>\n",
       "\t<tr><th scope=col>tip.label</th><th scope=col>Taxo</th><th scope=col>nb_hits</th></tr>\n",
       "\t<tr><th scope=col>&lt;chr&gt;</th><th scope=col>&lt;fct&gt;</th><th scope=col>&lt;int&gt;</th></tr>\n",
       "</thead>\n",
       "<tbody>\n",
       "\t<tr><td>Acanthamoeba_castellanii</td><td>Amoebozoa    </td><td>  1</td></tr>\n",
       "\t<tr><td>Trypanosoma_cruzi       </td><td>Discoba      </td><td>  5</td></tr>\n",
       "\t<tr><td>Aureobasidium_pullulans </td><td>Fungi        </td><td>406</td></tr>\n",
       "\t<tr><td>Rattus_norvegicus       </td><td>Metazoa      </td><td> 10</td></tr>\n",
       "\t<tr><td>Sphaeroforma_arctica    </td><td>Opisthokonta </td><td>  1</td></tr>\n",
       "\t<tr><td>Perkinsus_olseni        </td><td>Sar          </td><td>  9</td></tr>\n",
       "\t<tr><td>Oryza_sativa            </td><td>Viridiplantae</td><td>  4</td></tr>\n",
       "</tbody>\n",
       "</table>\n"
      ],
      "text/latex": [
       "A data.frame: 7 × 3\n",
       "\\begin{tabular}{lll}\n",
       " tip.label & Taxo & nb\\_hits\\\\\n",
       " <chr> & <fct> & <int>\\\\\n",
       "\\hline\n",
       "\t Acanthamoeba\\_castellanii & Amoebozoa     &   1\\\\\n",
       "\t Trypanosoma\\_cruzi        & Discoba       &   5\\\\\n",
       "\t Aureobasidium\\_pullulans  & Fungi         & 406\\\\\n",
       "\t Rattus\\_norvegicus        & Metazoa       &  10\\\\\n",
       "\t Sphaeroforma\\_arctica     & Opisthokonta  &   1\\\\\n",
       "\t Perkinsus\\_olseni         & Sar           &   9\\\\\n",
       "\t Oryza\\_sativa             & Viridiplantae &   4\\\\\n",
       "\\end{tabular}\n"
      ],
      "text/markdown": [
       "\n",
       "A data.frame: 7 × 3\n",
       "\n",
       "| tip.label &lt;chr&gt; | Taxo &lt;fct&gt; | nb_hits &lt;int&gt; |\n",
       "|---|---|---|\n",
       "| Acanthamoeba_castellanii | Amoebozoa     |   1 |\n",
       "| Trypanosoma_cruzi        | Discoba       |   5 |\n",
       "| Aureobasidium_pullulans  | Fungi         | 406 |\n",
       "| Rattus_norvegicus        | Metazoa       |  10 |\n",
       "| Sphaeroforma_arctica     | Opisthokonta  |   1 |\n",
       "| Perkinsus_olseni         | Sar           |   9 |\n",
       "| Oryza_sativa             | Viridiplantae |   4 |\n",
       "\n"
      ],
      "text/plain": [
       "  tip.label                Taxo          nb_hits\n",
       "1 Acanthamoeba_castellanii Amoebozoa       1    \n",
       "2 Trypanosoma_cruzi        Discoba         5    \n",
       "3 Aureobasidium_pullulans  Fungi         406    \n",
       "4 Rattus_norvegicus        Metazoa        10    \n",
       "5 Sphaeroforma_arctica     Opisthokonta    1    \n",
       "6 Perkinsus_olseni         Sar             9    \n",
       "7 Oryza_sativa             Viridiplantae   4    "
      ]
     },
     "metadata": {},
     "output_type": "display_data"
    }
   ],
   "source": [
    "## Kingdom / Clade species count\n",
    "    # To investigate the distribution of DFA at the kingdom level, we now count how many protein hits were found for each kingdom or clade\n",
    "\n",
    "taxo_table=as.data.frame(t(table(data_taxo_DFA$Kingdom)))\n",
    "\n",
    "colnames(taxo_table)=c('tip.label','Taxo','nb_hits')\n",
    "\n",
    "# we add representative species name for each kingdom/clade - they are the same ones used to build the phylogenetic tree (tree tip.label)\n",
    "rep_species=c('Acanthamoeba_castellanii',\n",
    "              'Trypanosoma_cruzi','Aureobasidium_pullulans',\n",
    "              'Rattus_norvegicus',\n",
    "              'Sphaeroforma_arctica','Perkinsus_olseni',\n",
    "              'Oryza_sativa')\n",
    "\n",
    "taxo_table$tip.label=rep_species\n",
    "\n",
    "taxo_table"
   ]
  },
  {
   "cell_type": "code",
   "execution_count": 19,
   "id": "11ac50e3",
   "metadata": {
    "vscode": {
     "languageId": "r"
    }
   },
   "outputs": [
    {
     "data": {
      "image/png": "[encoded data removed]",
      "text/plain": [
       "plot without title"
      ]
     },
     "metadata": {
      "image/png": {
       "height": 420,
       "width": 420
      }
     },
     "output_type": "display_data"
    }
   ],
   "source": [
    "## Tree representation of DFA kingdom/clade distribution (Figure 4A)\n",
    "\n",
    "tree_king=read.tree('data/step1/DFA_king_tree.nwk')  # import the newick phylogenetic tree file\n",
    "\n",
    "tree_tips=c(intersect(tree_king$tip.label,taxo_table$tip.label)) # make sure that data are consistent between table and tree tips\n",
    "\n",
    "tree_pruned=keep.tip(tree_king,tree_tips) # prune the tree to only keep tips of representative sequences\n",
    "\n",
    "p=ggtree(tree_pruned, branch.length=\"none\") %<+% taxo_table \n",
    "\n",
    "p_tree <- p + geom_tiplab(aes(label=Taxo),offset = 1.2, hjust = .5) +\n",
    "  geom_tippoint(aes(size = nb_hits),color ='#F7B846') + \n",
    "  theme(legend.position = \"right\")\n",
    "\n",
    "p_tree\n"
   ]
  },
  {
   "cell_type": "code",
   "execution_count": 20,
   "id": "14a09e82",
   "metadata": {
    "vscode": {
     "languageId": "r"
    }
   },
   "outputs": [
    {
     "data": {
      "text/plain": [
       "R version 4.2.1 (2022-06-23)\n",
       "Platform: x86_64-apple-darwin13.4.0 (64-bit)\n",
       "Running under: macOS Big Sur ... 10.16\n",
       "\n",
       "Matrix products: default\n",
       "BLAS/LAPACK: /Users/manonmorin/miniconda3/envs/R_analysis_env/lib/libopenblasp-r0.3.21.dylib\n",
       "\n",
       "locale:\n",
       "[1] en_US.UTF-8/en_US.UTF-8/en_US.UTF-8/C/en_US.UTF-8/en_US.UTF-8\n",
       "\n",
       "attached base packages:\n",
       "[1] stats     graphics  grDevices utils     datasets  methods   base     \n",
       "\n",
       "other attached packages:\n",
       " [1] ape_5.7-1       ggtree_3.6.0    forcats_0.5.2   stringr_1.5.0  \n",
       " [5] dplyr_1.0.10    purrr_0.3.5     readr_2.1.3     tidyr_1.2.1    \n",
       " [9] tibble_3.1.8    ggplot2_3.3.6   tidyverse_1.3.2\n",
       "\n",
       "loaded via a namespace (and not attached):\n",
       " [1] Rcpp_1.0.9          lubridate_1.8.0     lattice_0.20-45    \n",
       " [4] assertthat_0.2.1    digest_0.6.30       utf8_1.2.2         \n",
       " [7] IRdisplay_1.1       R6_2.5.1            cellranger_1.1.0   \n",
       "[10] repr_1.1.4          backports_1.4.1     reprex_2.0.2       \n",
       "[13] evaluate_0.17       ggfun_0.1.3         httr_1.4.4         \n",
       "[16] pillar_1.8.1        yulab.utils_0.0.4   rlang_1.0.6        \n",
       "[19] lazyeval_0.2.2      googlesheets4_1.0.1 uuid_1.1-0         \n",
       "[22] readxl_1.4.1        labeling_0.4.2      googledrive_2.0.0  \n",
       "[25] munsell_0.5.0       broom_1.0.1         compiler_4.2.1     \n",
       "[28] modelr_0.1.9        gridGraphics_0.5-1  pkgconfig_2.0.3    \n",
       "[31] base64enc_0.1-3     htmltools_0.5.3     tidyselect_1.2.0   \n",
       "[34] fansi_1.0.3         crayon_1.5.2        tzdb_0.3.0         \n",
       "[37] dbplyr_2.2.1        withr_2.5.0         grid_4.2.1         \n",
       "[40] nlme_3.1-160        jsonlite_1.8.3      gtable_0.3.1       \n",
       "[43] lifecycle_1.0.3     DBI_1.1.3           magrittr_2.0.3     \n",
       "[46] scales_1.2.1        tidytree_0.4.5      cli_3.4.1          \n",
       "[49] stringi_1.7.8       farver_2.1.1        fs_1.5.2           \n",
       "[52] xml2_1.3.3          ellipsis_0.3.2      generics_0.1.3     \n",
       "[55] vctrs_0.5.0         IRkernel_1.3        treeio_1.22.0      \n",
       "[58] tools_4.2.1         ggplotify_0.1.2     glue_1.6.2         \n",
       "[61] hms_1.1.2           parallel_4.2.1      fastmap_1.1.0      \n",
       "[64] colorspace_2.0-3    gargle_1.2.1        aplot_0.2.2        \n",
       "[67] rvest_1.0.3         pbdZMQ_0.3-8        haven_2.5.1        \n",
       "[70] patchwork_1.1.1    "
      ]
     },
     "metadata": {},
     "output_type": "display_data"
    }
   ],
   "source": [
    "sessionInfo()"
   ]
  }
 ],
 "metadata": {
  "kernelspec": {
   "display_name": "R",
   "language": "R",
   "name": "ir"
  },
  "language_info": {
   "codemirror_mode": "r",
   "file_extension": ".r",
   "mimetype": "text/x-r-source",
   "name": "R",
   "pygments_lexer": "r",
   "version": "3.6.3"
  }
 },
 "nbformat": 4,
 "nbformat_minor": 5
}
