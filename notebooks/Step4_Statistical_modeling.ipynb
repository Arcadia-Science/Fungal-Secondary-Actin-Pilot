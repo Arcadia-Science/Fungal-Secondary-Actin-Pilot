{
 "cells": [
  {
   "cell_type": "markdown",
   "id": "39be76d1-8555-4f4e-8933-efa6b2ae09aa",
   "metadata": {},
   "source": [
    "## Statistical modeling of the association of Divergent Fungal Actin (DFA) and fungal trait\n",
    "\n",
    "**Notebook summary**\n",
    "\n",
    "This Jupyter Notebook:\n",
    "- is part of the last step of the project: Statistical modeling of the association of DFA and fungal trait\n",
    "- tests the association of DFA presence/absence and previoulsy curated fungal traits\n",
    "- visualizes the distribution of data for each trait (Figure 6)\n",
    "\n",
    "\n",
    "**Context/Goal reminder**\n",
    "We aim to test for any sigificant association between the presence/absence of Divergent Fungal Actin (DFA) and specific fungal traits in order to make hypothesis about the function of DFA. We fit different models for each trait.\n",
    "Presence/absence of DFA is a binary variable and fungal traits are either binary (auxin responsive promoter), continuous (spore length and spore width) or discrete variables (Ascus dehiscence, growth form and trophic mode).\n",
    "\n",
    "\n",
    "\n",
    "**Notebook purpose**\n",
    "In this notebook, we visualize the distribution of the data for each trait and run statistical modeling to test for the association between DFA and fungal traits.\n",
    "For continuous traits, we use phylogeny-corrected generalized linear mixed models (pglmm) to identify if the trait is a predictor of the DFA presence/absence status. For binary and discrete traits, we used an evolutionary model selection procedure. We fit two alternative models to the data, one where DFA and the trait of interest were assumed to have co-evolved and a second model where DFA and the trait of interest were assumed to have evolved independently. We then compare the likelihood of these models using the Akaike information criterion (AIC), a measure of model likelihood that is penalized for model complexity. This same model selection procedure is used for two classes of models, a discrete-time Markov model (DTMM) and a hidden Markov model (HMM), both used extensively in modeling the evolution of discrete traits across time. These tests are part of the R corHMM package (https://doi.org/10.1093/sysbio/syt034).  "
   ]
  },
  {
   "cell_type": "markdown",
   "id": "44f4fdc7-d093-4537-b6b8-60c5b84374c8",
   "metadata": {},
   "source": [
    "---"
   ]
  },
  {
   "cell_type": "markdown",
   "id": "bcd4dbab-701a-482a-9c6d-2e0b26609627",
   "metadata": {},
   "source": [
    "### Setup path and environment"
   ]
  },
  {
   "cell_type": "code",
   "execution_count": 1,
   "id": "6d08462e-e087-4b4b-b0a9-9c21f58ab4f3",
   "metadata": {
    "vscode": {
     "languageId": "r"
    }
   },
   "outputs": [
    {
     "name": "stderr",
     "output_type": "stream",
     "text": [
      "Registered S3 methods overwritten by 'treeio':\n",
      "  method              from    \n",
      "  MRCA.phylo          tidytree\n",
      "  MRCA.treedata       tidytree\n",
      "  Nnode.treedata      tidytree\n",
      "  Ntip.treedata       tidytree\n",
      "  ancestor.phylo      tidytree\n",
      "  ancestor.treedata   tidytree\n",
      "  child.phylo         tidytree\n",
      "  child.treedata      tidytree\n",
      "  full_join.phylo     tidytree\n",
      "  full_join.treedata  tidytree\n",
      "  groupClade.phylo    tidytree\n",
      "  groupClade.treedata tidytree\n",
      "  groupOTU.phylo      tidytree\n",
      "  groupOTU.treedata   tidytree\n",
      "  is.rooted.treedata  tidytree\n",
      "  nodeid.phylo        tidytree\n",
      "  nodeid.treedata     tidytree\n",
      "  nodelab.phylo       tidytree\n",
      "  nodelab.treedata    tidytree\n",
      "  offspring.phylo     tidytree\n",
      "  offspring.treedata  tidytree\n",
      "  parent.phylo        tidytree\n",
      "  parent.treedata     tidytree\n",
      "  root.treedata       tidytree\n",
      "  rootnode.phylo      tidytree\n",
      "  sibling.phylo       tidytree\n",
      "\n",
      "\u001b[90mggtree v3.6.0 For help: https://yulab-smu.top/treedata-book/\n",
      "\n",
      "If you use the ggtree package suite in published research, please cite\n",
      "the appropriate paper(s):\n",
      "\n",
      "Guangchuang Yu, David Smith, Huachen Zhu, Yi Guan, Tommy Tsan-Yuk Lam.\n",
      "ggtree: an R package for visualization and annotation of phylogenetic\n",
      "trees with their covariates and other associated data. Methods in\n",
      "Ecology and Evolution. 2017, 8(1):28-36. doi:10.1111/2041-210X.12628\n",
      "\n",
      "G Yu. Data Integration, Manipulation and Visualization of Phylogenetic\n",
      "Trees (1st ed.). Chapman and Hall/CRC. 2022. ISBN: 9781032233574\n",
      "\n",
      "Shuangbin Xu, Lin Li, Xiao Luo, Meijun Chen, Wenli Tang, Li Zhan, Zehan\n",
      "Dai, Tommy T. Lam, Yi Guan, Guangchuang Yu. Ggtree: A serialized data\n",
      "object for visualization of a phylogenetic tree and annotation data.\n",
      "iMeta 2022, 4(1):e56. doi:10.1002/imt2.56 \u001b[39m\n",
      "\n",
      "\n",
      "Attaching package: ‘ggtree’\n",
      "\n",
      "\n",
      "The following object is masked from ‘package:ape’:\n",
      "\n",
      "    rotate\n",
      "\n",
      "\n",
      "── \u001b[1mAttaching packages\u001b[22m ─────────────────────────────────────────────────────────────────────────────────────────────────────────── tidyverse 1.3.1 ──\n",
      "\n",
      "\u001b[32m✔\u001b[39m \u001b[34mtibble \u001b[39m 3.2.1     \u001b[32m✔\u001b[39m \u001b[34mdplyr  \u001b[39m 1.1.4\n",
      "\u001b[32m✔\u001b[39m \u001b[34mtidyr  \u001b[39m 1.3.0     \u001b[32m✔\u001b[39m \u001b[34mstringr\u001b[39m 1.5.1\n",
      "\u001b[32m✔\u001b[39m \u001b[34mreadr  \u001b[39m 2.1.4     \u001b[32m✔\u001b[39m \u001b[34mforcats\u001b[39m 1.0.0\n",
      "\u001b[32m✔\u001b[39m \u001b[34mpurrr  \u001b[39m 1.0.2     \n",
      "\n",
      "── \u001b[1mConflicts\u001b[22m ────────────────────────────────────────────────────────────────────────────────────────────────────────────── tidyverse_conflicts() ──\n",
      "\u001b[31m✖\u001b[39m \u001b[34mtidyr\u001b[39m::\u001b[32mexpand()\u001b[39m masks \u001b[34mggtree\u001b[39m::expand()\n",
      "\u001b[31m✖\u001b[39m \u001b[34mdplyr\u001b[39m::\u001b[32mfilter()\u001b[39m masks \u001b[34mstats\u001b[39m::filter()\n",
      "\u001b[31m✖\u001b[39m \u001b[34mdplyr\u001b[39m::\u001b[32mlag()\u001b[39m    masks \u001b[34mstats\u001b[39m::lag()\n",
      "\u001b[31m✖\u001b[39m \u001b[34mdplyr\u001b[39m::\u001b[32mwhere()\u001b[39m  masks \u001b[34mape\u001b[39m::where()\n",
      "\n",
      "Loading required package: nloptr\n",
      "\n",
      "Loading required package: GenSA\n",
      "\n"
     ]
    }
   ],
   "source": [
    "setwd('..')\n",
    "\n",
    "options(warn=-1) # prevents warnings from being display change to options(warn=0) if you wan to get the warnings displayed\n",
    "\n",
    "\n",
    "library(ape)\n",
    "library(ggtree)\n",
    "library(ggplot2)\n",
    "library(tidyverse)\n",
    "library(corHMM)\n",
    "library(phyr)"
   ]
  },
  {
   "cell_type": "markdown",
   "id": "ec18084c-2525-4b30-8621-4d78897397a7",
   "metadata": {},
   "source": [
    "### Function definition"
   ]
  },
  {
   "cell_type": "code",
   "execution_count": 2,
   "id": "a5a4b4c3-dcce-4924-afa3-9991299ec0ae",
   "metadata": {
    "vscode": {
     "languageId": "r"
    }
   },
   "outputs": [],
   "source": [
    "## Function 1\n",
    " # This function reformats the output of the corHMM::fitCorrelationTest test into a dataframe in which, for each fitted models, we store information about model, rate.cat, loglik, AIC and AUCc\n",
    "\n",
    "cor_mod_res=function(fsa_asc_corr_test){\n",
    "\n",
    "  corhmm_res <- data.frame(\n",
    "    model = names(fsa_asc_corr_test),\n",
    "    n_rate_cats = NA,\n",
    "    n_params = NA,\n",
    "    neg_log_lik = NA,\n",
    "    AIC = NA,\n",
    "    AICc = NA\n",
    "  )\n",
    "  for(model in 1:length(ls(fsa_asc_corr_test))){\n",
    "    mod_name <- names(fsa_asc_corr_test[model])\n",
    "    mod_cats <- fsa_asc_corr_test[[model]]$rate.cat\n",
    "    mod_nparam <- length(na.omit(c(fsa_asc_corr_test[[model]]$solution)))\n",
    "    mod_lik <- round(fsa_asc_corr_test[[model]]$loglik, 2)\n",
    "    mod_aic <- round(fsa_asc_corr_test[[model]]$AIC, 2)\n",
    "    mod_aicc <- round(fsa_asc_corr_test[[model]]$AICc, 2)\n",
    "  \n",
    "    corhmm_res[model,] <-\n",
    "      c(mod_name, mod_cats, mod_nparam,\n",
    "        mod_lik, mod_aic, mod_aicc)\n",
    "  }\n",
    "\n",
    "  corhmm_res\n",
    "}"
   ]
  },
  {
   "cell_type": "markdown",
   "id": "c138090f-0fa1-4bd3-9358-79f2d57cb919",
   "metadata": {},
   "source": [
    "### Analysis"
   ]
  },
  {
   "cell_type": "code",
   "execution_count": 3,
   "id": "b3abaf51-4715-4f36-b713-a48483a37b01",
   "metadata": {
    "vscode": {
     "languageId": "r"
    }
   },
   "outputs": [],
   "source": [
    "## Data import\n",
    "\n",
    "data_trait_all=read.csv('data/step4/traits_DFA_info_col.csv')[-1]\n",
    "tree_all=read.tree('data/step3/species_trait_tree_final.nwk')\n",
    "\n",
    "## Only keep trait information for species that have phylogeny information\n",
    "\n",
    "species_G=intersect(data_trait_all$tip.label, tree_all$tip.label)\n",
    "\n",
    "data_trait_all_g=subset(data_trait_all, data_trait_all$tip.label%in%species_G)"
   ]
  },
  {
   "cell_type": "code",
   "execution_count": 4,
   "id": "de9efe44-7049-4e47-b82b-ec5d59c629d0",
   "metadata": {
    "vscode": {
     "languageId": "r"
    }
   },
   "outputs": [
    {
     "data": {
      "text/html": [
       "<style>\n",
       ".list-inline {list-style: none; margin:0; padding: 0}\n",
       ".list-inline>li {display: inline-block}\n",
       ".list-inline>li:not(:last-child)::after {content: \"\\00b7\"; padding: 0 .5ex}\n",
       "</style>\n",
       "<ol class=list-inline><li>'tip.label'</li><li>'Phylum'</li><li>'DFA'</li><li>'ascus_dehiscence'</li><li>'auxinResponsivePromoter_count'</li><li>'growth_form_fg'</li><li>'spore_length'</li><li>'spore_width'</li><li>'trophic_mode_fg'</li></ol>\n"
      ],
      "text/latex": [
       "\\begin{enumerate*}\n",
       "\\item 'tip.label'\n",
       "\\item 'Phylum'\n",
       "\\item 'DFA'\n",
       "\\item 'ascus\\_dehiscence'\n",
       "\\item 'auxinResponsivePromoter\\_count'\n",
       "\\item 'growth\\_form\\_fg'\n",
       "\\item 'spore\\_length'\n",
       "\\item 'spore\\_width'\n",
       "\\item 'trophic\\_mode\\_fg'\n",
       "\\end{enumerate*}\n"
      ],
      "text/markdown": [
       "1. 'tip.label'\n",
       "2. 'Phylum'\n",
       "3. 'DFA'\n",
       "4. 'ascus_dehiscence'\n",
       "5. 'auxinResponsivePromoter_count'\n",
       "6. 'growth_form_fg'\n",
       "7. 'spore_length'\n",
       "8. 'spore_width'\n",
       "9. 'trophic_mode_fg'\n",
       "\n",
       "\n"
      ],
      "text/plain": [
       "[1] \"tip.label\"                     \"Phylum\"                       \n",
       "[3] \"DFA\"                           \"ascus_dehiscence\"             \n",
       "[5] \"auxinResponsivePromoter_count\" \"growth_form_fg\"               \n",
       "[7] \"spore_length\"                  \"spore_width\"                  \n",
       "[9] \"trophic_mode_fg\"              "
      ]
     },
     "metadata": {},
     "output_type": "display_data"
    }
   ],
   "source": [
    "colnames(data_trait_all_g)"
   ]
  },
  {
   "cell_type": "code",
   "execution_count": 5,
   "id": "a3a96262-ab96-4a76-9db6-fb7e3b502e54",
   "metadata": {
    "vscode": {
     "languageId": "r"
    }
   },
   "outputs": [
    {
     "data": {
      "text/html": [
       "<table class=\"dataframe\">\n",
       "<caption>A data.frame: 10 × 9</caption>\n",
       "<thead>\n",
       "\t<tr><th></th><th scope=col>tip.label</th><th scope=col>Phylum</th><th scope=col>DFA</th><th scope=col>ascus_dehiscence</th><th scope=col>auxinResponsivePromoter_count</th><th scope=col>growth_form_fg</th><th scope=col>spore_length</th><th scope=col>spore_width</th><th scope=col>trophic_mode_fg</th></tr>\n",
       "\t<tr><th></th><th scope=col>&lt;chr&gt;</th><th scope=col>&lt;chr&gt;</th><th scope=col>&lt;chr&gt;</th><th scope=col>&lt;chr&gt;</th><th scope=col>&lt;int&gt;</th><th scope=col>&lt;chr&gt;</th><th scope=col>&lt;dbl&gt;</th><th scope=col>&lt;dbl&gt;</th><th scope=col>&lt;chr&gt;</th></tr>\n",
       "</thead>\n",
       "<tbody>\n",
       "\t<tr><th scope=row>1</th><td>Agaricus_bisporus   </td><td>Basidiomycota</td><td>No </td><td>NA</td><td>NA</td><td>NA         </td><td> 9</td><td>6.55</td><td>NA                   </td></tr>\n",
       "\t<tr><th scope=row>2</th><td>Amanita_muscaria    </td><td>Basidiomycota</td><td>Yes</td><td>NA</td><td> 0</td><td>Agaricoid  </td><td> 9</td><td>6.50</td><td>Symbiotroph          </td></tr>\n",
       "\t<tr><th scope=row>4</th><td>Armillaria_gallica  </td><td>Basidiomycota</td><td>Yes</td><td>NA</td><td>NA</td><td>Agaricoid  </td><td>NA</td><td>  NA</td><td>Pathotroph-Saprotroph</td></tr>\n",
       "\t<tr><th scope=row>5</th><td>Armillaria_ostoyae  </td><td>Basidiomycota</td><td>Yes</td><td>NA</td><td>NA</td><td>Agaricoid  </td><td> 9</td><td>5.50</td><td>Pathotroph-Saprotroph</td></tr>\n",
       "\t<tr><th scope=row>8</th><td>Aspergillus_clavatus</td><td>Ascomycota   </td><td>Yes</td><td>NA</td><td> 0</td><td>Microfungus</td><td>NA</td><td>  NA</td><td>Pathotroph           </td></tr>\n",
       "\t<tr><th scope=row>9</th><td>Aspergillus_flavus  </td><td>Ascomycota   </td><td>No </td><td>NA</td><td> 0</td><td>Microfungus</td><td>NA</td><td>  NA</td><td>Pathotroph-Saprotroph</td></tr>\n",
       "\t<tr><th scope=row>11</th><td>Aspergillus_ruber   </td><td>Ascomycota   </td><td>No </td><td>NA</td><td> 0</td><td>Microfungus</td><td>NA</td><td>  NA</td><td>Pathotroph           </td></tr>\n",
       "\t<tr><th scope=row>13</th><td>Beauveria_bassiana  </td><td>Ascomycota   </td><td>No </td><td>NA</td><td> 0</td><td>NULL       </td><td>NA</td><td>  NA</td><td>Pathotroph           </td></tr>\n",
       "\t<tr><th scope=row>16</th><td>Bipolaris_oryzae    </td><td>Ascomycota   </td><td>Yes</td><td>NA</td><td> 0</td><td>NULL       </td><td>NA</td><td>  NA</td><td>Pathotroph           </td></tr>\n",
       "\t<tr><th scope=row>17</th><td>Bipolaris_victoriae </td><td>Ascomycota   </td><td>No </td><td>NA</td><td> 0</td><td>NULL       </td><td>NA</td><td>  NA</td><td>Pathotroph           </td></tr>\n",
       "</tbody>\n",
       "</table>\n"
      ],
      "text/latex": [
       "A data.frame: 10 × 9\n",
       "\\begin{tabular}{r|lllllllll}\n",
       "  & tip.label & Phylum & DFA & ascus\\_dehiscence & auxinResponsivePromoter\\_count & growth\\_form\\_fg & spore\\_length & spore\\_width & trophic\\_mode\\_fg\\\\\n",
       "  & <chr> & <chr> & <chr> & <chr> & <int> & <chr> & <dbl> & <dbl> & <chr>\\\\\n",
       "\\hline\n",
       "\t1 & Agaricus\\_bisporus    & Basidiomycota & No  & NA & NA & NA          &  9 & 6.55 & NA                   \\\\\n",
       "\t2 & Amanita\\_muscaria     & Basidiomycota & Yes & NA &  0 & Agaricoid   &  9 & 6.50 & Symbiotroph          \\\\\n",
       "\t4 & Armillaria\\_gallica   & Basidiomycota & Yes & NA & NA & Agaricoid   & NA &   NA & Pathotroph-Saprotroph\\\\\n",
       "\t5 & Armillaria\\_ostoyae   & Basidiomycota & Yes & NA & NA & Agaricoid   &  9 & 5.50 & Pathotroph-Saprotroph\\\\\n",
       "\t8 & Aspergillus\\_clavatus & Ascomycota    & Yes & NA &  0 & Microfungus & NA &   NA & Pathotroph           \\\\\n",
       "\t9 & Aspergillus\\_flavus   & Ascomycota    & No  & NA &  0 & Microfungus & NA &   NA & Pathotroph-Saprotroph\\\\\n",
       "\t11 & Aspergillus\\_ruber    & Ascomycota    & No  & NA &  0 & Microfungus & NA &   NA & Pathotroph           \\\\\n",
       "\t13 & Beauveria\\_bassiana   & Ascomycota    & No  & NA &  0 & NULL        & NA &   NA & Pathotroph           \\\\\n",
       "\t16 & Bipolaris\\_oryzae     & Ascomycota    & Yes & NA &  0 & NULL        & NA &   NA & Pathotroph           \\\\\n",
       "\t17 & Bipolaris\\_victoriae  & Ascomycota    & No  & NA &  0 & NULL        & NA &   NA & Pathotroph           \\\\\n",
       "\\end{tabular}\n"
      ],
      "text/markdown": [
       "\n",
       "A data.frame: 10 × 9\n",
       "\n",
       "| <!--/--> | tip.label &lt;chr&gt; | Phylum &lt;chr&gt; | DFA &lt;chr&gt; | ascus_dehiscence &lt;chr&gt; | auxinResponsivePromoter_count &lt;int&gt; | growth_form_fg &lt;chr&gt; | spore_length &lt;dbl&gt; | spore_width &lt;dbl&gt; | trophic_mode_fg &lt;chr&gt; |\n",
       "|---|---|---|---|---|---|---|---|---|---|\n",
       "| 1 | Agaricus_bisporus    | Basidiomycota | No  | NA | NA | NA          |  9 | 6.55 | NA                    |\n",
       "| 2 | Amanita_muscaria     | Basidiomycota | Yes | NA |  0 | Agaricoid   |  9 | 6.50 | Symbiotroph           |\n",
       "| 4 | Armillaria_gallica   | Basidiomycota | Yes | NA | NA | Agaricoid   | NA |   NA | Pathotroph-Saprotroph |\n",
       "| 5 | Armillaria_ostoyae   | Basidiomycota | Yes | NA | NA | Agaricoid   |  9 | 5.50 | Pathotroph-Saprotroph |\n",
       "| 8 | Aspergillus_clavatus | Ascomycota    | Yes | NA |  0 | Microfungus | NA |   NA | Pathotroph            |\n",
       "| 9 | Aspergillus_flavus   | Ascomycota    | No  | NA |  0 | Microfungus | NA |   NA | Pathotroph-Saprotroph |\n",
       "| 11 | Aspergillus_ruber    | Ascomycota    | No  | NA |  0 | Microfungus | NA |   NA | Pathotroph            |\n",
       "| 13 | Beauveria_bassiana   | Ascomycota    | No  | NA |  0 | NULL        | NA |   NA | Pathotroph            |\n",
       "| 16 | Bipolaris_oryzae     | Ascomycota    | Yes | NA |  0 | NULL        | NA |   NA | Pathotroph            |\n",
       "| 17 | Bipolaris_victoriae  | Ascomycota    | No  | NA |  0 | NULL        | NA |   NA | Pathotroph            |\n",
       "\n"
      ],
      "text/plain": [
       "   tip.label            Phylum        DFA ascus_dehiscence\n",
       "1  Agaricus_bisporus    Basidiomycota No  NA              \n",
       "2  Amanita_muscaria     Basidiomycota Yes NA              \n",
       "4  Armillaria_gallica   Basidiomycota Yes NA              \n",
       "5  Armillaria_ostoyae   Basidiomycota Yes NA              \n",
       "8  Aspergillus_clavatus Ascomycota    Yes NA              \n",
       "9  Aspergillus_flavus   Ascomycota    No  NA              \n",
       "11 Aspergillus_ruber    Ascomycota    No  NA              \n",
       "13 Beauveria_bassiana   Ascomycota    No  NA              \n",
       "16 Bipolaris_oryzae     Ascomycota    Yes NA              \n",
       "17 Bipolaris_victoriae  Ascomycota    No  NA              \n",
       "   auxinResponsivePromoter_count growth_form_fg spore_length spore_width\n",
       "1  NA                            NA              9           6.55       \n",
       "2   0                            Agaricoid       9           6.50       \n",
       "4  NA                            Agaricoid      NA             NA       \n",
       "5  NA                            Agaricoid       9           5.50       \n",
       "8   0                            Microfungus    NA             NA       \n",
       "9   0                            Microfungus    NA             NA       \n",
       "11  0                            Microfungus    NA             NA       \n",
       "13  0                            NULL           NA             NA       \n",
       "16  0                            NULL           NA             NA       \n",
       "17  0                            NULL           NA             NA       \n",
       "   trophic_mode_fg      \n",
       "1  NA                   \n",
       "2  Symbiotroph          \n",
       "4  Pathotroph-Saprotroph\n",
       "5  Pathotroph-Saprotroph\n",
       "8  Pathotroph           \n",
       "9  Pathotroph-Saprotroph\n",
       "11 Pathotroph           \n",
       "13 Pathotroph           \n",
       "16 Pathotroph           \n",
       "17 Pathotroph           "
      ]
     },
     "metadata": {},
     "output_type": "display_data"
    }
   ],
   "source": [
    "head(data_trait_all_g,10)"
   ]
  },
  {
   "cell_type": "markdown",
   "id": "6431c6d3-4f0a-4325-a5f3-50048a117910",
   "metadata": {},
   "source": [
    "#### Trait 1: Ascus dehiscence"
   ]
  },
  {
   "cell_type": "code",
   "execution_count": 6,
   "id": "31afedd7-37c9-4891-bcfd-bfe9da4c5e71",
   "metadata": {
    "vscode": {
     "languageId": "r"
    }
   },
   "outputs": [],
   "source": [
    "  ##extracting and preparing the data for the model\n",
    "data_trait1=data_trait_all[,c('tip.label','DFA','ascus_dehiscence')]%>%na.omit()\n",
    "\n",
    "data_ex=data_trait1\n",
    "  \n",
    "  ##keep only levels with 4 or more counts\n",
    "\n",
    "trait_counts=data.frame(t(table(data_ex$ascus_dehiscence)))[,-1]\n",
    "colnames(trait_counts)=c('trait_lev','count')\n",
    "good_traits=subset(trait_counts, trait_counts$count>=4)"
   ]
  },
  {
   "cell_type": "code",
   "execution_count": 7,
   "id": "77b91a1e-4918-482b-9a07-5240520d8ecf",
   "metadata": {
    "vscode": {
     "languageId": "r"
    }
   },
   "outputs": [
    {
     "data": {
      "image/png": "[encoded data removed]",
      "text/plain": [
       "plot without title"
      ]
     },
     "metadata": {
      "image/png": {
       "height": 420,
       "width": 420
      }
     },
     "output_type": "display_data"
    }
   ],
   "source": [
    "## data visualization\n",
    "traits_lev=c(unique(good_traits$trait_lev))\n",
    "data_viz=data.frame()\n",
    "\n",
    "for (i in 1:length(traits_lev)){\n",
    "  dat=subset(data_ex, data_ex$ascus_dehiscence==traits_lev[i])\n",
    "  DFA_yes=length(which(dat$DFA=='Yes'))\n",
    "  DFA_no=length(which(dat$DFA=='No'))\n",
    "  dat_tp=data.frame('trait'=traits_lev[i],'Yes'=DFA_yes,'No'=DFA_no)\n",
    "  data_viz=rbind(data_viz,dat_tp)\n",
    "}\n",
    "\n",
    "data_plot=gather(data_viz,DFA_status,Count,Yes:No)\n",
    "\n",
    "plot=ggplot(data_plot, aes(x=trait, y=Count,fill=DFA_status)) + geom_bar(stat='identity')+\n",
    "  theme_classic() + scale_fill_manual(values=c('#F5E4BE','#C6E7F4'))\n",
    "\n",
    "plot\n"
   ]
  },
  {
   "cell_type": "code",
   "execution_count": 8,
   "id": "942d6a20-47e8-47c1-bf6d-83d7dcadce23",
   "metadata": {
    "vscode": {
     "languageId": "r"
    }
   },
   "outputs": [],
   "source": [
    "  ## subset data for levels with enough counts\n",
    "\n",
    "data_model=subset(data_ex, data_ex$ascus_dehiscence%in%traits_lev)\n",
    "\n",
    "\n",
    "##trimming tree to keep the right tips\n",
    "\n",
    "tree_tip=intersect(tree_all$tip.label,data_model$tip.label)\n",
    "tree_pruned=keep.tip(tree_all, tree_tip)\n"
   ]
  },
  {
   "cell_type": "code",
   "execution_count": 9,
   "id": "56cac8db-a874-49fa-aa97-4f487f92d050",
   "metadata": {
    "vscode": {
     "languageId": "r"
    }
   },
   "outputs": [
    {
     "name": "stdout",
     "output_type": "stream",
     "text": [
      "Begining test of correlation...\n",
      "\n",
      "Fitting an independent model...\n",
      "Fitting a hidden Markov independent model...\n",
      "Fitting a correlated model...\n",
      "Fitting a hidden Markov correlated model...\n",
      "Done.\n"
     ]
    }
   ],
   "source": [
    "  ## Modeling\n",
    "\n",
    "dat=data_model\n",
    "\n",
    "   # Reformat DFA as a binary presence/absence\n",
    "dat$DFA <- as.factor(gsub(1, \"Present\", dat$DFA) |> gsub(pattern = 0, replacement = \"Absent\"))\n",
    "\n",
    "   # Add a column to have trait as a factor\n",
    "dat$ascD <- dat$ascus_dehiscence\n",
    "dat$ascD <- as.factor(dat$ascD)\n",
    "\n",
    "  # Sort data to match tip labels\n",
    "tree = tree_pruned\n",
    "dat <- dat[match(tree$tip.label, dat$tip.label),]\n",
    "\n",
    "   # Fit models\n",
    "fsa_asc_corr_test <-\n",
    "  corHMM::fitCorrelationTest(tree,\n",
    "                             data = dat[c('tip.label', 'DFA', 'ascD')])\n"
   ]
  },
  {
   "cell_type": "code",
   "execution_count": 10,
   "id": "531405c9-e0fd-4e6f-ad0a-727fa18908d9",
   "metadata": {
    "vscode": {
     "languageId": "r"
    }
   },
   "outputs": [
    {
     "data": {
      "text/html": [
       "<table class=\"dataframe\">\n",
       "<caption>A data.frame: 4 × 6</caption>\n",
       "<thead>\n",
       "\t<tr><th scope=col>model</th><th scope=col>n_rate_cats</th><th scope=col>n_params</th><th scope=col>neg_log_lik</th><th scope=col>AIC</th><th scope=col>AICc</th></tr>\n",
       "\t<tr><th scope=col>&lt;chr&gt;</th><th scope=col>&lt;chr&gt;</th><th scope=col>&lt;chr&gt;</th><th scope=col>&lt;chr&gt;</th><th scope=col>&lt;chr&gt;</th><th scope=col>&lt;chr&gt;</th></tr>\n",
       "</thead>\n",
       "<tbody>\n",
       "\t<tr><td>independent_model_fit              </td><td>1</td><td>18</td><td>-14.62</td><td>45.24</td><td>74.04 </td></tr>\n",
       "\t<tr><td>hidden_Markov_independent_model_fit</td><td>2</td><td>48</td><td>-14.05</td><td>64.1 </td><td>-72.7 </td></tr>\n",
       "\t<tr><td>correlated_model_fit               </td><td>1</td><td>18</td><td>-13.78</td><td>63.56</td><td>-73.24</td></tr>\n",
       "\t<tr><td>hidden_Markov_correlated_model_fit </td><td>2</td><td>48</td><td>-13.7 </td><td>103.4</td><td>-15.16</td></tr>\n",
       "</tbody>\n",
       "</table>\n"
      ],
      "text/latex": [
       "A data.frame: 4 × 6\n",
       "\\begin{tabular}{llllll}\n",
       " model & n\\_rate\\_cats & n\\_params & neg\\_log\\_lik & AIC & AICc\\\\\n",
       " <chr> & <chr> & <chr> & <chr> & <chr> & <chr>\\\\\n",
       "\\hline\n",
       "\t independent\\_model\\_fit               & 1 & 18 & -14.62 & 45.24 & 74.04 \\\\\n",
       "\t hidden\\_Markov\\_independent\\_model\\_fit & 2 & 48 & -14.05 & 64.1  & -72.7 \\\\\n",
       "\t correlated\\_model\\_fit                & 1 & 18 & -13.78 & 63.56 & -73.24\\\\\n",
       "\t hidden\\_Markov\\_correlated\\_model\\_fit  & 2 & 48 & -13.7  & 103.4 & -15.16\\\\\n",
       "\\end{tabular}\n"
      ],
      "text/markdown": [
       "\n",
       "A data.frame: 4 × 6\n",
       "\n",
       "| model &lt;chr&gt; | n_rate_cats &lt;chr&gt; | n_params &lt;chr&gt; | neg_log_lik &lt;chr&gt; | AIC &lt;chr&gt; | AICc &lt;chr&gt; |\n",
       "|---|---|---|---|---|---|\n",
       "| independent_model_fit               | 1 | 18 | -14.62 | 45.24 | 74.04  |\n",
       "| hidden_Markov_independent_model_fit | 2 | 48 | -14.05 | 64.1  | -72.7  |\n",
       "| correlated_model_fit                | 1 | 18 | -13.78 | 63.56 | -73.24 |\n",
       "| hidden_Markov_correlated_model_fit  | 2 | 48 | -13.7  | 103.4 | -15.16 |\n",
       "\n"
      ],
      "text/plain": [
       "  model                               n_rate_cats n_params neg_log_lik AIC  \n",
       "1 independent_model_fit               1           18       -14.62      45.24\n",
       "2 hidden_Markov_independent_model_fit 2           48       -14.05      64.1 \n",
       "3 correlated_model_fit                1           18       -13.78      63.56\n",
       "4 hidden_Markov_correlated_model_fit  2           48       -13.7       103.4\n",
       "  AICc  \n",
       "1 74.04 \n",
       "2 -72.7 \n",
       "3 -73.24\n",
       "4 -15.16"
      ]
     },
     "metadata": {},
     "output_type": "display_data"
    }
   ],
   "source": [
    " # Format model output \n",
    "\n",
    "cor_asd=cor_mod_res(fsa_asc_corr_test)\n",
    "\n",
    "cor_asd"
   ]
  },
  {
   "cell_type": "markdown",
   "id": "5cbeb407-cf9a-432c-8ad5-add1e7a4b609",
   "metadata": {},
   "source": [
    "#### Trait 2: Growth form"
   ]
  },
  {
   "cell_type": "code",
   "execution_count": 8,
   "id": "42f80b54-358a-4ac0-adcc-9cf431058666",
   "metadata": {
    "vscode": {
     "languageId": "r"
    }
   },
   "outputs": [],
   "source": [
    "    ##extracting and preparing the data for the model\n",
    "\n",
    "\n",
    "data_trait2=data_trait_all[,c('tip.label','DFA','growth_form_fg')]%>%na.omit()\n",
    "data_trait2=subset(data_trait2, data_trait2$growth_form_fg!='NULL') # Removes anything that has a 'NULL' tag as growth form\n",
    "\n",
    "\n",
    "data_ex=data_trait2\n",
    "\n",
    "data_ex$growth_form_fg[data_ex$growth_form_fg=='Facultative Yeast']<-'Yeast'  # Facultative yeast is counted as yeast\n",
    "\n",
    "\n",
    "##keep only levels with 4 or more counts\n",
    "\n",
    "trait_counts=data.frame(t(table(data_ex$growth_form_fg)))[,-1]\n",
    "colnames(trait_counts)=c('trait_lev','count')\n",
    "good_traits=subset(trait_counts, trait_counts$count>=4)\n"
   ]
  },
  {
   "cell_type": "code",
   "execution_count": 9,
   "id": "56c65e4e-2ec9-41e3-9fc1-049a1030610e",
   "metadata": {
    "vscode": {
     "languageId": "r"
    }
   },
   "outputs": [
    {
     "data": {
      "image/png": "[encoded data removed]",
      "text/plain": [
       "plot without title"
      ]
     },
     "metadata": {
      "image/png": {
       "height": 420,
       "width": 420
      }
     },
     "output_type": "display_data"
    }
   ],
   "source": [
    "## data visualization\n",
    "traits_lev=c(unique(good_traits$trait_lev))\n",
    "data_viz=data.frame()\n",
    "\n",
    "for (i in 1:length(traits_lev)){\n",
    "  dat=subset(data_ex, data_ex$growth_form_fg==traits_lev[i])\n",
    "  DFA_yes=length(which(dat$DFA=='Yes'))\n",
    "  DFA_no=length(which(dat$DFA=='No'))\n",
    "  dat_tp=data.frame('trait'=traits_lev[i],'Yes'=DFA_yes,'No'=DFA_no)\n",
    "  data_viz=rbind(data_viz,dat_tp)\n",
    "}\n",
    "\n",
    "data_plot=gather(data_viz,DFA_status,Count,Yes:No)\n",
    "\n",
    "plot=ggplot(data_plot, aes(x=trait, y=Count,fill=DFA_status)) + geom_bar(stat='identity')+\n",
    "  theme_classic() + scale_fill_manual(values=c('#F5E4BE','#C6E7F4'))\n",
    "\n",
    "plot\n"
   ]
  },
  {
   "cell_type": "code",
   "execution_count": 13,
   "id": "e8a76157-5fda-47db-941d-06e44b772ad8",
   "metadata": {
    "vscode": {
     "languageId": "r"
    }
   },
   "outputs": [],
   "source": [
    "## subset data for good traits\n",
    "\n",
    "data_model=subset(data_ex, data_ex$growth_form_fg%in%traits_lev)\n",
    "\n",
    "##trimming tree to keep the right tips\n",
    "\n",
    "tree_tip=intersect(tree_all$tip.label,data_model$tip.label)\n",
    "tree_pruned=keep.tip(tree_all, tree_tip)"
   ]
  },
  {
   "cell_type": "code",
   "execution_count": 14,
   "id": "3a16996e-d86c-4da8-8369-ec8dc7c73963",
   "metadata": {
    "vscode": {
     "languageId": "r"
    }
   },
   "outputs": [
    {
     "name": "stdout",
     "output_type": "stream",
     "text": [
      "Begining test of correlation...\n",
      "\n",
      "Fitting an independent model...\n",
      "Fitting a hidden Markov independent model...\n",
      "Fitting a correlated model...\n",
      "Fitting a hidden Markov correlated model...\n",
      "Done.\n"
     ]
    }
   ],
   "source": [
    "  ## Modeling\n",
    "\n",
    "dat=data_model\n",
    "\n",
    "   # Reformat DFA as a binary presence/absence\n",
    "dat$DFA <- as.factor(gsub(1, \"Present\", dat$DFA) |> gsub(pattern = 0, replacement = \"Absent\"))\n",
    "\n",
    "   # Add a column to have trait as a factor\n",
    "dat$gf <- dat$growth_form_fg\n",
    "dat$gf <- as.factor(dat$gf)\n",
    "\n",
    "  # Sort data to match tip labels\n",
    "tree = tree_pruned\n",
    "dat <- dat[match(tree$tip.label, dat$tip.label),]\n",
    "\n",
    "   # Fit models\n",
    "fsa_gf_corr_test <-\n",
    "  corHMM::fitCorrelationTest(tree,\n",
    "                             data = dat[c('tip.label', 'DFA', 'gf')])\n"
   ]
  },
  {
   "cell_type": "code",
   "execution_count": 15,
   "id": "056a3457-0e23-453b-b654-5bbd1fc516ff",
   "metadata": {
    "vscode": {
     "languageId": "r"
    }
   },
   "outputs": [
    {
     "data": {
      "text/html": [
       "<table class=\"dataframe\">\n",
       "<caption>A data.frame: 4 × 6</caption>\n",
       "<thead>\n",
       "\t<tr><th scope=col>model</th><th scope=col>n_rate_cats</th><th scope=col>n_params</th><th scope=col>neg_log_lik</th><th scope=col>AIC</th><th scope=col>AICc</th></tr>\n",
       "\t<tr><th scope=col>&lt;chr&gt;</th><th scope=col>&lt;chr&gt;</th><th scope=col>&lt;chr&gt;</th><th scope=col>&lt;chr&gt;</th><th scope=col>&lt;chr&gt;</th><th scope=col>&lt;chr&gt;</th></tr>\n",
       "</thead>\n",
       "<tbody>\n",
       "\t<tr><td>independent_model_fit              </td><td>1</td><td>18</td><td>-26.67</td><td>69.34 </td><td>78.94 </td></tr>\n",
       "\t<tr><td>hidden_Markov_independent_model_fit</td><td>2</td><td>48</td><td>-25.56</td><td>87.13 </td><td>223.93</td></tr>\n",
       "\t<tr><td>correlated_model_fit               </td><td>1</td><td>18</td><td>-25.32</td><td>86.65 </td><td>223.45</td></tr>\n",
       "\t<tr><td>hidden_Markov_correlated_model_fit </td><td>2</td><td>48</td><td>-25.28</td><td>126.56</td><td>-71.04</td></tr>\n",
       "</tbody>\n",
       "</table>\n"
      ],
      "text/latex": [
       "A data.frame: 4 × 6\n",
       "\\begin{tabular}{llllll}\n",
       " model & n\\_rate\\_cats & n\\_params & neg\\_log\\_lik & AIC & AICc\\\\\n",
       " <chr> & <chr> & <chr> & <chr> & <chr> & <chr>\\\\\n",
       "\\hline\n",
       "\t independent\\_model\\_fit               & 1 & 18 & -26.67 & 69.34  & 78.94 \\\\\n",
       "\t hidden\\_Markov\\_independent\\_model\\_fit & 2 & 48 & -25.56 & 87.13  & 223.93\\\\\n",
       "\t correlated\\_model\\_fit                & 1 & 18 & -25.32 & 86.65  & 223.45\\\\\n",
       "\t hidden\\_Markov\\_correlated\\_model\\_fit  & 2 & 48 & -25.28 & 126.56 & -71.04\\\\\n",
       "\\end{tabular}\n"
      ],
      "text/markdown": [
       "\n",
       "A data.frame: 4 × 6\n",
       "\n",
       "| model &lt;chr&gt; | n_rate_cats &lt;chr&gt; | n_params &lt;chr&gt; | neg_log_lik &lt;chr&gt; | AIC &lt;chr&gt; | AICc &lt;chr&gt; |\n",
       "|---|---|---|---|---|---|\n",
       "| independent_model_fit               | 1 | 18 | -26.67 | 69.34  | 78.94  |\n",
       "| hidden_Markov_independent_model_fit | 2 | 48 | -25.56 | 87.13  | 223.93 |\n",
       "| correlated_model_fit                | 1 | 18 | -25.32 | 86.65  | 223.45 |\n",
       "| hidden_Markov_correlated_model_fit  | 2 | 48 | -25.28 | 126.56 | -71.04 |\n",
       "\n"
      ],
      "text/plain": [
       "  model                               n_rate_cats n_params neg_log_lik AIC   \n",
       "1 independent_model_fit               1           18       -26.67      69.34 \n",
       "2 hidden_Markov_independent_model_fit 2           48       -25.56      87.13 \n",
       "3 correlated_model_fit                1           18       -25.32      86.65 \n",
       "4 hidden_Markov_correlated_model_fit  2           48       -25.28      126.56\n",
       "  AICc  \n",
       "1 78.94 \n",
       "2 223.93\n",
       "3 223.45\n",
       "4 -71.04"
      ]
     },
     "metadata": {},
     "output_type": "display_data"
    }
   ],
   "source": [
    " # Format model output \n",
    "\n",
    "cor_fg=cor_mod_res(fsa_gf_corr_test)\n",
    "\n",
    "cor_fg"
   ]
  },
  {
   "cell_type": "markdown",
   "id": "b627f1b2-c750-47df-a968-4cacb0e3dbd2",
   "metadata": {},
   "source": [
    "#### Trait 3: Spore length"
   ]
  },
  {
   "cell_type": "code",
   "execution_count": 10,
   "id": "cbdf7467-925e-403a-83fa-132ea880db83",
   "metadata": {
    "vscode": {
     "languageId": "r"
    }
   },
   "outputs": [
    {
     "data": {
      "image/png": "[encoded data removed]",
      "text/plain": [
       "plot without title"
      ]
     },
     "metadata": {
      "image/png": {
       "height": 420,
       "width": 420
      }
     },
     "output_type": "display_data"
    }
   ],
   "source": [
    "##extracting  the data (less reformating is necessary for continuous data)\n",
    "\n",
    "data_trait3=data_trait_all_g[,c('tip.label','DFA','spore_length')]%>%na.omit()\n",
    "data_ex=data_trait3\n",
    "\n",
    "\n",
    "## data visualization\n",
    "\n",
    "plot=ggplot(data_ex, aes(x=DFA, y=spore_length, fill=DFA)) + geom_jitter(position=position_jitter(0.1),size=5,shape=21, col='black')+\n",
    "  theme_classic() + scale_fill_manual(values=c('#F5E4BE','#C6E7F4'))\n",
    "\n",
    "plot\n"
   ]
  },
  {
   "cell_type": "code",
   "execution_count": 17,
   "id": "65e947f8-4613-4ab0-a2da-773861e4d924",
   "metadata": {
    "vscode": {
     "languageId": "r"
    }
   },
   "outputs": [],
   "source": [
    " ## DFA data transformation into 1 and 0 (for pglmm models)\n",
    "\n",
    "data_ex$DFA[data_ex$DFA=='Yes']=1\n",
    "data_ex$DFA[data_ex$DFA=='No']=0\n",
    "data_ex$DFA=as.numeric(data_ex$DFA)\n",
    "\n",
    "data_model=data_ex\n",
    "rownames(data_model)=data_model$tip.label #the tip.labels must be rownames for the pglmm_compare function\n",
    "\n",
    "\n",
    " ##trimming tree to keep the right tips\n",
    "\n",
    "tree_tip=intersect(tree_all$tip.label,data_model$tip.label)\n",
    "tree_pruned=keep.tip(tree_all, tree_tip)\n"
   ]
  },
  {
   "cell_type": "code",
   "execution_count": 18,
   "id": "441fd789-a43b-4967-9ee8-0de3e11c5a1b",
   "metadata": {
    "vscode": {
     "languageId": "r"
    }
   },
   "outputs": [
    {
     "name": "stderr",
     "output_type": "stream",
     "text": [
      "'as(<matrix>, \"dgTMatrix\")' is deprecated.\n",
      "Use 'as(as(as(., \"dMatrix\"), \"generalMatrix\"), \"TsparseMatrix\")' instead.\n",
      "See help(\"Deprecated\") and help(\"Matrix-deprecated\").\n",
      "\n"
     ]
    },
    {
     "data": {
      "text/plain": [
       "Generalized linear mixed model for binomial data fit by restricted maximum likelihood\n",
       "\n",
       "Call:FDA ~ spore_length\n",
       "\n",
       "logLik    AIC    BIC \n",
       " -5.81  19.62  16.25 \n",
       "\n",
       "Phylogenetic random effects variance (s2):\n",
       "   Variance Std.Dev\n",
       "s2    1.391    1.18\n",
       "\n",
       "Fixed effects:\n",
       "                Value Std.Error Zscore Pvalue\n",
       "(Intercept)  0.027776  1.845217 0.0151 0.9880\n",
       "spore_length 0.012707  0.022108 0.5748 0.5654\n"
      ]
     },
     "metadata": {},
     "output_type": "display_data"
    }
   ],
   "source": [
    "## Modeling\n",
    " # Because this is a continuous variable, we only need to test one model\n",
    "\n",
    "model_t0=pglmm_compare(DFA ~ spore_length , data = data_model, phy = tree_pruned, family = \"binomial\")\n",
    "model_t0"
   ]
  },
  {
   "cell_type": "markdown",
   "id": "d44a62ab-08c4-4233-85e9-59c0e78b08e2",
   "metadata": {},
   "source": [
    "#### Trait 4: Spore width"
   ]
  },
  {
   "cell_type": "code",
   "execution_count": 11,
   "id": "79bbedfa-d5e0-4ba1-b3e4-231f1f766ec6",
   "metadata": {
    "vscode": {
     "languageId": "r"
    }
   },
   "outputs": [
    {
     "data": {
      "image/png": "[encoded data removed]",
      "text/plain": [
       "plot without title"
      ]
     },
     "metadata": {
      "image/png": {
       "height": 420,
       "width": 420
      }
     },
     "output_type": "display_data"
    }
   ],
   "source": [
    " ##extracting  the data (less reformating is necessary for continuous data)\n",
    "\n",
    "data_trait4=data_trait_all_g[,c('tip.label','DFA','spore_width')]%>%na.omit()\n",
    "\n",
    "data_ex=data_trait4\n",
    "\n",
    "\n",
    "## data visualization\n",
    "\n",
    "plot=ggplot(data_ex, aes(x=DFA, y=spore_width, fill=DFA)) + geom_jitter(position=position_jitter(0.1), size=5,shape=21,col='black')+\n",
    "  theme_classic() + scale_fill_manual(values=c('#F5E4BE','#C6E7F4'))\n",
    "\n",
    "plot\n"
   ]
  },
  {
   "cell_type": "code",
   "execution_count": 20,
   "id": "8613b329-7d51-4220-969b-dfba2b7a933f",
   "metadata": {
    "vscode": {
     "languageId": "r"
    }
   },
   "outputs": [],
   "source": [
    "## DFA data transformation into 1 and 0 (for pglmm models)\n",
    "\n",
    "data_ex$DFA[data_ex$DFA=='Yes']=1\n",
    "data_ex$DFA[data_ex$DFA=='No']=0\n",
    "data_ex$DFA=as.numeric(data_ex$DFA)\n",
    "\n",
    "data_model=data_ex\n",
    "rownames(data_model)=data_model$tip.label #the tip.labels must be rownames for the pglmm_compare function\n",
    "\n",
    "##trimming tree to keep the right tips\n",
    "\n",
    "tree_tip=intersect(tree_all$tip.label,data_model$tip.label)\n",
    "tree_pruned=keep.tip(tree_all, tree_tip)\n"
   ]
  },
  {
   "cell_type": "code",
   "execution_count": 21,
   "id": "235ebbb6-b3a9-45e1-877f-4022678ae3d6",
   "metadata": {
    "vscode": {
     "languageId": "r"
    }
   },
   "outputs": [
    {
     "data": {
      "text/plain": [
       "Generalized linear mixed model for binomial data fit by restricted maximum likelihood\n",
       "\n",
       "Call:FDA ~ spore_width\n",
       "\n",
       "logLik    AIC    BIC \n",
       "-6.036 20.072 16.703 \n",
       "\n",
       "Phylogenetic random effects variance (s2):\n",
       "   Variance Std.Dev\n",
       "s2   0.5502  0.7418\n",
       "\n",
       "Fixed effects:\n",
       "                Value Std.Error Zscore Pvalue\n",
       "(Intercept) 0.5462263 1.2420472 0.4398 0.6601\n",
       "spore_width 0.0054479 0.0155198 0.3510 0.7256\n"
      ]
     },
     "metadata": {},
     "output_type": "display_data"
    }
   ],
   "source": [
    "## Modeling\n",
    "\n",
    "model_t0=pglmm_compare(DFA ~ spore_width , data = data_model, phy = tree_pruned, family = \"binomial\")\n",
    "model_t0"
   ]
  },
  {
   "cell_type": "markdown",
   "id": "e41ff989-e07e-41c6-9b9b-d93751479b1b",
   "metadata": {},
   "source": [
    "#### Trait 5: Trophic mode"
   ]
  },
  {
   "cell_type": "code",
   "execution_count": 12,
   "id": "155218f4-00b7-4cb2-8fad-734c2bc1ddff",
   "metadata": {
    "vscode": {
     "languageId": "r"
    }
   },
   "outputs": [],
   "source": [
    " ##extracting and preparing the data for the model\n",
    "data_trait5=data_trait_all_g[,c('tip.label','DFA','trophic_mode_fg')]%>%na.omit()\n",
    "\n",
    " #parsing and reorganizing data as single levels\n",
    "\n",
    "levels=c('Symbiotroph','Saprotroph','Pathotroph')\n",
    "\n",
    "data_troph_simp=data.frame()\n",
    "\n",
    "for(i in 1:length(levels)){\n",
    "  lev=levels[i]\n",
    "  dat_temp=data_trait5[grep(lev,data_trait5$trophic_mode_fg),]\n",
    "  \n",
    "  colnames(dat_temp)=c('species','DFA','troph_mode')\n",
    "  dat_temp$troph_mode=lev\n",
    "  \n",
    "  data_troph_simp=rbind(data_troph_simp, dat_temp)\n",
    "  \n",
    "}\n",
    "\n",
    "data_ex=data_troph_simp\n",
    "\n",
    " #keeping only levels with 4 or more counts\n",
    "\n",
    "trait_counts=data.frame(t(table(data_ex$troph_mode)))[,-1]\n",
    "colnames(trait_counts)=c('trait_lev','count')\n",
    "good_traits=subset(trait_counts, trait_counts$count>=4)\n"
   ]
  },
  {
   "cell_type": "code",
   "execution_count": 13,
   "id": "da0c61e8-c5e8-47f2-92fc-f4feac809717",
   "metadata": {
    "vscode": {
     "languageId": "r"
    }
   },
   "outputs": [
    {
     "data": {
      "image/png": "[encoded data removed]",
      "text/plain": [
       "plot without title"
      ]
     },
     "metadata": {
      "image/png": {
       "height": 420,
       "width": 420
      }
     },
     "output_type": "display_data"
    }
   ],
   "source": [
    "## data visualization\n",
    "traits_lev=c(unique(good_traits$trait_lev))\n",
    "data_viz=data.frame()\n",
    "\n",
    "for (i in 1:length(traits_lev)){\n",
    "  dat=subset(data_ex, data_ex$troph_mode==traits_lev[i])\n",
    "  DFA_yes=length(which(dat$DFA=='Yes'))\n",
    "  DFA_no=length(which(dat$DFA=='No'))\n",
    "  dat_tp=data.frame('trait'=traits_lev[i],'Yes'=DFA_yes,'No'=DFA_no)\n",
    "  data_viz=rbind(data_viz,dat_tp)\n",
    "}\n",
    "\n",
    "data_plot=gather(data_viz,DFA_status,Count,Yes:No)\n",
    "\n",
    "plot=ggplot(data_plot, aes(x=trait, y=Count,fill=DFA_status)) + geom_bar(stat='identity')+\n",
    "  theme_classic() + scale_fill_manual(values=c('#F5E4BE','#C6E7F4'))\n",
    "\n",
    "plot\n"
   ]
  },
  {
   "cell_type": "code",
   "execution_count": 24,
   "id": "4c651039-a832-41b9-b273-923cdfcdeba5",
   "metadata": {
    "vscode": {
     "languageId": "r"
    }
   },
   "outputs": [],
   "source": [
    "## subset data for good traits\n",
    "\n",
    "data_model=subset(data_ex, data_ex$troph_mode%in%traits_lev)\n",
    "\n",
    "##trimming tree to keep the right tips\n",
    "\n",
    "tree_tip=intersect(tree_all$tip.label,data_model$species)\n",
    "tree_pruned=keep.tip(tree_all, tree_tip)"
   ]
  },
  {
   "cell_type": "code",
   "execution_count": 25,
   "id": "ae723a39-79ab-4b95-b112-a3777b9f0f03",
   "metadata": {
    "vscode": {
     "languageId": "r"
    }
   },
   "outputs": [
    {
     "name": "stdout",
     "output_type": "stream",
     "text": [
      "Begining test of correlation...\n",
      "\n",
      "Fitting an independent model...\n",
      "Fitting a hidden Markov independent model...\n",
      "Fitting a correlated model...\n",
      "Fitting a hidden Markov correlated model...\n",
      "Done.\n"
     ]
    }
   ],
   "source": [
    " ## Modeling\n",
    "\n",
    "dat=data_model\n",
    "dat=subset(dat, dat$species%in%tree_tip)\n",
    "\n",
    "   # Reformat DFA as a binary presence/absence\n",
    "dat$DFA <- as.factor(gsub(1, \"Present\", dat$DFA) |> gsub(pattern = 0, replacement = \"Absent\"))\n",
    "\n",
    "   # Add a column to have trait as a factor\n",
    "dat$tm <- dat$troph_mode\n",
    "dat$tm <- as.factor(dat$tm)\n",
    "\n",
    "  # Sort data to match tip labels\n",
    "tree = tree_pruned\n",
    "dat <- dat[match(tree$tip.label, dat$species),]\n",
    "colnames(dat)=c('tip.label',colnames(dat[,2:4]))\n",
    "\n",
    "   # Fit models\n",
    "fsa_tm_corr_test <-\n",
    "  corHMM::fitCorrelationTest(tree,\n",
    "                             data = dat[c('tip.label', 'DFA', 'tm')])\n"
   ]
  },
  {
   "cell_type": "code",
   "execution_count": 26,
   "id": "0faff36c-ffc6-4047-b3c0-2fc3a064b27b",
   "metadata": {
    "vscode": {
     "languageId": "r"
    }
   },
   "outputs": [
    {
     "data": {
      "text/html": [
       "<table class=\"dataframe\">\n",
       "<caption>A data.frame: 4 × 6</caption>\n",
       "<thead>\n",
       "\t<tr><th scope=col>model</th><th scope=col>n_rate_cats</th><th scope=col>n_params</th><th scope=col>neg_log_lik</th><th scope=col>AIC</th><th scope=col>AICc</th></tr>\n",
       "\t<tr><th scope=col>&lt;chr&gt;</th><th scope=col>&lt;chr&gt;</th><th scope=col>&lt;chr&gt;</th><th scope=col>&lt;chr&gt;</th><th scope=col>&lt;chr&gt;</th><th scope=col>&lt;chr&gt;</th></tr>\n",
       "</thead>\n",
       "<tbody>\n",
       "\t<tr><td>independent_model_fit              </td><td>1</td><td>18</td><td>-97.9 </td><td>211.79</td><td>214.46</td></tr>\n",
       "\t<tr><td>hidden_Markov_independent_model_fit</td><td>2</td><td>48</td><td>-93.16</td><td>222.31</td><td>237.86</td></tr>\n",
       "\t<tr><td>correlated_model_fit               </td><td>1</td><td>18</td><td>-94.21</td><td>224.42</td><td>239.96</td></tr>\n",
       "\t<tr><td>hidden_Markov_correlated_model_fit </td><td>2</td><td>48</td><td>-92.43</td><td>260.86</td><td>384.36</td></tr>\n",
       "</tbody>\n",
       "</table>\n"
      ],
      "text/latex": [
       "A data.frame: 4 × 6\n",
       "\\begin{tabular}{llllll}\n",
       " model & n\\_rate\\_cats & n\\_params & neg\\_log\\_lik & AIC & AICc\\\\\n",
       " <chr> & <chr> & <chr> & <chr> & <chr> & <chr>\\\\\n",
       "\\hline\n",
       "\t independent\\_model\\_fit               & 1 & 18 & -97.9  & 211.79 & 214.46\\\\\n",
       "\t hidden\\_Markov\\_independent\\_model\\_fit & 2 & 48 & -93.16 & 222.31 & 237.86\\\\\n",
       "\t correlated\\_model\\_fit                & 1 & 18 & -94.21 & 224.42 & 239.96\\\\\n",
       "\t hidden\\_Markov\\_correlated\\_model\\_fit  & 2 & 48 & -92.43 & 260.86 & 384.36\\\\\n",
       "\\end{tabular}\n"
      ],
      "text/markdown": [
       "\n",
       "A data.frame: 4 × 6\n",
       "\n",
       "| model &lt;chr&gt; | n_rate_cats &lt;chr&gt; | n_params &lt;chr&gt; | neg_log_lik &lt;chr&gt; | AIC &lt;chr&gt; | AICc &lt;chr&gt; |\n",
       "|---|---|---|---|---|---|\n",
       "| independent_model_fit               | 1 | 18 | -97.9  | 211.79 | 214.46 |\n",
       "| hidden_Markov_independent_model_fit | 2 | 48 | -93.16 | 222.31 | 237.86 |\n",
       "| correlated_model_fit                | 1 | 18 | -94.21 | 224.42 | 239.96 |\n",
       "| hidden_Markov_correlated_model_fit  | 2 | 48 | -92.43 | 260.86 | 384.36 |\n",
       "\n"
      ],
      "text/plain": [
       "  model                               n_rate_cats n_params neg_log_lik AIC   \n",
       "1 independent_model_fit               1           18       -97.9       211.79\n",
       "2 hidden_Markov_independent_model_fit 2           48       -93.16      222.31\n",
       "3 correlated_model_fit                1           18       -94.21      224.42\n",
       "4 hidden_Markov_correlated_model_fit  2           48       -92.43      260.86\n",
       "  AICc  \n",
       "1 214.46\n",
       "2 237.86\n",
       "3 239.96\n",
       "4 384.36"
      ]
     },
     "metadata": {},
     "output_type": "display_data"
    }
   ],
   "source": [
    "    # Format model output \n",
    "cor_tm=cor_mod_res(fsa_tm_corr_test)\n",
    "cor_tm"
   ]
  },
  {
   "cell_type": "markdown",
   "id": "76cfa73b-86fc-4123-b2c7-a1c7e455dd07",
   "metadata": {},
   "source": [
    "#### Trait 6: Auxin responsive promoter"
   ]
  },
  {
   "cell_type": "code",
   "execution_count": 14,
   "id": "ecd170d9-fccf-46b0-ae1b-53570f1de7b1",
   "metadata": {
    "vscode": {
     "languageId": "r"
    }
   },
   "outputs": [],
   "source": [
    "## extracting and reformating the data\n",
    "\n",
    "data_trait6=data_trait_all_g[,c('tip.label','DFA','auxinResponsivePromoter_count')]%>%na.omit()\n",
    "\n",
    " #reorganizing auxin responsive promoter data as binary information (Yes & No)\n",
    "\n",
    "data_trait6$auxinResponsivePromoter_count[data_trait6$auxinResponsivePromoter_count>=1]='Yes'\n",
    "data_trait6$auxinResponsivePromoter_count[data_trait6$auxinResponsivePromoter_count==0]='No'\n",
    "\n",
    " #keep only levels with 4 or more counts\n",
    "data_ex=data_trait6\n",
    "\n",
    "trait_counts=data.frame(t(table(data_ex$auxinResponsivePromoter_count)))[,-1]\n",
    "colnames(trait_counts)=c('trait_lev','count')\n",
    "good_traits=subset(trait_counts, trait_counts$count>=4)"
   ]
  },
  {
   "cell_type": "code",
   "execution_count": 15,
   "id": "8804e682-d9b0-4e35-8e03-b8184bccf2bc",
   "metadata": {
    "vscode": {
     "languageId": "r"
    }
   },
   "outputs": [
    {
     "data": {
      "image/png": "[encoded data removed]",
      "text/plain": [
       "plot without title"
      ]
     },
     "metadata": {
      "image/png": {
       "height": 420,
       "width": 420
      }
     },
     "output_type": "display_data"
    }
   ],
   "source": [
    "## data visualization\n",
    "traits_lev=c(unique(good_traits$trait_lev))\n",
    "data_viz=data.frame()\n",
    "\n",
    "for (i in 1:length(traits_lev)){\n",
    "  dat=subset(data_ex, data_ex$auxinResponsivePromoter_count==traits_lev[i])\n",
    "  DFA_yes=length(which(dat$DFA=='Yes'))\n",
    "  DFA_no=length(which(dat$DFA=='No'))\n",
    "  dat_tp=data.frame('trait'=traits_lev[i],'Yes'=DFA_yes,'No'=DFA_no)\n",
    "  data_viz=rbind(data_viz,dat_tp)\n",
    "}\n",
    "\n",
    "data_plot=gather(data_viz,DFA_status,Count,Yes:No)\n",
    "\n",
    "plot=ggplot(data_plot, aes(x=trait, y=Count,fill=DFA_status)) + geom_bar(stat='identity')+\n",
    "  theme_classic() + scale_fill_manual(values=c('#F5E4BE','#C6E7F4'))\n",
    "\n",
    "plot\n"
   ]
  },
  {
   "cell_type": "code",
   "execution_count": 29,
   "id": "38da6bac-8abf-4a7b-9e6e-3bca76a11929",
   "metadata": {
    "vscode": {
     "languageId": "r"
    }
   },
   "outputs": [
    {
     "name": "stdout",
     "output_type": "stream",
     "text": [
      "Begining test of correlation...\n",
      "\n",
      "Fitting an independent model...\n",
      "Fitting a hidden Markov independent model...\n",
      "Fitting a correlated model...\n",
      "Fitting a hidden Markov correlated model...\n",
      "Done.\n"
     ]
    }
   ],
   "source": [
    " ## Modeling\n",
    "\n",
    "dat=data_trait6\n",
    "\n",
    " # Reformating data for corHMM model\n",
    "dat$DFA <- as.factor(gsub(\"Yes\", \"Present\", dat$DFA) |> gsub(pattern = \"No\", replacement = \"Absent\"))\n",
    "dat$auxinResponsivePromoter <- dat$auxinResponsivePromoter_count\n",
    "dat$auxinResponsivePromoter[which(dat$auxinResponsivePromoter == 'Yes')] <- \"Present\"\n",
    "dat$auxinResponsivePromoter[which(dat$auxinResponsivePromoter == 'No')] <- \"Absent\"\n",
    "dat$auxinResponsivePromoter <- as.factor(dat$auxinResponsivePromoter)\n",
    "\n",
    " # Prune the tree down to these species:\n",
    "tree <- keep.tip(tree_all, dat$tip.label)\n",
    "\n",
    " # Sort data to match tip labels\n",
    "dat <- dat[match(tree$tip.label, dat$tip.label),]\n",
    "\n",
    "   # Fit models\n",
    "dfa_aux_corr_test <-\n",
    "  corHMM::fitCorrelationTest(tree,\n",
    "                             data = dat[c('tip.label', 'DFA', 'auxinResponsivePromoter')])\n"
   ]
  },
  {
   "cell_type": "code",
   "execution_count": 30,
   "id": "a6313023-b6e9-49c5-9ceb-5ec2c0c6690a",
   "metadata": {
    "vscode": {
     "languageId": "r"
    }
   },
   "outputs": [
    {
     "data": {
      "text/html": [
       "<table class=\"dataframe\">\n",
       "<caption>A data.frame: 4 × 6</caption>\n",
       "<thead>\n",
       "\t<tr><th scope=col>model</th><th scope=col>n_rate_cats</th><th scope=col>n_params</th><th scope=col>neg_log_lik</th><th scope=col>AIC</th><th scope=col>AICc</th></tr>\n",
       "\t<tr><th scope=col>&lt;chr&gt;</th><th scope=col>&lt;chr&gt;</th><th scope=col>&lt;chr&gt;</th><th scope=col>&lt;chr&gt;</th><th scope=col>&lt;chr&gt;</th><th scope=col>&lt;chr&gt;</th></tr>\n",
       "</thead>\n",
       "<tbody>\n",
       "\t<tr><td>independent_model_fit              </td><td>1</td><td>8 </td><td>-68.33</td><td>144.65</td><td>145.26</td></tr>\n",
       "\t<tr><td>hidden_Markov_independent_model_fit</td><td>2</td><td>24</td><td>-62.8 </td><td>145.6 </td><td>149.27</td></tr>\n",
       "\t<tr><td>correlated_model_fit               </td><td>1</td><td>8 </td><td>-66.47</td><td>148.94</td><td>151.26</td></tr>\n",
       "\t<tr><td>hidden_Markov_correlated_model_fit </td><td>2</td><td>24</td><td>-62.15</td><td>160.29</td><td>173.45</td></tr>\n",
       "</tbody>\n",
       "</table>\n"
      ],
      "text/latex": [
       "A data.frame: 4 × 6\n",
       "\\begin{tabular}{llllll}\n",
       " model & n\\_rate\\_cats & n\\_params & neg\\_log\\_lik & AIC & AICc\\\\\n",
       " <chr> & <chr> & <chr> & <chr> & <chr> & <chr>\\\\\n",
       "\\hline\n",
       "\t independent\\_model\\_fit               & 1 & 8  & -68.33 & 144.65 & 145.26\\\\\n",
       "\t hidden\\_Markov\\_independent\\_model\\_fit & 2 & 24 & -62.8  & 145.6  & 149.27\\\\\n",
       "\t correlated\\_model\\_fit                & 1 & 8  & -66.47 & 148.94 & 151.26\\\\\n",
       "\t hidden\\_Markov\\_correlated\\_model\\_fit  & 2 & 24 & -62.15 & 160.29 & 173.45\\\\\n",
       "\\end{tabular}\n"
      ],
      "text/markdown": [
       "\n",
       "A data.frame: 4 × 6\n",
       "\n",
       "| model &lt;chr&gt; | n_rate_cats &lt;chr&gt; | n_params &lt;chr&gt; | neg_log_lik &lt;chr&gt; | AIC &lt;chr&gt; | AICc &lt;chr&gt; |\n",
       "|---|---|---|---|---|---|\n",
       "| independent_model_fit               | 1 | 8  | -68.33 | 144.65 | 145.26 |\n",
       "| hidden_Markov_independent_model_fit | 2 | 24 | -62.8  | 145.6  | 149.27 |\n",
       "| correlated_model_fit                | 1 | 8  | -66.47 | 148.94 | 151.26 |\n",
       "| hidden_Markov_correlated_model_fit  | 2 | 24 | -62.15 | 160.29 | 173.45 |\n",
       "\n"
      ],
      "text/plain": [
       "  model                               n_rate_cats n_params neg_log_lik AIC   \n",
       "1 independent_model_fit               1           8        -68.33      144.65\n",
       "2 hidden_Markov_independent_model_fit 2           24       -62.8       145.6 \n",
       "3 correlated_model_fit                1           8        -66.47      148.94\n",
       "4 hidden_Markov_correlated_model_fit  2           24       -62.15      160.29\n",
       "  AICc  \n",
       "1 145.26\n",
       "2 149.27\n",
       "3 151.26\n",
       "4 173.45"
      ]
     },
     "metadata": {},
     "output_type": "display_data"
    }
   ],
   "source": [
    "##Format model output \n",
    "\n",
    "cor_arp=cor_mod_res(dfa_aux_corr_test)\n",
    "cor_arp"
   ]
  },
  {
   "cell_type": "code",
   "execution_count": 31,
   "id": "b4411d6e-3c59-4f51-995d-475f85cfa67f",
   "metadata": {
    "vscode": {
     "languageId": "r"
    }
   },
   "outputs": [
    {
     "data": {
      "text/plain": [
       "R version 4.2.1 (2022-06-23)\n",
       "Platform: x86_64-apple-darwin13.4.0 (64-bit)\n",
       "Running under: macOS Big Sur ... 10.16\n",
       "\n",
       "Matrix products: default\n",
       "BLAS/LAPACK: /Users/manonmorin/miniconda3/envs/R_good_env/lib/libopenblasp-r0.3.24.dylib\n",
       "\n",
       "locale:\n",
       "[1] en_US.UTF-8/en_US.UTF-8/en_US.UTF-8/C/en_US.UTF-8/en_US.UTF-8\n",
       "\n",
       "attached base packages:\n",
       "[1] stats     graphics  grDevices utils     datasets  methods   base     \n",
       "\n",
       "other attached packages:\n",
       " [1] phyr_1.1.2      corHMM_2.8      GenSA_1.1.10.1  nloptr_2.0.3   \n",
       " [5] forcats_1.0.0   stringr_1.5.1   dplyr_1.1.4     purrr_1.0.2    \n",
       " [9] readr_2.1.4     tidyr_1.3.0     tibble_3.2.1    tidyverse_1.3.1\n",
       "[13] ggplot2_3.4.4   ggtree_3.6.0    ape_5.7-1      \n",
       "\n",
       "loaded via a namespace (and not attached):\n",
       "  [1] nlme_3.1-163            fs_1.6.3                lubridate_1.9.3        \n",
       "  [4] doParallel_1.0.17       httr_1.4.7              repr_1.1.6             \n",
       "  [7] numDeriv_2016.8-1.1     tools_4.2.1             backports_1.4.1        \n",
       " [10] utf8_1.2.4              R6_2.5.1                DBI_1.1.3              \n",
       " [13] lazyeval_0.2.2          colorspace_2.1-0        nnet_7.3-19            \n",
       " [16] withr_2.5.2             gridExtra_2.3           tidyselect_1.2.0       \n",
       " [19] mnormt_2.1.1            phangorn_2.11.1         compiler_4.2.1         \n",
       " [22] cli_3.6.1               rvest_1.0.3             expm_0.999-7           \n",
       " [25] xml2_1.3.3              labeling_0.4.3          scales_1.2.1           \n",
       " [28] quadprog_1.5-8          pbdZMQ_0.3-10           digest_0.6.33          \n",
       " [31] yulab.utils_0.1.0       minqa_1.2.6             base64enc_0.1-3        \n",
       " [34] pkgconfig_2.0.3         htmltools_0.5.7         lme4_1.1-35.1          \n",
       " [37] dbplyr_2.4.0            fastmap_1.1.1           maps_3.4.1.1           \n",
       " [40] rlang_1.1.2             readxl_1.4.3            rstudioapi_0.15.0      \n",
       " [43] optimParallel_1.0-2     farver_2.1.1            gridGraphics_0.5-1     \n",
       " [46] generics_0.1.3          combinat_0.0-8          jsonlite_1.8.7         \n",
       " [49] magrittr_2.0.3          ggplotify_0.1.2         patchwork_1.1.3        \n",
       " [52] Matrix_1.6-3            Rcpp_1.0.11             IRkernel_1.3.2         \n",
       " [55] munsell_0.5.0           fansi_1.0.5             viridis_0.6.4          \n",
       " [58] lifecycle_1.0.4         scatterplot3d_0.3-44    stringi_1.8.1          \n",
       " [61] clusterGeneration_1.3.8 MASS_7.3-60             grid_4.2.1             \n",
       " [64] parallel_4.2.1          crayon_1.5.2            lattice_0.22-5         \n",
       " [67] splines_4.2.1           IRdisplay_1.1           haven_2.5.3            \n",
       " [70] hms_1.1.3               pillar_1.9.0            igraph_1.5.1           \n",
       " [73] uuid_1.1-1              boot_1.3-28.1           corpcor_1.6.10         \n",
       " [76] codetools_0.2-19        fastmatch_1.1-4         reprex_2.0.2           \n",
       " [79] glue_1.6.2              evaluate_0.23           ggfun_0.1.3            \n",
       " [82] modelr_0.1.11           vctrs_0.6.4             treeio_1.22.0          \n",
       " [85] tzdb_0.4.0              foreach_1.5.2           cellranger_1.1.0       \n",
       " [88] gtable_0.3.4            cachem_1.0.8            broom_1.0.5            \n",
       " [91] Rmpfr_0.9-3             phytools_2.0-3          tidytree_0.4.5         \n",
       " [94] coda_0.19-4             viridisLite_0.4.2       iterators_1.0.14       \n",
       " [97] aplot_0.2.2             memoise_2.0.1           gmp_0.7-2              \n",
       "[100] timechange_0.2.0       "
      ]
     },
     "metadata": {},
     "output_type": "display_data"
    }
   ],
   "source": [
    "sessionInfo()"
   ]
  }
 ],
 "metadata": {
  "kernelspec": {
   "display_name": "R",
   "language": "R",
   "name": "ir"
  },
  "language_info": {
   "codemirror_mode": "r",
   "file_extension": ".r",
   "mimetype": "text/x-r-source",
   "name": "R",
   "pygments_lexer": "r",
   "version": "4.2.1"
  }
 },
 "nbformat": 4,
 "nbformat_minor": 5
}
