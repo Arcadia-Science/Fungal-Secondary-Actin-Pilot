{
 "cells": [
  {
   "cell_type": "markdown",
   "id": "1a4caf9e",
   "metadata": {},
   "source": [
    "## Definition of the working set of fungal species for Fungal Divergent Actin (FDA) and trait association analysis\n",
    "\n",
    "**Notebook summary**\n",
    "\n",
    "This Jupyter Notebook:\n",
    "- Is associated with Step 2 of the Pub approach: Defining the ‘working set of species’\n",
    "- Determines the number of proteins with alphafold structure per fungal species \n",
    "- Filters out fungal species with fewer than 6000 proteins with avaialble structures\n",
    "\n",
    "\n",
    "**Context/Goal reminder**\n",
    "In order to carry out trait mapping and association analysis between the presence/absence of Fungal divergent actin (FDA) and fungal traits, we need to confidently establish the set of fungal species that do or don't possess FDA. This is what we call the working set. Because ProteinCartography relies and protein structures available in UniProt and AlphaFold, we decided to define our working set as any fungal species that has a minimum of 6000 protein structures in AlphaFold. We chose this threshold as studies have shown that Fungi can possess as little as 6000 proteins (https://doi.org/10.1186/s12575-015-0020-z; https://doi.org/10.1038/s41598-021-86201-6).\n",
    "\n",
    "**Notebook description**\n",
    "In this notebook, we reformat the output of a Uniprot query to obtain the number of protein structure per fungal species. Then we filter out any fungal species than possess fewer than 6000 available structures and obtain their taxonomic information from NCBI."
   ]
  },
  {
   "cell_type": "markdown",
   "id": "41fa1302",
   "metadata": {},
   "source": [
    "---"
   ]
  },
  {
   "cell_type": "markdown",
   "id": "86352918",
   "metadata": {},
   "source": [
    "### Setup path and environment"
   ]
  },
  {
   "cell_type": "code",
   "execution_count": 1,
   "id": "7bb5cc95",
   "metadata": {
    "vscode": {
     "languageId": "r"
    }
   },
   "outputs": [
    {
     "name": "stderr",
     "output_type": "stream",
     "text": [
      "\n",
      "Attaching package: ‘dplyr’\n",
      "\n",
      "The following objects are masked from ‘package:stats’:\n",
      "\n",
      "    filter, lag\n",
      "\n",
      "The following objects are masked from ‘package:base’:\n",
      "\n",
      "    intersect, setdiff, setequal, union\n",
      "\n"
     ]
    }
   ],
   "source": [
    "setwd('..')\n",
    "\n",
    "library(dplyr)\n",
    "library(rentrez)\n",
    "library(XML)\n",
    "library(readr)\n",
    "library(tidyr)"
   ]
  },
  {
   "cell_type": "code",
   "execution_count": null,
   "id": "b94829f7-1508-43e4-8e99-966f85de81fb",
   "metadata": {
    "vscode": {
     "languageId": "r"
    }
   },
   "outputs": [],
   "source": [
    "getwd()"
   ]
  },
  {
   "cell_type": "markdown",
   "id": "c8e2fe16",
   "metadata": {},
   "source": [
    "### Function definition"
   ]
  },
  {
   "cell_type": "code",
   "execution_count": 2,
   "id": "3ffd1ba1",
   "metadata": {
    "vscode": {
     "languageId": "r"
    }
   },
   "outputs": [],
   "source": [
    "## Function to fetch lineage information from NCBI Taxonomy database while providing species information\n",
    "\n",
    "get_lineage_from_species <- function(species_name){\n",
    "  search_result <- entrez_search(db = \"taxonomy\", term = species_name, retmax = 1)\n",
    "  \n",
    "  if (length(search_result$ids) == 0) {\n",
    "    return(NULL)\n",
    "  }\n",
    "  \n",
    "  taxonomy_id <- search_result$ids[1]\n",
    "  taxonomy_record <- entrez_fetch(db = \"taxonomy\", id = taxonomy_id, rettype = \"xml\")\n",
    "  \n",
    "  # Parse the XML response\n",
    "  tax_doc <- xml2::read_xml(taxonomy_record)\n",
    "  \n",
    "  # Extract taxonomic ranks and names\n",
    "  ranks <- xml2::xml_text(xml2::xml_find_all(tax_doc, \".//Rank\"))\n",
    "  names <- xml2::xml_text(xml2::xml_find_all(tax_doc, \".//ScientificName\"))\n",
    "  \n",
    "  # Combine ranks and names into a data frame\n",
    "  taxonomic_info <- data.frame(Rank = ranks, Name = names)\n",
    "  \n",
    "  return(taxonomic_info)\n",
    "  \n",
    "}\n"
   ]
  },
  {
   "cell_type": "markdown",
   "id": "07a84a11",
   "metadata": {},
   "source": [
    "### Analysis"
   ]
  },
  {
   "cell_type": "markdown",
   "id": "7596de9b",
   "metadata": {},
   "source": [
    "#### Definition of working set"
   ]
  },
  {
   "cell_type": "code",
   "execution_count": 3,
   "id": "3f356e88",
   "metadata": {
    "vscode": {
     "languageId": "r"
    }
   },
   "outputs": [
    {
     "data": {
      "text/html": [
       "<table>\n",
       "<thead><tr><th scope=col>Entry</th><th scope=col>Organism</th><th scope=col>AlphaFoldDB</th></tr></thead>\n",
       "<tbody>\n",
       "\t<tr><td>A0A010SAB3                                                         </td><td>Colletotrichum fioriniae PJ7                                       </td><td>A0A010SAB3;                                                        </td></tr>\n",
       "\t<tr><td>A0A015JW94                                                         </td><td>Rhizophagus irregularis (strain DAOM 197198w) (Glomus intraradices)</td><td>A0A015JW94;                                                        </td></tr>\n",
       "\t<tr><td>A0A017SIQ0                                                         </td><td>Aspergillus ruber (strain CBS 135680)                              </td><td>A0A017SIQ0;                                                        </td></tr>\n",
       "\t<tr><td>A0A022VTE5                                                         </td><td>Trichophyton rubrum CBS 288.86                                     </td><td>A0A022VTE5;                                                        </td></tr>\n",
       "\t<tr><td>A0A022XK41                                                         </td><td>Trichophyton soudanense CBS 452.61                                 </td><td>A0A022XK41;                                                        </td></tr>\n",
       "\t<tr><td>A0A023I7E1                                                         </td><td>Rhizomucor miehei                                                  </td><td>A0A023I7E1;                                                        </td></tr>\n",
       "</tbody>\n",
       "</table>\n"
      ],
      "text/latex": [
       "\\begin{tabular}{r|lll}\n",
       " Entry & Organism & AlphaFoldDB\\\\\n",
       "\\hline\n",
       "\t A0A010SAB3                                                          & Colletotrichum fioriniae PJ7                                        & A0A010SAB3;                                                        \\\\\n",
       "\t A0A015JW94                                                          & Rhizophagus irregularis (strain DAOM 197198w) (Glomus intraradices) & A0A015JW94;                                                        \\\\\n",
       "\t A0A017SIQ0                                                          & Aspergillus ruber (strain CBS 135680)                               & A0A017SIQ0;                                                        \\\\\n",
       "\t A0A022VTE5                                                          & Trichophyton rubrum CBS 288.86                                      & A0A022VTE5;                                                        \\\\\n",
       "\t A0A022XK41                                                          & Trichophyton soudanense CBS 452.61                                  & A0A022XK41;                                                        \\\\\n",
       "\t A0A023I7E1                                                          & Rhizomucor miehei                                                   & A0A023I7E1;                                                        \\\\\n",
       "\\end{tabular}\n"
      ],
      "text/markdown": [
       "\n",
       "| Entry | Organism | AlphaFoldDB |\n",
       "|---|---|---|\n",
       "| A0A010SAB3                                                          | Colletotrichum fioriniae PJ7                                        | A0A010SAB3;                                                         |\n",
       "| A0A015JW94                                                          | Rhizophagus irregularis (strain DAOM 197198w) (Glomus intraradices) | A0A015JW94;                                                         |\n",
       "| A0A017SIQ0                                                          | Aspergillus ruber (strain CBS 135680)                               | A0A017SIQ0;                                                         |\n",
       "| A0A022VTE5                                                          | Trichophyton rubrum CBS 288.86                                      | A0A022VTE5;                                                         |\n",
       "| A0A022XK41                                                          | Trichophyton soudanense CBS 452.61                                  | A0A022XK41;                                                         |\n",
       "| A0A023I7E1                                                          | Rhizomucor miehei                                                   | A0A023I7E1;                                                         |\n",
       "\n"
      ],
      "text/plain": [
       "  Entry     \n",
       "1 A0A010SAB3\n",
       "2 A0A015JW94\n",
       "3 A0A017SIQ0\n",
       "4 A0A022VTE5\n",
       "5 A0A022XK41\n",
       "6 A0A023I7E1\n",
       "  Organism                                                           \n",
       "1 Colletotrichum fioriniae PJ7                                       \n",
       "2 Rhizophagus irregularis (strain DAOM 197198w) (Glomus intraradices)\n",
       "3 Aspergillus ruber (strain CBS 135680)                              \n",
       "4 Trichophyton rubrum CBS 288.86                                     \n",
       "5 Trichophyton soudanense CBS 452.61                                 \n",
       "6 Rhizomucor miehei                                                  \n",
       "  AlphaFoldDB\n",
       "1 A0A010SAB3;\n",
       "2 A0A015JW94;\n",
       "3 A0A017SIQ0;\n",
       "4 A0A022VTE5;\n",
       "5 A0A022XK41;\n",
       "6 A0A023I7E1;"
      ]
     },
     "metadata": {},
     "output_type": "display_data"
    }
   ],
   "source": [
    "## Data import\n",
    " # We imported a tsv file from UniProt and turned it into a csv\n",
    "\n",
    "data_fungi_prot=read.csv('data/step2/Fungi_prot_uniprot.csv',header=TRUE,sep = '\\t') # this is a large file, may take a while to load\n",
    "head(data_fungi_prot)"
   ]
  },
  {
   "cell_type": "code",
   "execution_count": 4,
   "id": "c7c6d572",
   "metadata": {
    "vscode": {
     "languageId": "r"
    }
   },
   "outputs": [
    {
     "data": {
      "text/html": [
       "<ol class=list-inline>\n",
       "\t<li>11958783</li>\n",
       "\t<li>3</li>\n",
       "</ol>\n"
      ],
      "text/latex": [
       "\\begin{enumerate*}\n",
       "\\item 11958783\n",
       "\\item 3\n",
       "\\end{enumerate*}\n"
      ],
      "text/markdown": [
       "1. 11958783\n",
       "2. 3\n",
       "\n",
       "\n"
      ],
      "text/plain": [
       "[1] 11958783        3"
      ]
     },
     "metadata": {},
     "output_type": "display_data"
    }
   ],
   "source": [
    "dim(data_fungi_prot)"
   ]
  },
  {
   "cell_type": "code",
   "execution_count": 5,
   "id": "bbb0656a",
   "metadata": {
    "vscode": {
     "languageId": "r"
    }
   },
   "outputs": [
    {
     "data": {
      "text/html": [
       "<table>\n",
       "<thead><tr><th scope=col>Organism</th><th scope=col>n_prot</th></tr></thead>\n",
       "<tbody>\n",
       "\t<tr><td>'Aporospora terricola' (nom. ined.)           </td><td>2                                             </td></tr>\n",
       "\t<tr><td>[Acremonium] antarcticum                      </td><td>2                                             </td></tr>\n",
       "\t<tr><td>[Acremonium] macroclavatum                    </td><td>1                                             </td></tr>\n",
       "\t<tr><td>[Anthodidymella] ranunculacearum (nom. inval.)</td><td>5                                             </td></tr>\n",
       "\t<tr><td>[Arthonia] cinnabarina f. cuspidans           </td><td>4                                             </td></tr>\n",
       "\t<tr><td>[Bisifusarium] tonghuanum                     </td><td>5                                             </td></tr>\n",
       "\t<tr><td>[Caloplaca] arnoldii subsp. oblitterata       </td><td>1                                             </td></tr>\n",
       "\t<tr><td>[Candida] adriatica                           </td><td>2                                             </td></tr>\n",
       "\t<tr><td>[Candida] aechmeae                            </td><td>4                                             </td></tr>\n",
       "\t<tr><td>[Candida] akabanensis                         </td><td>3                                             </td></tr>\n",
       "</tbody>\n",
       "</table>\n"
      ],
      "text/latex": [
       "\\begin{tabular}{r|ll}\n",
       " Organism & n\\_prot\\\\\n",
       "\\hline\n",
       "\t 'Aporospora terricola' (nom. ined.)            & 2                                             \\\\\n",
       "\t {[}Acremonium{]} antarcticum                       & 2                                                 \\\\\n",
       "\t {[}Acremonium{]} macroclavatum                     & 1                                                 \\\\\n",
       "\t {[}Anthodidymella{]} ranunculacearum (nom. inval.) & 5                                                 \\\\\n",
       "\t {[}Arthonia{]} cinnabarina f. cuspidans            & 4                                                 \\\\\n",
       "\t {[}Bisifusarium{]} tonghuanum                      & 5                                                 \\\\\n",
       "\t {[}Caloplaca{]} arnoldii subsp. oblitterata        & 1                                                 \\\\\n",
       "\t {[}Candida{]} adriatica                            & 2                                                 \\\\\n",
       "\t {[}Candida{]} aechmeae                             & 4                                                 \\\\\n",
       "\t {[}Candida{]} akabanensis                          & 3                                                 \\\\\n",
       "\\end{tabular}\n"
      ],
      "text/markdown": [
       "\n",
       "| Organism | n_prot |\n",
       "|---|---|\n",
       "| 'Aporospora terricola' (nom. ined.)            | 2                                              |\n",
       "| [Acremonium] antarcticum                       | 2                                              |\n",
       "| [Acremonium] macroclavatum                     | 1                                              |\n",
       "| [Anthodidymella] ranunculacearum (nom. inval.) | 5                                              |\n",
       "| [Arthonia] cinnabarina f. cuspidans            | 4                                              |\n",
       "| [Bisifusarium] tonghuanum                      | 5                                              |\n",
       "| [Caloplaca] arnoldii subsp. oblitterata        | 1                                              |\n",
       "| [Candida] adriatica                            | 2                                              |\n",
       "| [Candida] aechmeae                             | 4                                              |\n",
       "| [Candida] akabanensis                          | 3                                              |\n",
       "\n"
      ],
      "text/plain": [
       "   Organism                                       n_prot\n",
       "1  'Aporospora terricola' (nom. ined.)            2     \n",
       "2  [Acremonium] antarcticum                       2     \n",
       "3  [Acremonium] macroclavatum                     1     \n",
       "4  [Anthodidymella] ranunculacearum (nom. inval.) 5     \n",
       "5  [Arthonia] cinnabarina f. cuspidans            4     \n",
       "6  [Bisifusarium] tonghuanum                      5     \n",
       "7  [Caloplaca] arnoldii subsp. oblitterata        1     \n",
       "8  [Candida] adriatica                            2     \n",
       "9  [Candida] aechmeae                             4     \n",
       "10 [Candida] akabanensis                          3     "
      ]
     },
     "metadata": {},
     "output_type": "display_data"
    }
   ],
   "source": [
    "## Number of protein with structure per species\n",
    " # We group the data by Organism (species) and summarize the number of protein by organsism\n",
    "\n",
    "data_fungi_prot$ps_count=1 # we add a value of 1 for each protein in order to count them afterwards\n",
    "data_fungi_g=data_fungi_prot%>% group_by(Organism)\n",
    "data_prot_table= data_fungi_g %>% summarise(n_prot=sum(ps_count))\n",
    "\n",
    "head(data_prot_table,10)"
   ]
  },
  {
   "cell_type": "code",
   "execution_count": 6,
   "id": "0e710077",
   "metadata": {
    "vscode": {
     "languageId": "r"
    }
   },
   "outputs": [
    {
     "data": {
      "text/html": [
       "<ol class=list-inline>\n",
       "\t<li>36253</li>\n",
       "\t<li>2</li>\n",
       "</ol>\n"
      ],
      "text/latex": [
       "\\begin{enumerate*}\n",
       "\\item 36253\n",
       "\\item 2\n",
       "\\end{enumerate*}\n"
      ],
      "text/markdown": [
       "1. 36253\n",
       "2. 2\n",
       "\n",
       "\n"
      ],
      "text/plain": [
       "[1] 36253     2"
      ]
     },
     "metadata": {},
     "output_type": "display_data"
    }
   ],
   "source": [
    "dim(data_prot_table)"
   ]
  },
  {
   "cell_type": "code",
   "execution_count": 7,
   "id": "13009dd3",
   "metadata": {
    "vscode": {
     "languageId": "r"
    }
   },
   "outputs": [],
   "source": [
    "## Save information about number of protein with available structure per fungal species\n",
    "\n",
    "write.csv(data_prot_table,'results/step2/uniprot_fungal_species_and_proteinpdb.csv')"
   ]
  },
  {
   "cell_type": "code",
   "execution_count": 8,
   "id": "41a650f3",
   "metadata": {
    "vscode": {
     "languageId": "r"
    }
   },
   "outputs": [
    {
     "data": {
      "text/html": [
       "<table>\n",
       "<thead><tr><th scope=col>Organism</th><th scope=col>n_prot</th></tr></thead>\n",
       "<tbody>\n",
       "\t<tr><td>[Candida] intermedia                                                                                                         </td><td>10617                                                                                                                        </td></tr>\n",
       "\t<tr><td>[Torrubiella] hemipterigena                                                                                                  </td><td>11065                                                                                                                        </td></tr>\n",
       "\t<tr><td>Aaosphaeria arxii CBS 175.79                                                                                                 </td><td>13815                                                                                                                        </td></tr>\n",
       "\t<tr><td>Absidia glauca (Pin mould)                                                                                                   </td><td>14217                                                                                                                        </td></tr>\n",
       "\t<tr><td>Absidia repens                                                                                                               </td><td>14353                                                                                                                        </td></tr>\n",
       "\t<tr><td>Acaromyces ingoldii                                                                                                          </td><td> 7585                                                                                                                        </td></tr>\n",
       "\t<tr><td>Acidomyces richmondensis BFW                                                                                                 </td><td>10856                                                                                                                        </td></tr>\n",
       "\t<tr><td>Agaricus bisporus var. burnettii (strain JB137-S8 / ATCC MYA-4627 / FGSC 10392) (White button mushroom)                      </td><td>10948                                                                                                                        </td></tr>\n",
       "\t<tr><td>Ajellomyces capsulatus (strain G186AR / H82 / ATCC MYA-2454 / RMSCC 2432) (Darling's disease fungus) (Histoplasma capsulatum)</td><td> 9199                                                                                                                        </td></tr>\n",
       "\t<tr><td>Ajellomyces capsulatus (strain H143) (Darling's disease fungus) (Histoplasma capsulatum)                                     </td><td> 9314                                                                                                                        </td></tr>\n",
       "</tbody>\n",
       "</table>\n"
      ],
      "text/latex": [
       "\\begin{tabular}{r|ll}\n",
       " Organism & n\\_prot\\\\\n",
       "\\hline\n",
       "\t {[}Candida{]} intermedia                                                                                                          & 10617                                                                                                                            \\\\\n",
       "\t {[}Torrubiella{]} hemipterigena                                                                                                   & 11065                                                                                                                            \\\\\n",
       "\t Aaosphaeria arxii CBS 175.79                                                                                                  & 13815                                                                                                                        \\\\\n",
       "\t Absidia glauca (Pin mould)                                                                                                    & 14217                                                                                                                        \\\\\n",
       "\t Absidia repens                                                                                                                & 14353                                                                                                                        \\\\\n",
       "\t Acaromyces ingoldii                                                                                                           &  7585                                                                                                                        \\\\\n",
       "\t Acidomyces richmondensis BFW                                                                                                  & 10856                                                                                                                        \\\\\n",
       "\t Agaricus bisporus var. burnettii (strain JB137-S8 / ATCC MYA-4627 / FGSC 10392) (White button mushroom)                       & 10948                                                                                                                        \\\\\n",
       "\t Ajellomyces capsulatus (strain G186AR / H82 / ATCC MYA-2454 / RMSCC 2432) (Darling's disease fungus) (Histoplasma capsulatum) &  9199                                                                                                                        \\\\\n",
       "\t Ajellomyces capsulatus (strain H143) (Darling's disease fungus) (Histoplasma capsulatum)                                      &  9314                                                                                                                        \\\\\n",
       "\\end{tabular}\n"
      ],
      "text/markdown": [
       "\n",
       "| Organism | n_prot |\n",
       "|---|---|\n",
       "| [Candida] intermedia                                                                                                          | 10617                                                                                                                         |\n",
       "| [Torrubiella] hemipterigena                                                                                                   | 11065                                                                                                                         |\n",
       "| Aaosphaeria arxii CBS 175.79                                                                                                  | 13815                                                                                                                         |\n",
       "| Absidia glauca (Pin mould)                                                                                                    | 14217                                                                                                                         |\n",
       "| Absidia repens                                                                                                                | 14353                                                                                                                         |\n",
       "| Acaromyces ingoldii                                                                                                           |  7585                                                                                                                         |\n",
       "| Acidomyces richmondensis BFW                                                                                                  | 10856                                                                                                                         |\n",
       "| Agaricus bisporus var. burnettii (strain JB137-S8 / ATCC MYA-4627 / FGSC 10392) (White button mushroom)                       | 10948                                                                                                                         |\n",
       "| Ajellomyces capsulatus (strain G186AR / H82 / ATCC MYA-2454 / RMSCC 2432) (Darling's disease fungus) (Histoplasma capsulatum) |  9199                                                                                                                         |\n",
       "| Ajellomyces capsulatus (strain H143) (Darling's disease fungus) (Histoplasma capsulatum)                                      |  9314                                                                                                                         |\n",
       "\n"
      ],
      "text/plain": [
       "   Organism                                                                                                                     \n",
       "1  [Candida] intermedia                                                                                                         \n",
       "2  [Torrubiella] hemipterigena                                                                                                  \n",
       "3  Aaosphaeria arxii CBS 175.79                                                                                                 \n",
       "4  Absidia glauca (Pin mould)                                                                                                   \n",
       "5  Absidia repens                                                                                                               \n",
       "6  Acaromyces ingoldii                                                                                                          \n",
       "7  Acidomyces richmondensis BFW                                                                                                 \n",
       "8  Agaricus bisporus var. burnettii (strain JB137-S8 / ATCC MYA-4627 / FGSC 10392) (White button mushroom)                      \n",
       "9  Ajellomyces capsulatus (strain G186AR / H82 / ATCC MYA-2454 / RMSCC 2432) (Darling's disease fungus) (Histoplasma capsulatum)\n",
       "10 Ajellomyces capsulatus (strain H143) (Darling's disease fungus) (Histoplasma capsulatum)                                     \n",
       "   n_prot\n",
       "1  10617 \n",
       "2  11065 \n",
       "3  13815 \n",
       "4  14217 \n",
       "5  14353 \n",
       "6   7585 \n",
       "7  10856 \n",
       "8  10948 \n",
       "9   9199 \n",
       "10  9314 "
      ]
     },
     "metadata": {},
     "output_type": "display_data"
    }
   ],
   "source": [
    "## Filtering out Fungal species with fewer than 6000 proteins\n",
    "\n",
    "data_wset=subset(data_prot_table, data_prot_table$n_prot>=6000)\n",
    "\n",
    "head(data_wset,10)"
   ]
  },
  {
   "cell_type": "code",
   "execution_count": 9,
   "id": "bf23c941",
   "metadata": {
    "vscode": {
     "languageId": "r"
    }
   },
   "outputs": [
    {
     "data": {
      "text/html": [
       "<ol class=list-inline>\n",
       "\t<li>853</li>\n",
       "\t<li>2</li>\n",
       "</ol>\n"
      ],
      "text/latex": [
       "\\begin{enumerate*}\n",
       "\\item 853\n",
       "\\item 2\n",
       "\\end{enumerate*}\n"
      ],
      "text/markdown": [
       "1. 853\n",
       "2. 2\n",
       "\n",
       "\n"
      ],
      "text/plain": [
       "[1] 853   2"
      ]
     },
     "metadata": {},
     "output_type": "display_data"
    }
   ],
   "source": [
    "dim(data_wset)"
   ]
  },
  {
   "cell_type": "code",
   "execution_count": 11,
   "id": "16e1841c-6a43-41c8-9cab-b71af84f0135",
   "metadata": {
    "vscode": {
     "languageId": "r"
    }
   },
   "outputs": [],
   "source": [
    "## Save the data for fungal species with more than 6000 protein structures\n",
    "\n",
    "write.csv(data_wset,'results/step2/data_wset.csv')\n"
   ]
  },
  {
   "cell_type": "markdown",
   "id": "9e37d11b",
   "metadata": {},
   "source": [
    "#### Taxonomic information for species of the working set"
   ]
  },
  {
   "cell_type": "code",
   "execution_count": 12,
   "id": "0a2c11d8-e6bf-4b1c-bbc2-c19967ac592e",
   "metadata": {
    "vscode": {
     "languageId": "r"
    }
   },
   "outputs": [],
   "source": [
    "## Reformat Organism name to fetch taxonomy in NCBI Taxonomy database\n",
    "\n",
    "data_wset$species=gsub(\"\\\\(.*\",\"\",data_wset$Organism)  # adding a new column that will be the species name to search in NCBI\n",
    "colnames(data_wset)=c('Organism_uniprot','n_prot','species_name')\n",
    "species=c(unique(data_wset$species_name))"
   ]
  },
  {
   "cell_type": "code",
   "execution_count": 16,
   "id": "cc173723",
   "metadata": {
    "vscode": {
     "languageId": "r"
    }
   },
   "outputs": [],
   "source": [
    "## Fetching lineage information for each species in the NCBI Taxonomy database\n",
    " # We create a for loop that uses the 'get_lineage_from_species' function for each species of the table\n",
    " # While we store taxonomic information in a new table, we also store the name of species fo which the taxonomy search was unsuccessful in a specific vector to search and add them manually\n",
    "\n",
    "data_taxo=data.frame()  # initiate the table for taxonomic information\n",
    "species_no_taxo=c() # initiate the vector for unsuccessful taxonomy search\n",
    "\n",
    "species=c(unique(data_wset$species_name))"
   ]
  },
  {
   "cell_type": "code",
   "execution_count": 25,
   "id": "cbcd2d94-e641-4c62-9a67-aefc0ab002e4",
   "metadata": {
    "vscode": {
     "languageId": "r"
    }
   },
   "outputs": [
    {
     "name": "stdout",
     "output_type": "stream",
     "text": [
      "[1] 606\n",
      "[1] 607\n",
      "[1] 608\n",
      "[1] 609\n",
      "[1] 610\n",
      "[1] 611\n",
      "[1] 612\n",
      "[1] 613\n",
      "[1] 614\n",
      "[1] 615\n",
      "[1] 616\n",
      "[1] 617\n",
      "[1] 618\n",
      "[1] 619\n",
      "[1] 620\n",
      "[1] 621\n",
      "[1] 622\n",
      "[1] 623\n",
      "[1] 624\n",
      "[1] 625\n",
      "[1] 626\n",
      "[1] 627\n",
      "[1] 628\n",
      "[1] 629\n",
      "[1] 630\n",
      "[1] 631\n",
      "[1] 632\n",
      "[1] 633\n",
      "[1] 634\n",
      "[1] 635\n",
      "[1] 636\n",
      "[1] 637\n",
      "[1] 638\n",
      "[1] 639\n",
      "[1] 640\n",
      "[1] 641\n",
      "[1] 642\n",
      "[1] 643\n",
      "[1] 644\n",
      "[1] 645\n",
      "[1] 646\n",
      "[1] 647\n",
      "[1] 648\n",
      "[1] 649\n",
      "[1] 650\n",
      "[1] 651\n",
      "[1] 652\n",
      "[1] 653\n",
      "[1] 654\n",
      "[1] 655\n",
      "[1] 656\n",
      "[1] 657\n",
      "[1] 658\n",
      "[1] 659\n",
      "[1] 660\n",
      "[1] 661\n",
      "[1] 662\n",
      "[1] 663\n",
      "[1] 664\n",
      "[1] 665\n",
      "[1] 666\n",
      "[1] 667\n",
      "[1] 668\n",
      "[1] 669\n",
      "[1] 670\n",
      "[1] 671\n",
      "[1] 672\n",
      "[1] 673\n",
      "[1] 674\n",
      "[1] 675\n",
      "[1] 676\n",
      "[1] 677\n",
      "[1] 678\n",
      "[1] 679\n",
      "[1] 680\n",
      "[1] 681\n",
      "[1] 682\n",
      "[1] 683\n",
      "[1] 684\n",
      "[1] 685\n",
      "[1] 686\n",
      "[1] 687\n",
      "[1] 688\n",
      "[1] 689\n",
      "[1] 690\n",
      "[1] 691\n",
      "[1] 692\n",
      "[1] 693\n",
      "[1] 694\n",
      "[1] 695\n",
      "[1] 696\n",
      "[1] 697\n",
      "[1] 698\n",
      "[1] 699\n",
      "[1] 700\n",
      "[1] 701\n",
      "[1] 702\n",
      "[1] 703\n",
      "[1] 704\n",
      "[1] 705\n",
      "[1] 706\n",
      "[1] 707\n",
      "[1] 708\n",
      "[1] 709\n",
      "[1] 710\n",
      "[1] 711\n",
      "[1] 712\n",
      "[1] 713\n",
      "[1] 714\n",
      "[1] 715\n",
      "[1] 716\n",
      "[1] 717\n",
      "[1] 718\n",
      "[1] 719\n",
      "[1] 720\n",
      "[1] 721\n",
      "[1] 722\n",
      "[1] 723\n",
      "[1] 724\n",
      "[1] 725\n",
      "[1] 726\n",
      "[1] 727\n",
      "[1] 728\n",
      "[1] 729\n",
      "[1] 730\n",
      "[1] 731\n",
      "[1] 732\n",
      "[1] 733\n",
      "[1] 734\n",
      "[1] 735\n",
      "[1] 736\n",
      "[1] 737\n",
      "[1] 738\n",
      "[1] 739\n",
      "[1] 740\n",
      "[1] 741\n",
      "[1] 742\n",
      "[1] 743\n",
      "[1] 744\n",
      "[1] 745\n",
      "[1] 746\n",
      "[1] 747\n",
      "[1] 748\n",
      "[1] 749\n",
      "[1] 750\n",
      "[1] 751\n",
      "[1] 752\n",
      "[1] 753\n",
      "[1] 754\n",
      "[1] 755\n",
      "[1] 756\n",
      "[1] 757\n",
      "[1] 758\n",
      "[1] 759\n",
      "[1] 760\n",
      "[1] 761\n",
      "[1] 762\n",
      "[1] 763\n",
      "[1] 764\n",
      "[1] 765\n",
      "[1] 766\n",
      "[1] 767\n",
      "[1] 768\n",
      "[1] 769\n",
      "[1] 770\n",
      "[1] 771\n",
      "[1] 772\n",
      "[1] 773\n",
      "[1] 774\n",
      "[1] 775\n",
      "[1] 776\n",
      "[1] 777\n",
      "[1] 778\n",
      "[1] 779\n",
      "[1] 780\n",
      "[1] 781\n",
      "[1] 782\n",
      "[1] 783\n",
      "[1] 784\n",
      "[1] 785\n",
      "[1] 786\n",
      "[1] 787\n",
      "[1] 788\n",
      "[1] 789\n",
      "[1] 790\n",
      "[1] 791\n",
      "[1] 792\n",
      "[1] 793\n",
      "[1] 794\n",
      "[1] 795\n",
      "[1] 796\n",
      "[1] 797\n",
      "[1] 798\n",
      "[1] 799\n",
      "[1] 800\n",
      "[1] 801\n",
      "[1] 802\n",
      "[1] 803\n",
      "[1] 804\n",
      "[1] 805\n",
      "[1] 806\n",
      "[1] 807\n",
      "[1] 808\n",
      "[1] 809\n",
      "[1] 810\n",
      "[1] 811\n",
      "[1] 812\n"
     ]
    }
   ],
   "source": [
    "## For loop that fetched Taxonomy information for each species\n",
    "# Note: the following for loop is not ideal and  is interupted because connection with NCBI is lost during the process, we included a print(i) line in the loop to easily keep track of where the loop was when it broke and be able to restart it from there\n",
    "\n",
    "for (i in 606:length(species)){\n",
    "  gen=data_wset$species_name[i]\n",
    "  lin=get_lineage_from_species(gen)\n",
    "  if(length(lin)[1]==2){\n",
    "    dat_temp=lin\n",
    "    dat_temp$Organism=gen\n",
    "    data_taxo=rbind(data_taxo,dat_temp)\n",
    "  }\n",
    "  if(length(lin)==0){\n",
    "    species_no_taxo=c(species_no_taxo,gen)\n",
    "  }\n",
    "  print(i)\n",
    "  \n",
    "}"
   ]
  },
  {
   "cell_type": "code",
   "execution_count": 27,
   "id": "3b197609",
   "metadata": {
    "vscode": {
     "languageId": "r"
    }
   },
   "outputs": [
    {
     "data": {
      "text/html": [
       "<ol class=list-inline>\n",
       "\t<li>11352</li>\n",
       "\t<li>3</li>\n",
       "</ol>\n"
      ],
      "text/latex": [
       "\\begin{enumerate*}\n",
       "\\item 11352\n",
       "\\item 3\n",
       "\\end{enumerate*}\n"
      ],
      "text/markdown": [
       "1. 11352\n",
       "2. 3\n",
       "\n",
       "\n"
      ],
      "text/plain": [
       "[1] 11352     3"
      ]
     },
     "metadata": {},
     "output_type": "display_data"
    }
   ],
   "source": [
    "data_taxo_s=data_taxo%>% distinct  #removes any potential duplicates that were added by restarting the for loop at a given i\n",
    "dim(data_taxo_s)"
   ]
  },
  {
   "cell_type": "code",
   "execution_count": 28,
   "id": "479ad6f3-e5ba-4b9e-94b7-9917048b60b0",
   "metadata": {
    "vscode": {
     "languageId": "r"
    }
   },
   "outputs": [
    {
     "data": {
      "text/html": [
       "<table>\n",
       "<thead><tr><th scope=col>Rank</th><th scope=col>Name</th><th scope=col>Organism</th></tr></thead>\n",
       "<tbody>\n",
       "\t<tr><td>strain                      </td><td>Aaosphaeria arxii CBS 175.79</td><td>Aaosphaeria arxii CBS 175.79</td></tr>\n",
       "\t<tr><td>no rank                     </td><td>cellular organisms          </td><td>Aaosphaeria arxii CBS 175.79</td></tr>\n",
       "\t<tr><td>superkingdom                </td><td>Eukaryota                   </td><td>Aaosphaeria arxii CBS 175.79</td></tr>\n",
       "\t<tr><td>clade                       </td><td>Opisthokonta                </td><td>Aaosphaeria arxii CBS 175.79</td></tr>\n",
       "\t<tr><td>kingdom                     </td><td>Fungi                       </td><td>Aaosphaeria arxii CBS 175.79</td></tr>\n",
       "\t<tr><td>subkingdom                  </td><td>Dikarya                     </td><td>Aaosphaeria arxii CBS 175.79</td></tr>\n",
       "\t<tr><td>phylum                      </td><td>Ascomycota                  </td><td>Aaosphaeria arxii CBS 175.79</td></tr>\n",
       "\t<tr><td>clade                       </td><td>saccharomyceta              </td><td>Aaosphaeria arxii CBS 175.79</td></tr>\n",
       "\t<tr><td>subphylum                   </td><td>Pezizomycotina              </td><td>Aaosphaeria arxii CBS 175.79</td></tr>\n",
       "\t<tr><td>clade                       </td><td>leotiomyceta                </td><td>Aaosphaeria arxii CBS 175.79</td></tr>\n",
       "</tbody>\n",
       "</table>\n"
      ],
      "text/latex": [
       "\\begin{tabular}{r|lll}\n",
       " Rank & Name & Organism\\\\\n",
       "\\hline\n",
       "\t strain                       & Aaosphaeria arxii CBS 175.79 & Aaosphaeria arxii CBS 175.79\\\\\n",
       "\t no rank                      & cellular organisms           & Aaosphaeria arxii CBS 175.79\\\\\n",
       "\t superkingdom                 & Eukaryota                    & Aaosphaeria arxii CBS 175.79\\\\\n",
       "\t clade                        & Opisthokonta                 & Aaosphaeria arxii CBS 175.79\\\\\n",
       "\t kingdom                      & Fungi                        & Aaosphaeria arxii CBS 175.79\\\\\n",
       "\t subkingdom                   & Dikarya                      & Aaosphaeria arxii CBS 175.79\\\\\n",
       "\t phylum                       & Ascomycota                   & Aaosphaeria arxii CBS 175.79\\\\\n",
       "\t clade                        & saccharomyceta               & Aaosphaeria arxii CBS 175.79\\\\\n",
       "\t subphylum                    & Pezizomycotina               & Aaosphaeria arxii CBS 175.79\\\\\n",
       "\t clade                        & leotiomyceta                 & Aaosphaeria arxii CBS 175.79\\\\\n",
       "\\end{tabular}\n"
      ],
      "text/markdown": [
       "\n",
       "| Rank | Name | Organism |\n",
       "|---|---|---|\n",
       "| strain                       | Aaosphaeria arxii CBS 175.79 | Aaosphaeria arxii CBS 175.79 |\n",
       "| no rank                      | cellular organisms           | Aaosphaeria arxii CBS 175.79 |\n",
       "| superkingdom                 | Eukaryota                    | Aaosphaeria arxii CBS 175.79 |\n",
       "| clade                        | Opisthokonta                 | Aaosphaeria arxii CBS 175.79 |\n",
       "| kingdom                      | Fungi                        | Aaosphaeria arxii CBS 175.79 |\n",
       "| subkingdom                   | Dikarya                      | Aaosphaeria arxii CBS 175.79 |\n",
       "| phylum                       | Ascomycota                   | Aaosphaeria arxii CBS 175.79 |\n",
       "| clade                        | saccharomyceta               | Aaosphaeria arxii CBS 175.79 |\n",
       "| subphylum                    | Pezizomycotina               | Aaosphaeria arxii CBS 175.79 |\n",
       "| clade                        | leotiomyceta                 | Aaosphaeria arxii CBS 175.79 |\n",
       "\n"
      ],
      "text/plain": [
       "   Rank         Name                         Organism                    \n",
       "1  strain       Aaosphaeria arxii CBS 175.79 Aaosphaeria arxii CBS 175.79\n",
       "2  no rank      cellular organisms           Aaosphaeria arxii CBS 175.79\n",
       "3  superkingdom Eukaryota                    Aaosphaeria arxii CBS 175.79\n",
       "4  clade        Opisthokonta                 Aaosphaeria arxii CBS 175.79\n",
       "5  kingdom      Fungi                        Aaosphaeria arxii CBS 175.79\n",
       "6  subkingdom   Dikarya                      Aaosphaeria arxii CBS 175.79\n",
       "7  phylum       Ascomycota                   Aaosphaeria arxii CBS 175.79\n",
       "8  clade        saccharomyceta               Aaosphaeria arxii CBS 175.79\n",
       "9  subphylum    Pezizomycotina               Aaosphaeria arxii CBS 175.79\n",
       "10 clade        leotiomyceta                 Aaosphaeria arxii CBS 175.79"
      ]
     },
     "metadata": {},
     "output_type": "display_data"
    }
   ],
   "source": [
    "head(data_taxo_s,10)"
   ]
  },
  {
   "cell_type": "code",
   "execution_count": 29,
   "id": "18cf5d77",
   "metadata": {
    "vscode": {
     "languageId": "r"
    }
   },
   "outputs": [
    {
     "data": {
      "text/html": [
       "22"
      ],
      "text/latex": [
       "22"
      ],
      "text/markdown": [
       "22"
      ],
      "text/plain": [
       "[1] 22"
      ]
     },
     "metadata": {},
     "output_type": "display_data"
    }
   ],
   "source": [
    "length(species_no_taxo)"
   ]
  },
  {
   "cell_type": "code",
   "execution_count": 30,
   "id": "cd189d33-0740-41d9-b9bd-78b5b497961c",
   "metadata": {
    "vscode": {
     "languageId": "r"
    }
   },
   "outputs": [
    {
     "data": {
      "text/html": [
       "<ol class=list-inline>\n",
       "\t<li>'[Candida] intermedia'</li>\n",
       "\t<li>'[Torrubiella] hemipterigena'</li>\n",
       "\t<li>'Ajellomyces capsulatus '</li>\n",
       "\t<li>'Ajellomyces capsulatus '</li>\n",
       "\t<li>'Ajellomyces capsulatus '</li>\n",
       "\t<li>'Ajellomyces capsulatus '</li>\n",
       "\t<li>'Arthrobotrys oligospora '</li>\n",
       "\t<li>'Cryptococcus gattii serotype B '</li>\n",
       "\t<li>'Cryptococcus neoformans var. grubii serotype A '</li>\n",
       "\t<li>'Cryptococcus neoformans var. neoformans serotype D '</li>\n",
       "</ol>\n"
      ],
      "text/latex": [
       "\\begin{enumerate*}\n",
       "\\item '{[}Candida{]} intermedia'\n",
       "\\item '{[}Torrubiella{]} hemipterigena'\n",
       "\\item 'Ajellomyces capsulatus '\n",
       "\\item 'Ajellomyces capsulatus '\n",
       "\\item 'Ajellomyces capsulatus '\n",
       "\\item 'Ajellomyces capsulatus '\n",
       "\\item 'Arthrobotrys oligospora '\n",
       "\\item 'Cryptococcus gattii serotype B '\n",
       "\\item 'Cryptococcus neoformans var. grubii serotype A '\n",
       "\\item 'Cryptococcus neoformans var. neoformans serotype D '\n",
       "\\end{enumerate*}\n"
      ],
      "text/markdown": [
       "1. '[Candida] intermedia'\n",
       "2. '[Torrubiella] hemipterigena'\n",
       "3. 'Ajellomyces capsulatus '\n",
       "4. 'Ajellomyces capsulatus '\n",
       "5. 'Ajellomyces capsulatus '\n",
       "6. 'Ajellomyces capsulatus '\n",
       "7. 'Arthrobotrys oligospora '\n",
       "8. 'Cryptococcus gattii serotype B '\n",
       "9. 'Cryptococcus neoformans var. grubii serotype A '\n",
       "10. 'Cryptococcus neoformans var. neoformans serotype D '\n",
       "\n",
       "\n"
      ],
      "text/plain": [
       " [1] \"[Candida] intermedia\"                               \n",
       " [2] \"[Torrubiella] hemipterigena\"                        \n",
       " [3] \"Ajellomyces capsulatus \"                            \n",
       " [4] \"Ajellomyces capsulatus \"                            \n",
       " [5] \"Ajellomyces capsulatus \"                            \n",
       " [6] \"Ajellomyces capsulatus \"                            \n",
       " [7] \"Arthrobotrys oligospora \"                           \n",
       " [8] \"Cryptococcus gattii serotype B \"                    \n",
       " [9] \"Cryptococcus neoformans var. grubii serotype A \"    \n",
       "[10] \"Cryptococcus neoformans var. neoformans serotype D \""
      ]
     },
     "metadata": {},
     "output_type": "display_data"
    }
   ],
   "source": [
    "head(species_no_taxo,10)"
   ]
  },
  {
   "cell_type": "code",
   "execution_count": 31,
   "id": "2372cc8b",
   "metadata": {
    "vscode": {
     "languageId": "r"
    }
   },
   "outputs": [
    {
     "data": {
      "text/html": [
       "<table>\n",
       "<thead><tr><th scope=col>Organism</th><th scope=col>kingdom</th><th scope=col>phylum</th><th scope=col>class</th><th scope=col>order</th><th scope=col>family</th><th scope=col>genus</th></tr></thead>\n",
       "<tbody>\n",
       "\t<tr><td>Aaosphaeria arxii CBS 175.79     </td><td>Fungi                            </td><td>Ascomycota                       </td><td>Dothideomycetes                  </td><td>Pleosporales                     </td><td>NA                               </td><td>Aaosphaeria                      </td></tr>\n",
       "\t<tr><td>Absidia glauca                   </td><td>Fungi                            </td><td>Mucoromycota                     </td><td>Mucoromycetes                    </td><td>Mucorales                        </td><td>Cunninghamellaceae               </td><td>Absidia                          </td></tr>\n",
       "\t<tr><td>Absidia repens                   </td><td>Fungi                            </td><td>Mucoromycota                     </td><td>Mucoromycetes                    </td><td>Mucorales                        </td><td>Cunninghamellaceae               </td><td>Absidia                          </td></tr>\n",
       "\t<tr><td>Acaromyces ingoldii              </td><td>Fungi                            </td><td>Basidiomycota                    </td><td>Exobasidiomycetes                </td><td>Exobasidiales                    </td><td>Cryptobasidiaceae                </td><td>Acaromyces                       </td></tr>\n",
       "\t<tr><td>Acidomyces richmondensis BFW     </td><td>Fungi                            </td><td>Ascomycota                       </td><td>Dothideomycetes                  </td><td>Mycosphaerellales                </td><td>Teratosphaeriaceae               </td><td>Acidomyces                       </td></tr>\n",
       "\t<tr><td>Agaricus bisporus var. burnettii </td><td>Fungi                            </td><td>Basidiomycota                    </td><td>Agaricomycetes                   </td><td>Agaricales                       </td><td>Agaricaceae                      </td><td>Agaricus                         </td></tr>\n",
       "\t<tr><td>Ajellomyces dermatitidis         </td><td>Fungi                            </td><td>Ascomycota                       </td><td>Eurotiomycetes                   </td><td>Onygenales                       </td><td>Ajellomycetaceae                 </td><td>Blastomyces                      </td></tr>\n",
       "\t<tr><td>Akanthomyces lecanii RCEF 1005   </td><td>Fungi                            </td><td>Ascomycota                       </td><td>Sordariomycetes                  </td><td>Hypocreales                      </td><td>Cordycipitaceae                  </td><td>Akanthomyces                     </td></tr>\n",
       "\t<tr><td>Allomyces macrogynus             </td><td>Fungi                            </td><td>Blastocladiomycota               </td><td>Blastocladiomycetes              </td><td>Blastocladiales                  </td><td>Blastocladiaceae                 </td><td>Allomyces                        </td></tr>\n",
       "\t<tr><td>Alternaria alternata             </td><td>Fungi                            </td><td>Ascomycota                       </td><td>Dothideomycetes                  </td><td>Pleosporales                     </td><td>Pleosporaceae                    </td><td>Alternaria                       </td></tr>\n",
       "</tbody>\n",
       "</table>\n"
      ],
      "text/latex": [
       "\\begin{tabular}{r|lllllll}\n",
       " Organism & kingdom & phylum & class & order & family & genus\\\\\n",
       "\\hline\n",
       "\t Aaosphaeria arxii CBS 175.79      & Fungi                             & Ascomycota                        & Dothideomycetes                   & Pleosporales                      & NA                                & Aaosphaeria                      \\\\\n",
       "\t Absidia glauca                    & Fungi                             & Mucoromycota                      & Mucoromycetes                     & Mucorales                         & Cunninghamellaceae                & Absidia                          \\\\\n",
       "\t Absidia repens                    & Fungi                             & Mucoromycota                      & Mucoromycetes                     & Mucorales                         & Cunninghamellaceae                & Absidia                          \\\\\n",
       "\t Acaromyces ingoldii               & Fungi                             & Basidiomycota                     & Exobasidiomycetes                 & Exobasidiales                     & Cryptobasidiaceae                 & Acaromyces                       \\\\\n",
       "\t Acidomyces richmondensis BFW      & Fungi                             & Ascomycota                        & Dothideomycetes                   & Mycosphaerellales                 & Teratosphaeriaceae                & Acidomyces                       \\\\\n",
       "\t Agaricus bisporus var. burnettii  & Fungi                             & Basidiomycota                     & Agaricomycetes                    & Agaricales                        & Agaricaceae                       & Agaricus                         \\\\\n",
       "\t Ajellomyces dermatitidis          & Fungi                             & Ascomycota                        & Eurotiomycetes                    & Onygenales                        & Ajellomycetaceae                  & Blastomyces                      \\\\\n",
       "\t Akanthomyces lecanii RCEF 1005    & Fungi                             & Ascomycota                        & Sordariomycetes                   & Hypocreales                       & Cordycipitaceae                   & Akanthomyces                     \\\\\n",
       "\t Allomyces macrogynus              & Fungi                             & Blastocladiomycota                & Blastocladiomycetes               & Blastocladiales                   & Blastocladiaceae                  & Allomyces                        \\\\\n",
       "\t Alternaria alternata              & Fungi                             & Ascomycota                        & Dothideomycetes                   & Pleosporales                      & Pleosporaceae                     & Alternaria                       \\\\\n",
       "\\end{tabular}\n"
      ],
      "text/markdown": [
       "\n",
       "| Organism | kingdom | phylum | class | order | family | genus |\n",
       "|---|---|---|---|---|---|---|\n",
       "| Aaosphaeria arxii CBS 175.79      | Fungi                             | Ascomycota                        | Dothideomycetes                   | Pleosporales                      | NA                                | Aaosphaeria                       |\n",
       "| Absidia glauca                    | Fungi                             | Mucoromycota                      | Mucoromycetes                     | Mucorales                         | Cunninghamellaceae                | Absidia                           |\n",
       "| Absidia repens                    | Fungi                             | Mucoromycota                      | Mucoromycetes                     | Mucorales                         | Cunninghamellaceae                | Absidia                           |\n",
       "| Acaromyces ingoldii               | Fungi                             | Basidiomycota                     | Exobasidiomycetes                 | Exobasidiales                     | Cryptobasidiaceae                 | Acaromyces                        |\n",
       "| Acidomyces richmondensis BFW      | Fungi                             | Ascomycota                        | Dothideomycetes                   | Mycosphaerellales                 | Teratosphaeriaceae                | Acidomyces                        |\n",
       "| Agaricus bisporus var. burnettii  | Fungi                             | Basidiomycota                     | Agaricomycetes                    | Agaricales                        | Agaricaceae                       | Agaricus                          |\n",
       "| Ajellomyces dermatitidis          | Fungi                             | Ascomycota                        | Eurotiomycetes                    | Onygenales                        | Ajellomycetaceae                  | Blastomyces                       |\n",
       "| Akanthomyces lecanii RCEF 1005    | Fungi                             | Ascomycota                        | Sordariomycetes                   | Hypocreales                       | Cordycipitaceae                   | Akanthomyces                      |\n",
       "| Allomyces macrogynus              | Fungi                             | Blastocladiomycota                | Blastocladiomycetes               | Blastocladiales                   | Blastocladiaceae                  | Allomyces                         |\n",
       "| Alternaria alternata              | Fungi                             | Ascomycota                        | Dothideomycetes                   | Pleosporales                      | Pleosporaceae                     | Alternaria                        |\n",
       "\n"
      ],
      "text/plain": [
       "   Organism                          kingdom phylum            \n",
       "1  Aaosphaeria arxii CBS 175.79      Fungi   Ascomycota        \n",
       "2  Absidia glauca                    Fungi   Mucoromycota      \n",
       "3  Absidia repens                    Fungi   Mucoromycota      \n",
       "4  Acaromyces ingoldii               Fungi   Basidiomycota     \n",
       "5  Acidomyces richmondensis BFW      Fungi   Ascomycota        \n",
       "6  Agaricus bisporus var. burnettii  Fungi   Basidiomycota     \n",
       "7  Ajellomyces dermatitidis          Fungi   Ascomycota        \n",
       "8  Akanthomyces lecanii RCEF 1005    Fungi   Ascomycota        \n",
       "9  Allomyces macrogynus              Fungi   Blastocladiomycota\n",
       "10 Alternaria alternata              Fungi   Ascomycota        \n",
       "   class               order             family             genus       \n",
       "1  Dothideomycetes     Pleosporales      NA                 Aaosphaeria \n",
       "2  Mucoromycetes       Mucorales         Cunninghamellaceae Absidia     \n",
       "3  Mucoromycetes       Mucorales         Cunninghamellaceae Absidia     \n",
       "4  Exobasidiomycetes   Exobasidiales     Cryptobasidiaceae  Acaromyces  \n",
       "5  Dothideomycetes     Mycosphaerellales Teratosphaeriaceae Acidomyces  \n",
       "6  Agaricomycetes      Agaricales        Agaricaceae        Agaricus    \n",
       "7  Eurotiomycetes      Onygenales        Ajellomycetaceae   Blastomyces \n",
       "8  Sordariomycetes     Hypocreales       Cordycipitaceae    Akanthomyces\n",
       "9  Blastocladiomycetes Blastocladiales   Blastocladiaceae   Allomyces   \n",
       "10 Dothideomycetes     Pleosporales      Pleosporaceae      Alternaria  "
      ]
     },
     "metadata": {},
     "output_type": "display_data"
    }
   ],
   "source": [
    "## Data cleaning\n",
    " # We clean up taxonomic information by removing any taxonomic rank that is 'no_rank','clade'or 'species' and then only keep kingdom, phylum, class, order, family,and genus information\n",
    "\n",
    "data_taxo_t=subset(data_taxo_s, data_taxo_s$Rank!='no rank' & data_taxo_s$Rank!='clade'& data_taxo_s$Rank!='species' ) %>% distinct\n",
    "\n",
    "data_taxo_sp=spread(data_taxo_t,Rank,Name)\n",
    "\n",
    "data_simplified=data_taxo_sp[,c('Organism','kingdom','phylum','class',\n",
    "                                'order','family','genus')]\n",
    "\n",
    "head(data_simplified,10)"
   ]
  },
  {
   "cell_type": "code",
   "execution_count": 32,
   "id": "1429c072-6b26-4d9a-b21c-e4d38341e303",
   "metadata": {
    "vscode": {
     "languageId": "r"
    }
   },
   "outputs": [
    {
     "data": {
      "text/html": [
       "<ol class=list-inline>\n",
       "\t<li>755</li>\n",
       "\t<li>7</li>\n",
       "</ol>\n"
      ],
      "text/latex": [
       "\\begin{enumerate*}\n",
       "\\item 755\n",
       "\\item 7\n",
       "\\end{enumerate*}\n"
      ],
      "text/markdown": [
       "1. 755\n",
       "2. 7\n",
       "\n",
       "\n"
      ],
      "text/plain": [
       "[1] 755   7"
      ]
     },
     "metadata": {},
     "output_type": "display_data"
    }
   ],
   "source": [
    "dim(data_simplified)"
   ]
  },
  {
   "cell_type": "code",
   "execution_count": 33,
   "id": "3a22de69",
   "metadata": {
    "vscode": {
     "languageId": "r"
    }
   },
   "outputs": [
    {
     "data": {
      "text/html": [
       "<ol class=list-inline>\n",
       "\t<li>2</li>\n",
       "\t<li>7</li>\n",
       "</ol>\n"
      ],
      "text/latex": [
       "\\begin{enumerate*}\n",
       "\\item 2\n",
       "\\item 7\n",
       "\\end{enumerate*}\n"
      ],
      "text/markdown": [
       "1. 2\n",
       "2. 7\n",
       "\n",
       "\n"
      ],
      "text/plain": [
       "[1] 2 7"
      ]
     },
     "metadata": {},
     "output_type": "display_data"
    }
   ],
   "source": [
    "## Check for presence of taxonomy errors\n",
    "no_fungi_check=subset(data_simplified, data_simplified$kingdom!='Fungi')\n",
    "dim(no_fungi_check) "
   ]
  },
  {
   "cell_type": "markdown",
   "id": "e3fa96ed-03ab-4af2-9f20-0aaf1801fdda",
   "metadata": {},
   "source": [
    "2 species got wrong taxonomyinformation"
   ]
  },
  {
   "cell_type": "code",
   "execution_count": 34,
   "id": "e70c9d4e-eda4-4634-a8d9-07865c2f9763",
   "metadata": {
    "vscode": {
     "languageId": "r"
    }
   },
   "outputs": [
    {
     "data": {
      "text/html": [
       "<table>\n",
       "<thead><tr><th></th><th scope=col>Organism</th><th scope=col>kingdom</th><th scope=col>phylum</th><th scope=col>class</th><th scope=col>order</th><th scope=col>family</th><th scope=col>genus</th></tr></thead>\n",
       "<tbody>\n",
       "\t<tr><th scope=row>353</th><td>Gibberella moniliformis    </td><td>Metazoa                    </td><td>Acanthocephala             </td><td>Archiacanthocephala        </td><td>Moniliformida              </td><td>Moniliformidae             </td><td>Moniliformis               </td></tr>\n",
       "\t<tr><th scope=row>436</th><td>Melampsora larici-populina </td><td>Viridiplantae              </td><td>Streptophyta               </td><td>Magnoliopsida              </td><td>Lamiales                   </td><td>Acanthaceae                </td><td>Populina                   </td></tr>\n",
       "</tbody>\n",
       "</table>\n"
      ],
      "text/latex": [
       "\\begin{tabular}{r|lllllll}\n",
       "  & Organism & kingdom & phylum & class & order & family & genus\\\\\n",
       "\\hline\n",
       "\t353 & Gibberella moniliformis     & Metazoa                     & Acanthocephala              & Archiacanthocephala         & Moniliformida               & Moniliformidae              & Moniliformis               \\\\\n",
       "\t436 & Melampsora larici-populina  & Viridiplantae               & Streptophyta                & Magnoliopsida               & Lamiales                    & Acanthaceae                 & Populina                   \\\\\n",
       "\\end{tabular}\n"
      ],
      "text/markdown": [
       "\n",
       "| <!--/--> | Organism | kingdom | phylum | class | order | family | genus |\n",
       "|---|---|---|---|---|---|---|---|\n",
       "| 353 | Gibberella moniliformis     | Metazoa                     | Acanthocephala              | Archiacanthocephala         | Moniliformida               | Moniliformidae              | Moniliformis                |\n",
       "| 436 | Melampsora larici-populina  | Viridiplantae               | Streptophyta                | Magnoliopsida               | Lamiales                    | Acanthaceae                 | Populina                    |\n",
       "\n"
      ],
      "text/plain": [
       "    Organism                    kingdom       phylum        \n",
       "353 Gibberella moniliformis     Metazoa       Acanthocephala\n",
       "436 Melampsora larici-populina  Viridiplantae Streptophyta  \n",
       "    class               order         family         genus       \n",
       "353 Archiacanthocephala Moniliformida Moniliformidae Moniliformis\n",
       "436 Magnoliopsida       Lamiales      Acanthaceae    Populina    "
      ]
     },
     "metadata": {},
     "output_type": "display_data"
    }
   ],
   "source": [
    "no_fungi_check"
   ]
  },
  {
   "cell_type": "code",
   "execution_count": 45,
   "id": "7ee400bc-de90-46eb-87ae-983c17a26665",
   "metadata": {
    "vscode": {
     "languageId": "r"
    }
   },
   "outputs": [
    {
     "data": {
      "text/html": [
       "353"
      ],
      "text/latex": [
       "353"
      ],
      "text/markdown": [
       "353"
      ],
      "text/plain": [
       "[1] 353"
      ]
     },
     "metadata": {},
     "output_type": "display_data"
    },
    {
     "data": {
      "text/html": [
       "436"
      ],
      "text/latex": [
       "436"
      ],
      "text/markdown": [
       "436"
      ],
      "text/plain": [
       "[1] 436"
      ]
     },
     "metadata": {},
     "output_type": "display_data"
    }
   ],
   "source": [
    "## We can replace this two entries with the right information\n",
    " # We first need to get the location of these two errors\n",
    "\n",
    "rowN_Gibb <- which(grepl('Gibberella moniliformis',data_simplified$Organism)) \n",
    "\n",
    "rowN_Mel <- which(grepl('Melampsora larici-populina',data_simplified$Organism)) \n",
    "\n",
    "rowN_Gibb\n",
    "\n",
    "rowN_Mel\n",
    "\n"
   ]
  },
  {
   "cell_type": "code",
   "execution_count": 62,
   "id": "3b8eae41-9ab3-40c0-8ed1-e21539d51dfc",
   "metadata": {
    "vscode": {
     "languageId": "r"
    }
   },
   "outputs": [],
   "source": [
    "# First need to turn data_simplified into characters\n",
    "data_simplified_ch <- data_simplified %>%\n",
    "  mutate_all(~as.character(.))"
   ]
  },
  {
   "cell_type": "code",
   "execution_count": 63,
   "id": "6f8e9e72-a35f-4fb1-9679-f074a20d0a6c",
   "metadata": {
    "vscode": {
     "languageId": "r"
    }
   },
   "outputs": [],
   "source": [
    "#For Melampsora\n",
    "data_simplified_ch[436,]=c('Melampsora larici-populina', \n",
    "                        'Fungi',\n",
    "                        'Basidiomycota',\n",
    "                        'Pucciniomycetes',\n",
    "                        'Pucciniales',\n",
    "                        'Melampsoraceae',\n",
    "                        'Melampsora')\n",
    "\n",
    "#For Gibberella\n",
    "data_simplified_ch[353,]=c('Gibberella moniliformis',\n",
    "                    'Fungi',\n",
    "                    'Ascomycota',\n",
    "                    'Sordariomycetes',\n",
    "                    'Hypocreales', \n",
    "                    'Nectriaceae',\n",
    "                    'Fusarium')\n"
   ]
  },
  {
   "cell_type": "code",
   "execution_count": 64,
   "id": "4f6bcff4-db45-4989-a8a3-ccafcf5f4a05",
   "metadata": {
    "vscode": {
     "languageId": "r"
    }
   },
   "outputs": [
    {
     "data": {
      "text/html": [
       "<table>\n",
       "<thead><tr><th scope=col>Organism</th><th scope=col>kingdom</th><th scope=col>phylum</th><th scope=col>class</th><th scope=col>order</th><th scope=col>family</th><th scope=col>genus</th></tr></thead>\n",
       "<tbody>\n",
       "\t<tr><td>Aaosphaeria arxii CBS 175.79     </td><td>Fungi                            </td><td>Ascomycota                       </td><td>Dothideomycetes                  </td><td>Pleosporales                     </td><td>NA                               </td><td>Aaosphaeria                      </td></tr>\n",
       "\t<tr><td>Absidia glauca                   </td><td>Fungi                            </td><td>Mucoromycota                     </td><td>Mucoromycetes                    </td><td>Mucorales                        </td><td>Cunninghamellaceae               </td><td>Absidia                          </td></tr>\n",
       "\t<tr><td>Absidia repens                   </td><td>Fungi                            </td><td>Mucoromycota                     </td><td>Mucoromycetes                    </td><td>Mucorales                        </td><td>Cunninghamellaceae               </td><td>Absidia                          </td></tr>\n",
       "\t<tr><td>Acaromyces ingoldii              </td><td>Fungi                            </td><td>Basidiomycota                    </td><td>Exobasidiomycetes                </td><td>Exobasidiales                    </td><td>Cryptobasidiaceae                </td><td>Acaromyces                       </td></tr>\n",
       "\t<tr><td>Acidomyces richmondensis BFW     </td><td>Fungi                            </td><td>Ascomycota                       </td><td>Dothideomycetes                  </td><td>Mycosphaerellales                </td><td>Teratosphaeriaceae               </td><td>Acidomyces                       </td></tr>\n",
       "\t<tr><td>Agaricus bisporus var. burnettii </td><td>Fungi                            </td><td>Basidiomycota                    </td><td>Agaricomycetes                   </td><td>Agaricales                       </td><td>Agaricaceae                      </td><td>Agaricus                         </td></tr>\n",
       "\t<tr><td>Ajellomyces dermatitidis         </td><td>Fungi                            </td><td>Ascomycota                       </td><td>Eurotiomycetes                   </td><td>Onygenales                       </td><td>Ajellomycetaceae                 </td><td>Blastomyces                      </td></tr>\n",
       "\t<tr><td>Akanthomyces lecanii RCEF 1005   </td><td>Fungi                            </td><td>Ascomycota                       </td><td>Sordariomycetes                  </td><td>Hypocreales                      </td><td>Cordycipitaceae                  </td><td>Akanthomyces                     </td></tr>\n",
       "\t<tr><td>Allomyces macrogynus             </td><td>Fungi                            </td><td>Blastocladiomycota               </td><td>Blastocladiomycetes              </td><td>Blastocladiales                  </td><td>Blastocladiaceae                 </td><td>Allomyces                        </td></tr>\n",
       "\t<tr><td>Alternaria alternata             </td><td>Fungi                            </td><td>Ascomycota                       </td><td>Dothideomycetes                  </td><td>Pleosporales                     </td><td>Pleosporaceae                    </td><td>Alternaria                       </td></tr>\n",
       "</tbody>\n",
       "</table>\n"
      ],
      "text/latex": [
       "\\begin{tabular}{r|lllllll}\n",
       " Organism & kingdom & phylum & class & order & family & genus\\\\\n",
       "\\hline\n",
       "\t Aaosphaeria arxii CBS 175.79      & Fungi                             & Ascomycota                        & Dothideomycetes                   & Pleosporales                      & NA                                & Aaosphaeria                      \\\\\n",
       "\t Absidia glauca                    & Fungi                             & Mucoromycota                      & Mucoromycetes                     & Mucorales                         & Cunninghamellaceae                & Absidia                          \\\\\n",
       "\t Absidia repens                    & Fungi                             & Mucoromycota                      & Mucoromycetes                     & Mucorales                         & Cunninghamellaceae                & Absidia                          \\\\\n",
       "\t Acaromyces ingoldii               & Fungi                             & Basidiomycota                     & Exobasidiomycetes                 & Exobasidiales                     & Cryptobasidiaceae                 & Acaromyces                       \\\\\n",
       "\t Acidomyces richmondensis BFW      & Fungi                             & Ascomycota                        & Dothideomycetes                   & Mycosphaerellales                 & Teratosphaeriaceae                & Acidomyces                       \\\\\n",
       "\t Agaricus bisporus var. burnettii  & Fungi                             & Basidiomycota                     & Agaricomycetes                    & Agaricales                        & Agaricaceae                       & Agaricus                         \\\\\n",
       "\t Ajellomyces dermatitidis          & Fungi                             & Ascomycota                        & Eurotiomycetes                    & Onygenales                        & Ajellomycetaceae                  & Blastomyces                      \\\\\n",
       "\t Akanthomyces lecanii RCEF 1005    & Fungi                             & Ascomycota                        & Sordariomycetes                   & Hypocreales                       & Cordycipitaceae                   & Akanthomyces                     \\\\\n",
       "\t Allomyces macrogynus              & Fungi                             & Blastocladiomycota                & Blastocladiomycetes               & Blastocladiales                   & Blastocladiaceae                  & Allomyces                        \\\\\n",
       "\t Alternaria alternata              & Fungi                             & Ascomycota                        & Dothideomycetes                   & Pleosporales                      & Pleosporaceae                     & Alternaria                       \\\\\n",
       "\\end{tabular}\n"
      ],
      "text/markdown": [
       "\n",
       "| Organism | kingdom | phylum | class | order | family | genus |\n",
       "|---|---|---|---|---|---|---|\n",
       "| Aaosphaeria arxii CBS 175.79      | Fungi                             | Ascomycota                        | Dothideomycetes                   | Pleosporales                      | NA                                | Aaosphaeria                       |\n",
       "| Absidia glauca                    | Fungi                             | Mucoromycota                      | Mucoromycetes                     | Mucorales                         | Cunninghamellaceae                | Absidia                           |\n",
       "| Absidia repens                    | Fungi                             | Mucoromycota                      | Mucoromycetes                     | Mucorales                         | Cunninghamellaceae                | Absidia                           |\n",
       "| Acaromyces ingoldii               | Fungi                             | Basidiomycota                     | Exobasidiomycetes                 | Exobasidiales                     | Cryptobasidiaceae                 | Acaromyces                        |\n",
       "| Acidomyces richmondensis BFW      | Fungi                             | Ascomycota                        | Dothideomycetes                   | Mycosphaerellales                 | Teratosphaeriaceae                | Acidomyces                        |\n",
       "| Agaricus bisporus var. burnettii  | Fungi                             | Basidiomycota                     | Agaricomycetes                    | Agaricales                        | Agaricaceae                       | Agaricus                          |\n",
       "| Ajellomyces dermatitidis          | Fungi                             | Ascomycota                        | Eurotiomycetes                    | Onygenales                        | Ajellomycetaceae                  | Blastomyces                       |\n",
       "| Akanthomyces lecanii RCEF 1005    | Fungi                             | Ascomycota                        | Sordariomycetes                   | Hypocreales                       | Cordycipitaceae                   | Akanthomyces                      |\n",
       "| Allomyces macrogynus              | Fungi                             | Blastocladiomycota                | Blastocladiomycetes               | Blastocladiales                   | Blastocladiaceae                  | Allomyces                         |\n",
       "| Alternaria alternata              | Fungi                             | Ascomycota                        | Dothideomycetes                   | Pleosporales                      | Pleosporaceae                     | Alternaria                        |\n",
       "\n"
      ],
      "text/plain": [
       "   Organism                          kingdom phylum            \n",
       "1  Aaosphaeria arxii CBS 175.79      Fungi   Ascomycota        \n",
       "2  Absidia glauca                    Fungi   Mucoromycota      \n",
       "3  Absidia repens                    Fungi   Mucoromycota      \n",
       "4  Acaromyces ingoldii               Fungi   Basidiomycota     \n",
       "5  Acidomyces richmondensis BFW      Fungi   Ascomycota        \n",
       "6  Agaricus bisporus var. burnettii  Fungi   Basidiomycota     \n",
       "7  Ajellomyces dermatitidis          Fungi   Ascomycota        \n",
       "8  Akanthomyces lecanii RCEF 1005    Fungi   Ascomycota        \n",
       "9  Allomyces macrogynus              Fungi   Blastocladiomycota\n",
       "10 Alternaria alternata              Fungi   Ascomycota        \n",
       "   class               order             family             genus       \n",
       "1  Dothideomycetes     Pleosporales      NA                 Aaosphaeria \n",
       "2  Mucoromycetes       Mucorales         Cunninghamellaceae Absidia     \n",
       "3  Mucoromycetes       Mucorales         Cunninghamellaceae Absidia     \n",
       "4  Exobasidiomycetes   Exobasidiales     Cryptobasidiaceae  Acaromyces  \n",
       "5  Dothideomycetes     Mycosphaerellales Teratosphaeriaceae Acidomyces  \n",
       "6  Agaricomycetes      Agaricales        Agaricaceae        Agaricus    \n",
       "7  Eurotiomycetes      Onygenales        Ajellomycetaceae   Blastomyces \n",
       "8  Sordariomycetes     Hypocreales       Cordycipitaceae    Akanthomyces\n",
       "9  Blastocladiomycetes Blastocladiales   Blastocladiaceae   Allomyces   \n",
       "10 Dothideomycetes     Pleosporales      Pleosporaceae      Alternaria  "
      ]
     },
     "metadata": {},
     "output_type": "display_data"
    }
   ],
   "source": [
    "head(data_simplified_ch,10)"
   ]
  },
  {
   "cell_type": "code",
   "execution_count": 58,
   "id": "cc18f0af",
   "metadata": {
    "vscode": {
     "languageId": "r"
    }
   },
   "outputs": [],
   "source": [
    "## Saving list of species with unsuccessful taxonomy query\n",
    " # This represents 21 species for which we curate taxonomy information manually \n",
    "\n",
    "write.csv(unique(species_no_taxo),'results/step2/species_need_taxo_manually.csv')"
   ]
  },
  {
   "cell_type": "code",
   "execution_count": 65,
   "id": "36bbef64",
   "metadata": {
    "vscode": {
     "languageId": "r"
    }
   },
   "outputs": [],
   "source": [
    "## Import the manually curated taxonomy for missing species\n",
    "\n",
    "man_cur=read.csv('data/step2/manually_curated_taxonomy_species.csv')"
   ]
  },
  {
   "cell_type": "code",
   "execution_count": 68,
   "id": "32580fc4",
   "metadata": {
    "vscode": {
     "languageId": "r"
    }
   },
   "outputs": [
    {
     "data": {
      "text/html": [
       "<table>\n",
       "<thead><tr><th scope=col>Organism_uniprot</th><th scope=col>n_prot</th><th scope=col>species_name</th><th scope=col>kingdom</th><th scope=col>phylum</th><th scope=col>class</th><th scope=col>order</th><th scope=col>family</th><th scope=col>genus</th></tr></thead>\n",
       "<tbody>\n",
       "\t<tr><td>[Candida] intermedia                                                                                                         </td><td>10617                                                                                                                        </td><td>[Candida] intermedia                                                                                                         </td><td>Fungi                                                                                                                        </td><td>Ascomycota                                                                                                                   </td><td>Saccharomycetes                                                                                                              </td><td>Saccharomycetales                                                                                                            </td><td>Metschnikowiaceae                                                                                                            </td><td>Candida                                                                                                                      </td></tr>\n",
       "\t<tr><td>[Torrubiella] hemipterigena                                                                                                  </td><td>11065                                                                                                                        </td><td>[Torrubiella] hemipterigena                                                                                                  </td><td>Fungi                                                                                                                        </td><td>Ascomycota                                                                                                                   </td><td>Sordariomycetes                                                                                                              </td><td>Hypocreales                                                                                                                  </td><td>Clavicipitaceae                                                                                                              </td><td>Torrubiella                                                                                                                  </td></tr>\n",
       "\t<tr><td>Aaosphaeria arxii CBS 175.79                                                                                                 </td><td>13815                                                                                                                        </td><td>Aaosphaeria arxii CBS 175.79                                                                                                 </td><td>Fungi                                                                                                                        </td><td>Ascomycota                                                                                                                   </td><td>Dothideomycetes                                                                                                              </td><td>Pleosporales                                                                                                                 </td><td>NA                                                                                                                           </td><td>Aaosphaeria                                                                                                                  </td></tr>\n",
       "\t<tr><td>Absidia glauca (Pin mould)                                                                                                   </td><td>14217                                                                                                                        </td><td>Absidia glauca                                                                                                               </td><td>Fungi                                                                                                                        </td><td>Mucoromycota                                                                                                                 </td><td>Mucoromycetes                                                                                                                </td><td>Mucorales                                                                                                                    </td><td>Cunninghamellaceae                                                                                                           </td><td>Absidia                                                                                                                      </td></tr>\n",
       "\t<tr><td>Absidia repens                                                                                                               </td><td>14353                                                                                                                        </td><td>Absidia repens                                                                                                               </td><td>Fungi                                                                                                                        </td><td>Mucoromycota                                                                                                                 </td><td>Mucoromycetes                                                                                                                </td><td>Mucorales                                                                                                                    </td><td>Cunninghamellaceae                                                                                                           </td><td>Absidia                                                                                                                      </td></tr>\n",
       "\t<tr><td>Acaromyces ingoldii                                                                                                          </td><td> 7585                                                                                                                        </td><td>Acaromyces ingoldii                                                                                                          </td><td>Fungi                                                                                                                        </td><td>Basidiomycota                                                                                                                </td><td>Exobasidiomycetes                                                                                                            </td><td>Exobasidiales                                                                                                                </td><td>Cryptobasidiaceae                                                                                                            </td><td>Acaromyces                                                                                                                   </td></tr>\n",
       "\t<tr><td>Acidomyces richmondensis BFW                                                                                                 </td><td>10856                                                                                                                        </td><td>Acidomyces richmondensis BFW                                                                                                 </td><td>Fungi                                                                                                                        </td><td>Ascomycota                                                                                                                   </td><td>Dothideomycetes                                                                                                              </td><td>Mycosphaerellales                                                                                                            </td><td>Teratosphaeriaceae                                                                                                           </td><td>Acidomyces                                                                                                                   </td></tr>\n",
       "\t<tr><td>Agaricus bisporus var. burnettii (strain JB137-S8 / ATCC MYA-4627 / FGSC 10392) (White button mushroom)                      </td><td>10948                                                                                                                        </td><td>Agaricus bisporus var. burnettii                                                                                             </td><td>Fungi                                                                                                                        </td><td>Basidiomycota                                                                                                                </td><td>Agaricomycetes                                                                                                               </td><td>Agaricales                                                                                                                   </td><td>Agaricaceae                                                                                                                  </td><td>Agaricus                                                                                                                     </td></tr>\n",
       "\t<tr><td>Ajellomyces capsulatus (strain G186AR / H82 / ATCC MYA-2454 / RMSCC 2432) (Darling's disease fungus) (Histoplasma capsulatum)</td><td> 9199                                                                                                                        </td><td>Ajellomyces capsulatus                                                                                                       </td><td>Fungi                                                                                                                        </td><td>Ascomycota                                                                                                                   </td><td>Eurotiomycetes                                                                                                               </td><td>Onygenales                                                                                                                   </td><td>Ajellomycetaceae                                                                                                             </td><td>Ajellomyces                                                                                                                  </td></tr>\n",
       "\t<tr><td>Ajellomyces capsulatus (strain H143) (Darling's disease fungus) (Histoplasma capsulatum)                                     </td><td> 9314                                                                                                                        </td><td>Ajellomyces capsulatus                                                                                                       </td><td>Fungi                                                                                                                        </td><td>Ascomycota                                                                                                                   </td><td>Eurotiomycetes                                                                                                               </td><td>Onygenales                                                                                                                   </td><td>Ajellomycetaceae                                                                                                             </td><td>Ajellomyces                                                                                                                  </td></tr>\n",
       "</tbody>\n",
       "</table>\n"
      ],
      "text/latex": [
       "\\begin{tabular}{r|lllllllll}\n",
       " Organism\\_uniprot & n\\_prot & species\\_name & kingdom & phylum & class & order & family & genus\\\\\n",
       "\\hline\n",
       "\t {[}Candida{]} intermedia                                                                                                          & 10617                                                                                                                             & {[}Candida{]} intermedia                                                                                                          & Fungi                                                                                                                             & Ascomycota                                                                                                                        & Saccharomycetes                                                                                                                   & Saccharomycetales                                                                                                                 & Metschnikowiaceae                                                                                                                 & Candida                                                                                                                          \\\\\n",
       "\t {[}Torrubiella{]} hemipterigena                                                                                                   & 11065                                                                                                                             & {[}Torrubiella{]} hemipterigena                                                                                                   & Fungi                                                                                                                             & Ascomycota                                                                                                                        & Sordariomycetes                                                                                                                   & Hypocreales                                                                                                                       & Clavicipitaceae                                                                                                                   & Torrubiella                                                                                                                      \\\\\n",
       "\t Aaosphaeria arxii CBS 175.79                                                                                                  & 13815                                                                                                                         & Aaosphaeria arxii CBS 175.79                                                                                                  & Fungi                                                                                                                         & Ascomycota                                                                                                                    & Dothideomycetes                                                                                                               & Pleosporales                                                                                                                  & NA                                                                                                                            & Aaosphaeria                                                                                                                  \\\\\n",
       "\t Absidia glauca (Pin mould)                                                                                                    & 14217                                                                                                                         & Absidia glauca                                                                                                                & Fungi                                                                                                                         & Mucoromycota                                                                                                                  & Mucoromycetes                                                                                                                 & Mucorales                                                                                                                     & Cunninghamellaceae                                                                                                            & Absidia                                                                                                                      \\\\\n",
       "\t Absidia repens                                                                                                                & 14353                                                                                                                         & Absidia repens                                                                                                                & Fungi                                                                                                                         & Mucoromycota                                                                                                                  & Mucoromycetes                                                                                                                 & Mucorales                                                                                                                     & Cunninghamellaceae                                                                                                            & Absidia                                                                                                                      \\\\\n",
       "\t Acaromyces ingoldii                                                                                                           &  7585                                                                                                                         & Acaromyces ingoldii                                                                                                           & Fungi                                                                                                                         & Basidiomycota                                                                                                                 & Exobasidiomycetes                                                                                                             & Exobasidiales                                                                                                                 & Cryptobasidiaceae                                                                                                             & Acaromyces                                                                                                                   \\\\\n",
       "\t Acidomyces richmondensis BFW                                                                                                  & 10856                                                                                                                         & Acidomyces richmondensis BFW                                                                                                  & Fungi                                                                                                                         & Ascomycota                                                                                                                    & Dothideomycetes                                                                                                               & Mycosphaerellales                                                                                                             & Teratosphaeriaceae                                                                                                            & Acidomyces                                                                                                                   \\\\\n",
       "\t Agaricus bisporus var. burnettii (strain JB137-S8 / ATCC MYA-4627 / FGSC 10392) (White button mushroom)                       & 10948                                                                                                                         & Agaricus bisporus var. burnettii                                                                                              & Fungi                                                                                                                         & Basidiomycota                                                                                                                 & Agaricomycetes                                                                                                                & Agaricales                                                                                                                    & Agaricaceae                                                                                                                   & Agaricus                                                                                                                     \\\\\n",
       "\t Ajellomyces capsulatus (strain G186AR / H82 / ATCC MYA-2454 / RMSCC 2432) (Darling's disease fungus) (Histoplasma capsulatum) &  9199                                                                                                                         & Ajellomyces capsulatus                                                                                                        & Fungi                                                                                                                         & Ascomycota                                                                                                                    & Eurotiomycetes                                                                                                                & Onygenales                                                                                                                    & Ajellomycetaceae                                                                                                              & Ajellomyces                                                                                                                  \\\\\n",
       "\t Ajellomyces capsulatus (strain H143) (Darling's disease fungus) (Histoplasma capsulatum)                                      &  9314                                                                                                                         & Ajellomyces capsulatus                                                                                                        & Fungi                                                                                                                         & Ascomycota                                                                                                                    & Eurotiomycetes                                                                                                                & Onygenales                                                                                                                    & Ajellomycetaceae                                                                                                              & Ajellomyces                                                                                                                  \\\\\n",
       "\\end{tabular}\n"
      ],
      "text/markdown": [
       "\n",
       "| Organism_uniprot | n_prot | species_name | kingdom | phylum | class | order | family | genus |\n",
       "|---|---|---|---|---|---|---|---|---|\n",
       "| [Candida] intermedia                                                                                                          | 10617                                                                                                                         | [Candida] intermedia                                                                                                          | Fungi                                                                                                                         | Ascomycota                                                                                                                    | Saccharomycetes                                                                                                               | Saccharomycetales                                                                                                             | Metschnikowiaceae                                                                                                             | Candida                                                                                                                       |\n",
       "| [Torrubiella] hemipterigena                                                                                                   | 11065                                                                                                                         | [Torrubiella] hemipterigena                                                                                                   | Fungi                                                                                                                         | Ascomycota                                                                                                                    | Sordariomycetes                                                                                                               | Hypocreales                                                                                                                   | Clavicipitaceae                                                                                                               | Torrubiella                                                                                                                   |\n",
       "| Aaosphaeria arxii CBS 175.79                                                                                                  | 13815                                                                                                                         | Aaosphaeria arxii CBS 175.79                                                                                                  | Fungi                                                                                                                         | Ascomycota                                                                                                                    | Dothideomycetes                                                                                                               | Pleosporales                                                                                                                  | NA                                                                                                                            | Aaosphaeria                                                                                                                   |\n",
       "| Absidia glauca (Pin mould)                                                                                                    | 14217                                                                                                                         | Absidia glauca                                                                                                                | Fungi                                                                                                                         | Mucoromycota                                                                                                                  | Mucoromycetes                                                                                                                 | Mucorales                                                                                                                     | Cunninghamellaceae                                                                                                            | Absidia                                                                                                                       |\n",
       "| Absidia repens                                                                                                                | 14353                                                                                                                         | Absidia repens                                                                                                                | Fungi                                                                                                                         | Mucoromycota                                                                                                                  | Mucoromycetes                                                                                                                 | Mucorales                                                                                                                     | Cunninghamellaceae                                                                                                            | Absidia                                                                                                                       |\n",
       "| Acaromyces ingoldii                                                                                                           |  7585                                                                                                                         | Acaromyces ingoldii                                                                                                           | Fungi                                                                                                                         | Basidiomycota                                                                                                                 | Exobasidiomycetes                                                                                                             | Exobasidiales                                                                                                                 | Cryptobasidiaceae                                                                                                             | Acaromyces                                                                                                                    |\n",
       "| Acidomyces richmondensis BFW                                                                                                  | 10856                                                                                                                         | Acidomyces richmondensis BFW                                                                                                  | Fungi                                                                                                                         | Ascomycota                                                                                                                    | Dothideomycetes                                                                                                               | Mycosphaerellales                                                                                                             | Teratosphaeriaceae                                                                                                            | Acidomyces                                                                                                                    |\n",
       "| Agaricus bisporus var. burnettii (strain JB137-S8 / ATCC MYA-4627 / FGSC 10392) (White button mushroom)                       | 10948                                                                                                                         | Agaricus bisporus var. burnettii                                                                                              | Fungi                                                                                                                         | Basidiomycota                                                                                                                 | Agaricomycetes                                                                                                                | Agaricales                                                                                                                    | Agaricaceae                                                                                                                   | Agaricus                                                                                                                      |\n",
       "| Ajellomyces capsulatus (strain G186AR / H82 / ATCC MYA-2454 / RMSCC 2432) (Darling's disease fungus) (Histoplasma capsulatum) |  9199                                                                                                                         | Ajellomyces capsulatus                                                                                                        | Fungi                                                                                                                         | Ascomycota                                                                                                                    | Eurotiomycetes                                                                                                                | Onygenales                                                                                                                    | Ajellomycetaceae                                                                                                              | Ajellomyces                                                                                                                   |\n",
       "| Ajellomyces capsulatus (strain H143) (Darling's disease fungus) (Histoplasma capsulatum)                                      |  9314                                                                                                                         | Ajellomyces capsulatus                                                                                                        | Fungi                                                                                                                         | Ascomycota                                                                                                                    | Eurotiomycetes                                                                                                                | Onygenales                                                                                                                    | Ajellomycetaceae                                                                                                              | Ajellomyces                                                                                                                   |\n",
       "\n"
      ],
      "text/plain": [
       "   Organism_uniprot                                                                                                             \n",
       "1  [Candida] intermedia                                                                                                         \n",
       "2  [Torrubiella] hemipterigena                                                                                                  \n",
       "3  Aaosphaeria arxii CBS 175.79                                                                                                 \n",
       "4  Absidia glauca (Pin mould)                                                                                                   \n",
       "5  Absidia repens                                                                                                               \n",
       "6  Acaromyces ingoldii                                                                                                          \n",
       "7  Acidomyces richmondensis BFW                                                                                                 \n",
       "8  Agaricus bisporus var. burnettii (strain JB137-S8 / ATCC MYA-4627 / FGSC 10392) (White button mushroom)                      \n",
       "9  Ajellomyces capsulatus (strain G186AR / H82 / ATCC MYA-2454 / RMSCC 2432) (Darling's disease fungus) (Histoplasma capsulatum)\n",
       "10 Ajellomyces capsulatus (strain H143) (Darling's disease fungus) (Histoplasma capsulatum)                                     \n",
       "   n_prot species_name                      kingdom phylum       \n",
       "1  10617  [Candida] intermedia              Fungi   Ascomycota   \n",
       "2  11065  [Torrubiella] hemipterigena       Fungi   Ascomycota   \n",
       "3  13815  Aaosphaeria arxii CBS 175.79      Fungi   Ascomycota   \n",
       "4  14217  Absidia glauca                    Fungi   Mucoromycota \n",
       "5  14353  Absidia repens                    Fungi   Mucoromycota \n",
       "6   7585  Acaromyces ingoldii               Fungi   Basidiomycota\n",
       "7  10856  Acidomyces richmondensis BFW      Fungi   Ascomycota   \n",
       "8  10948  Agaricus bisporus var. burnettii  Fungi   Basidiomycota\n",
       "9   9199  Ajellomyces capsulatus            Fungi   Ascomycota   \n",
       "10  9314  Ajellomyces capsulatus            Fungi   Ascomycota   \n",
       "   class             order             family             genus       \n",
       "1  Saccharomycetes   Saccharomycetales Metschnikowiaceae  Candida     \n",
       "2  Sordariomycetes   Hypocreales       Clavicipitaceae    Torrubiella \n",
       "3  Dothideomycetes   Pleosporales      NA                 Aaosphaeria \n",
       "4  Mucoromycetes     Mucorales         Cunninghamellaceae Absidia     \n",
       "5  Mucoromycetes     Mucorales         Cunninghamellaceae Absidia     \n",
       "6  Exobasidiomycetes Exobasidiales     Cryptobasidiaceae  Acaromyces  \n",
       "7  Dothideomycetes   Mycosphaerellales Teratosphaeriaceae Acidomyces  \n",
       "8  Agaricomycetes    Agaricales        Agaricaceae        Agaricus    \n",
       "9  Eurotiomycetes    Onygenales        Ajellomycetaceae   Ajellomyces \n",
       "10 Eurotiomycetes    Onygenales        Ajellomycetaceae   Ajellomyces "
      ]
     },
     "metadata": {},
     "output_type": "display_data"
    }
   ],
   "source": [
    "## Final table of working set with correct taxonomy information\n",
    "\n",
    "all_uni_data=rbind(data_simplified_ch, man_cur)\n",
    "\n",
    " # create a final table with protein information as well\n",
    "\n",
    "colnames(all_uni_data)=c('species_name', colnames(all_uni_data[,2:7]))\n",
    "data_uni_id=left_join(data_wset,all_uni_data,by='species_name')\n",
    "head(data_uni_id,10)"
   ]
  },
  {
   "cell_type": "code",
   "execution_count": 69,
   "id": "1d25d7b6",
   "metadata": {
    "vscode": {
     "languageId": "r"
    }
   },
   "outputs": [],
   "source": [
    "## Save the data\n",
    "\n",
    "write.csv(data_uni_id,'results/step2/uniprot_all_wset_taxo.csv')"
   ]
  },
  {
   "cell_type": "code",
   "execution_count": 70,
   "id": "833eeb60-0363-42e4-8daf-d733e963d4c7",
   "metadata": {
    "vscode": {
     "languageId": "r"
    }
   },
   "outputs": [
    {
     "data": {
      "text/plain": [
       "R version 3.6.3 (2020-02-29)\n",
       "Platform: x86_64-apple-darwin13.4.0 (64-bit)\n",
       "Running under: macOS  10.16\n",
       "\n",
       "Matrix products: default\n",
       "BLAS/LAPACK: /Users/manonmorin/miniconda3/envs/R_good_env/lib/libopenblasp-r0.3.24.dylib\n",
       "\n",
       "locale:\n",
       "[1] en_US.UTF-8/en_US.UTF-8/en_US.UTF-8/C/en_US.UTF-8/en_US.UTF-8\n",
       "\n",
       "attached base packages:\n",
       "[1] stats     graphics  grDevices utils     datasets  methods   base     \n",
       "\n",
       "other attached packages:\n",
       "[1] tidyr_0.8.3   readr_1.3.1   XML_3.98-1.19 rentrez_1.2.3 dplyr_0.8.0.1\n",
       "\n",
       "loaded via a namespace (and not attached):\n",
       " [1] Rcpp_1.0.1       xml2_1.2.0       magrittr_1.5     hms_0.4.2       \n",
       " [5] tidyselect_0.2.5 uuid_0.1-2       R6_2.4.0         rlang_0.3.4     \n",
       " [9] httr_1.4.0       tools_3.6.3      htmltools_0.3.6  assertthat_0.2.1\n",
       "[13] digest_0.6.18    tibble_2.1.1     crayon_1.3.4     IRdisplay_0.7.0 \n",
       "[17] purrr_0.3.2      repr_0.19.2      base64enc_0.1-3  curl_3.3        \n",
       "[21] IRkernel_0.8.15  glue_1.3.1       evaluate_0.13    pbdZMQ_0.3-3    \n",
       "[25] compiler_3.6.3   pillar_1.3.1     jsonlite_1.6     pkgconfig_2.0.2 "
      ]
     },
     "metadata": {},
     "output_type": "display_data"
    }
   ],
   "source": [
    "sessionInfo()"
   ]
  }
 ],
 "metadata": {
  "kernelspec": {
   "display_name": "R",
   "language": "R",
   "name": "ir"
  },
  "language_info": {
   "codemirror_mode": "r",
   "file_extension": ".r",
   "mimetype": "text/x-r-source",
   "name": "R",
   "pygments_lexer": "r",
   "version": "3.6.3"
  }
 },
 "nbformat": 4,
 "nbformat_minor": 5
}
