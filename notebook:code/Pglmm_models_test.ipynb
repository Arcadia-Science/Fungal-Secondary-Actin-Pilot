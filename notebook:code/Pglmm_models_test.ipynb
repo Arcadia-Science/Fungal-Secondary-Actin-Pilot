{
 "cells": [
  {
   "cell_type": "markdown",
   "id": "ef3e2f83",
   "metadata": {},
   "source": [
    "## Test run for pglmm from phyr R package\n",
    "\n",
    "The plgmm functions allows to use phylo class objects from ape to account for species phylogeny in generalized mixte models to predict binary variable from binary, counts or continuous predictors\n",
    "\n",
    "Ressources:\n",
    "- https://besjournals.onlinelibrary.wiley.com/doi/full/10.1111/2041-210X.13471\n",
    "- https://daijiang.github.io/phyr/articles/phyr_example_empirical.html\n",
    "- https://daijiang.github.io/phyr/reference/pglmm.html\n",
    "\n",
    "In this Jupyter Notebook I am trying to see if this could be a good solution to incorporate phylogeny information when modeling the binary FSA with a discrete predictor (turned into a binary predictor).\n",
    "Here are two exemples to evaluate if this could be a solution"
   ]
  },
  {
   "cell_type": "code",
   "execution_count": 1,
   "id": "3d7c4036",
   "metadata": {},
   "outputs": [
    {
     "name": "stderr",
     "output_type": "stream",
     "text": [
      "also installing the dependencies ‘deldir’, ‘png’, ‘jpeg’, ‘interp’, ‘mvtnorm’, ‘latticeExtra’\n",
      "\n",
      "\n",
      "Updating HTML index of packages in '.Library'\n",
      "\n",
      "Making 'packages.html' ...\n",
      " done\n",
      "\n"
     ]
    }
   ],
   "source": [
    "install.packages('phyr', repos='http://cran.us.r-project.org')"
   ]
  },
  {
   "cell_type": "code",
   "execution_count": 8,
   "id": "6b414c7f",
   "metadata": {},
   "outputs": [
    {
     "name": "stderr",
     "output_type": "stream",
     "text": [
      "── \u001b[1mAttaching packages\u001b[22m ──────────────────────────────────────────────────────────────────────────── tidyverse 1.3.2 ──\n",
      "\u001b[32m✔\u001b[39m \u001b[34mggplot2\u001b[39m 3.3.6      \u001b[32m✔\u001b[39m \u001b[34mpurrr  \u001b[39m 0.3.5 \n",
      "\u001b[32m✔\u001b[39m \u001b[34mtibble \u001b[39m 3.1.8      \u001b[32m✔\u001b[39m \u001b[34mdplyr  \u001b[39m 1.0.10\n",
      "\u001b[32m✔\u001b[39m \u001b[34mtidyr  \u001b[39m 1.2.1      \u001b[32m✔\u001b[39m \u001b[34mstringr\u001b[39m 1.5.0 \n",
      "\u001b[32m✔\u001b[39m \u001b[34mreadr  \u001b[39m 2.1.3      \u001b[32m✔\u001b[39m \u001b[34mforcats\u001b[39m 0.5.2 \n",
      "Warning message:\n",
      "“package ‘stringr’ was built under R version 4.2.3”\n",
      "── \u001b[1mConflicts\u001b[22m ─────────────────────────────────────────────────────────────────────────────── tidyverse_conflicts() ──\n",
      "\u001b[31m✖\u001b[39m \u001b[34mtidyr\u001b[39m::\u001b[32mexpand()\u001b[39m masks \u001b[34mggtree\u001b[39m::expand()\n",
      "\u001b[31m✖\u001b[39m \u001b[34mdplyr\u001b[39m::\u001b[32mfilter()\u001b[39m masks \u001b[34mstats\u001b[39m::filter()\n",
      "\u001b[31m✖\u001b[39m \u001b[34mdplyr\u001b[39m::\u001b[32mlag()\u001b[39m    masks \u001b[34mstats\u001b[39m::lag()\n"
     ]
    }
   ],
   "source": [
    "library(ape)\n",
    "library(ggtree)\n",
    "library(phyr)\n",
    "library(tidyverse)"
   ]
  },
  {
   "cell_type": "code",
   "execution_count": 3,
   "id": "8b608bad",
   "metadata": {},
   "outputs": [],
   "source": [
    "## Data import\n",
    "data_disc_traits=read.csv('data_tree_trait_210species_discrete.csv')\n",
    "tree=read.tree('tree_for_trait_210.nwk') #phylogenetic tree that contains phylogenetic relationships for al 210 species\n"
   ]
  },
  {
   "cell_type": "markdown",
   "id": "635604db",
   "metadata": {},
   "source": [
    "### Predicting FSA status from presence/absence of gene\n",
    "\n",
    "Here I am using the gene endoglucanase whcih is the genes that came up with the most significant p-value when running a Fisher test to test whether presence of FSA and presence of this gene are independent"
   ]
  },
  {
   "cell_type": "code",
   "execution_count": 4,
   "id": "cab5f2d7",
   "metadata": {},
   "outputs": [],
   "source": [
    "# Data formating for pglmm\n",
    "\n",
    "data_genes=data_disc_traits[,c('tip.label','FSA','endoglucanase9_count')]%>%na.omit()\n",
    "\n",
    "data_genes_simple=data_genes\n",
    "data_genes_simple$endoglucanase9_count[data_genes_simple$endoglucanase9_count>=1]=1 # setting up gene as binary information\n",
    "\n",
    "data_genes_simple$FSA[data_genes_simple$FSA=='Yes']=1\n",
    "data_genes_simple$FSA[data_genes_simple$FSA=='No']=0\n",
    "\n",
    "data_genes_simple$FSA=as.numeric(data_genes_simple$FSA)\n",
    "\n",
    "\n",
    "# phylo class object preparation that is used as the input matrix to take into account the random effecst assocaited with the phylogeny\n",
    "tree_tip=intersect(tree$tip.label,data_genes_simple$tip.label)\n",
    "tree_pruned=keep.tip(tree, tree_tip)\n"
   ]
  },
  {
   "cell_type": "code",
   "execution_count": 5,
   "id": "7b69ee00",
   "metadata": {},
   "outputs": [
    {
     "name": "stderr",
     "output_type": "stream",
     "text": [
      "as(<matrix>, \"dgTMatrix\") is deprecated since Matrix 1.5-0; do as(as(as(., \"dMatrix\"), \"generalMatrix\"), \"TsparseMatrix\") instead\n",
      "\n"
     ]
    },
    {
     "data": {
      "text/plain": [
       "Generalized linear mixed model for binomial data fit by restricted maximum likelihood\n",
       "\n",
       "Call:FSA ~ endoglucanase9_count\n",
       "\n",
       "\n",
       "Random effects:\n",
       "                                  Variance  Std.Dev\n",
       "1|tip.label                      1.066e-06 0.001033\n",
       "1|tip.label__                    2.289e-01 0.478426\n",
       "endoglucanase9_count|tip.label   8.897e-06 0.002983\n",
       "endoglucanase9_count|tip.label__ 8.363e-06 0.002892\n",
       "\n",
       "Fixed effects:\n",
       "                        Value Std.Error  Zscore  Pvalue    \n",
       "(Intercept)          -1.08555   0.77556 -1.3997 0.16160    \n",
       "endoglucanase9_count  1.88249   0.57011  3.3020 0.00096 ***\n",
       "---\n",
       "Signif. codes:  0 ‘***’ 0.001 ‘**’ 0.01 ‘*’ 0.05 ‘.’ 0.1 ‘ ’ 1\n"
      ]
     },
     "metadata": {},
     "output_type": "display_data"
    }
   ],
   "source": [
    "# pglmm model that take into account random effect from phylogeny\n",
    "\n",
    "\n",
    "mod_test=pglmm(FSA ~ endoglucanase9_count + (1|tip.label__) + (endoglucanase9_count|tip.label__),\n",
    "               data=data_genes_simple, \n",
    "               cov_ranef=list(tip.label=tree_pruned),\n",
    "               family='binomial')\n",
    "\n",
    "mod_test\n",
    "\n",
    "# tip.label__ is what we used to specify an overall phylogenetic effect\n",
    "# endoglucanase|tip.label__ is what we use to estimate the degree to which presence of FSA in species that have or don't have the gene endoglucanase has a phylogenetic signal."
   ]
  },
  {
   "cell_type": "markdown",
   "id": "be27d55d",
   "metadata": {},
   "source": [
    "If I understand this well. This is also telling us that the presence of the gene enndoglucanase is a predictor of FSA being present.  The random effects indicates that the strongest effect is an overall effect of the phylogeny."
   ]
  },
  {
   "cell_type": "markdown",
   "id": "0c2f8c61",
   "metadata": {},
   "source": [
    "### Predicting FSA status with discrete data\n",
    "\n",
    "Here I am using the simpler discrete trait we have in our dataset: Ascoma_development. This trait is characterized by 3 levels: Absent, ... and ...\n",
    "The fisher exact test returns that Ascoma development and FSA status are not independent and post-hoc test indicates that absence of ascoma correlated with absence of FSA - In turns out that all the species without ascoma are yeast species, potentially highlighting that this is mostly because of phylogeny and maybe not a real association between the trait and FSA"
   ]
  },
  {
   "cell_type": "code",
   "execution_count": 9,
   "id": "42bc6d3f",
   "metadata": {},
   "outputs": [
    {
     "data": {
      "text/html": [
       "<table class=\"dataframe\">\n",
       "<caption>A data.frame: 35 × 5</caption>\n",
       "<thead>\n",
       "\t<tr><th scope=col>tip.label</th><th scope=col>FSA</th><th scope=col>Absent</th><th scope=col>Ascohymenial</th><th scope=col>Ascolocular</th></tr>\n",
       "\t<tr><th scope=col>&lt;chr&gt;</th><th scope=col>&lt;dbl&gt;</th><th scope=col>&lt;dbl&gt;</th><th scope=col>&lt;dbl&gt;</th><th scope=col>&lt;dbl&gt;</th></tr>\n",
       "</thead>\n",
       "<tbody>\n",
       "\t<tr><td>Alyxoria_varia                </td><td>0</td><td>0</td><td>1</td><td>0</td></tr>\n",
       "\t<tr><td>Aspergillus_nidulans          </td><td>1</td><td>0</td><td>1</td><td>0</td></tr>\n",
       "\t<tr><td>Bipolaris_maydis              </td><td>0</td><td>0</td><td>0</td><td>1</td></tr>\n",
       "\t<tr><td>Bipolaris_sorokiniana         </td><td>0</td><td>0</td><td>0</td><td>1</td></tr>\n",
       "\t<tr><td>Blumeria_graminis             </td><td>0</td><td>0</td><td>1</td><td>0</td></tr>\n",
       "\t<tr><td>Botryosphaeria_dothidea       </td><td>0</td><td>0</td><td>0</td><td>1</td></tr>\n",
       "\t<tr><td>Ceratocystis_fimbriata        </td><td>0</td><td>0</td><td>1</td><td>0</td></tr>\n",
       "\t<tr><td>Claviceps_purpurea            </td><td>0</td><td>0</td><td>1</td><td>0</td></tr>\n",
       "\t<tr><td>Clavispora_lusitaniae         </td><td>0</td><td>1</td><td>0</td><td>0</td></tr>\n",
       "\t<tr><td>Colletotrichum_gloeosporioides</td><td>0</td><td>0</td><td>1</td><td>0</td></tr>\n",
       "\t<tr><td>Cryphonectria_parasitica      </td><td>1</td><td>0</td><td>1</td><td>0</td></tr>\n",
       "\t<tr><td>Debaryomyces_hansenii         </td><td>0</td><td>1</td><td>0</td><td>0</td></tr>\n",
       "\t<tr><td>Eremothecium_gossypii         </td><td>0</td><td>1</td><td>0</td><td>0</td></tr>\n",
       "\t<tr><td>Fusarium_solani               </td><td>0</td><td>0</td><td>1</td><td>0</td></tr>\n",
       "\t<tr><td>Kluyveromyces_lactis          </td><td>0</td><td>1</td><td>0</td><td>0</td></tr>\n",
       "\t<tr><td>Lasallia_pustulata            </td><td>1</td><td>0</td><td>1</td><td>0</td></tr>\n",
       "\t<tr><td>Metschnikowia_bicuspidata     </td><td>0</td><td>1</td><td>0</td><td>0</td></tr>\n",
       "\t<tr><td>Monilinia_laxa                </td><td>0</td><td>0</td><td>1</td><td>0</td></tr>\n",
       "\t<tr><td>Myriangium_duriaei            </td><td>0</td><td>0</td><td>0</td><td>1</td></tr>\n",
       "\t<tr><td>Naumovozyma_castellii         </td><td>0</td><td>1</td><td>0</td><td>0</td></tr>\n",
       "\t<tr><td>Neurospora_crassa             </td><td>0</td><td>0</td><td>1</td><td>0</td></tr>\n",
       "\t<tr><td>Phaeoacremonium_minimum       </td><td>1</td><td>0</td><td>1</td><td>0</td></tr>\n",
       "\t<tr><td>Pneumocystis_carinii          </td><td>1</td><td>1</td><td>0</td><td>0</td></tr>\n",
       "\t<tr><td>Pyrenophora_tritici-repentis  </td><td>1</td><td>0</td><td>0</td><td>1</td></tr>\n",
       "\t<tr><td>Pyricularia_grisea            </td><td>1</td><td>0</td><td>1</td><td>0</td></tr>\n",
       "\t<tr><td>Saccharomyces_cerevisiae      </td><td>0</td><td>1</td><td>0</td><td>0</td></tr>\n",
       "\t<tr><td>Schizosaccharomyces_pombe     </td><td>0</td><td>1</td><td>0</td><td>0</td></tr>\n",
       "\t<tr><td>Sclerotinia_sclerotiorum      </td><td>1</td><td>0</td><td>1</td><td>0</td></tr>\n",
       "\t<tr><td>Tolypocladium_capitatum       </td><td>1</td><td>0</td><td>1</td><td>0</td></tr>\n",
       "\t<tr><td>Tolypocladium_ophioglossoides </td><td>1</td><td>0</td><td>1</td><td>0</td></tr>\n",
       "\t<tr><td>Trichoglossum_hirsutum        </td><td>1</td><td>0</td><td>1</td><td>0</td></tr>\n",
       "\t<tr><td>Venturia_inaequalis           </td><td>0</td><td>0</td><td>0</td><td>1</td></tr>\n",
       "\t<tr><td>Xylaria_acuta                 </td><td>1</td><td>0</td><td>1</td><td>0</td></tr>\n",
       "\t<tr><td>Xylaria_hypoxylon             </td><td>1</td><td>0</td><td>1</td><td>0</td></tr>\n",
       "\t<tr><td>Yarrowia_lipolytica           </td><td>0</td><td>1</td><td>0</td><td>0</td></tr>\n",
       "</tbody>\n",
       "</table>\n"
      ],
      "text/latex": [
       "A data.frame: 35 × 5\n",
       "\\begin{tabular}{lllll}\n",
       " tip.label & FSA & Absent & Ascohymenial & Ascolocular\\\\\n",
       " <chr> & <dbl> & <dbl> & <dbl> & <dbl>\\\\\n",
       "\\hline\n",
       "\t Alyxoria\\_varia                 & 0 & 0 & 1 & 0\\\\\n",
       "\t Aspergillus\\_nidulans           & 1 & 0 & 1 & 0\\\\\n",
       "\t Bipolaris\\_maydis               & 0 & 0 & 0 & 1\\\\\n",
       "\t Bipolaris\\_sorokiniana          & 0 & 0 & 0 & 1\\\\\n",
       "\t Blumeria\\_graminis              & 0 & 0 & 1 & 0\\\\\n",
       "\t Botryosphaeria\\_dothidea        & 0 & 0 & 0 & 1\\\\\n",
       "\t Ceratocystis\\_fimbriata         & 0 & 0 & 1 & 0\\\\\n",
       "\t Claviceps\\_purpurea             & 0 & 0 & 1 & 0\\\\\n",
       "\t Clavispora\\_lusitaniae          & 0 & 1 & 0 & 0\\\\\n",
       "\t Colletotrichum\\_gloeosporioides & 0 & 0 & 1 & 0\\\\\n",
       "\t Cryphonectria\\_parasitica       & 1 & 0 & 1 & 0\\\\\n",
       "\t Debaryomyces\\_hansenii          & 0 & 1 & 0 & 0\\\\\n",
       "\t Eremothecium\\_gossypii          & 0 & 1 & 0 & 0\\\\\n",
       "\t Fusarium\\_solani                & 0 & 0 & 1 & 0\\\\\n",
       "\t Kluyveromyces\\_lactis           & 0 & 1 & 0 & 0\\\\\n",
       "\t Lasallia\\_pustulata             & 1 & 0 & 1 & 0\\\\\n",
       "\t Metschnikowia\\_bicuspidata      & 0 & 1 & 0 & 0\\\\\n",
       "\t Monilinia\\_laxa                 & 0 & 0 & 1 & 0\\\\\n",
       "\t Myriangium\\_duriaei             & 0 & 0 & 0 & 1\\\\\n",
       "\t Naumovozyma\\_castellii          & 0 & 1 & 0 & 0\\\\\n",
       "\t Neurospora\\_crassa              & 0 & 0 & 1 & 0\\\\\n",
       "\t Phaeoacremonium\\_minimum        & 1 & 0 & 1 & 0\\\\\n",
       "\t Pneumocystis\\_carinii           & 1 & 1 & 0 & 0\\\\\n",
       "\t Pyrenophora\\_tritici-repentis   & 1 & 0 & 0 & 1\\\\\n",
       "\t Pyricularia\\_grisea             & 1 & 0 & 1 & 0\\\\\n",
       "\t Saccharomyces\\_cerevisiae       & 0 & 1 & 0 & 0\\\\\n",
       "\t Schizosaccharomyces\\_pombe      & 0 & 1 & 0 & 0\\\\\n",
       "\t Sclerotinia\\_sclerotiorum       & 1 & 0 & 1 & 0\\\\\n",
       "\t Tolypocladium\\_capitatum        & 1 & 0 & 1 & 0\\\\\n",
       "\t Tolypocladium\\_ophioglossoides  & 1 & 0 & 1 & 0\\\\\n",
       "\t Trichoglossum\\_hirsutum         & 1 & 0 & 1 & 0\\\\\n",
       "\t Venturia\\_inaequalis            & 0 & 0 & 0 & 1\\\\\n",
       "\t Xylaria\\_acuta                  & 1 & 0 & 1 & 0\\\\\n",
       "\t Xylaria\\_hypoxylon              & 1 & 0 & 1 & 0\\\\\n",
       "\t Yarrowia\\_lipolytica            & 0 & 1 & 0 & 0\\\\\n",
       "\\end{tabular}\n"
      ],
      "text/markdown": [
       "\n",
       "A data.frame: 35 × 5\n",
       "\n",
       "| tip.label &lt;chr&gt; | FSA &lt;dbl&gt; | Absent &lt;dbl&gt; | Ascohymenial &lt;dbl&gt; | Ascolocular &lt;dbl&gt; |\n",
       "|---|---|---|---|---|\n",
       "| Alyxoria_varia                 | 0 | 0 | 1 | 0 |\n",
       "| Aspergillus_nidulans           | 1 | 0 | 1 | 0 |\n",
       "| Bipolaris_maydis               | 0 | 0 | 0 | 1 |\n",
       "| Bipolaris_sorokiniana          | 0 | 0 | 0 | 1 |\n",
       "| Blumeria_graminis              | 0 | 0 | 1 | 0 |\n",
       "| Botryosphaeria_dothidea        | 0 | 0 | 0 | 1 |\n",
       "| Ceratocystis_fimbriata         | 0 | 0 | 1 | 0 |\n",
       "| Claviceps_purpurea             | 0 | 0 | 1 | 0 |\n",
       "| Clavispora_lusitaniae          | 0 | 1 | 0 | 0 |\n",
       "| Colletotrichum_gloeosporioides | 0 | 0 | 1 | 0 |\n",
       "| Cryphonectria_parasitica       | 1 | 0 | 1 | 0 |\n",
       "| Debaryomyces_hansenii          | 0 | 1 | 0 | 0 |\n",
       "| Eremothecium_gossypii          | 0 | 1 | 0 | 0 |\n",
       "| Fusarium_solani                | 0 | 0 | 1 | 0 |\n",
       "| Kluyveromyces_lactis           | 0 | 1 | 0 | 0 |\n",
       "| Lasallia_pustulata             | 1 | 0 | 1 | 0 |\n",
       "| Metschnikowia_bicuspidata      | 0 | 1 | 0 | 0 |\n",
       "| Monilinia_laxa                 | 0 | 0 | 1 | 0 |\n",
       "| Myriangium_duriaei             | 0 | 0 | 0 | 1 |\n",
       "| Naumovozyma_castellii          | 0 | 1 | 0 | 0 |\n",
       "| Neurospora_crassa              | 0 | 0 | 1 | 0 |\n",
       "| Phaeoacremonium_minimum        | 1 | 0 | 1 | 0 |\n",
       "| Pneumocystis_carinii           | 1 | 1 | 0 | 0 |\n",
       "| Pyrenophora_tritici-repentis   | 1 | 0 | 0 | 1 |\n",
       "| Pyricularia_grisea             | 1 | 0 | 1 | 0 |\n",
       "| Saccharomyces_cerevisiae       | 0 | 1 | 0 | 0 |\n",
       "| Schizosaccharomyces_pombe      | 0 | 1 | 0 | 0 |\n",
       "| Sclerotinia_sclerotiorum       | 1 | 0 | 1 | 0 |\n",
       "| Tolypocladium_capitatum        | 1 | 0 | 1 | 0 |\n",
       "| Tolypocladium_ophioglossoides  | 1 | 0 | 1 | 0 |\n",
       "| Trichoglossum_hirsutum         | 1 | 0 | 1 | 0 |\n",
       "| Venturia_inaequalis            | 0 | 0 | 0 | 1 |\n",
       "| Xylaria_acuta                  | 1 | 0 | 1 | 0 |\n",
       "| Xylaria_hypoxylon              | 1 | 0 | 1 | 0 |\n",
       "| Yarrowia_lipolytica            | 0 | 1 | 0 | 0 |\n",
       "\n"
      ],
      "text/plain": [
       "   tip.label                      FSA Absent Ascohymenial Ascolocular\n",
       "1  Alyxoria_varia                 0   0      1            0          \n",
       "2  Aspergillus_nidulans           1   0      1            0          \n",
       "3  Bipolaris_maydis               0   0      0            1          \n",
       "4  Bipolaris_sorokiniana          0   0      0            1          \n",
       "5  Blumeria_graminis              0   0      1            0          \n",
       "6  Botryosphaeria_dothidea        0   0      0            1          \n",
       "7  Ceratocystis_fimbriata         0   0      1            0          \n",
       "8  Claviceps_purpurea             0   0      1            0          \n",
       "9  Clavispora_lusitaniae          0   1      0            0          \n",
       "10 Colletotrichum_gloeosporioides 0   0      1            0          \n",
       "11 Cryphonectria_parasitica       1   0      1            0          \n",
       "12 Debaryomyces_hansenii          0   1      0            0          \n",
       "13 Eremothecium_gossypii          0   1      0            0          \n",
       "14 Fusarium_solani                0   0      1            0          \n",
       "15 Kluyveromyces_lactis           0   1      0            0          \n",
       "16 Lasallia_pustulata             1   0      1            0          \n",
       "17 Metschnikowia_bicuspidata      0   1      0            0          \n",
       "18 Monilinia_laxa                 0   0      1            0          \n",
       "19 Myriangium_duriaei             0   0      0            1          \n",
       "20 Naumovozyma_castellii          0   1      0            0          \n",
       "21 Neurospora_crassa              0   0      1            0          \n",
       "22 Phaeoacremonium_minimum        1   0      1            0          \n",
       "23 Pneumocystis_carinii           1   1      0            0          \n",
       "24 Pyrenophora_tritici-repentis   1   0      0            1          \n",
       "25 Pyricularia_grisea             1   0      1            0          \n",
       "26 Saccharomyces_cerevisiae       0   1      0            0          \n",
       "27 Schizosaccharomyces_pombe      0   1      0            0          \n",
       "28 Sclerotinia_sclerotiorum       1   0      1            0          \n",
       "29 Tolypocladium_capitatum        1   0      1            0          \n",
       "30 Tolypocladium_ophioglossoides  1   0      1            0          \n",
       "31 Trichoglossum_hirsutum         1   0      1            0          \n",
       "32 Venturia_inaequalis            0   0      0            1          \n",
       "33 Xylaria_acuta                  1   0      1            0          \n",
       "34 Xylaria_hypoxylon              1   0      1            0          \n",
       "35 Yarrowia_lipolytica            0   1      0            0          "
      ]
     },
     "metadata": {},
     "output_type": "display_data"
    }
   ],
   "source": [
    "# Data formating for pglmm\n",
    "\n",
    "\n",
    "data_disc_ex=data_disc_traits[,c('tip.label','FSA','ascoma_development')]%>%na.omit()\n",
    "\n",
    "data_ex=data_disc_ex\n",
    "data_ex$FSA[data_ex$FSA=='Yes']=1\n",
    "data_ex$FSA[data_ex$FSA=='No']=0\n",
    "data_ex$FSA=as.numeric(data_ex$FSA)\n",
    "\n",
    "#Now I turn each level into a binary predictor\n",
    "data_ex$bin=1\n",
    "data_ex_bin=spread(data_ex,ascoma_development,bin)  %>% replace(is.na(.), 0)\n",
    "\n",
    "data_ex_bin\n",
    "\n",
    "\n"
   ]
  },
  {
   "cell_type": "code",
   "execution_count": 13,
   "id": "0d8b2113",
   "metadata": {},
   "outputs": [],
   "source": [
    "# phylo class object preparation that is used as the input matrix to take into account the random effecst assocaited with the phylogeny\n",
    "tree_tip=intersect(tree$tip.label,data_ex_bin$tip.label)\n",
    "tree_pruned=keep.tip(tree, tree_tip)"
   ]
  },
  {
   "cell_type": "code",
   "execution_count": 14,
   "id": "e9dc6cbf",
   "metadata": {},
   "outputs": [
    {
     "ename": "ERROR",
     "evalue": "Error in pglmm_internal_cpp(X = X, Y = Y, Zt = Zt, St = St, nested = nested, : Evaluation error: objective in x0 returns NA.\n",
     "output_type": "error",
     "traceback": [
      "Error in pglmm_internal_cpp(X = X, Y = Y, Zt = Zt, St = St, nested = nested, : Evaluation error: objective in x0 returns NA.\nTraceback:\n",
      "1. pglmm(FSA ~ Absent + Ascohymenial + Ascolocular + (1 | tip.label__) + \n .     (Absent | tip.label__) + (Ascohymenial | tip.label__) + (Ascolocular | \n .     tip.label__), data = data_ex_bin, cov_ranef = list(tip.label = tree_pruned), \n .     family = \"binomial\")",
      "2. communityPGLMM.glmm(formula = formula, data = data, family = family, \n .     sp = sp, site = site, random.effects = random.effects, REML = REML, \n .     s2.init = s2.init, B.init = B.init, reltol = reltol, maxit = maxit, \n .     tol.pql = tol.pql, maxit.pql = maxit.pql, verbose = verbose, \n .     cpp = cpp, optimizer = optimizer)",
      "3. pglmm_internal_cpp(X = X, Y = Y, Zt = Zt, St = St, nested = nested, \n .     REML = REML, verbose = verbose, n = n, p = p, q = q, maxit = maxit, \n .     reltol = reltol, tol_pql = tol.pql, maxit_pql = maxit.pql, \n .     optimizer = optimizer, B_init = B.init, ss = ss, family = family, \n .     totalSize = size)"
     ]
    }
   ],
   "source": [
    "# pglmm model that take into account random effect from phylogeny\n",
    "\n",
    "\n",
    "mod_test=pglmm(FSA ~ Absent + Ascohymenial + Ascolocular+\n",
    "               (1|tip.label__) + (Absent|tip.label__) + (Ascohymenial|tip.label__) + \n",
    "               (Ascolocular|tip.label__),\n",
    "               data=data_ex_bin, \n",
    "               cov_ranef=list(tip.label=tree_pruned),\n",
    "               family='binomial')\n",
    "\n",
    "mod_test"
   ]
  },
  {
   "cell_type": "markdown",
   "id": "601084ef",
   "metadata": {},
   "source": [
    "**Running the model like this returns an error highlighting that at some point the inv() function returns a singular matrix. Thhis is a consistent error I met whenever I am trying to include multiple levels in the model (3 or more).\n",
    "We can maybe try running the model for each level individually**"
   ]
  },
  {
   "cell_type": "code",
   "execution_count": 15,
   "id": "2fc22698",
   "metadata": {},
   "outputs": [
    {
     "data": {
      "text/plain": [
       "Generalized linear mixed model for binomial data fit by restricted maximum likelihood\n",
       "\n",
       "Call:FSA ~ Absent\n",
       "\n",
       "\n",
       "Random effects:\n",
       "                    Variance  Std.Dev\n",
       "1|tip.label        1.902e-06 0.001379\n",
       "1|tip.label__      3.395e-01 0.582651\n",
       "Absent|tip.label   1.229e-04 0.011088\n",
       "Absent|tip.label__ 1.510e+00 1.228739\n",
       "\n",
       "Fixed effects:\n",
       "               Value Std.Error  Zscore Pvalue\n",
       "(Intercept) -0.11894   0.73685 -0.1614 0.8718\n",
       "Absent      -1.86472   1.86281 -1.0010 0.3168\n"
      ]
     },
     "metadata": {},
     "output_type": "display_data"
    }
   ],
   "source": [
    "# Running the pglmm model for each levels individually\n",
    "\n",
    "#Absent\n",
    "mod_test_absent=pglmm(FSA ~ Absent +\n",
    "               (1|tip.label__) + (Absent|tip.label__),\n",
    "               data=data_ex_bin, \n",
    "               cov_ranef=list(tip.label=tree_pruned),\n",
    "               family='binomial')\n",
    "\n",
    "mod_test_absent"
   ]
  },
  {
   "cell_type": "markdown",
   "id": "f17b88dc",
   "metadata": {},
   "source": [
    "**Interestingly while fisher test not including phylogeny information highlighted that absence of ascoma is a predictor of FSA status, when taking phylogeny into account, this is no longer true. \n",
    "Also, we can see that the Absent|tip.label__ random effect is the greetest followed by 1|tip.label__, this, if I understand correctly, indicates that the strongest effects are phylogenetic?**"
   ]
  },
  {
   "cell_type": "code",
   "execution_count": 19,
   "id": "39935b01",
   "metadata": {},
   "outputs": [
    {
     "data": {
      "text/plain": [
       "Generalized linear mixed model for binomial data fit by restricted maximum likelihood\n",
       "\n",
       "Call:FSA ~ Ascohymenial\n",
       "\n",
       "\n",
       "Random effects:\n",
       "                          Variance  Std.Dev\n",
       "1|tip.label              3.681e-02 0.191866\n",
       "1|tip.label__            1.896e-01 0.435401\n",
       "Ascohymenial|tip.label   3.718e-04 0.019283\n",
       "Ascohymenial|tip.label__ 4.892e-05 0.006994\n",
       "\n",
       "Fixed effects:\n",
       "                Value Std.Error  Zscore  Pvalue  \n",
       "(Intercept)  -1.88136   0.83702 -2.2477 0.02460 *\n",
       "Ascohymenial  2.15568   1.00720  2.1403 0.03233 *\n",
       "---\n",
       "Signif. codes:  0 ‘***’ 0.001 ‘**’ 0.01 ‘*’ 0.05 ‘.’ 0.1 ‘ ’ 1\n"
      ]
     },
     "metadata": {},
     "output_type": "display_data"
    }
   ],
   "source": [
    "# Running the pglmm model for each levels individually\n",
    "\n",
    "#Ascohymenial\n",
    "mod_test_ascohym=pglmm(FSA ~ Ascohymenial +\n",
    "               (1|tip.label__) + (Ascohymenial|tip.label__),\n",
    "               data=data_ex_bin, \n",
    "               cov_ranef=list(tip.label=tree_pruned),\n",
    "               family='binomial')\n",
    "\n",
    "mod_test_ascohym\n",
    "\n"
   ]
  },
  {
   "cell_type": "code",
   "execution_count": 21,
   "id": "5292ef13",
   "metadata": {},
   "outputs": [
    {
     "data": {
      "text/plain": [
       "Generalized linear mixed model for binomial data fit by restricted maximum likelihood\n",
       "\n",
       "Call:FSA ~ Ascolocular\n",
       "\n",
       "\n",
       "Random effects:\n",
       "                         Variance   Std.Dev\n",
       "1|tip.label             4.209e-07 0.0006488\n",
       "1|tip.label__           7.047e-01 0.8394691\n",
       "Ascolocular|tip.label   1.158e+00 1.0762493\n",
       "Ascolocular|tip.label__ 1.812e-05 0.0042573\n",
       "\n",
       "Fixed effects:\n",
       "               Value Std.Error  Zscore Pvalue\n",
       "(Intercept) -0.63932   0.76331 -0.8376 0.4023\n",
       "Ascolocular -1.58721   1.61049 -0.9855 0.3244\n"
      ]
     },
     "metadata": {},
     "output_type": "display_data"
    }
   ],
   "source": [
    "\n",
    "#Ascolocularl\n",
    "mod_test_ascoloc=pglmm(FSA ~ Ascolocular +\n",
    "               (1|tip.label__) + (Ascolocular|tip.label__),\n",
    "               data=data_ex_bin, \n",
    "               cov_ranef=list(tip.label=tree_pruned),\n",
    "               family='binomial')\n",
    "\n",
    "mod_test_ascoloc"
   ]
  },
  {
   "cell_type": "markdown",
   "id": "6d098acf",
   "metadata": {},
   "source": [
    "**Here, Ascohymenial ascoma development form appear to be significant predictor of FSA status when taking phylogeny into account, which was not that clear with Fisher test** "
   ]
  },
  {
   "cell_type": "markdown",
   "id": "8862ca08",
   "metadata": {},
   "source": [
    "Questions for Austin:\n",
    "- because of singular matrices emerging when multiple levels are present, is treating each level as an independent predictor the best solution?"
   ]
  },
  {
   "cell_type": "code",
   "execution_count": null,
   "id": "c8fd170e",
   "metadata": {},
   "outputs": [],
   "source": []
  }
 ],
 "metadata": {
  "kernelspec": {
   "display_name": "R",
   "language": "R",
   "name": "ir"
  },
  "language_info": {
   "codemirror_mode": "r",
   "file_extension": ".r",
   "mimetype": "text/x-r-source",
   "name": "R",
   "pygments_lexer": "r",
   "version": "4.2.1"
  }
 },
 "nbformat": 4,
 "nbformat_minor": 5
}
